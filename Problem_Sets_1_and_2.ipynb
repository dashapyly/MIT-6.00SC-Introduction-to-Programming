{
 "cells": [
  {
   "cell_type": "code",
   "execution_count": 1,
   "metadata": {
    "collapsed": false
   },
   "outputs": [
    {
     "data": {
      "text/plain": [
       "180339.9"
      ]
     },
     "execution_count": 1,
     "metadata": {},
     "output_type": "execute_result"
    }
   ],
   "source": [
    "def evaluate_poly(poly, x):\n",
    "    evaluate_poly = 0\n",
    "    x = float(x)\n",
    "    assert type(poly) == tuple\n",
    "    assert type(x) == float\n",
    "    for i in range (0,len(poly)):\n",
    "        evaluate_poly = evaluate_poly + poly[i]*(x**i)\n",
    "    return float(evaluate_poly)\n",
    "evaluate_poly((0.0,0.0,5.0,9.3,7.0),-13)"
   ]
  },
  {
   "cell_type": "code",
   "execution_count": 3,
   "metadata": {
    "collapsed": false
   },
   "outputs": [
    {
     "data": {
      "text/plain": [
       "(0.0, 35.0, 9.0, 4.0)"
      ]
     },
     "execution_count": 3,
     "metadata": {},
     "output_type": "execute_result"
    }
   ],
   "source": [
    "def compute_deriv(poly):\n",
    "    compute_deriv = []\n",
    "    assert len(poly) > 0\n",
    "    assert type(poly) == tuple\n",
    "    #assert type(x) == float\n",
    "    for i in range (1,len(poly)):\n",
    "        elem_deriv = [poly[i]*i]\n",
    "        compute_deriv = compute_deriv + elem_deriv\n",
    "    compute_deriv = tuple(compute_deriv)                                              \n",
    "    return compute_deriv\n",
    "compute_deriv((-13.39,0.0,17.5,3.0,1.0))"
   ]
  },
  {
   "cell_type": "code",
   "execution_count": 4,
   "metadata": {
    "collapsed": false
   },
   "outputs": [
    {
     "data": {
      "text/plain": [
       "(0.806790753796352, 7)"
      ]
     },
     "execution_count": 4,
     "metadata": {},
     "output_type": "execute_result"
    }
   ],
   "source": [
    "def compute_root(poly,x_0, error):\n",
    "    x_0 = float(x_0)\n",
    "    error = float(error)\n",
    "    assert error > 0\n",
    "    itteration = 0\n",
    "    assert len(poly) > 1\n",
    "    x = x_0\n",
    "    while abs(evaluate_poly(poly,x)) > error:\n",
    "        x = x - evaluate_poly(poly,x)/evaluate_poly(compute_deriv(poly),x)\n",
    "        itteration +=1\n",
    "    answer = (x, itteration)\n",
    "    return answer \n",
    "compute_root((-13.39,0.0,17.5,3.0,1.0), 0.1, 0.0001)"
   ]
  },
  {
   "cell_type": "code",
   "execution_count": 6,
   "metadata": {
    "collapsed": false
   },
   "outputs": [
    {
     "name": "stdout",
     "output_type": "stream",
     "text": [
      "Loading word list from file...\n",
      "   55900 words loaded.\n"
     ]
    }
   ],
   "source": [
    "import random\n",
    "import string\n",
    "\n",
    "WORDLIST_FILENAME = \"words.txt\"\n",
    "\n",
    "def load_words():\n",
    "    \"\"\"\n",
    "    Returns a list of valid words. Words are strings of lowercase letters.\n",
    "    \n",
    "    Depending on the size of the word list, this function may\n",
    "    take a while to finish.\n",
    "    \"\"\"\n",
    "    print (\"Loading word list from file...\")\n",
    "    inFile = open(WORDLIST_FILENAME, 'r')\n",
    "    line = inFile.readline()\n",
    "    wordlist = str.split(line)\n",
    "    print (\"  \", len(wordlist), \"words loaded.\")\n",
    "    return wordlist\n",
    "\n",
    "def choose_word(wordlist):\n",
    "    \"\"\"\n",
    "    wordlist (list): list of words (strings)\n",
    "\n",
    "    Returns a word from wordlist at random\n",
    "    \"\"\"\n",
    "    return random.choice(wordlist)\n",
    "\n",
    "wordlist = load_words()"
   ]
  },
  {
   "cell_type": "code",
   "execution_count": 10,
   "metadata": {
    "collapsed": false,
    "scrolled": true
   },
   "outputs": [],
   "source": [
    "def hangman():\n",
    "    load_words()\n",
    "    word = choose_word(wordlist)\n",
    "    #print ('Hidded word is: ', word)\n",
    "    print ('Welcome to the game, Hangman!')\n",
    "    print ('I am thinking of a word ', len(word), ' letters long')\n",
    "    print ('Available letters: ', string.ascii_lowercase)\n",
    "    display_word = '-'\n",
    "    for n in range (1,len(word)):\n",
    "        display_word = display_word + '-'\n",
    "    #print (display_word)    \n",
    "    alphabet = string.ascii_lowercase\n",
    "    number_guess = 0\n",
    "    while display_word != word:\n",
    "        guess = input(str('Please guess a letter or a word: '))\n",
    "        #alphabet = alphabet\n",
    "        if len(guess) > 1:\n",
    "            if guess == word:\n",
    "                display_word = word\n",
    "                #print('Great job! You won!')\n",
    "                break\n",
    "            else:\n",
    "                print('Oops! You lost!', 'The word was: ', word)\n",
    "                break    \n",
    "        else:\n",
    "            for i in alphabet:\n",
    "                if i == guess:\n",
    "                    alphabet = alphabet.replace(i,'')\n",
    "                    for i in range(0,len(word)):\n",
    "                        if word[i] == guess:\n",
    "                            display_list = list(display_word)\n",
    "                            display_list[i] = guess\n",
    "                            display_word = ''\n",
    "                            display_word = display_word.join(display_list) \n",
    "                        if guess not in word:\n",
    "                            print('Oops! That letter is not in my word! Try again! ')\n",
    "                            print('What you have so far: ', display_word)\n",
    "                            print('-------------------------------------------------')\n",
    "                            number_guess +=1\n",
    "                            break   \n",
    "                    if guess in word:\n",
    "                        print ('Good guess: ', display_word)\n",
    "                        print('-------------------------------------------------')\n",
    "                    break\n",
    "                if guess not in alphabet:\n",
    "                    print ('You already guessed this letter!')\n",
    "                    print('-------------------------------------------------')\n",
    "                    break\n",
    "            print('Available letters are: ', alphabet)\n",
    "            print('You have ', len(word) + 2 - number_guess, 'guesses left')\n",
    "        if number_guess >= (len(word) + 2):\n",
    "            print ('Sorry, you lost!', 'The word was: ', word)\n",
    "            break\n",
    "    if display_word == word:\n",
    "        print('Great job! You won!')\n",
    "        \n",
    "    \n"
   ]
  },
  {
   "cell_type": "code",
   "execution_count": 9,
   "metadata": {
    "collapsed": false
   },
   "outputs": [
    {
     "name": "stdout",
     "output_type": "stream",
     "text": [
      "Loading word list from file...\n",
      "   55900 words loaded.\n",
      "Welcome to the game, Hangman!\n",
      "I am thinking of a word  8  letters long\n",
      "Available letters:  abcdefghijklmnopqrstuvwxyz\n",
      "Please guess a letter or a word: a\n",
      "Good guess:  ----a---\n",
      "-------------------------------------------------\n",
      "Available letters are:  bcdefghijklmnopqrstuvwxyz\n",
      "You have  10 guesses left\n",
      "Please guess a letter or a word: b\n",
      "Oops! That letter is not in my word! Try again! \n",
      "----a---\n",
      "-------------------------------------------------\n",
      "Available letters are:  cdefghijklmnopqrstuvwxyz\n",
      "You have  9 guesses left\n",
      "Please guess a letter or a word: o\n",
      "Oops! That letter is not in my word! Try again! \n",
      "----a---\n",
      "-------------------------------------------------\n",
      "Available letters are:  cdefghijklmnpqrstuvwxyz\n",
      "You have  8 guesses left\n",
      "Please guess a letter or a word: i\n",
      "Oops! That letter is not in my word! Try again! \n",
      "----a---\n",
      "-------------------------------------------------\n",
      "Available letters are:  cdefghjklmnpqrstuvwxyz\n",
      "You have  7 guesses left\n",
      "Please guess a letter or a word: p\n",
      "Good guess:  --p-a---\n",
      "-------------------------------------------------\n",
      "Available letters are:  cdefghjklmnqrstuvwxyz\n",
      "You have  7 guesses left\n",
      "Please guess a letter or a word: t\n",
      "Oops! That letter is not in my word! Try again! \n",
      "--p-a---\n",
      "-------------------------------------------------\n",
      "Available letters are:  cdefghjklmnqrsuvwxyz\n",
      "You have  6 guesses left\n",
      "Please guess a letter or a word: n\n",
      "Good guess:  --p-an--\n",
      "-------------------------------------------------\n",
      "Available letters are:  cdefghjklmqrsuvwxyz\n",
      "You have  6 guesses left\n",
      "Please guess a letter or a word: b\n",
      "You already guessed this letter!\n",
      "-------------------------------------------------\n",
      "Available letters are:  cdefghjklmqrsuvwxyz\n",
      "You have  6 guesses left\n",
      "Please guess a letter or a word: o\n",
      "You already guessed this letter!\n",
      "-------------------------------------------------\n",
      "Available letters are:  cdefghjklmqrsuvwxyz\n",
      "You have  6 guesses left\n",
      "Please guess a letter or a word: e\n",
      "Good guess:  -ep-ane-\n",
      "-------------------------------------------------\n",
      "Available letters are:  cdfghjklmqrsuvwxyz\n",
      "You have  6 guesses left\n",
      "Please guess a letter or a word: h\n",
      "Oops! That letter is not in my word! Try again! \n",
      "-ep-ane-\n",
      "-------------------------------------------------\n",
      "Available letters are:  cdfgjklmqrsuvwxyz\n",
      "You have  5 guesses left\n",
      "Please guess a letter or a word: s\n",
      "Oops! That letter is not in my word! Try again! \n",
      "-ep-ane-\n",
      "-------------------------------------------------\n",
      "Available letters are:  cdfgjklmqruvwxyz\n",
      "You have  4 guesses left\n",
      "Please guess a letter or a word: l\n",
      "Good guess:  -eplane-\n",
      "-------------------------------------------------\n",
      "Available letters are:  cdfgjkmqruvwxyz\n",
      "You have  4 guesses left\n",
      "Please guess a letter or a word: m\n",
      "Oops! That letter is not in my word! Try again! \n",
      "-eplane-\n",
      "-------------------------------------------------\n",
      "Available letters are:  cdfgjkqruvwxyz\n",
      "You have  3 guesses left\n",
      "Please guess a letter or a word: m\n",
      "You already guessed this letter!\n",
      "-------------------------------------------------\n",
      "Available letters are:  cdfgjkqruvwxyz\n",
      "You have  3 guesses left\n",
      "Please guess a letter or a word: f\n",
      "Oops! That letter is not in my word! Try again! \n",
      "-eplane-\n",
      "-------------------------------------------------\n",
      "Available letters are:  cdgjkqruvwxyz\n",
      "You have  2 guesses left\n",
      "Please guess a letter or a word: d\n",
      "Good guess:  deplaned\n",
      "-------------------------------------------------\n",
      "Available letters are:  cgjkqruvwxyz\n",
      "You have  2 guesses left\n",
      "Great job! You won!\n"
     ]
    }
   ],
   "source": [
    "hangman()"
   ]
  },
  {
   "cell_type": "code",
   "execution_count": null,
   "metadata": {
    "collapsed": false
   },
   "outputs": [],
   "source": []
  }
 ],
 "metadata": {
  "kernelspec": {
   "display_name": "Python 3",
   "language": "python",
   "name": "python3"
  },
  "language_info": {
   "codemirror_mode": {
    "name": "ipython",
    "version": 3
   },
   "file_extension": ".py",
   "mimetype": "text/x-python",
   "name": "python",
   "nbconvert_exporter": "python",
   "pygments_lexer": "ipython3",
   "version": "3.6.8"
  }
 },
 "nbformat": 4,
 "nbformat_minor": 2
}
