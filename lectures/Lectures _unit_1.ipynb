{
 "cells": [
  {
   "cell_type": "code",
   "execution_count": null,
   "metadata": {
    "collapsed": false
   },
   "outputs": [],
   "source": [
    "temp = [[1,2,3],\n",
    "        [4,5,6]]\n",
    "\n",
    "temp"
   ]
  },
  {
   "cell_type": "code",
   "execution_count": null,
   "metadata": {
    "collapsed": false
   },
   "outputs": [],
   "source": [
    "for lst in temp:\n",
    "    print(lst)"
   ]
  },
  {
   "cell_type": "code",
   "execution_count": null,
   "metadata": {
    "collapsed": false
   },
   "outputs": [],
   "source": [
    "for i in range(len(temp)):\n",
    "    print(i)\n",
    "    print(temp[i])"
   ]
  },
  {
   "cell_type": "code",
   "execution_count": null,
   "metadata": {
    "collapsed": false
   },
   "outputs": [],
   "source": [
    "temp"
   ]
  },
  {
   "cell_type": "code",
   "execution_count": null,
   "metadata": {
    "collapsed": false
   },
   "outputs": [],
   "source": [
    "area = 3.14*r^2\n",
    "r = 4\n",
    "return area\n"
   ]
  },
  {
   "cell_type": "code",
   "execution_count": null,
   "metadata": {
    "collapsed": false
   },
   "outputs": [],
   "source": [
    "import unicodecsv\n",
    "with open('daily_engagement.csv', 'rb') as f:\n",
    "    reader = unicodecsv.DictReader(f)\n",
    "    daily_engagement = list(reader)\n",
    "print(daily_engagement[1])"
   ]
  },
  {
   "cell_type": "code",
   "execution_count": null,
   "metadata": {
    "collapsed": false
   },
   "outputs": [],
   "source": [
    "x = input('what is your bday')\n"
   ]
  },
  {
   "cell_type": "code",
   "execution_count": null,
   "metadata": {
    "collapsed": false
   },
   "outputs": [],
   "source": [
    "y = input('what is your last name')\n"
   ]
  },
  {
   "cell_type": "code",
   "execution_count": null,
   "metadata": {
    "collapsed": false,
    "scrolled": true
   },
   "outputs": [],
   "source": [
    "print( (y), 'and', (x))"
   ]
  },
  {
   "cell_type": "code",
   "execution_count": null,
   "metadata": {
    "collapsed": false
   },
   "outputs": [],
   "source": [
    "y = input(y)\n",
    "x = 3*y\n",
    "print(x)"
   ]
  },
  {
   "cell_type": "code",
   "execution_count": null,
   "metadata": {
    "collapsed": false,
    "scrolled": true
   },
   "outputs": [],
   "source": [
    "print(type (3))\n"
   ]
  },
  {
   "cell_type": "code",
   "execution_count": null,
   "metadata": {
    "collapsed": false
   },
   "outputs": [],
   "source": [
    "x = input('What is X?   ')\n",
    "y = input('what is y?   ')"
   ]
  },
  {
   "cell_type": "code",
   "execution_count": null,
   "metadata": {
    "collapsed": false
   },
   "outputs": [],
   "source": [
    "def foo(x):\n",
    "    foo = x**2\n",
    "    return x**2\n"
   ]
  },
  {
   "cell_type": "code",
   "execution_count": null,
   "metadata": {
    "collapsed": false
   },
   "outputs": [],
   "source": [
    "print(foo)"
   ]
  },
  {
   "cell_type": "code",
   "execution_count": null,
   "metadata": {
    "collapsed": false,
    "scrolled": true
   },
   "outputs": [],
   "source": [
    "foo()"
   ]
  },
  {
   "cell_type": "code",
   "execution_count": null,
   "metadata": {
    "collapsed": false
   },
   "outputs": [],
   "source": [
    "z"
   ]
  },
  {
   "cell_type": "code",
   "execution_count": null,
   "metadata": {
    "collapsed": false
   },
   "outputs": [],
   "source": [
    "foo(200)"
   ]
  },
  {
   "cell_type": "code",
   "execution_count": null,
   "metadata": {
    "collapsed": false
   },
   "outputs": [],
   "source": [
    "a"
   ]
  },
  {
   "cell_type": "code",
   "execution_count": null,
   "metadata": {
    "collapsed": true
   },
   "outputs": [],
   "source": [
    "def f(x, y):\n",
    "    return x + y + z"
   ]
  },
  {
   "cell_type": "code",
   "execution_count": null,
   "metadata": {
    "collapsed": false
   },
   "outputs": [],
   "source": [
    "x=3\n",
    "y=4\n",
    "print(f())"
   ]
  },
  {
   "cell_type": "code",
   "execution_count": null,
   "metadata": {
    "collapsed": false
   },
   "outputs": [],
   "source": [
    "x = int(input('enter an integer'))\n",
    "if x%2 ==0:\n",
    "    print ('Even')\n",
    "else: \n",
    "    print ('Odd')\n",
    "    if x%3 == 0:\n",
    "        print('and divisible by 3')"
   ]
  },
  {
   "cell_type": "code",
   "execution_count": null,
   "metadata": {
    "collapsed": false
   },
   "outputs": [],
   "source": [
    "x = int(input('enter an integer:  '))\n",
    "ans = 0\n",
    "while ans*ans*ans < abs(x):\n",
    "    ans = ans + 1\n",
    "if ans*ans*ans != abs(x):\n",
    "    print (x, 'is not a perfect cube')\n",
    "else:\n",
    "    if x < 0:\n",
    "        ans = -ans\n",
    "    print ('Cube root of ' + str(x) + ' is ' + str(ans))"
   ]
  },
  {
   "cell_type": "code",
   "execution_count": null,
   "metadata": {
    "collapsed": false
   },
   "outputs": [],
   "source": [
    "x = int(input('x:   '))\n",
    "for ans in range (0, abs(x)+1):\n",
    "        if ans**3 == abs(x):\n",
    "          break\n",
    "if ans**3 != abs(x):\n",
    "        print ('X is not a perfect cube')\n",
    "else:\n",
    "        if x < 0:\n",
    "         ans = - ans\n",
    "        print ('Cube root of' + str(x) + 'is' + str(ans))\n",
    "        "
   ]
  },
  {
   "cell_type": "code",
   "execution_count": null,
   "metadata": {
    "collapsed": false
   },
   "outputs": [],
   "source": [
    "x = 1000\n",
    "delta = 0.01\n",
    "numguesses = 0\n",
    "ans = 0\n",
    "while abs(ans**2 - x) >= delta and ans <=x:\n",
    "    ans += 0.0001\n",
    "    numguesses += 1\n",
    "print ('numguesses =' + str(numguesses))\n",
    "if abs(ans**2 - x) >= delta:\n",
    "    print ('Failed on square root of', x)\n",
    "else:\n",
    "    print (ans, 'is close to square root of', x)"
   ]
  },
  {
   "cell_type": "code",
   "execution_count": null,
   "metadata": {
    "collapsed": false,
    "scrolled": true
   },
   "outputs": [],
   "source": [
    "x = float(input('x:  '))\n",
    "delta = 0.01\n",
    "numguesses = 0\n",
    "low = 0\n",
    "high = max(x, 1)\n",
    "ans = (high+low)/2\n",
    "while abs(ans**2 - x) >= 0.01 and ans <= x:\n",
    "    print ('low =', low, 'high = ', high, 'ans = ', ans)\n",
    "    numguesses +=1\n",
    "    if ans**2 < x:\n",
    "        low = ans\n",
    "    else: \n",
    "        high = ans\n",
    "    ans = (high + low)/2\n",
    "print ('numguesses = ', numguesses)\n",
    "print (ans, 'is close to square root of ', x)"
   ]
  },
  {
   "cell_type": "code",
   "execution_count": null,
   "metadata": {
    "collapsed": false
   },
   "outputs": [],
   "source": [
    "def area(a):\n",
    "    bla = x+y*z\n",
    "    return bla\n",
    "x = 3\n",
    "y = 4\n",
    "z = 5\n",
    "bla = area(a)\n",
    "print(area(a))\n",
    "print (bla)"
   ]
  },
  {
   "cell_type": "code",
   "execution_count": null,
   "metadata": {
    "collapsed": false
   },
   "outputs": [],
   "source": [
    "def withinEpsilon (x,y,epsilon):\n",
    "  return abs(x-y) <= epsilon\n",
    "  return y*x\n",
    "print (withinEpsilon(234,3,1))"
   ]
  },
  {
   "cell_type": "code",
   "execution_count": null,
   "metadata": {
    "collapsed": false,
    "scrolled": true
   },
   "outputs": [],
   "source": [
    "def f(x):\n",
    "    x = y + 1\n",
    "    print ('x= ', x)\n",
    "    return x\n",
    "y = 3 \n",
    "z = f(x)\n",
    "print ('z= ', z)\n",
    "print ('x= ', x)\n",
    "print ('y= ', y)"
   ]
  },
  {
   "cell_type": "code",
   "execution_count": null,
   "metadata": {
    "collapsed": false,
    "scrolled": true
   },
   "outputs": [],
   "source": [
    "def f1(x):\n",
    "    def g():\n",
    "        x = 'abc'\n",
    "    x = x+1\n",
    "    g()\n",
    "    return x\n",
    "x = 3\n",
    "z = f1(x)\n",
    "print('f1 = ', f1(x))"
   ]
  },
  {
   "cell_type": "code",
   "execution_count": null,
   "metadata": {
    "collapsed": false
   },
   "outputs": [],
   "source": [
    "f1(34)\n"
   ]
  },
  {
   "cell_type": "code",
   "execution_count": null,
   "metadata": {
    "collapsed": false
   },
   "outputs": [],
   "source": [
    "s = 'abc'\n",
    "s[0-2]"
   ]
  },
  {
   "cell_type": "code",
   "execution_count": null,
   "metadata": {
    "collapsed": false
   },
   "outputs": [],
   "source": [
    "for i in range(0, 10):\n",
    "    print(i)"
   ]
  },
  {
   "cell_type": "code",
   "execution_count": null,
   "metadata": {
    "collapsed": false
   },
   "outputs": [],
   "source": [
    "for i in [1, 3, 5, 3, 1]:\n",
    "    print(i)"
   ]
  },
  {
   "cell_type": "code",
   "execution_count": null,
   "metadata": {
    "collapsed": false
   },
   "outputs": [],
   "source": [
    "for i in \"hello world\":\n",
    "    print(i,end='')"
   ]
  },
  {
   "cell_type": "code",
   "execution_count": null,
   "metadata": {
    "collapsed": false
   },
   "outputs": [],
   "source": [
    "i = 0;\n",
    "while (i < 10):\n",
    "    print (i, end='')\n",
    "    i = i +1"
   ]
  },
  {
   "cell_type": "code",
   "execution_count": null,
   "metadata": {
    "collapsed": false
   },
   "outputs": [],
   "source": [
    "while (True):\n",
    "    i = getInput()\n",
    "    print('input is ', i)\n",
    "    process (i)\n",
    " "
   ]
  },
  {
   "cell_type": "code",
   "execution_count": null,
   "metadata": {
    "collapsed": false
   },
   "outputs": [],
   "source": [
    "for i in range (10):\n",
    "    print (i)"
   ]
  },
  {
   "cell_type": "code",
   "execution_count": null,
   "metadata": {
    "collapsed": false
   },
   "outputs": [],
   "source": [
    "\" vello\" % 6"
   ]
  },
  {
   "cell_type": "code",
   "execution_count": null,
   "metadata": {
    "collapsed": false
   },
   "outputs": [],
   "source": [
    "count = 0\n",
    "items = '1238761823'\n",
    "for i in range (0,len(items),1):\n",
    "    if int(items[i]) % 2 == 0:\n",
    "        count+=1\n",
    "print (count)"
   ]
  },
  {
   "cell_type": "code",
   "execution_count": null,
   "metadata": {
    "collapsed": false
   },
   "outputs": [],
   "source": [
    "total = 0\n",
    "bal = float(input('Enter outstanding balance: '))\n",
    "annrate = float(input('Enter annual interest rate: '))\n",
    "monpayrate = float(input('Enter min monthly payment rate: ')) \n",
    "for i in range (1,13):\n",
    "    minpay = monpayrate/100*bal\n",
    "    intpaid = annrate/(100*12)*bal\n",
    "    prinpaid = minpay - intpaid\n",
    "    bal = bal - prinpaid\n",
    "    total = minpay + total\n",
    "    print ('Month: ', i)\n",
    "    print ('Min monthly payment: $',round(minpay,2))\n",
    "    print ('Principle paid: $',round(prinpaid,2))\n",
    "    print ('Remaining balance: $',round(bal,2))\n",
    "print ('RESULT')\n",
    "print ('Total amount paid: $',round(total,2))\n",
    "print ('Remaining balance: $',round(bal,2))       "
   ]
  },
  {
   "cell_type": "code",
   "execution_count": null,
   "metadata": {
    "collapsed": false
   },
   "outputs": [],
   "source": [
    "minpay = 0\n",
    "originalbal = float(input('Enter outstanding balance: '))\n",
    "annrate = float(input('Enter annual interest rate: '))\n",
    "counter = 0\n",
    "bal = originalbal\n",
    "while bal > 0:\n",
    "    minpay = minpay + 10\n",
    "    bal = originalbal\n",
    "    for i in range (1,13):\n",
    "        bal = bal*(1+annrate/(100*12)) - minpay\n",
    "        if bal <=0:\n",
    "            print(i)\n",
    "        \n",
    "\n",
    "print (bal)\n",
    "print (minpay)\n",
    "    "
   ]
  },
  {
   "cell_type": "code",
   "execution_count": null,
   "metadata": {
    "collapsed": false
   },
   "outputs": [],
   "source": [
    "origbal = float(input('Enter outstanding balance: '))\n",
    "annrate = float(input('Enter annual interest rate: '))\n",
    "low = origbal/12\n",
    "high = (origbal*(1+annrate/(100*12))**12)/12\n",
    "pay = (low + high)/2\n",
    "error = 0.01\n",
    "numGuesses = 0\n",
    "bal = origbal\n",
    "while not (-0.005 < bal < 0.0):\n",
    "    bal = origbal\n",
    "    for i in range (1,13):\n",
    "        bal = bal*(1+annrate/(100*12)) - pay\n",
    "    if bal > 0.0:\n",
    "        low = pay\n",
    "    elif bal < -0.005: \n",
    "        high = pay    \n",
    "    pay = (high+low)/2\n",
    "    numGuesses +=1\n",
    "print('Number of months to pay off:', i)\n",
    "print ('Monthly payment to pay off debt in 1 year: ', round(pay,2))\n",
    "print ('Remaining balance after 1 year: ', round(bal,2))\n"
   ]
  },
  {
   "cell_type": "code",
   "execution_count": null,
   "metadata": {
    "collapsed": false
   },
   "outputs": [],
   "source": [
    "test = (1,2,3,4,5)\n",
    "print (test)\n",
    "print(len(test))\n",
    "print(test[0:5])\n",
    "type(test)"
   ]
  },
  {
   "cell_type": "code",
   "execution_count": null,
   "metadata": {
    "collapsed": false,
    "scrolled": true
   },
   "outputs": [],
   "source": [
    "test = (3465,34534,4357,9,348957)\n",
    "test2 = (6,7,8,9)\n",
    "test3 = test + test2\n",
    "print(test3)\n",
    "print (test)\n",
    "print(test[4])\n",
    "type(test)\n",
    "print(test[len(test)-1])\n",
    "total = 0\n",
    "for i in range (0,len(test)):\n",
    "    total += test[i]\n",
    "print(total)\n",
    "\n"
   ]
  },
  {
   "cell_type": "code",
   "execution_count": null,
   "metadata": {
    "collapsed": false
   },
   "outputs": [],
   "source": [
    "test = [3465,34534,4357,9,348957]\n",
    "test.pop(1)\n",
    "print (test)\n",
    "toprint = []\n",
    "#for i in range (0,len(test)):\n",
    "    #print(test[i])\n",
    "#print (toprint)"
   ]
  },
  {
   "cell_type": "code",
   "execution_count": null,
   "metadata": {
    "collapsed": false
   },
   "outputs": [],
   "source": [
    "count = 0\n",
    "for i in range (0,len(test)):\n",
    "    if i%2 == 0:\n",
    "        count += 1\n",
    "print(count)"
   ]
  },
  {
   "cell_type": "code",
   "execution_count": null,
   "metadata": {
    "collapsed": false
   },
   "outputs": [],
   "source": [
    "def sumEvens(test):\n",
    "    total = 0\n",
    "    for i in range (0,len(test)):\n",
    "        if i%2 ==0:\n",
    "            total += test[i]\n",
    "    return total\n",
    "sumEvens(test)"
   ]
  },
  {
   "cell_type": "code",
   "execution_count": null,
   "metadata": {
    "collapsed": false
   },
   "outputs": [],
   "source": [
    "x = 100\n",
    "divisors = ()\n",
    "for i in range (1,x):\n",
    "    if x%i == 0:\n",
    "        divisors = divisors+(i,)\n",
    "print (divisors)"
   ]
  },
  {
   "cell_type": "code",
   "execution_count": null,
   "metadata": {
    "collapsed": false
   },
   "outputs": [],
   "source": [
    "test4 = ('a',)\n",
    "print(test4)\n",
    "type(test4)\n",
    "for i in range()"
   ]
  },
  {
   "cell_type": "code",
   "execution_count": null,
   "metadata": {
    "collapsed": false
   },
   "outputs": [],
   "source": [
    "Techs = ['MIT', 'Cal Tech']\n",
    "Ivys = ['Harvard', 'Yale', 'Brown']\n",
    "Univs = []\n",
    "Univs.append(Techs)\n",
    "print('Univs=', Univs)\n",
    "Univs.append(Ivys)\n",
    "print(Univs)\n",
    "for e in Univs:\n",
    "    print ('e =', e)\n",
    "flat = Techs + Ivys\n",
    "print(flat)\n",
    "print (Univs[1])"
   ]
  },
  {
   "cell_type": "code",
   "execution_count": null,
   "metadata": {
    "collapsed": false
   },
   "outputs": [],
   "source": [
    "artSchools = ['RISD', 'Harvard']\n",
    "for i in artSchools:\n",
    "    if i in flat:\n",
    "        flat.remove(i)\n",
    "print ('flat = ',flat)"
   ]
  },
  {
   "cell_type": "code",
   "execution_count": null,
   "metadata": {
    "collapsed": false
   },
   "outputs": [],
   "source": [
    "flat.sort()\n",
    "print(flat)\n",
    "flat[1] = 'UMass'\n",
    "print (flat)"
   ]
  },
  {
   "cell_type": "code",
   "execution_count": null,
   "metadata": {
    "collapsed": false
   },
   "outputs": [],
   "source": [
    "flat.pop([1])"
   ]
  },
  {
   "cell_type": "code",
   "execution_count": null,
   "metadata": {
    "collapsed": false
   },
   "outputs": [],
   "source": [
    "L1 = [2]\n",
    "L2 = [L1, L1]\n",
    "print ('L2 =', L2)\n",
    "L1[0] = 3\n",
    "L2[0] = 'a'\n",
    "print (L2)\n",
    "L1 = [2]\n",
    "print (L2)\n",
    "L1[0] = 5\n",
    "print ('new L2', L2)"
   ]
  },
  {
   "cell_type": "code",
   "execution_count": null,
   "metadata": {
    "collapsed": false
   },
   "outputs": [],
   "source": [
    "def copyList (LSource, LDest):\n",
    "    for e in LSource:\n",
    "        LDest.append(e)\n",
    "        print ('LDest=', LDest)\n",
    "L1 = []\n",
    "L2 = [1,2,3]\n",
    "copyList(L2,L1)\n",
    "print (L1)\n",
    "print (L2)\n",
    "copyList (L1,L2)\n",
    "print (L1)\n",
    "print (L2)"
   ]
  },
  {
   "cell_type": "code",
   "execution_count": null,
   "metadata": {
    "collapsed": false
   },
   "outputs": [],
   "source": [
    "D = {1: 'one', 'deux': 'two', 'pi': 3.14}\n",
    "print (D['pi'])\n",
    "D1=D\n",
    "print (D1)\n",
    "D[1]='uno'\n",
    "print (D1)\n",
    "for k in D1:\n",
    "    print (k, '=', D1[k])\n",
    "for k in D:\n",
    "    print (k, '=', D[k])"
   ]
  },
  {
   "cell_type": "code",
   "execution_count": null,
   "metadata": {
    "collapsed": false
   },
   "outputs": [],
   "source": [
    "EtoF = {'bread': 'du pain', 'wine': 'du vin',\\\n",
    "       'eats': 'mange', 'drinks': 'bois',\\\n",
    "       'likes': 'aime', 1: 'un',\\\n",
    "       '6.00': '6.00'}\n",
    "print(EtoF)\n",
    "print(EtoF.keys())\n",
    "#print(EtoF.keys)\n",
    "del EtoF[1]\n",
    "print(EtoF)"
   ]
  },
  {
   "cell_type": "code",
   "execution_count": null,
   "metadata": {
    "collapsed": false
   },
   "outputs": [],
   "source": [
    "def translateWord(word,dictionary):\n",
    "    if word in dictionary:\n",
    "        return dictionary[word]\n",
    "    else:\n",
    "        return word\n",
    "translateWord('wine',EtoF)"
   ]
  },
  {
   "cell_type": "code",
   "execution_count": null,
   "metadata": {
    "collapsed": false
   },
   "outputs": [],
   "source": [
    "def translate(sentence):\n",
    "    translation =''\n",
    "    word =''\n",
    "    for c in sentence:\n",
    "        if c !=' ':\n",
    "            word = word + c\n",
    "        else: \n",
    "            translation = translation + ' '\\\n",
    "            +translateWord(word,EtoF)\n",
    "            word = ''\n",
    "    return translation[1:] + ' ' + translateWord(word,EtoF)\n",
    "print (translate('John eats bread and wine '))\n",
    "translate('John eats bread and wine')"
   ]
  },
  {
   "cell_type": "code",
   "execution_count": null,
   "metadata": {
    "collapsed": false
   },
   "outputs": [],
   "source": [
    "def translate(sentence):\n",
    "    sentence = sentence + ' '\n",
    "    translation =''\n",
    "    word =''\n",
    "    for c in sentence:\n",
    "        if c !=' ':\n",
    "            word = word + c\n",
    "        else: \n",
    "            translation = translation + ' '\\\n",
    "            +translateWord(word,EtoF)\n",
    "            word = ''\n",
    "    return translation\n",
    "print (translate('John eats bread at 6.00'))"
   ]
  },
  {
   "cell_type": "code",
   "execution_count": null,
   "metadata": {
    "collapsed": false
   },
   "outputs": [],
   "source": [
    "def keySearch(L, k):\n",
    "    for elem in L:\n",
    "        if elem[0]==k:\n",
    "            return elem[1]\n",
    "    return None\n",
    "keySearch(Univs,'Harvard')\n",
    "print(Univs)"
   ]
  },
  {
   "cell_type": "code",
   "execution_count": null,
   "metadata": {
    "collapsed": true
   },
   "outputs": [],
   "source": [
    "def simpleExp(b,n):\n",
    "    if n == 0:\n",
    "        return 1\n",
    "    else:\n",
    "        return b*simpleExp(b,n-1)"
   ]
  },
  {
   "cell_type": "code",
   "execution_count": null,
   "metadata": {
    "collapsed": false
   },
   "outputs": [],
   "source": [
    "def Hanoi(n,f,t,s):\n",
    "    if n ==1:\n",
    "        print ('move from ' + f + ' to ' + t)\n",
    "    else:\n",
    "        Hanoi(n-1,f,s,t)\n",
    "        Hanoi(1,f,t,s)\n",
    "        Hanoi(n-1,s,t,f)\n",
    "Hanoi(2,'f','t','s')"
   ]
  },
  {
   "cell_type": "code",
   "execution_count": null,
   "metadata": {
    "collapsed": false
   },
   "outputs": [],
   "source": [
    "def toChars(s):\n",
    "    import string\n",
    "    s = s.lower()\n",
    "    ans =''\n",
    "    for c in s:\n",
    "        if c in string.ascii_lowercase:\n",
    "            ans = ans + c\n",
    "    return ans\n",
    "s = 'I LOVE YOU'\n",
    "toChars(s)"
   ]
  },
  {
   "cell_type": "code",
   "execution_count": null,
   "metadata": {
    "collapsed": true
   },
   "outputs": [],
   "source": [
    "def isPal(s):\n",
    "    if len(s) <= 1:\n",
    "        return True\n",
    "    else:\n",
    "        return s[0] == s[-1] and isPal(s[1:-1])"
   ]
  },
  {
   "cell_type": "code",
   "execution_count": null,
   "metadata": {
    "collapsed": false
   },
   "outputs": [],
   "source": [
    "def isPalindrome(s):\n",
    "    return isPal (toChars(s))\n",
    "isPalindrome('Guttag')\n"
   ]
  },
  {
   "cell_type": "code",
   "execution_count": null,
   "metadata": {
    "collapsed": false
   },
   "outputs": [],
   "source": [
    "test = [5,6,7,8,9]\n",
    "del test[1:]\n"
   ]
  },
  {
   "cell_type": "code",
   "execution_count": null,
   "metadata": {
    "collapsed": false
   },
   "outputs": [],
   "source": [
    "isPalindrome('Ablewas I ere I saw Elba')"
   ]
  },
  {
   "cell_type": "code",
   "execution_count": null,
   "metadata": {
    "collapsed": false
   },
   "outputs": [],
   "source": [
    "def fib(x):\n",
    "    assert type(x) == int and x >= 0\n",
    "    if x == 0 or x == 1:\n",
    "        return 1\n",
    "    else:\n",
    "        print (fib(x-1)+fib(x-2)) \n",
    "        return fib(x-1)+fib(x-2) \n",
    "        \n",
    "def testFib(x):\n",
    "    for i in range (x+1):\n",
    "        print ('fib of', i, '=', fib(i))\n",
    "fib(7)\n"
   ]
  },
  {
   "cell_type": "code",
   "execution_count": 3,
   "metadata": {
    "collapsed": false
   },
   "outputs": [
    {
     "name": "stdout",
     "output_type": "stream",
     "text": [
      "Lecture 7\n"
     ]
    }
   ],
   "source": [
    "print('Lecture 7')"
   ]
  },
  {
   "cell_type": "code",
   "execution_count": 10,
   "metadata": {
    "collapsed": false
   },
   "outputs": [
    {
     "name": "stdout",
     "output_type": "stream",
     "text": [
      "10000.000000018848\n",
      "10000.000000018848\n",
      "False\n",
      "Good enough\n"
     ]
    }
   ],
   "source": [
    "x = 0.0\n",
    "numIters = 100000\n",
    "for i in range(numIters):\n",
    "   x += 0.1\n",
    "print (x) #prints 100000.0, because print automatically rounds\n",
    "print (repr(x))\n",
    "print (10.0*x == numIters)\n",
    "\n",
    "def close(x, y, epsilon = 0.00001):\n",
    "   return abs(x - y) < epsilon\n",
    "\n",
    "if close(10.0*x, numIters):\n",
    "   print ('Good enough')"
   ]
  },
  {
   "cell_type": "code",
   "execution_count": 30,
   "metadata": {
    "collapsed": false
   },
   "outputs": [],
   "source": [
    "def isPal(x):\n",
    "    \"\"\"requires x to be a list\n",
    "       returns True if the list is a palindrome; False otherwise\"\"\"\n",
    "    assert type(x) == list\n",
    "    temp = x[:]\n",
    "    temp.reverse()\n",
    "    if temp == x:\n",
    "        return True\n",
    "    else:\n",
    "        return False\n",
    "\n",
    "def silly(n):\n",
    "    \"\"\"requires: n is an int > 0\n",
    "    Gets n inputs from user\n",
    "    Prints 'Yes' if the inputs are a palindrome; 'No' otherwise\"\"\"\n",
    "    assert type(n) == int and n > 0\n",
    "    result=[]\n",
    "    for i in range(n):\n",
    "        #result= []\n",
    "        elem = input('Enter something: ')\n",
    "        result.append(elem)\n",
    "        print(result)\n",
    "    if isPal(result):\n",
    "        print ('Is a palindrome')\n",
    "    else:\n",
    "        print ('Is not a palindrome')\n",
    "\n",
    "\n",
    "\n",
    "\n",
    "\n",
    "\n",
    "##def silly(n):\n",
    "##    \"\"\"requires: n is an int > 0\n",
    "##    Gets n inputs from user\n",
    "##    Prints 'Yes' if the inputs are a palindrome; 'No' otherwise\"\"\"\n",
    "##    assert type(n) == int and n > 0\n",
    "##    result = []\n",
    "##    for i in range(n):\n",
    "##        elem = raw_input('Enter something: ')\n",
    "##        result.append(elem)\n",
    "##    print 'Entered:', result\n",
    "##    if isPal(result):\n",
    "##        print 'Is a palindrome'\n",
    "##    else:\n",
    "##        print 'Is not a palindrome'\n",
    "##\n",
    "##def isPal(x):\n",
    "##    \"\"\"requires x to be a list\n",
    "##       returns True if the list is a palindrome; False otherwise\"\"\"\n",
    "##    assert type(x) == list\n",
    "##    print 'x =', x\n",
    "##    temp = x\n",
    "##    temp.reverse\n",
    "##    print 'temp =', temp\n",
    "##    if temp == x:\n",
    "##        return True\n",
    "##    else:\n",
    "##        return False\n",
    "\n"
   ]
  },
  {
   "cell_type": "code",
   "execution_count": 31,
   "metadata": {
    "collapsed": false
   },
   "outputs": [
    {
     "name": "stdout",
     "output_type": "stream",
     "text": [
      "Enter something: a\n",
      "['a']\n",
      "Enter something: b\n",
      "['a', 'b']\n",
      "Is not a palindrome\n"
     ]
    }
   ],
   "source": [
    "silly(2)\n"
   ]
  },
  {
   "cell_type": "code",
   "execution_count": 32,
   "metadata": {
    "collapsed": false
   },
   "outputs": [
    {
     "name": "stdout",
     "output_type": "stream",
     "text": [
      "Should print False: False\n",
      "Should print True: True\n"
     ]
    }
   ],
   "source": [
    "def isPalTest():\n",
    "    L = [1, 2]\n",
    "    result = isPal(L)\n",
    "    print ('Should print False:', result)\n",
    "    L = [1, 2, 1]\n",
    "    result = isPal(L)\n",
    "    print ('Should print True:', result)\n",
    "isPalTest()"
   ]
  },
  {
   "cell_type": "code",
   "execution_count": 35,
   "metadata": {
    "collapsed": false
   },
   "outputs": [
    {
     "name": "stdout",
     "output_type": "stream",
     "text": [
      "120\n",
      "120\n"
     ]
    }
   ],
   "source": [
    "def f(n):\n",
    "    assert n >= 0\n",
    "    answer = 1\n",
    "    while n > 1:\n",
    "        answer *= n\n",
    "        n -= 1\n",
    "    return answer\n",
    "print(f(5))\n",
    "\n",
    "def fact(n):\n",
    "    assert n >= 0\n",
    "    if n <= 1:\n",
    "        return n\n",
    "    else:\n",
    "        return n*fact(n - 1)\n",
    "print(fact(5)) "
   ]
  },
  {
   "cell_type": "code",
   "execution_count": 36,
   "metadata": {
    "collapsed": false
   },
   "outputs": [
    {
     "data": {
      "text/plain": [
       "25"
      ]
     },
     "execution_count": 36,
     "metadata": {},
     "output_type": "execute_result"
    }
   ],
   "source": [
    "def g(n):\n",
    "    x = 0\n",
    "    for i in range(n):\n",
    "        for j in range(n):\n",
    "            x += 1\n",
    "    return x\n",
    "g(5)"
   ]
  },
  {
   "cell_type": "code",
   "execution_count": 37,
   "metadata": {
    "collapsed": false
   },
   "outputs": [
    {
     "data": {
      "text/plain": [
       "9"
      ]
     },
     "execution_count": 37,
     "metadata": {},
     "output_type": "execute_result"
    }
   ],
   "source": [
    "def h(x):\n",
    "    assert type(x) == int and x >= 0\n",
    "    answer = 0\n",
    "    s = str(x)\n",
    "    for c in s:\n",
    "        answer += int(c)\n",
    "    return answer\n",
    "h(45)"
   ]
  },
  {
   "cell_type": "code",
   "execution_count": 39,
   "metadata": {
    "collapsed": false
   },
   "outputs": [
    {
     "name": "stdout",
     "output_type": "stream",
     "text": [
      "True\n",
      "True\n",
      "False\n"
     ]
    }
   ],
   "source": [
    "def search(L, e):\n",
    "    for elem in L:\n",
    "        if elem == e:\n",
    "            return True\n",
    "        if elem > e:\n",
    "            return False\n",
    "    return False\n",
    "\n",
    "L = range(100)\n",
    "print (search(L, 0))\n",
    "print (search(L, 50))\n",
    "print (search(L, 100))"
   ]
  },
  {
   "cell_type": "code",
   "execution_count": 8,
   "metadata": {
    "collapsed": false
   },
   "outputs": [
    {
     "name": "stdout",
     "output_type": "stream",
     "text": [
      "Number of calls when length = 100 is 7\n",
      "Number of calls when length = 200 is 8\n",
      "Number of calls when length = 400 is 9\n",
      "Number of calls when length = 800 is 10\n",
      "Number of calls when length = 1600 is 11\n",
      "Number of calls when length = 10000000 is 23\n"
     ]
    }
   ],
   "source": [
    "def bSearch(L, e, low, high):\n",
    "    global numCalls\n",
    "    numCalls += 1\n",
    "    if high - low < 2:\n",
    "        return L[low] == e or L[high] == e\n",
    "    mid = low + int((high - low)/2)\n",
    "    if L[mid] == e:\n",
    "        return True\n",
    "    if L[mid] > e:\n",
    "        return bSearch(L, e, low, mid - 1)\n",
    "    else:\n",
    "        return bSearch(L, e, mid + 1, high)\n",
    "\n",
    "def search(L, e):\n",
    "    return bSearch(L, e, 0, len(L) - 1)\n",
    "\n",
    "L = range(100)\n",
    "numCalls = 0\n",
    "search(L, 100)\n",
    "msg = 'Number of calls when length = '\n",
    "print (msg + str(len(L)) + ' is', numCalls)\n",
    "L = range(200)\n",
    "numCalls = 0\n",
    "search(L, 200)\n",
    "print (msg + str(len(L)) + ' is', numCalls)\n",
    "L = range(400)\n",
    "numCalls = 0\n",
    "search(L, 400)\n",
    "print (msg + str(len(L)) + ' is', numCalls)\n",
    "L = range(800)\n",
    "numCalls = 0\n",
    "search(L, 800)\n",
    "print (msg + str(len(L)) + ' is', numCalls)\n",
    "L = range(1600)\n",
    "numCalls = 0\n",
    "search(L, 1600)\n",
    "print  (msg + str(len(L)) + ' is', numCalls)\n",
    "L = range(10000000) #ten million\n",
    "numCalls = 0\n",
    "search(L, 10000000)\n",
    "print (msg + str(len(L)) + ' is', numCalls)\n",
    "\n"
   ]
  },
  {
   "cell_type": "code",
   "execution_count": null,
   "metadata": {
    "collapsed": true
   },
   "outputs": [],
   "source": [
    "\"\"\"\" Lecture 9 \"\"\"\""
   ]
  },
  {
   "cell_type": "code",
   "execution_count": 9,
   "metadata": {
    "collapsed": false
   },
   "outputs": [],
   "source": [
    "def bSearch(L, e, low, high):\n",
    "    if high - low < 2:\n",
    "        return L[low] == e or L[high] == e\n",
    "    mid = low + int((high - low)/2)\n",
    "    if L[mid] == e:\n",
    "        return True\n",
    "    if L[mid] > e:\n",
    "        return bSearch(L, e, low, mid - 1)\n",
    "    else:\n",
    "        return bSearch(L, e, mid + 1, high)"
   ]
  },
  {
   "cell_type": "code",
   "execution_count": 10,
   "metadata": {
    "collapsed": false
   },
   "outputs": [
    {
     "data": {
      "text/plain": [
       "True"
      ]
     },
     "execution_count": 10,
     "metadata": {},
     "output_type": "execute_result"
    }
   ],
   "source": [
    "bSearch(L, 5, 0, len(L))"
   ]
  },
  {
   "cell_type": "code",
   "execution_count": 3,
   "metadata": {
    "collapsed": false
   },
   "outputs": [
    {
     "name": "stdout",
     "output_type": "stream",
     "text": [
      "Partially sorted list = [0, 4, 5, 29, 17, 58, 35]\n",
      "Partially sorted list = [0, 4, 5, 29, 17, 58, 35]\n",
      "Partially sorted list = [0, 4, 5, 29, 17, 58, 35]\n",
      "Partially sorted list = [0, 4, 5, 17, 29, 58, 35]\n",
      "Partially sorted list = [0, 4, 5, 17, 29, 58, 35]\n",
      "Partially sorted list = [0, 4, 5, 17, 29, 35, 58]\n",
      "Sorted list = [0, 4, 5, 17, 29, 35, 58]\n"
     ]
    }
   ],
   "source": [
    "def selSort(L):\n",
    "    \"\"\"Assumes that L is a list of elements that can be compared\n",
    "       using >.  Sorts L in ascending order\"\"\"\n",
    "    for i in range(len(L) - 1):\n",
    "        #Invariant: the list L[:i] is sorted\n",
    "        minIndx = i\n",
    "        minVal= L[i]\n",
    "        j = i + 1\n",
    "        while j < len(L):\n",
    "            if minVal > L[j]:\n",
    "                minIndx = j\n",
    "                minVal= L[j]\n",
    "            j += 1\n",
    "#         temp = L[i]\n",
    "#         L[i] = L[minIndx]\n",
    "#         L[minIndx] = temp\n",
    "        L[i], L[minIndx] = L[minIndx], L[i]\n",
    "        print('Partially sorted list =', L)\n",
    "\n",
    "L = [35, 4, 5, 29, 17, 58, 0]\n",
    "selSort(L)\n",
    "print ('Sorted list =', L)"
   ]
  },
  {
   "cell_type": "code",
   "execution_count": 3,
   "metadata": {
    "collapsed": false
   },
   "outputs": [
    {
     "name": "stdout",
     "output_type": "stream",
     "text": [
      "About to merge [4] and [5]\n",
      "About to merge [35] and [4, 5]\n",
      "About to merge [29] and [17]\n",
      "About to merge [58] and [0]\n",
      "About to merge [17, 29] and [0, 58]\n",
      "About to merge [4, 5, 35] and [0, 17, 29, 58]\n",
      "Sorted list = [0, 4, 5, 17, 29, 35, 58]\n",
      "About to merge [1.0] and [2.25]\n",
      "About to merge [24.5] and [12.0]\n",
      "About to merge [1.0, 2.25] and [12.0, 24.5]\n",
      "About to merge [2.0] and [23.0]\n",
      "About to merge [19.125] and [1.0]\n",
      "About to merge [2.0, 23.0] and [1.0, 19.125]\n",
      "About to merge [1.0, 2.25, 12.0, 24.5] and [1.0, 2.0, 19.125, 23.0]\n",
      "Sorted list = [1.0, 1.0, 2.0, 2.25, 12.0, 19.125, 23.0, 24.5]\n"
     ]
    }
   ],
   "source": [
    "def merge(left, right, lt):\n",
    "    \"\"\"Assumes left and right are sorted lists.\n",
    "     lt defines an ordering on the elements of the lists.\n",
    "     Returns a new sorted(by lt) list containing the same elements\n",
    "     as (left + right) would contain.\"\"\"\n",
    "    result = []\n",
    "    i,j = 0, 0\n",
    "    while i < len(left) and j < len(right):\n",
    "        if lt(left[i], right[j]):\n",
    "            result.append(left[i])\n",
    "            i += 1\n",
    "        else:\n",
    "            result.app-end(right[j])\n",
    "            j += 1\n",
    "    while (i < len(left)):\n",
    "        result.append(left[i])\n",
    "        i += 1\n",
    "    while (j < len(right)):\n",
    "        result.append(right[j])\n",
    "        j += 1\n",
    "    return result\n",
    "            \n",
    "def sort(L, lt = lambda x,y: x < y):\n",
    "    \"\"\"Returns a new sorted list containing the same elements as L\"\"\"\n",
    "    if len(L) < 2:\n",
    "        return L[:]\n",
    "    else:\n",
    "        middle = int(len(L)/2)\n",
    "        left = sort(L[:middle], lt)\n",
    "        right = sort(L[middle:], lt)\n",
    "        print ('About to merge', left, 'and', right)\n",
    "        return merge(left, right, lt)\n",
    "\n",
    "L = [35, 4, 5, 29, 17, 58, 0]\n",
    "newL = sort(L)\n",
    "print ('Sorted list =', newL)\n",
    "L = [1.0, 2.25, 24.5, 12.0, 2.0, 23.0, 19.125, 1.0]\n",
    "newL = sort(L, float.__lt__)\n",
    "print ('Sorted list =', newL)\n"
   ]
  },
  {
   "cell_type": "code",
   "execution_count": 7,
   "metadata": {
    "collapsed": false
   },
   "outputs": [
    {
     "name": "stdout",
     "output_type": "stream",
     "text": [
      "About to merge ['John Guttag'] and ['Tom Brady']\n",
      "About to merge ['Gisele Brady'] and ['Big Julie']\n",
      "About to merge ['Chancellor Grimson'] and ['Gisele Brady', 'Big Julie']\n",
      "About to merge ['Tom Brady', 'John Guttag'] and ['Gisele Brady', 'Chancellor Grimson', 'Big Julie']\n",
      "Sorted list = ['Gisele Brady', 'Tom Brady', 'Chancellor Grimson', 'John Guttag', 'Big Julie']\n",
      "About to merge ['John Guttag'] and ['Tom Brady']\n",
      "About to merge ['Gisele Brady'] and ['Big Julie']\n",
      "About to merge ['Chancellor Grimson'] and ['Big Julie', 'Gisele Brady']\n",
      "About to merge ['John Guttag', 'Tom Brady'] and ['Big Julie', 'Chancellor Grimson', 'Gisele Brady']\n",
      "Sorted list = ['Big Julie', 'Chancellor Grimson', 'Gisele Brady', 'John Guttag', 'Tom Brady']\n"
     ]
    }
   ],
   "source": [
    "def lastNameFirstName(name1, name2):\n",
    "    import string\n",
    "    name1 = str.split(name1, ' ')\n",
    "    name2 = str.split(name2, ' ')\n",
    "    if name1[1] != name2[1]:\n",
    "        return name1[1] < name2[1]\n",
    "    else:\n",
    "        return name1[0] < name2[0]\n",
    "\n",
    "def firstNameLastName(name1, name2):\n",
    "    import string\n",
    "    name1 = str.split(name1, ' ')\n",
    "    name2 = str.split(name2, ' ')\n",
    "    if name1[0] != name2[0]:\n",
    "        return name1[0] < name2[0]\n",
    "    else:\n",
    "        return name1[1] < name2[1]\n",
    "\n",
    "L = ['John Guttag', 'Tom Brady', 'Chancellor Grimson', 'Gisele Brady',\n",
    "    'Big Julie']\n",
    "newL = sort(L, lastNameFirstName)\n",
    "print ('Sorted list =', newL)\n",
    "newL = sort(L, firstNameLastName)\n",
    "print ('Sorted list =', newL)"
   ]
  }
 ],
 "metadata": {
  "kernelspec": {
   "display_name": "Python 3",
   "language": "python",
   "name": "python3"
  },
  "language_info": {
   "codemirror_mode": {
    "name": "ipython",
    "version": 3
   },
   "file_extension": ".py",
   "mimetype": "text/x-python",
   "name": "python",
   "nbconvert_exporter": "python",
   "pygments_lexer": "ipython3",
   "version": "3.6.8"
  }
 },
 "nbformat": 4,
 "nbformat_minor": 2
}
