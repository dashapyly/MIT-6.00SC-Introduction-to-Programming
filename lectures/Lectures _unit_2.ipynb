{
 "cells": [
  {
   "cell_type": "code",
   "execution_count": null,
   "metadata": {
    "collapsed": true
   },
   "outputs": [],
   "source": [
    "##Lecture 10"
   ]
  },
  {
   "cell_type": "code",
   "execution_count": 2,
   "metadata": {},
   "outputs": [],
   "source": [
    "numBuckets = 47  #this is ugly.  We will see a better way soon\n",
    "\n",
    "def create():\n",
    "    global numBuckets\n",
    "    hSet = []\n",
    "    for i in range(numBuckets):\n",
    "        hSet.append([])\n",
    "    return hSet\n",
    "\n",
    "def hashElem(e):\n",
    "    global numBuckets\n",
    "    return e%numBuckets     \n",
    "\n",
    "def insert(hSet, i):\n",
    "    hSet[hashElem(i)].append(i)\n",
    "\n",
    "def remove(hSet, i):\n",
    "    newBucket = []\n",
    "    for j in hSet[hashElem(i)]:\n",
    "        if j != i:\n",
    "            newBucket.append(j)\n",
    "    hSet[hashElem(i)] = newBucket\n",
    "\n",
    "def member(hSet, i):\n",
    "    return i in hSet[hashElem(i)]"
   ]
  },
  {
   "cell_type": "code",
   "execution_count": 11,
   "metadata": {
    "collapsed": true
   },
   "outputs": [],
   "source": [
    "numBuckets = 47\n",
    "def test1():\n",
    "    s = create()\n",
    "    for i in range(40):\n",
    "        insert(s, i)\n",
    "    insert(s, 325)\n",
    "    insert(s, 325)\n",
    "    insert(s, 987654321)\n",
    "    print (s)\n",
    "    print (member(s, 325))\n",
    "    remove(s, 325)\n",
    "    print (member(s, 325))\n",
    "    print (member(s, 987654321))"
   ]
  },
  {
   "cell_type": "code",
   "execution_count": 12,
   "metadata": {},
   "outputs": [
    {
     "name": "stdout",
     "output_type": "stream",
     "text": [
      "[[0], [1], [2], [3], [4], [5], [6], [7], [8], [9], [10], [11], [12], [13], [14], [15], [16], [17], [18], [19], [20], [21], [22], [23], [24], [25], [26], [27], [28], [29], [30], [31], [32], [33], [34, 987654321], [35], [36], [37], [38], [39], [], [], [], [325, 325], [], [], []]\n",
      "True\n",
      "False\n",
      "True\n"
     ]
    }
   ],
   "source": [
    "test1()"
   ]
  },
  {
   "cell_type": "code",
   "execution_count": 15,
   "metadata": {
    "collapsed": true
   },
   "outputs": [],
   "source": [
    "numBuckets = 3\n",
    "def test1():\n",
    "    s = create()\n",
    "    for i in range(40):\n",
    "        insert(s, i)\n",
    "    insert(s, 325)\n",
    "    insert(s, 325)\n",
    "    insert(s, 987654321)\n",
    "    print (s)\n",
    "    print (member(s, 325))\n",
    "    remove(s, 325)\n",
    "    print (member(s, 325))\n",
    "    print (member(s, 987654321))"
   ]
  },
  {
   "cell_type": "code",
   "execution_count": 16,
   "metadata": {},
   "outputs": [
    {
     "name": "stdout",
     "output_type": "stream",
     "text": [
      "[[0, 3, 6, 9, 12, 15, 18, 21, 24, 27, 30, 33, 36, 39, 987654321], [1, 4, 7, 10, 13, 16, 19, 22, 25, 28, 31, 34, 37, 325, 325], [2, 5, 8, 11, 14, 17, 20, 23, 26, 29, 32, 35, 38]]\n",
      "True\n",
      "False\n",
      "True\n"
     ]
    }
   ],
   "source": [
    "test1()"
   ]
  },
  {
   "cell_type": "code",
   "execution_count": 17,
   "metadata": {
    "collapsed": true
   },
   "outputs": [],
   "source": [
    "numBuckets = 47\n",
    "def hashElem(e):\n",
    "    global numBuckets\n",
    "    if type(e) == int:\n",
    "        val = e\n",
    "    if type(e) == str:\n",
    "        #Convert e to an int\n",
    "        val = 0\n",
    "        shift = 0\n",
    "        for c in e:\n",
    "            val = val + shift*ord(c)\n",
    "            shift += 1\n",
    "    return val%numBuckets"
   ]
  },
  {
   "cell_type": "code",
   "execution_count": 18,
   "metadata": {
    "collapsed": true
   },
   "outputs": [],
   "source": [
    "def test2():\n",
    "    d = create()\n",
    "    strs = ['ab', 'ba', '32a',\n",
    "            'big dog', 'small bird']\n",
    "    for s in strs:\n",
    "        insert(d, s)\n",
    "    for i in range(40):\n",
    "        insert(d, i)\n",
    "    print (d)\n",
    "    print (member(d, 'small bird'))\n",
    "    print (member(d, 'big bird'))\n",
    "    remove(d, 'small bird')\n",
    "    print (d)"
   ]
  },
  {
   "cell_type": "code",
   "execution_count": 19,
   "metadata": {},
   "outputs": [
    {
     "name": "stdout",
     "output_type": "stream",
     "text": [
      "[[0], [1], [2], ['ba', 3], ['ab', 4], [5], ['big dog', 6], [7], [8], ['32a', 9], [10], [11], [12], [13], [14], [15], [16], [17], [18], [19], [20], [21], [22], [23], [24], [25], [26], [27], [28], [29], ['small bird', 30], [31], [32], [33], [34], [35], [36], [37], [38], [39], [], [], [], [], [], [], []]\n",
      "True\n",
      "False\n",
      "[[0], [1], [2], ['ba', 3], ['ab', 4], [5], ['big dog', 6], [7], [8], ['32a', 9], [10], [11], [12], [13], [14], [15], [16], [17], [18], [19], [20], [21], [22], [23], [24], [25], [26], [27], [28], [29], [30], [31], [32], [33], [34], [35], [36], [37], [38], [39], [], [], [], [], [], [], []]\n"
     ]
    }
   ],
   "source": [
    "test2()"
   ]
  },
  {
   "cell_type": "code",
   "execution_count": 1,
   "metadata": {},
   "outputs": [],
   "source": [
    "def readVal(valType, requestMsg, errorMsg):\n",
    "    numTries = 0\n",
    "    while numTries < 4:\n",
    "        val = input(requestMsg)\n",
    "        try:\n",
    "            val = valType(val)\n",
    "            return val\n",
    "        except ValueError:\n",
    "            print(errorMsg)\n",
    "            numTries += 1\n",
    "    raise TypeError('Num tries exceeded')"
   ]
  },
  {
   "cell_type": "code",
   "execution_count": 24,
   "metadata": {
    "scrolled": true
   },
   "outputs": [
    {
     "name": "stdout",
     "output_type": "stream",
     "text": [
      "Enter int: f\n",
      "Not an int.\n",
      "Enter int: d\n",
      "Not an int.\n",
      "Enter int: g\n",
      "Not an int.\n",
      "Enter int: d\n",
      "Not an int.\n"
     ]
    },
    {
     "ename": "TypeError",
     "evalue": "Num tries exceeded",
     "output_type": "error",
     "traceback": [
      "\u001b[0;31m---------------------------------------------------------------------------\u001b[0m",
      "\u001b[0;31mTypeError\u001b[0m                                 Traceback (most recent call last)",
      "\u001b[0;32m<ipython-input-24-4d48ae3ac951>\u001b[0m in \u001b[0;36m<module>\u001b[0;34m()\u001b[0m\n\u001b[0;32m----> 1\u001b[0;31m \u001b[0mprint\u001b[0m \u001b[1;33m(\u001b[0m\u001b[0mreadVal\u001b[0m\u001b[1;33m(\u001b[0m\u001b[0mint\u001b[0m\u001b[1;33m,\u001b[0m \u001b[1;34m'Enter int: '\u001b[0m\u001b[1;33m,\u001b[0m \u001b[1;34m'Not an int.'\u001b[0m\u001b[1;33m)\u001b[0m\u001b[1;33m)\u001b[0m\u001b[1;33m\u001b[0m\u001b[1;33m\u001b[0m\u001b[0m\n\u001b[0m",
      "\u001b[0;32m<ipython-input-22-77ca56174c7e>\u001b[0m in \u001b[0;36mreadVal\u001b[0;34m(valType, requestMsg, errorMsg)\u001b[0m\n\u001b[1;32m      9\u001b[0m             \u001b[0mprint\u001b[0m\u001b[1;33m(\u001b[0m\u001b[0merrorMsg\u001b[0m\u001b[1;33m)\u001b[0m\u001b[1;33m\u001b[0m\u001b[1;33m\u001b[0m\u001b[0m\n\u001b[1;32m     10\u001b[0m             \u001b[0mnumTries\u001b[0m \u001b[1;33m+=\u001b[0m \u001b[1;36m1\u001b[0m\u001b[1;33m\u001b[0m\u001b[1;33m\u001b[0m\u001b[0m\n\u001b[0;32m---> 11\u001b[0;31m     \u001b[1;32mraise\u001b[0m \u001b[0mTypeError\u001b[0m\u001b[1;33m(\u001b[0m\u001b[1;34m'Num tries exceeded'\u001b[0m\u001b[1;33m)\u001b[0m\u001b[1;33m\u001b[0m\u001b[1;33m\u001b[0m\u001b[0m\n\u001b[0m",
      "\u001b[0;31mTypeError\u001b[0m: Num tries exceeded"
     ]
    }
   ],
   "source": [
    "print (readVal(int, 'Enter int: ', 'Not an int.'))    "
   ]
  },
  {
   "cell_type": "code",
   "execution_count": 1,
   "metadata": {},
   "outputs": [
    {
     "ename": "NameError",
     "evalue": "name 's' is not defined",
     "output_type": "error",
     "traceback": [
      "\u001b[1;31m---------------------------------------------------------------------------\u001b[0m",
      "\u001b[1;31mNameError\u001b[0m                                 Traceback (most recent call last)",
      "\u001b[1;32m<ipython-input-1-7bd0bd0bc550>\u001b[0m in \u001b[0;36m<module>\u001b[1;34m\u001b[0m\n\u001b[0;32m      1\u001b[0m \u001b[1;32mtry\u001b[0m\u001b[1;33m:\u001b[0m\u001b[1;33m\u001b[0m\u001b[1;33m\u001b[0m\u001b[0m\n\u001b[1;32m----> 2\u001b[1;33m    \u001b[0mreadVal\u001b[0m\u001b[1;33m(\u001b[0m\u001b[0mint\u001b[0m\u001b[1;33m,\u001b[0m \u001b[1;34m'Enter int: '\u001b[0m\u001b[1;33m,\u001b[0m \u001b[1;34m'Not an int.'\u001b[0m\u001b[1;33m)\u001b[0m\u001b[1;33m\u001b[0m\u001b[1;33m\u001b[0m\u001b[0m\n\u001b[0m\u001b[0;32m      3\u001b[0m \u001b[1;32mexcept\u001b[0m \u001b[0mTypeError\u001b[0m\u001b[1;33m(\u001b[0m\u001b[0ms\u001b[0m\u001b[1;33m)\u001b[0m\u001b[1;33m:\u001b[0m\u001b[1;33m\u001b[0m\u001b[1;33m\u001b[0m\u001b[0m\n",
      "\u001b[1;31mNameError\u001b[0m: name 'readVal' is not defined",
      "\nDuring handling of the above exception, another exception occurred:\n",
      "\u001b[1;31mNameError\u001b[0m                                 Traceback (most recent call last)",
      "\u001b[1;32m<ipython-input-1-7bd0bd0bc550>\u001b[0m in \u001b[0;36m<module>\u001b[1;34m\u001b[0m\n\u001b[0;32m      1\u001b[0m \u001b[1;32mtry\u001b[0m\u001b[1;33m:\u001b[0m\u001b[1;33m\u001b[0m\u001b[1;33m\u001b[0m\u001b[0m\n\u001b[0;32m      2\u001b[0m    \u001b[0mreadVal\u001b[0m\u001b[1;33m(\u001b[0m\u001b[0mint\u001b[0m\u001b[1;33m,\u001b[0m \u001b[1;34m'Enter int: '\u001b[0m\u001b[1;33m,\u001b[0m \u001b[1;34m'Not an int.'\u001b[0m\u001b[1;33m)\u001b[0m\u001b[1;33m\u001b[0m\u001b[1;33m\u001b[0m\u001b[0m\n\u001b[1;32m----> 3\u001b[1;33m \u001b[1;32mexcept\u001b[0m \u001b[0mTypeError\u001b[0m\u001b[1;33m(\u001b[0m\u001b[0ms\u001b[0m\u001b[1;33m)\u001b[0m\u001b[1;33m:\u001b[0m\u001b[1;33m\u001b[0m\u001b[1;33m\u001b[0m\u001b[0m\n\u001b[0m\u001b[0;32m      4\u001b[0m    \u001b[0mprint\u001b[0m \u001b[1;33m(\u001b[0m\u001b[0ms\u001b[0m\u001b[1;33m)\u001b[0m\u001b[1;33m\u001b[0m\u001b[1;33m\u001b[0m\u001b[0m\n",
      "\u001b[1;31mNameError\u001b[0m: name 's' is not defined"
     ]
    }
   ],
   "source": [
    "try:\n",
    "   readVal(int, 'Enter int: ', 'Not an int.')\n",
    "except TypeError(s):\n",
    "   print (s)\n"
   ]
  },
  {
   "cell_type": "code",
   "execution_count": null,
   "metadata": {},
   "outputs": [],
   "source": [
    "#Lecture 11. OOP and Inheritance"
   ]
  },
  {
   "cell_type": "code",
   "execution_count": null,
   "metadata": {},
   "outputs": [],
   "source": [
    "# Abstract data type => interface - explains what methods do to the user; specification => tells what it does\n",
    "# Underbar-underbar method is automatically envoked when the \n",
    "# object type intSet is created\n",
    "# Clear distinction between specification and implementaion"
   ]
  },
  {
   "cell_type": "code",
   "execution_count": 5,
   "metadata": {},
   "outputs": [],
   "source": [
    "# Define a new abstract data type\n",
    "class intSet(object):\n",
    "    #An intSet is a set of integers\n",
    "    def __init__(self):\n",
    "        \"\"\"Create an empty set of integers\"\"\"\n",
    "        self.numBuckets = 47\n",
    "        self.vals = []\n",
    "        for i in range(self.numBuckets):\n",
    "            self.vals.append([])\n",
    "        #numBuckets and vals are now attributes of an object of\n",
    "        # class intSet\n",
    "        # Self is being used to refer to the object being created\n",
    "    def hashE(self, e):\n",
    "        #Private function, should not be used outside of class\n",
    "        return abs(e)%len(self.vals)\n",
    "\n",
    "    def insert(self, e):\n",
    "        \"\"\"Assumes e is an integer and inserts e into self\"\"\"\n",
    "        for i in self.vals[self.hashE(e)]:\n",
    "            if i == e:\n",
    "                 return\n",
    "        self.vals[self.hashE(e)].append(e)\n",
    "\n",
    "    def member(self, e):\n",
    "        \"\"\"Assumes e is an integer\n",
    "           Returns True if e is in self, and False otherwise\"\"\"\n",
    "        return e in self.vals[self.hashE(e)]\n",
    "\n",
    "    def __str__(self):\n",
    "        \"\"\"Returns a string representation of self\"\"\"\n",
    "        elems = []\n",
    "        for bucket in self.vals:\n",
    "            for e in bucket: elems.append(e)\n",
    "        elems.sort()\n",
    "        result = ''\n",
    "        for e in elems: result = result + str(e) + ','\n",
    "        return '{' + result[:-1] + '}'\n",
    "\n",
    "def test1():\n",
    "    s = intSet()\n",
    "    for i in range(40):\n",
    "        s.insert(i)\n",
    "    print (s.member(14))\n",
    "    print (s.member(41))\n",
    "    print (s)\n",
    "    print (s.vals)  #Evil. Because you are accessing an instance variable in the implemention\n",
    "                    \n",
    "    # Data hiding - no direct access. Most important depevelopment that makes\n",
    "    # abstract data types useful. Java enforces data hiding. \n",
    "    #Python does not.\n",
    "    # We are hiding instance variable: variables associated with each instance of the class\n",
    "    # Also hiding class variables - see them later\n",
    "import datetime"
   ]
  },
  {
   "cell_type": "code",
   "execution_count": 3,
   "metadata": {},
   "outputs": [
    {
     "name": "stdout",
     "output_type": "stream",
     "text": [
      "[[], [], [], [], [], [], [], [], [], [], [], [], [], [], [], [], [], [], [], [], [], [], [], [], [], [], [], [], [], [], [], [], [], [], [], [], [], [], [], [], [], [], [], [], [], [], []]\n",
      "[]\n",
      "{} %%\n"
     ]
    }
   ],
   "source": [
    "s = intSet()\n",
    "s.numBuckets\n",
    "print(s.vals)\n",
    "print(s.vals[5])\n",
    "print(s,'%%')"
   ]
  },
  {
   "cell_type": "code",
   "execution_count": 6,
   "metadata": {},
   "outputs": [
    {
     "name": "stdout",
     "output_type": "stream",
     "text": [
      "True\n",
      "False\n",
      "{0,1,2,3,4,5,6,7,8,9,10,11,12,13,14,15,16,17,18,19,20,21,22,23,24,25,26,27,28,29,30,31,32,33,34,35,36,37,38,39}\n",
      "[[0], [1], [2], [3], [4], [5], [6], [7], [8], [9], [10], [11], [12], [13], [14], [15], [16], [17], [18], [19], [20], [21], [22], [23], [24], [25], [26], [27], [28], [29], [30], [31], [32], [33], [34], [35], [36], [37], [38], [39], [], [], [], [], [], [], []]\n"
     ]
    }
   ],
   "source": [
    "test1()"
   ]
  },
  {
   "cell_type": "code",
   "execution_count": 9,
   "metadata": {},
   "outputs": [],
   "source": [
    "import datetime\n",
    "class Person(object):\n",
    "    def __init__(self, name):\n",
    "        #create a person with name name\n",
    "        self.name = name\n",
    "        try:\n",
    "            firstBlank = name.rindex(' ')\n",
    "            self.lastName = name[firstBlank+1:]\n",
    "        except:\n",
    "            self.lastName = name\n",
    "        self.birthday = None\n",
    "    def getLastName(self):\n",
    "        #return self's last name\n",
    "        return self.lastName\n",
    "    def setBirthday(self, birthDate):\n",
    "        #assumes birthDate is of type datetime.date\n",
    "        #sets self's birthday to birthDate\n",
    "        assert type(birthDate) == datetime.date\n",
    "        self.birthday = birthDate\n",
    "    def getAge(self):\n",
    "        #assumes that self's birthday has been set\n",
    "        #returns self's current age in days\n",
    "        assert self.birthday != None\n",
    "        return (datetime.date.today() - self.birthday).days\n",
    "    def __lt__(self, other):\n",
    "        #return True if self's name is lexicographically greater\n",
    "        #than other's name, and False otherwise\n",
    "        if self.lastName == other.lastName:\n",
    "            return self.name < other.name\n",
    "        return self.lastName < other.lastName\n",
    "    def __str__(self):\n",
    "        #return self's name\n",
    "        return self.name"
   ]
  },
  {
   "cell_type": "code",
   "execution_count": 11,
   "metadata": {},
   "outputs": [
    {
     "name": "stdout",
     "output_type": "stream",
     "text": [
      "Barack Hussein Obama\n",
      "Obama\n",
      "True\n"
     ]
    }
   ],
   "source": [
    "me = Person('John Guttag')\n",
    "him = Person('Barack Hussein Obama')\n",
    "her = Person('Madonna')\n",
    "print(him)\n",
    "print(him.getLastName())\n",
    "print(me < him)"
   ]
  },
  {
   "cell_type": "code",
   "execution_count": 13,
   "metadata": {},
   "outputs": [
    {
     "name": "stdout",
     "output_type": "stream",
     "text": [
      "22295\n",
      "21211\n",
      "False\n",
      "True\n",
      "The people in pList are:\n",
      "  John Guttag\n",
      "  Barack Hussein Obama\n",
      "  Madonna\n"
     ]
    }
   ],
   "source": [
    "him.setBirthday(datetime.date(1961, 8, 4))\n",
    "her.setBirthday(datetime.date(1958, 8, 16))\n",
    "##him.birthday = '8/4/61' Trying to do the evil thing but it fails\n",
    "print(her.getAge())\n",
    "print(him.getAge())\n",
    "print(him < her)\n",
    "print(me < her)\n",
    "pList = [me, him, her]\n",
    "print('The people in pList are:')\n",
    "for p in pList:\n",
    "   print('  ' + str(p))"
   ]
  },
  {
   "cell_type": "code",
   "execution_count": 15,
   "metadata": {},
   "outputs": [
    {
     "name": "stdout",
     "output_type": "stream",
     "text": [
      "The people in pList are:\n",
      "  John Guttag\n",
      "  Madonna\n",
      "  Barack Hussein Obama\n"
     ]
    }
   ],
   "source": [
    "pList.sort()\n",
    "print('The people in pList are:')\n",
    "for p in pList:\n",
    "   print('  ' + str(p))"
   ]
  },
  {
   "cell_type": "code",
   "execution_count": 16,
   "metadata": {},
   "outputs": [],
   "source": [
    "# Creating a subclass of Person which:\n",
    "#   - inherits the properties of superclass\n",
    "#   - add a property\n",
    "#   - can overwrite existing property\n",
    "\n",
    "class MITPerson(Person):\n",
    "    nextIdNum = 0\n",
    "    def __init__(self, name):\n",
    "        Person.__init__(self, name)\n",
    "        self.idNum = MITPerson.nextIdNum\n",
    "        MITPerson.nextIdNum += 1\n",
    "    def getIdNum(self):\n",
    "        return self.idNum\n",
    "    def __lt__(self, other):\n",
    "        return self.idNum < other.idNum\n",
    "    def isStudent(self):\n",
    "        return type(self)==UG or type(self)==G"
   ]
  },
  {
   "cell_type": "code",
   "execution_count": 18,
   "metadata": {},
   "outputs": [
    {
     "name": "stdout",
     "output_type": "stream",
     "text": [
      "Barbara Beaver 0\n",
      "Sue Yuan 1\n",
      "Sue Yuan 2\n"
     ]
    }
   ],
   "source": [
    "p1 = MITPerson('Barbara Beaver')\n",
    "print(p1, p1.getIdNum())\n",
    "p2 = MITPerson('Sue Yuan')\n",
    "print(p2, p2.getIdNum())\n",
    "p3 = MITPerson('Sue Yuan')\n",
    "print (p3, p3.getIdNum())"
   ]
  },
  {
   "cell_type": "code",
   "execution_count": 24,
   "metadata": {},
   "outputs": [
    {
     "name": "stdout",
     "output_type": "stream",
     "text": [
      "p1 < p2 = True\n",
      "p3 < p2 = False\n",
      "_lt__(p1, p2) = True\n",
      "p1 == p4 = False\n",
      "p4 < p3 = False\n",
      "<class '__main__.Person'> <class '__main__.MITPerson'>\n"
     ]
    }
   ],
   "source": [
    "p4 = Person('Sue Yuan')\n",
    "print('p1 < p2 =', p1 < p2)\n",
    "print('p3 < p2 =', p3 < p2)\n",
    "print ('_lt__(p1, p2) =', Person.__lt__(p1, p2))\n",
    "print ('p1 == p4 =', p1 == p4) #Q:why did this work if type(p4) = Person?\n",
    "print ('p4 < p3 =', p4 < p3)\n",
    "# print ('p3 < p4 =', p3 < p4)\n",
    "print(type(p4), type(p1))"
   ]
  },
  {
   "cell_type": "code",
   "execution_count": 25,
   "metadata": {},
   "outputs": [
    {
     "name": "stdout",
     "output_type": "stream",
     "text": [
      "Jane Doe\n",
      "True\n",
      "False\n",
      "False\n"
     ]
    }
   ],
   "source": [
    "# Creating a subclass to subclass; continuing the hierarchy\n",
    "#UG = undergraduate\n",
    "class UG(MITPerson):\n",
    "    def __init__(self, name):\n",
    "        MITPerson.__init__(self, name)\n",
    "        self.year = None\n",
    "    def setYear(self, year):\n",
    "        if year > 5:\n",
    "            raise OverflowError('Too many')\n",
    "        self.year = year\n",
    "    def getYear(self):\n",
    "        return self.year\n",
    "\n",
    "ug1 = UG('Jane Doe')\n",
    "ug2 = UG('Jane Doe')\n",
    "p3 = MITPerson('Sue Yuan')\n",
    "print (ug1)\n",
    "print (ug1 < p3)\n",
    "print (ug2 < ug1)\n",
    "print (ug1 == ug2)"
   ]
  },
  {
   "cell_type": "code",
   "execution_count": 29,
   "metadata": {},
   "outputs": [
    {
     "name": "stdout",
     "output_type": "stream",
     "text": [
      "<class '__main__.G'>\n",
      "True\n",
      "True\n"
     ]
    }
   ],
   "source": [
    "#G = graduate\n",
    "class G(MITPerson):\n",
    "    pass  #G is no special, has everything else that an MITPerson has, but now can check if a person\n",
    "            # is type G\n",
    "\n",
    "g1 = G('Mitch Peabody')\n",
    "print(type(g1))\n",
    "print(type(g1) == G)\n",
    "print(g1.isStudent())"
   ]
  },
  {
   "cell_type": "code",
   "execution_count": 31,
   "metadata": {},
   "outputs": [],
   "source": [
    "class CourseList(object):\n",
    "    def __init__(self, number):\n",
    "        self.number = number          #gives a list a number\n",
    "        self.students = []            #creates an empty list in the list\n",
    "    def addStudent(self, who):\n",
    "        if not who.isStudent():\n",
    "            raise TypeError('Not a student')\n",
    "        if who in self.students:\n",
    "            raise ValueError('Duplicate student')\n",
    "        self.students.append(who)\n",
    "    def remStudent(self, who):\n",
    "        try:\n",
    "            self.students.remove(who)\n",
    "        except:\n",
    "            print(str(who) + ' not in ' + self.number)\n",
    "    def allStudents(self):\n",
    "        for s in self.students:\n",
    "            yield s\n",
    "    def ugs(self):\n",
    "        indx = 0\n",
    "        while indx < len(self.students):\n",
    "            if type(self.students[indx]) == UG:\n",
    "                yield self.students[indx]\n",
    "            indx += 1"
   ]
  },
  {
   "cell_type": "code",
   "execution_count": 42,
   "metadata": {},
   "outputs": [
    {
     "name": "stdout",
     "output_type": "stream",
     "text": [
      "\n",
      "<__main__.CourseList object at 0x000001636093A2E8>\n"
     ]
    }
   ],
   "source": [
    "m1 = MITPerson('Barbara Beaver')            \n",
    "ug1 = UG('Jane Doe')\n",
    "ug2 = UG('John Doe')\n",
    "g1 = G('Mitch Peabody')\n",
    "g2 = G('Ryan Jackson')\n",
    "g3 = G('Jenny Liu')\n",
    "print ('')\n",
    "SixHundred = CourseList('6.00')\n",
    "print(SixHundred)\n",
    "SixHundred.addStudent(ug1)\n",
    "SixHundred.addStudent(g1)\n",
    "SixHundred.addStudent(ug2)\n",
    "# SixHundred.addStudent(m1) #Will give an error \"not a student\""
   ]
  },
  {
   "cell_type": "code",
   "execution_count": 46,
   "metadata": {},
   "outputs": [
    {
     "name": "stdout",
     "output_type": "stream",
     "text": [
      "Jenny Liu not in 6.00\n",
      "Students\n",
      "   Jane Doe\n",
      "   Mitch Peabody\n",
      "   John Doe\n"
     ]
    }
   ],
   "source": [
    "SixHundred.remStudent(g3)\n",
    "print ('Students')\n",
    "for s in SixHundred.allStudents():\n",
    "    print (\"  \", s)"
   ]
  },
  {
   "cell_type": "code",
   "execution_count": 47,
   "metadata": {},
   "outputs": [
    {
     "name": "stdout",
     "output_type": "stream",
     "text": [
      "Students Squared\n",
      "Jane Doe Jane Doe\n",
      "Jane Doe Mitch Peabody\n",
      "Jane Doe John Doe\n",
      "Mitch Peabody Jane Doe\n",
      "Mitch Peabody Mitch Peabody\n",
      "Mitch Peabody John Doe\n",
      "John Doe Jane Doe\n",
      "John Doe Mitch Peabody\n",
      "John Doe John Doe\n"
     ]
    }
   ],
   "source": [
    "print ('Students Squared')\n",
    "for s in SixHundred.allStudents():\n",
    "    for s1 in SixHundred.allStudents():\n",
    "        print (s, s1)"
   ]
  },
  {
   "cell_type": "code",
   "execution_count": 40,
   "metadata": {},
   "outputs": [
    {
     "name": "stdout",
     "output_type": "stream",
     "text": [
      "\n",
      "Jenny Liu not in 6.00\n",
      "Students\n",
      "Jane Doe\n",
      "Mitch Peabody\n",
      "John Doe\n",
      "Students Squared\n",
      "Jane Doe Jane Doe\n",
      "Jane Doe Mitch Peabody\n",
      "Jane Doe John Doe\n",
      "Mitch Peabody Jane Doe\n",
      "Mitch Peabody Mitch Peabody\n",
      "Mitch Peabody John Doe\n",
      "John Doe Jane Doe\n",
      "John Doe Mitch Peabody\n",
      "John Doe John Doe\n",
      "Change Class test\n",
      "Jane Doe\n",
      "Mitch Peabody\n",
      "Ryan Jackson\n",
      "Undergraduates\n",
      "Jane Doe\n",
      "1\n",
      "2\n",
      "3\n"
     ]
    }
   ],
   "source": [
    "print ('Change Class test')\n",
    "for s in SixHundred.allStudents():\n",
    "   print (s)\n",
    "   if s == ug1:\n",
    "        SixHundred.remStudent(ug2)\n",
    "        SixHundred.addStudent(g2)\n",
    "print ('Undergraduates')\n",
    "for u in SixHundred.ugs():\n",
    "    print (u)\n",
    "L = [1,2,3]\n",
    "for e in L:\n",
    "    print (e)\n",
    "    L = []"
   ]
  },
  {
   "cell_type": "code",
   "execution_count": 52,
   "metadata": {},
   "outputs": [
    {
     "name": "stdout",
     "output_type": "stream",
     "text": [
      "234\n",
      "34535\n",
      "455\n",
      "989\n"
     ]
    }
   ],
   "source": [
    "def test_yield(test_list):\n",
    "    for i in test_list:\n",
    "        yield i\n",
    "test_list = [234,34535,455,989]\n",
    "for item in test_yield(test_list):\n",
    "    print(item)"
   ]
  },
  {
   "cell_type": "code",
   "execution_count": null,
   "metadata": {},
   "outputs": [],
   "source": [
    "#Lecture 12. Introduction to Simulation and Random Walks \n",
    "\n",
    "# Analytic methods:\n",
    "#   - predict behaviour, given initial conditions and parameters\n",
    "\n",
    "# Simulation methods: \n",
    "#   usefull for:\n",
    "#   -hard tp build a model\n",
    "#   -systems that are not mathematically tractable (e.g., weather forecast)\n",
    "#   -succesively refining a series of simulations\n",
    "#   -easier to extract useful intermediate results\n",
    "#   -computers\n",
    "#  build a model:\n",
    "#   -gives useful informaiton about the behaviour of a system\n",
    "#   -approximation to reality\n",
    "#   -simulation models are descriptive, not prescriptive\n"
   ]
  },
  {
   "cell_type": "code",
   "execution_count": null,
   "metadata": {},
   "outputs": [],
   "source": [
    "# Brownian motion is an example of a random walk\n",
    "# To build a random walk model we need: a drunk, a field, and a location"
   ]
  },
  {
   "cell_type": "code",
   "execution_count": 4,
   "metadata": {},
   "outputs": [],
   "source": [
    "import random\n",
    "\n",
    "class Location(object):\n",
    "    def __init__(self, x, y):\n",
    "        \"\"\"x and y are floats\"\"\"\n",
    "        self.x = x\n",
    "        self.y = y\n",
    "    def move(self, deltaX, deltaY):\n",
    "        \"\"\"deltaX and deltaY are floats\"\"\"\n",
    "        return Location(self.x + deltaX, self.y + deltaY)\n",
    "    def getX(self):\n",
    "        return self.x\n",
    "    def getY(self):\n",
    "        return self.y\n",
    "    def distFrom(self, other):\n",
    "        ox = other.x\n",
    "        oy = other.y\n",
    "        xDist = self.x - ox\n",
    "        yDist = self.y - oy\n",
    "        return (xDist**2 + yDist**2)**0.5\n",
    "    def __str__(self):\n",
    "        return '<' + str(self.x) + ', ' + str(self.y) + '>'"
   ]
  },
  {
   "cell_type": "code",
   "execution_count": 56,
   "metadata": {},
   "outputs": [],
   "source": [
    "# A field maps drunks to locations\n",
    "\n",
    "class Field(object):\n",
    "    def __init__(self):\n",
    "        self.drunks = {}    #creates a dictionary of drunks on feild\n",
    "    def addDrunk(self, drunk, loc):\n",
    "        if drunk in self.drunks:\n",
    "            raise ValueError('Duplicate drunk')\n",
    "        else:\n",
    "            self.drunks[drunk] = loc     #drunk is the key, location is the value\n",
    "    def moveDrunk(self, drunk):\n",
    "        if not drunk in self.drunks:\n",
    "            raise ValueError('Drunk not in field')\n",
    "        xDist, yDist = drunk.takeStep()\n",
    "        self.drunks[drunk] = self.drunks[drunk].move(xDist, yDist)\n",
    "    def getLoc(self, drunk):\n",
    "        if not drunk in self.drunks:\n",
    "            raise ValueError('Drunk not in field')\n",
    "        return self.drunks[drunk]"
   ]
  },
  {
   "cell_type": "code",
   "execution_count": 58,
   "metadata": {},
   "outputs": [],
   "source": [
    "class Drunk(object):\n",
    "    def __init__(self, name):\n",
    "        self.name = name\n",
    "    def takeStep(self):\n",
    "        stepChoices = [(0,1), (0,-1), (1, 0), (-1, 0)]\n",
    "        return random.choice(stepChoices)\n",
    "    def __str__(self):\n",
    "        return 'This drunk is named ' + self.name"
   ]
  },
  {
   "cell_type": "code",
   "execution_count": 62,
   "metadata": {},
   "outputs": [],
   "source": [
    "homer = Drunk('homer')\n",
    "origin = Location(0,0)\n",
    "f = Field()\n",
    "f.addDrunk(homer, origin)"
   ]
  },
  {
   "cell_type": "code",
   "execution_count": 64,
   "metadata": {},
   "outputs": [
    {
     "data": {
      "text/plain": [
       "3.1622776601683795"
      ]
     },
     "execution_count": 64,
     "metadata": {},
     "output_type": "execute_result"
    }
   ],
   "source": [
    "def walk(f, d, numSteps):\n",
    "    start = f.getLoc(d)\n",
    "    for s in range(numSteps):\n",
    "        f.moveDrunk(d)\n",
    "    return(start.distFrom(f.getLoc(d)))\n",
    "\n",
    "walk(f, homer, 10)\n",
    "# the return is random"
   ]
  },
  {
   "cell_type": "code",
   "execution_count": 79,
   "metadata": {},
   "outputs": [],
   "source": [
    "# Now we wants to record random walks (using simWalks) \n",
    "# and statistics for those walks (drunkTest)\n",
    "\n",
    "def simWalks(numSteps, numTrials):\n",
    "    homer = Drunk('Homer')\n",
    "    origin = Location(0, 0)\n",
    "    distances = []\n",
    "    for t in range(numTrials):\n",
    "        f = Field()\n",
    "        f.addDrunk(homer, origin)\n",
    "        distances.append(walk(f, homer, numSteps))\n",
    "    return distances\n",
    "\n",
    "def drunkTest(numTrials): \n",
    "    for numSteps in [0,1, 10, 100, 1000, 10000, 100000]:\n",
    "        distances = simWalks(numSteps, numTrials)\n",
    "        print('Random walk of ' + str(numSteps) + ' steps')\n",
    "        print('  Mean =', sum(distances)/len(distances))\n",
    "        print('  Max =', max(distances), 'Min =', min(distances))"
   ]
  },
  {
   "cell_type": "code",
   "execution_count": 81,
   "metadata": {},
   "outputs": [
    {
     "name": "stdout",
     "output_type": "stream",
     "text": [
      "Random walk of 0 steps\n",
      "  Mean = 0.0\n",
      "  Max = 0.0 Min = 0.0\n",
      "Random walk of 1 steps\n",
      "  Mean = 1.0\n",
      "  Max = 1.0 Min = 1.0\n",
      "Random walk of 10 steps\n",
      "  Mean = 2.69150867119681\n",
      "  Max = 7.0710678118654755 Min = 0.0\n",
      "Random walk of 100 steps\n",
      "  Mean = 8.864257095636303\n",
      "  Max = 20.0 Min = 0.0\n",
      "Random walk of 1000 steps\n",
      "  Mean = 25.053853552842174\n",
      "  Max = 76.69419795525604 Min = 1.4142135623730951\n",
      "Random walk of 10000 steps\n",
      "  Mean = 91.06767663427105\n",
      "  Max = 280.0285699709942 Min = 10.0\n",
      "Random walk of 100000 steps\n",
      "  Mean = 265.19013375001873\n",
      "  Max = 755.7909763949289 Min = 8.94427190999916\n"
     ]
    }
   ],
   "source": [
    "drunkTest(200)"
   ]
  },
  {
   "cell_type": "code",
   "execution_count": null,
   "metadata": {},
   "outputs": [],
   "source": [
    "#    *** Lecture #13: Some basic Probability and Plotting data ***"
   ]
  },
  {
   "cell_type": "code",
   "execution_count": 15,
   "metadata": {},
   "outputs": [
    {
     "data": {
      "text/plain": [
       "3"
      ]
     },
     "execution_count": 15,
     "metadata": {},
     "output_type": "execute_result"
    }
   ],
   "source": [
    "# Copenhagen doctrene; quantum physics; the behaviour of the physical world cannot be predicted\n",
    "# Heart of the debate between Einstein/Schrodinger (predictive non-determinism, \"God does not play dice\" \n",
    "#         and Bohr/Hiesenberg (for Causal non-determinism). This is still unsettled in science. \n",
    "#         Assume the world is non-deterministic, can't predict it.\n",
    "# Stochastic processes: if it's next state depends both on previous states and some random element\n",
    "\n",
    "\n",
    "def rollDie():\n",
    "    \"\"\"returns a random int between 1 and 6\"\"\"\n",
    "    return random.choice([1,2,3,4,5,6])\n",
    "\n",
    "rollDie()"
   ]
  },
  {
   "cell_type": "code",
   "execution_count": 48,
   "metadata": {},
   "outputs": [
    {
     "name": "stdout",
     "output_type": "stream",
     "text": [
      "2431515122\n"
     ]
    }
   ],
   "source": [
    "# If flip a coin 10 times (binary), you have 2^10 outcomes.\n",
    "# if roll a die 10 times, get 6^10 outcomes\n",
    "\n",
    "def testRoll(n):\n",
    "    result = ''\n",
    "    for i in range(n):\n",
    "        result = result + str(rollDie())\n",
    "    print(result)\n",
    "\n",
    "testRoll(10)"
   ]
  },
  {
   "cell_type": "code",
   "execution_count": null,
   "metadata": {},
   "outputs": [],
   "source": [
    "import pylab"
   ]
  },
  {
   "cell_type": "code",
   "execution_count": 28,
   "metadata": {},
   "outputs": [
    {
     "data": {
      "image/png": "[encoded data removed]",
      "text/plain": [
       "<Figure size 432x288 with 1 Axes>"
      ]
     },
     "metadata": {
      "needs_background": "light"
     },
     "output_type": "display_data"
    }
   ],
   "source": [
    "pylab.plot([1,2,3,4], [1,2,3,4])\n",
    "pylab.plot([1,4,2,3], [5,6,7,8])\n",
    "pylab.show()  #pylab.show() should only be excecuted once per program and should always be the last \n",
    "              #        thing you do because it may hang"
   ]
  },
  {
   "cell_type": "code",
   "execution_count": 43,
   "metadata": {},
   "outputs": [
    {
     "data": {
      "image/png": "[encoded data removed]",
      "text/plain": [
       "<Figure size 432x288 with 1 Axes>"
      ]
     },
     "metadata": {
      "needs_background": "light"
     },
     "output_type": "display_data"
    },
    {
     "data": {
      "image/png": "[encoded data removed]",
      "text/plain": [
       "<Figure size 432x288 with 1 Axes>"
      ]
     },
     "metadata": {
      "needs_background": "light"
     },
     "output_type": "display_data"
    }
   ],
   "source": [
    "pylab.figure(1)\n",
    "pylab.plot([1,2,3,4], [1,2,3,4])\n",
    "pylab.savefig('secondSaved') #saves figure 1\n",
    "pylab.figure(2)\n",
    "pylab.plot([1,4,2,3], [5,6,7,8])\n",
    "pylab.savefig('firstSaved') #saves figure 2\n",
    "pylab.figure(1)\n",
    "pylab.plot([5,6,7,10])    #if you give only one arguments, it assumes it's the y-values, and adds (0,1,2,3.. ) for x=axis\n",
    "pylab.savefig('secondSaved')  #saves figure 1 again\n",
    "pylab.figure(2)\n",
    "pylab.savefig('Figure 2') #call figure, then either add data or save\n",
    "pylab.figure(1)\n",
    "pylab.savefig('Figure 1') \n",
    "pylab.show()"
   ]
  },
  {
   "cell_type": "code",
   "execution_count": 45,
   "metadata": {},
   "outputs": [
    {
     "data": {
      "image/png": "[encoded data removed]",
      "text/plain": [
       "<Figure size 432x288 with 1 Axes>"
      ]
     },
     "metadata": {
      "needs_background": "light"
     },
     "output_type": "display_data"
    }
   ],
   "source": [
    "principal = 10000 #initial investment\n",
    "interestRate = 0.05\n",
    "years = 20\n",
    "values = []\n",
    "for i in range(years + 1):\n",
    "    values.append(principal)\n",
    "    principal += principal*interestRate\n",
    "pylab.plot(values)\n",
    "pylab.title('5% Growth, Compounded Annually')\n",
    "pylab.xlabel('Years of Compounding')\n",
    "pylab.ylabel('Value of Principal ($)')\n",
    "pylab.show()\n"
   ]
  },
  {
   "cell_type": "code",
   "execution_count": 49,
   "metadata": {},
   "outputs": [],
   "source": [
    "#    ***Lecture #14: Sampling and Monte Carlo Simulations***   "
   ]
  },
  {
   "cell_type": "code",
   "execution_count": 53,
   "metadata": {},
   "outputs": [],
   "source": [
    "# from before:\n",
    "\n",
    "def rollDie():\n",
    "    \"\"\"returns a random int between 1 and 6\"\"\"\n",
    "    return random.choice([1,2,3,4,5,6])\n",
    "\n",
    "def testRoll(n):\n",
    "    result = ''\n",
    "    for i in range(n):\n",
    "        result = result + str(rollDie())\n",
    "    print(result)"
   ]
  },
  {
   "cell_type": "code",
   "execution_count": 52,
   "metadata": {},
   "outputs": [
    {
     "name": "stdout",
     "output_type": "stream",
     "text": [
      "Probability of losing = 0.5078\n"
     ]
    }
   ],
   "source": [
    "def checkPascal(numTrials = 100000):\n",
    "    yes = 0.0\n",
    "    for i in range(numTrials):\n",
    "        for j in range(24):\n",
    "            d1 = rollDie()\n",
    "            d2 = rollDie()\n",
    "            if d1 == 6 and d2 == 6:\n",
    "                yes += 1\n",
    "                break\n",
    "    print ('Probability of losing = ' + str(1.0 - yes/numTrials))\n",
    "\n",
    "checkPascal()"
   ]
  },
  {
   "cell_type": "code",
   "execution_count": 54,
   "metadata": {},
   "outputs": [
    {
     "data": {
      "text/plain": [
       "0.5085961238690966"
      ]
     },
     "execution_count": 54,
     "metadata": {},
     "output_type": "execute_result"
    }
   ],
   "source": [
    "(35/36)**24"
   ]
  },
  {
   "cell_type": "code",
   "execution_count": null,
   "metadata": {},
   "outputs": [],
   "source": [
    "# Monte Carlo Simulation (1946); example of inferential statistics: a random sample tends to exhibit the same properties\n",
    "#      as the population from which it is drawn\n"
   ]
  },
  {
   "cell_type": "code",
   "execution_count": null,
   "metadata": {},
   "outputs": [],
   "source": [
    "def testRoll(numTrials):\n",
    "    results = [0]*13\n",
    "    for t in range(numTrials):\n",
    "        roll = rollDie() + rollDie()\n",
    "        results[roll] += 1\n",
    "    probs = pylab.array(results)/float(numTrials)\n",
    "    pylab.plot(range(2,13), probs[2:13], 'ro')\n",
    "    pylab.title('Results of Rolling a Pair of Dice')\n",
    "    pylab.xlabel('Sum of Pair')\n",
    "    pylab.ylabel('Probability')\n",
    "    limits = pylab.axis()\n",
    "    limits = (1, 13, 0, limits[3])\n",
    "    pylab.axis(limits)"
   ]
  },
  {
   "cell_type": "code",
   "execution_count": 26,
   "metadata": {},
   "outputs": [
    {
     "name": "stdout",
     "output_type": "stream",
     "text": [
      "0.8\n",
      "0.6\n",
      "0.49\n",
      "0.50237\n"
     ]
    }
   ],
   "source": [
    "##testRoll(100000)\n",
    "##pylab.show()\n",
    "import random \n",
    "def flip(numFlips):\n",
    "    heads = 0\n",
    "    for i in range(numFlips):\n",
    "        if random.random() < 0.5:\n",
    "            heads += 1\n",
    "    return heads/float(numFlips)\n",
    "\n",
    "print(flip(5))\n",
    "print(flip(10))\n",
    "print(flip(100))\n",
    "print(flip(100000))\n",
    "\n",
    "# The Law of Large Numbers (aka Bernoulli Law):\n",
    "#    In reapeted independent tests, with the same actual probability, p, of an outcome for each test,\n",
    "#    the chance of that the fraction of times that outcomes occur converges to p as # of trial goes to infinity\n"
   ]
  },
  {
   "cell_type": "code",
   "execution_count": null,
   "metadata": {},
   "outputs": [],
   "source": [
    "def flipSim(numFlipsPerTrial, numTrials):\n",
    "   fracHeads = []\n",
    "   for i in range(numTrials):\n",
    "       fracHeads.append(flip(numFlipsPerTrial))\n",
    "   mean = sum(fracHeads)/float(len(fracHeads))\n",
    "   return (mean)"
   ]
  },
  {
   "cell_type": "code",
   "execution_count": 5,
   "metadata": {},
   "outputs": [],
   "source": [
    "import pylab"
   ]
  },
  {
   "cell_type": "code",
   "execution_count": 33,
   "metadata": {},
   "outputs": [],
   "source": [
    "%matplotlib qt # to get plots to pop up in a separate window"
   ]
  },
  {
   "cell_type": "code",
   "execution_count": 36,
   "metadata": {},
   "outputs": [],
   "source": [
    "%matplotlib inline    # to return to not having plots pop up in a separate window"
   ]
  },
  {
   "cell_type": "code",
   "execution_count": 6,
   "metadata": {},
   "outputs": [
    {
     "data": {
      "image/png": "[encoded data removed]",
      "text/plain": [
       "<Figure size 432x288 with 1 Axes>"
      ]
     },
     "metadata": {
      "needs_background": "light"
     },
     "output_type": "display_data"
    },
    {
     "data": {
      "image/png": "[encoded data removed]",
      "text/plain": [
       "<Figure size 432x288 with 1 Axes>"
      ]
     },
     "metadata": {
      "needs_background": "light"
     },
     "output_type": "display_data"
    },
    {
     "data": {
      "image/png": "[encoded data removed]",
      "text/plain": [
       "<Figure size 432x288 with 1 Axes>"
      ]
     },
     "metadata": {
      "needs_background": "light"
     },
     "output_type": "display_data"
    },
    {
     "data": {
      "image/png": "[encoded data removed]",
      "text/plain": [
       "<Figure size 432x288 with 1 Axes>"
      ]
     },
     "metadata": {
      "needs_background": "light"
     },
     "output_type": "display_data"
    }
   ],
   "source": [
    "import random\n",
    "\n",
    "def flipPlot(minExp, maxExp):   #exp is the number of flips\n",
    "    ratios = []\n",
    "    diffs = []\n",
    "    xAxis = []\n",
    "    for exp in range(minExp, maxExp + 1):\n",
    "        xAxis.append(2**exp)\n",
    "    for numFlips in xAxis:\n",
    "        numHeads = 0\n",
    "        for n in range(numFlips):\n",
    "            if random.random() < 0.5:\n",
    "                numHeads += 1\n",
    "        numTails = numFlips - numHeads\n",
    "        ratios.append(numHeads/float(numTails))\n",
    "        diffs.append(abs(numHeads - numTails))\n",
    "    pylab.title('Difference Between Heads and Tails')\n",
    "    pylab.xlabel('Number of Flips')\n",
    "    pylab.ylabel('Abs(#Heads - #Tails')\n",
    "    pylab.plot(xAxis, diffs, 'x-')\n",
    "    pylab.figure()\n",
    "    pylab.plot(xAxis, ratios)\n",
    "    pylab.title('Heads/Tails Ratios')\n",
    "    pylab.xlabel('Number of Flips')\n",
    "    pylab.ylabel('Heads/Tails')\n",
    "    pylab.figure()\n",
    "    pylab.title('Difference Between Heads and Tails')\n",
    "    pylab.xlabel('Number of Flips')\n",
    "    pylab.ylabel('Abs(#Heads - #Tails')\n",
    "    pylab.plot(xAxis, diffs, 'bo')\n",
    "    pylab.semilogx()\n",
    "    pylab.semilogy()\n",
    "    pylab.figure()\n",
    "    pylab.plot(xAxis, ratios, 'bo') #or '.' for smaller dots\n",
    "    pylab.title('Heads/Tails Ratios')\n",
    "    pylab.xlabel('Number of Flips')\n",
    "    pylab.ylabel('Heads/Tails')\n",
    "    pylab.semilogx()\n",
    "\n",
    "flipPlot(4, 20)\n",
    "pylab.show()"
   ]
  },
  {
   "cell_type": "code",
   "execution_count": null,
   "metadata": {},
   "outputs": [],
   "source": [
    "def stdDev(X):\n",
    "    mean = sum(X)/float(len(X))\n",
    "    tot = 0.0\n",
    "    for x in X:\n",
    "        tot += (x - mean)**2\n",
    "    return math.sqrt(tot/len(X))\n"
   ]
  },
  {
   "cell_type": "code",
   "execution_count": null,
   "metadata": {},
   "outputs": [],
   "source": [
    "#    *** Lecture #15: Statistical Thinking ***  "
   ]
  },
  {
   "cell_type": "code",
   "execution_count": null,
   "metadata": {},
   "outputs": [],
   "source": [
    "# How many samples do we need to believe the answer?\n",
    "# variance - measure if how much spread there is in the possible outcomes\n",
    "#    Better to run three trials flipping a coin 300 times each, then\n",
    "#    one trial of 1 million\n",
    "#  => standard deviation - measures the fraction of values that are close \n",
    "#     to the mean\n",
    "#       if all values are the same => standard deviation is zero\n",
    "#  => looking for standard deviation to be low RELATIVE to the mean"
   ]
  },
  {
   "cell_type": "code",
   "execution_count": 1,
   "metadata": {},
   "outputs": [],
   "source": [
    "import random, pylab\n",
    "\n",
    "def stdDev(X):\n",
    "    mean = sum(X)/float(len(X))\n",
    "    tot = 0.0\n",
    "    for x in X:\n",
    "        tot += (x - mean)**2\n",
    "    return (tot/len(X))**0.5"
   ]
  },
  {
   "cell_type": "code",
   "execution_count": 1,
   "metadata": {},
   "outputs": [],
   "source": [
    "def flipPlot(minExp, maxExp, numTrials):\n",
    "    meanRatios = []\n",
    "    meanDiffs = []\n",
    "    ratiosSDs =  []\n",
    "    diffsSDs =  []\n",
    "    xAxis = []\n",
    "    for exp in range(minExp, maxExp + 1):\n",
    "        xAxis.append(2**exp)\n",
    "    for numFlips in xAxis:\n",
    "        ratios = []\n",
    "        diffs = []\n",
    "        for t in range(numTrials):\n",
    "            numHeads = 0\n",
    "            for n in range(numFlips):\n",
    "                if random.random() < 0.5:\n",
    "                    numHeads += 1\n",
    "            numTails = numFlips - numHeads\n",
    "            ratios.append(numHeads/float(numTails))\n",
    "            diffs.append(abs(numHeads - numTails))\n",
    "        meanRatios.append(sum(ratios)/numTrials)\n",
    "        meanDiffs.append(sum(diffs)/numTrials)\n",
    "        ratiosSDs.append(stdDev(ratios))\n",
    "        diffsSDs.append(stdDev(diffs))\n",
    "    pylab.plot(xAxis, meanRatios, 'bo')\n",
    "    pylab.title('Mean Heads/Tails Ratios ('\n",
    "                + str(numTrials) + ' Trials)')\n",
    "    pylab.xlabel('Number of Flips')\n",
    "    pylab.ylabel('Mean Heads/Tails')\n",
    "    pylab.semilogx()\n",
    "    pylab.figure()\n",
    "    pylab.plot(xAxis, ratiosSDs, 'bo')\n",
    "    pylab.title('SD Heads/Tails Ratios ('\n",
    "                + str(numTrials) + ' Trials)')\n",
    "    pylab.xlabel('Number of Flips')\n",
    "    pylab.ylabel('Standard Deviation')\n",
    "    pylab.semilogx()\n",
    "    pylab.semilogy()\n",
    "    pylab.figure()\n",
    "    pylab.title('Mean abs(#Heads - #Tails) ('\n",
    "                + str(numTrials) + ' Trials)')\n",
    "    pylab.xlabel('Number of Flips')\n",
    "    pylab.ylabel('Mean abs(#Heads - #Tails')\n",
    "    pylab.plot(xAxis, meanDiffs, 'bo')\n",
    "    pylab.semilogx()\n",
    "    pylab.semilogy()\n",
    "    pylab.figure()\n",
    "    pylab.plot(xAxis, diffsSDs, 'bo')\n",
    "    pylab.title('SD abs(#Heads - #Tails) ('\n",
    "                + str(numTrials) + ' Trials)')\n",
    "    pylab.xlabel('Number of Flips')\n",
    "    pylab.ylabel('Standard Deviation')\n",
    "    pylab.semilogx()\n",
    "    pylab.semilogy()"
   ]
  },
  {
   "cell_type": "code",
   "execution_count": 4,
   "metadata": {},
   "outputs": [
    {
     "data": {
      "image/png": "[encoded data removed]",
      "text/plain": [
       "<Figure size 432x288 with 1 Axes>"
      ]
     },
     "metadata": {
      "needs_background": "light"
     },
     "output_type": "display_data"
    },
    {
     "data": {
      "image/png": "[encoded data removed]",
      "text/plain": [
       "<Figure size 432x288 with 1 Axes>"
      ]
     },
     "metadata": {
      "needs_background": "light"
     },
     "output_type": "display_data"
    },
    {
     "data": {
      "image/png": "[encoded data removed]",
      "text/plain": [
       "<Figure size 432x288 with 1 Axes>"
      ]
     },
     "metadata": {
      "needs_background": "light"
     },
     "output_type": "display_data"
    },
    {
     "data": {
      "image/png": "[encoded data removed]",
      "text/plain": [
       "<Figure size 432x288 with 1 Axes>"
      ]
     },
     "metadata": {
      "needs_background": "light"
     },
     "output_type": "display_data"
    }
   ],
   "source": [
    "flipPlot(4, 20, 20)\n",
    "pylab.show()"
   ]
  },
  {
   "cell_type": "code",
   "execution_count": 5,
   "metadata": {},
   "outputs": [],
   "source": [
    "#  Coefficient of variation = stdev / mean\n",
    "#       If < 1 => low variance\n",
    "#                 (but if the mean is close to zero, coefficient of \n",
    "#                doesn't have much meaning)\n",
    "#        => cannot be used for confidence intervals"
   ]
  },
  {
   "cell_type": "code",
   "execution_count": 7,
   "metadata": {},
   "outputs": [],
   "source": [
    "def flip(numFlips):\n",
    "    heads = 0.0\n",
    "    for i in range(numFlips):\n",
    "        if random.random() < 0.5:\n",
    "            heads += 1.0\n",
    "    return heads/numFlips\n",
    "\n",
    "def flipSim(numFlipsPerTrial, numTrials):\n",
    "    fracHeads = []\n",
    "    for i in range(numTrials):\n",
    "        fracHeads.append(flip(numFlipsPerTrial))\n",
    "    return fracHeads"
   ]
  },
  {
   "cell_type": "code",
   "execution_count": 3,
   "metadata": {
    "scrolled": true
   },
   "outputs": [
    {
     "data": {
      "image/png": "[encoded data removed]",
      "text/plain": [
       "<Figure size 432x288 with 1 Axes>"
      ]
     },
     "metadata": {
      "needs_background": "light"
     },
     "output_type": "display_data"
    }
   ],
   "source": [
    "L = [1,2,3,3,3,4]\n",
    "pylab.hist(L, bins = 6)\n",
    "pylab.show()"
   ]
  },
  {
   "cell_type": "code",
   "execution_count": 4,
   "metadata": {},
   "outputs": [],
   "source": [
    "def labelPlot(nf, nt, mean, sd):\n",
    "    pylab.title(str(nt) + ' trials of '\n",
    "                + str(nf) + ' flips each')\n",
    "    pylab.xlabel('Fraction of Heads')\n",
    "    pylab.ylabel('Number of Trials')\n",
    "    xmin, xmax = pylab.xlim()\n",
    "    ymin, ymax = pylab.ylim()\n",
    "    pylab.text(xmin + (xmax-xmin)*0.02, (ymax-ymin)/2,\n",
    "               'Mean = ' + str(round(mean, 6))\n",
    "               + '\\nSD = ' + str(round(sd, 6)))\n",
    "\n",
    "def makePlots(nf1, nf2, nt):\n",
    "    \"\"\"nt = number of trials per experiment\n",
    "       nf1 = number of flips 1st experiment\n",
    "       nf2 = number of flips 2nd experiment\"\"\"\n",
    "    fracHeads1 = flipSim(nf1, nt)\n",
    "    mean1 = sum(fracHeads1)/float(len(fracHeads1))\n",
    "    sd1 = stdDev(fracHeads1)\n",
    "    pylab.hist(fracHeads1, bins = 20)\n",
    "    xmin,xmax = pylab.xlim()  # saving xmin and ymax for use in future plots  \n",
    "    ymin,ymax = pylab.ylim()\n",
    "    labelPlot(nf1, nt, mean1, sd1)\n",
    "    pylab.figure()\n",
    "    fracHeads2 = flipSim(nf2, nt)\n",
    "    mean2 = sum(fracHeads2)/float(len(fracHeads2))\n",
    "    sd2 = stdDev(fracHeads2)\n",
    "    pylab.hist(fracHeads2, bins = 20)\n",
    "    pylab.hist(fracHeads2, bins = 20)\n",
    "    pylab.xlim(xmin, xmax)    # setting xmin and xmax to values from previous figure\n",
    "    ymin, ymax = pylab.ylim()\n",
    "    labelPlot(nf2, nt, mean2, sd2)"
   ]
  },
  {
   "cell_type": "code",
   "execution_count": 8,
   "metadata": {},
   "outputs": [
    {
     "data": {
      "image/png": "[encoded data removed]",
      "text/plain": [
       "<Figure size 432x288 with 1 Axes>"
      ]
     },
     "metadata": {
      "needs_background": "light"
     },
     "output_type": "display_data"
    },
    {
     "data": {
      "image/png": "[encoded data removed]",
      "text/plain": [
       "<Figure size 432x288 with 1 Axes>"
      ]
     },
     "metadata": {
      "needs_background": "light"
     },
     "output_type": "display_data"
    }
   ],
   "source": [
    "makePlots(100, 1000, 100000)"
   ]
  },
  {
   "cell_type": "code",
   "execution_count": null,
   "metadata": {},
   "outputs": [],
   "source": [
    "# Normal distribution properties: \n",
    "#        - always peaks at the mean and falls off symmetrically\n",
    "#        - the shape looks like a bell(aka bell curve)\n",
    "# Normal distributions are often used in constructing probabilistic models for two reasons:\n",
    "#    1) they have nice mathematical properties\n",
    "#          => can be completely characterized by two parameteres: mean and stdev\"\n",
    "#          => mean and stdev can be used to compute confidence intervals\n",
    "#   2) many naturally occuring instances\n",
    "#   Confidence interval - allows to estimates an unknown parameter \n",
    "#         by providing a range that is likely to contain an unknown value\n",
    "#         and a confidence that the unknown value lies within that ranger\n",
    "#         called the confidence level\n",
    "#   Empirical rule used for normal distributions: \n",
    "#        - 68% of the data are withint 1 stdev of the mean\n",
    "#        - 95% of the data are within 2 stdev of the mean\n",
    "#        - 99.7% ---------------------- 3 ----------------\n",
    "# Gaussian distribution is the same as Normal distribution (Gaus invented it)"
   ]
  },
  {
   "cell_type": "code",
   "execution_count": null,
   "metadata": {},
   "outputs": [],
   "source": [
    "# Can ESTIMATE the stdev (e.g. in polls in preelections)\n",
    "#    - do so using standard error: an estimate of stdev, can only do this under the assumption that \n",
    "#      the assumption that errors are randomly distributed, and that the sample\n",
    "#      population is small relative to the actual population\n"
   ]
  },
  {
   "cell_type": "code",
   "execution_count": 11,
   "metadata": {},
   "outputs": [
    {
     "name": "stdout",
     "output_type": "stream",
     "text": [
      "std = 1.5836782217357177%\n"
     ]
    },
    {
     "data": {
      "image/png": "[encoded data removed]",
      "text/plain": [
       "<Figure size 432x288 with 1 Axes>"
      ]
     },
     "metadata": {
      "needs_background": "light"
     },
     "output_type": "display_data"
    }
   ],
   "source": [
    "def poll(n, p):\n",
    "    votes = 0.0\n",
    "    for i in range(n):\n",
    "        if random.random() < p/100.0:\n",
    "            votes += 1\n",
    "    return votes\n",
    "\n",
    "def testErr(n = 1000, p = 46.0, numTrials = 1000):\n",
    "    results = []\n",
    "    for t in range(numTrials):\n",
    "        results.append(poll(n, p))\n",
    "    print('std = ' + str((stdDev(results)/n)*100) + '%')\n",
    "    results = pylab.array(results)/n\n",
    "    pylab.hist(results)\n",
    "    pylab.xlabel('Fraction of Votes')\n",
    "    pylab.ylabel('Number of Polls')\n",
    "\n",
    "testErr()\n",
    "pylab.show()\n",
    "# estimated standard error was 1.58% (pretty close to \n",
    "#                    STDEV when we ran the simulation)"
   ]
  },
  {
   "cell_type": "code",
   "execution_count": null,
   "metadata": {},
   "outputs": [],
   "source": [
    "#     *** Lecture# 16: Using Randomness to Solve Non-random Problems ***"
   ]
  },
  {
   "cell_type": "code",
   "execution_count": null,
   "metadata": {},
   "outputs": [],
   "source": [
    "#  Computational models that will help us understnd the real world\n",
    "# Uniform distributions : each result is equally probable\n",
    "#   - occur often in gaming, but not in nature (unlike normal)\n",
    "# Exponential distributions : eg plan highway system\n",
    "#    - have a properties of being memoryless\n"
   ]
  },
  {
   "cell_type": "code",
   "execution_count": 1,
   "metadata": {},
   "outputs": [],
   "source": [
    "import random, pylab"
   ]
  },
  {
   "cell_type": "code",
   "execution_count": 2,
   "metadata": {},
   "outputs": [],
   "source": [
    "def clear(n, clearProb, steps):\n",
    "    numRemaining = [n]\n",
    "    for t in range(steps):\n",
    "        numRemaining.append(n*((1-clearProb)**t))\n",
    "    pylab.plot(numRemaining, label = 'Exponential Decay')"
   ]
  },
  {
   "cell_type": "code",
   "execution_count": 14,
   "metadata": {},
   "outputs": [
    {
     "data": {
      "image/png": "[encoded data removed]",
      "text/plain": [
       "<Figure size 432x288 with 1 Axes>"
      ]
     },
     "metadata": {
      "needs_background": "light"
     },
     "output_type": "display_data"
    }
   ],
   "source": [
    "clear(1000, 0.01, 500)\n",
    "# pylab.semilogy() # will get a straight line if semilog\n",
    "pylab.show()"
   ]
  },
  {
   "cell_type": "code",
   "execution_count": 11,
   "metadata": {},
   "outputs": [],
   "source": [
    "# Monte Carlo Simulation of clearing molecules \n",
    "import random\n",
    "def clearSim(n, clearProb, steps):\n",
    "    numRemaining = [n]\n",
    "    for t in range(steps):\n",
    "        numLeft = numRemaining[-1]\n",
    "        for m in range(numRemaining[-1]):\n",
    "            if random.random() <= clearProb: \n",
    "                numLeft -= 1\n",
    "#         if t != 0 and t%100 == 0:\n",
    "#             numLeft += numLeft\n",
    "        numRemaining.append(numLeft)\n",
    "    pylab.plot(numRemaining, 'r', label = 'Simulation')"
   ]
  },
  {
   "cell_type": "code",
   "execution_count": 12,
   "metadata": {},
   "outputs": [
    {
     "data": {
      "image/png": "[encoded data removed]",
      "text/plain": [
       "<Figure size 432x288 with 1 Axes>"
      ]
     },
     "metadata": {
      "needs_background": "light"
     },
     "output_type": "display_data"
    }
   ],
   "source": [
    "clear(1000, 0.01, 500)    # Analytic model\n",
    "clearSim(1000, 0.01, 500)  # Simmulation model\n",
    "pylab.show()\n",
    "\n",
    "# Fidelity and Credibility vs. Utility (what questions are answerable)\n",
    "# the advantage of the simmulation model is that you can play what-if game with it. What is the molecules regenerated\n",
    "# every 1000 steps. See same simulated with uncommented section."
   ]
  },
  {
   "cell_type": "code",
   "execution_count": 14,
   "metadata": {},
   "outputs": [
    {
     "data": {
      "image/png": "[encoded data removed]",
      "text/plain": [
       "<Figure size 432x288 with 1 Axes>"
      ]
     },
     "metadata": {
      "needs_background": "light"
     },
     "output_type": "display_data"
    }
   ],
   "source": [
    "# Monte Carlo Simulation of clearing molecules \n",
    "import random\n",
    "def clearSim(n, clearProb, steps):\n",
    "    numRemaining = [n]\n",
    "    for t in range(steps):\n",
    "        numLeft = numRemaining[-1]\n",
    "        for m in range(numRemaining[-1]):\n",
    "            if random.random() <= clearProb: \n",
    "                numLeft -= 1\n",
    "        if t != 0 and t%100 == 0:\n",
    "            numLeft += numLeft\n",
    "        numRemaining.append(numLeft)\n",
    "    pylab.plot(numRemaining, 'r', label = 'Simulation')\n",
    "    \n",
    "clear(1000, 0.01, 500)    # Analytic model\n",
    "clearSim(1000, 0.01, 500)  # Simmulation model\n",
    "pylab.show()"
   ]
  },
  {
   "cell_type": "code",
   "execution_count": null,
   "metadata": {},
   "outputs": [],
   "source": [
    "# not so easy to describe this analytically"
   ]
  },
  {
   "cell_type": "code",
   "execution_count": null,
   "metadata": {},
   "outputs": [],
   "source": [
    "#  *** Monte Hall Problem ***\n",
    "# Monte's choice is NOT independent of choice of player. \n",
    "# Monte never chooses the door the player picked and DOES not contain the prize!!!\n",
    "# You DOUBLE the odds of winning if you SWITCH the DOOR choice."
   ]
  },
  {
   "cell_type": "code",
   "execution_count": 16,
   "metadata": {},
   "outputs": [],
   "source": [
    "def montyChoose(guessDoor, prizeDoor):\n",
    "    if 1 != guessDoor and 1 != prizeDoor:\n",
    "        return 1\n",
    "    if 2 != guessDoor and 2 != prizeDoor:\n",
    "        return 2\n",
    "    return 3\n",
    "\n",
    "def randomChoose(guessDoor, prizeDoor):\n",
    "    if guessDoor == 1:\n",
    "        return random.choice([2,3])\n",
    "    if guessDoor == 2:\n",
    "        return random.choice([1,3])\n",
    "    return random.choice([1,2])\n",
    "    \n",
    "def simMontyHall(numTrials = 100, chooseFcn = montyChoose):\n",
    "    stickWins = 0\n",
    "    switchWins = 0\n",
    "    noWin = 0\n",
    "    prizeDoorChoices = [1, 2, 3]\n",
    "    guessChoices = [1, 2, 3]\n",
    "    for t in range(numTrials):\n",
    "        prizeDoor = random.choice([1, 2, 3])\n",
    "        guess = random.choice([1, 2, 3])\n",
    "        toOpen = chooseFcn(guess, prizeDoor)\n",
    "        if toOpen == prizeDoor:\n",
    "            noWin += 1\n",
    "        elif guess == prizeDoor:\n",
    "            stickWins += 1\n",
    "        else:\n",
    "            switchWins += 1\n",
    "    return (stickWins, switchWins)\n",
    "\n",
    "def displayMHSim(simResults):\n",
    "    stickWins, switchWins = simResults\n",
    "    pylab.pie([stickWins, switchWins], colors = ['r', 'g'],\n",
    "              labels = ['stick', 'change'], autopct = '%.2f%%')\n",
    "    pylab.title('To Switch or Not to Switch')"
   ]
  },
  {
   "cell_type": "code",
   "execution_count": 17,
   "metadata": {},
   "outputs": [
    {
     "data": {
      "image/png": "[encoded data removed]",
      "text/plain": [
       "<Figure size 432x288 with 1 Axes>"
      ]
     },
     "metadata": {},
     "output_type": "display_data"
    },
    {
     "data": {
      "image/png": "[encoded data removed]",
      "text/plain": [
       "<Figure size 432x288 with 1 Axes>"
      ]
     },
     "metadata": {},
     "output_type": "display_data"
    }
   ],
   "source": [
    "simResults = simMontyHall(100000, montyChoose)\n",
    "displayMHSim(simResults)\n",
    "pylab.figure()\n",
    "simResults = simMontyHall(100000, randomChoose)\n",
    "displayMHSim(simResults)\n",
    "pylab.show()"
   ]
  },
  {
   "cell_type": "code",
   "execution_count": 22,
   "metadata": {},
   "outputs": [],
   "source": [
    "# Dropping Needles to estimate Pi\n",
    "\n",
    "def stdDev(X):\n",
    "    mean = sum(X)/float(len(X))\n",
    "    tot = 0.0\n",
    "    for x in X:\n",
    "        tot += (x - mean)**2\n",
    "    return (tot/len(X))**0.5\n",
    "\n",
    "def throwNeedles(numNeedles):\n",
    "    inCircle = 0\n",
    "    estimates = []\n",
    "    for Needles in range(1, numNeedles + 1, 1):\n",
    "        x = random.random()\n",
    "        y = random.random()\n",
    "        if (x*x + y*y)**0.5 <= 1.0:\n",
    "            inCircle += 1\n",
    "    return 4*(inCircle/float(Needles))\n",
    "\n",
    "def estPi(precision = 0.01, numTrials = 20):\n",
    "    numNeedles = 1000\n",
    "    numTrials = 20\n",
    "    sDev = precision\n",
    "    while sDev >= (precision/4.0):\n",
    "        estimates = []\n",
    "        for t in range(numTrials):\n",
    "            piGuess = throwNeedles(numNeedles)\n",
    "            estimates.append(piGuess)\n",
    "        sDev = stdDev(estimates)\n",
    "        curEst = sum(estimates)/len(estimates) \n",
    "        curEst = sum(estimates)/len(estimates)\n",
    "        print ('Est. = ' + str(curEst) +\\\n",
    "              ', Std. dev. = ' + str(sDev)\\\n",
    "              + ', Needles = ' + str(numNeedles))\n",
    "        numNeedles *= 2\n",
    "    return curEst"
   ]
  },
  {
   "cell_type": "code",
   "execution_count": 23,
   "metadata": {},
   "outputs": [
    {
     "name": "stdout",
     "output_type": "stream",
     "text": [
      "Est. = 3.1377999999999995, Std. dev. = 0.04809116342947012, Needles = 1000\n",
      "Est. = 3.1419, Std. dev. = 0.03491403729161095, Needles = 2000\n",
      "Est. = 3.1437, Std. dev. = 0.02320797276799502, Needles = 4000\n",
      "Est. = 3.1423750000000004, Std. dev. = 0.01793103106349438, Needles = 8000\n",
      "Est. = 3.1394749999999996, Std. dev. = 0.007756005737491405, Needles = 16000\n",
      "Est. = 3.141962500000001, Std. dev. = 0.008269871900458895, Needles = 32000\n",
      "Est. = 3.1434906250000005, Std. dev. = 0.004460034113869005, Needles = 64000\n",
      "Est. = 3.1417203124999995, Std. dev. = 0.004704308146446035, Needles = 128000\n",
      "Est. = 3.1430085937500003, Std. dev. = 0.0037773594234421894, Needles = 256000\n",
      "Est. = 3.142648046875, Std. dev. = 0.0025421057183277035, Needles = 512000\n",
      "Est. = 3.1420667968750005, Std. dev. = 0.001315436806889578, Needles = 1024000\n"
     ]
    },
    {
     "data": {
      "text/plain": [
       "3.1420667968750005"
      ]
     },
     "execution_count": 23,
     "metadata": {},
     "output_type": "execute_result"
    }
   ],
   "source": [
    "estPi()"
   ]
  },
  {
   "cell_type": "code",
   "execution_count": 44,
   "metadata": {},
   "outputs": [
    {
     "data": {
      "text/plain": [
       "0.6003733160749611"
      ]
     },
     "execution_count": 44,
     "metadata": {},
     "output_type": "execute_result"
    }
   ],
   "source": [
    "random.random()"
   ]
  },
  {
   "cell_type": "code",
   "execution_count": 26,
   "metadata": {},
   "outputs": [],
   "source": [
    "# Integration\n",
    "\n",
    "def integrate(a, b, f, numPins):\n",
    "    pinSum = 0.0\n",
    "    for pin in range(numPins):\n",
    "        pinSum += f(random.uniform(a, b))\n",
    "    average = pinSum/numPins\n",
    "    return average*(b - a)\n",
    "\n",
    "def one(x):\n",
    "    return 1.0"
   ]
  },
  {
   "cell_type": "code",
   "execution_count": 28,
   "metadata": {},
   "outputs": [
    {
     "name": "stdout",
     "output_type": "stream",
     "text": [
      "8.0\n",
      "1.1461161812342677\n"
     ]
    }
   ],
   "source": [
    "print(integrate(0, 8, one, 100000))\n",
    "\n",
    "import math\n",
    "print (integrate(0, 8, math.sin, 1000000))"
   ]
  },
  {
   "cell_type": "code",
   "execution_count": 29,
   "metadata": {},
   "outputs": [
    {
     "name": "stdout",
     "output_type": "stream",
     "text": [
      "4.615493991954268\n"
     ]
    }
   ],
   "source": [
    "def doubleIntegrate(a, b, c, d, f, numPins):\n",
    "    pinSum = 0.0\n",
    "    for pin in range(numPins):\n",
    "        x = random.uniform(a, b)\n",
    "        y = random.uniform(c, d)\n",
    "        pinSum += f(x, y)\n",
    "    average = pinSum/numPins\n",
    "    return average*(b - a)*(d - c)\n",
    "\n",
    "def f(x, y):\n",
    "    return 4 - x**2 - y**2\n",
    "\n",
    "print (doubleIntegrate(0, 1.25, 0, 1.25, f, 100000))\n"
   ]
  },
  {
   "cell_type": "code",
   "execution_count": null,
   "metadata": {},
   "outputs": [],
   "source": [
    "#   *** Lecture #17: Curve fitting ***"
   ]
  },
  {
   "cell_type": "code",
   "execution_count": 6,
   "metadata": {},
   "outputs": [],
   "source": [
    "import pylab, random\n",
    "\n",
    "# Hooks Law Experiment Data \n",
    "\n",
    "def getData(fileName):\n",
    "    dataFile = open(fileName, 'r')\n",
    "    distances = []\n",
    "    masses = []\n",
    "    discardHeader = dataFile.readline()\n",
    "    for line in dataFile:\n",
    "        d, m = line.split()\n",
    "        distances.append(float(d))\n",
    "        masses.append(float(m))\n",
    "    dataFile.close()\n",
    "    return (masses, distances)\n",
    "\n",
    "def plotData(fileName):\n",
    "    xVals, yVals = getData(fileName)\n",
    "    xVals = pylab.array(xVals)\n",
    "    yVals = pylab.array(yVals)\n",
    "    xVals = xVals*9.81  #acc. due to gravity\n",
    "    pylab.plot(xVals, yVals, 'bo', label = 'Measured displacements')\n",
    "    pylab.title('Measured Displacement of Spring')\n",
    "    pylab.xlabel('|Force| (Newtons)')\n",
    "    pylab.ylabel('Distance (meters)')"
   ]
  },
  {
   "cell_type": "code",
   "execution_count": 5,
   "metadata": {},
   "outputs": [
    {
     "data": {
      "image/png": "[encoded data removed]",
      "text/plain": [
       "<Figure size 432x288 with 1 Axes>"
      ]
     },
     "metadata": {
      "needs_background": "light"
     },
     "output_type": "display_data"
    }
   ],
   "source": [
    "plotData('springData.txt')\n",
    "pylab.show()"
   ]
  },
  {
   "cell_type": "code",
   "execution_count": null,
   "metadata": {},
   "outputs": [],
   "source": [
    "\n",
    "\n",
    "\n",
    "\n",
    "\n",
    "\n",
    "def fitData(fileName):\n",
    "    xVals, yVals = getData(fileName)\n",
    "    xVals = pylab.array(xVals)\n",
    "    yVals = pylab.array(yVals)\n",
    "    xVals = xVals*9.81\n",
    "    pylab.plot(xVals, yVals, 'bo', label = 'Measured displacements')\n",
    "    pylab.title('Measured Displacement of Spring')\n",
    "    pylab.xlabel('|Force| (Newtons)')\n",
    "    pylab.ylabel('Distance (meters)')\n",
    "    a,b = pylab.polyfit(xVals, yVals, 1)\n",
    "    estYVals = a*pylab.array(xVals) + b\n",
    "    k = 1/a\n",
    "    pylab.plot(xVals, estYVals, label = 'Linear fit, k = '\n",
    "               + str(round(k, 5)))\n",
    "    pylab.legend(loc = 'best')\n",
    "\n",
    "##fitData('springData.txt')\n",
    "##pylab.show()\n",
    "\n",
    "def fitData1(fileName):\n",
    "    xVals, yVals = getData(fileName)\n",
    "    xVals = pylab.array(xVals)\n",
    "    yVals = pylab.array(yVals)\n",
    "    xVals = xVals*9.81\n",
    "    pylab.plot(xVals, yVals, 'bo', label = 'Measured displacements')\n",
    "    pylab.title('Measured Displacement of Spring')\n",
    "    pylab.xlabel('|Force| (Newtons)')\n",
    "    pylab.ylabel('Distance (meters)')\n",
    "    a,b = pylab.polyfit(xVals, yVals, 1)\n",
    "    estYVals = a*pylab.array(xVals) + b\n",
    "    #pylab.plot(xVals, estYVals, label = 'Linear fit')\n",
    "    a,b,c,d = pylab.polyfit(xVals, yVals, 3)\n",
    "    estYVals = a*(xVals**3) + b*xVals**2 + c*xVals + d\n",
    "    pylab.plot(xVals, estYVals, label = 'Cubic fit')\n",
    "    pylab.legend(loc = 'best')\n",
    "\n",
    "fitData1('springData.txt')\n",
    "pylab.show()\n",
    "\n",
    "def fitData2(fileName):\n",
    "    xVals, yVals = getData(fileName)\n",
    "    extX = pylab.array(xVals + [1.5])\n",
    "    xVals = pylab.array(xVals)\n",
    "    yVals = pylab.array(yVals)\n",
    "    xVals = xVals*9.81\n",
    "    extX = extX*9.81\n",
    "    pylab.plot(xVals, yVals, 'bo', label = 'Measured displacements')\n",
    "    pylab.title('Measured Displacement of Spring')\n",
    "    pylab.xlabel('|Force| (Newtons)')\n",
    "    pylab.ylabel('Distance (meters)')\n",
    "    a,b = pylab.polyfit(xVals, yVals, 1)\n",
    "    extY = a*pylab.array(extX) + b\n",
    "    pylab.plot(extX, extY, label = 'Linear fit')\n",
    "    a,b,c,d = pylab.polyfit(xVals, yVals, 3)\n",
    "    extY = a*(extX**3) + b*extX**2 + c*extX + d\n",
    "    pylab.plot(extX, extY, label = 'Cubic fit')\n",
    "    pylab.legend(loc = 'best')\n",
    "\n",
    "##fitData2('springData.txt')\n",
    "##pylab.show()\n",
    "\n",
    "def getTrajectoryData(fileName):\n",
    "    dataFile = open(fileName, 'r')\n",
    "    distances = []\n",
    "    heights1, heights2, heights3, heights4 = [],[],[],[]\n",
    "    discardHeader = dataFile.readline()\n",
    "    for line in dataFile:\n",
    "        d, h1, h2, h3, h4 = line.split()\n",
    "        distances.append(float(d))\n",
    "        heights1.append(float(h1))\n",
    "        heights2.append(float(h2))\n",
    "        heights3.append(float(h3))\n",
    "        heights4.append(float(h4))\n",
    "    dataFile.close()\n",
    "    return (distances, [heights1, heights2, heights3, heights4])\n",
    "\n",
    "def tryFits(fName):\n",
    "    distances, heights = getTrajectoryData(fName)\n",
    "    distances = pylab.array(distances)*36\n",
    "    totHeights = pylab.array([0]*len(distances))\n",
    "    for h in heights:\n",
    "        totHeights = totHeights + pylab.array(h)\n",
    "    pylab.title('Trajectory of Projectile (Mean of 4 Trials)')\n",
    "    pylab.xlabel('Inches from Launch Point')\n",
    "    pylab.ylabel('Inches Above Launch Point')\n",
    "    meanHeights = totHeights/float(len(heights))\n",
    "    pylab.plot(distances, meanHeights, 'bo')\n",
    "    a,b = pylab.polyfit(distances, meanHeights, 1)\n",
    "    altitudes = a*distances + b\n",
    "    pylab.plot(distances, altitudes, 'r',\n",
    "               label = 'Linear Fit')\n",
    "    a,b,c = pylab.polyfit(distances, meanHeights, 2)\n",
    "    altitudes = a*(distances**2) + b*distances + c\n",
    "    pylab.plot(distances, altitudes, 'g',\n",
    "               label = 'Quadratic Fit')\n",
    "    pylab.legend()\n",
    "\n",
    "##tryFits('launcherData.txt')\n",
    "##pylab.show()\n",
    "\n",
    "def rSquare(measured, estimated):\n",
    "    \"\"\"measured: one dimensional array of measured values\n",
    "       estimate: one dimensional array of predicted values\"\"\"\n",
    "    EE = ((estimated - measured)**2).sum()\n",
    "    mMean = measured.sum()/float(len(measured))\n",
    "    MV = ((mMean - measured)**2).sum()\n",
    "    return 1 - EE/MV\n",
    "\n",
    "def tryFits1(fName):\n",
    "    distances, heights = getTrajectoryData(fName)\n",
    "    distances = pylab.array(distances)*36\n",
    "    totHeights = pylab.array([0]*len(distances))\n",
    "    for h in heights:\n",
    "        totHeights = totHeights + pylab.array(h)\n",
    "    pylab.title('Trajectory of Projectile (Mean of 4 Trials)')\n",
    "    pylab.xlabel('Inches from Launch Point')\n",
    "    pylab.ylabel('Inches Above Launch Point')\n",
    "    meanHeights = totHeights/float(len(heights))\n",
    "    pylab.plot(distances, meanHeights, 'bo')\n",
    "    a,b = pylab.polyfit(distances, meanHeights, 1)\n",
    "    altitudes = a*distances + b\n",
    "    pylab.plot(distances, altitudes, 'r',\n",
    "               label = 'Linear Fit' + ', R2 = '\n",
    "               + str(round(rSquare(meanHeights, altitudes), 4)))\n",
    "    a,b,c = pylab.polyfit(distances, meanHeights, 2)\n",
    "    altitudes = a*(distances**2) + b*distances + c\n",
    "    pylab.plot(distances, altitudes, 'g',\n",
    "               label = 'Quadratic Fit' + ', R2 = '\n",
    "               + str(round(rSquare(meanHeights, altitudes), 4)))\n",
    "    pylab.legend()\n",
    "\n",
    "##tryFits1('launcherData.txt')\n",
    "##pylab.show()\n",
    "\n",
    "def getXSpeed(a, b, c, minX, maxX):\n",
    "    \"\"\"minX and maxX are distances in inches\"\"\"\n",
    "    xMid = (maxX - minX)/2.0\n",
    "    yPeak = a*xMid**2 + b*xMid + c\n",
    "    g = 32.16*12 #accel. of gravity in inches/sec/sec\n",
    "    t = (2.0*yPeak/g)**0.5\n",
    "    return xMid/(t*12.0)\n",
    "    #print 'speed = ' + str(int(xMid/(t*12))) + ' feet/sec'\n",
    "\n",
    "def processTrajectories(fName):\n",
    "    distances, heights = getTrajectoryData(fName)\n",
    "    distances = pylab.array(distances)*36\n",
    "    totHeights = pylab.array([0]*len(distances))\n",
    "    for h in heights:\n",
    "        totHeights = totHeights + pylab.array(h)\n",
    "    pylab.title('Trajectory of Projectile (Mean of 4 Trials)')\n",
    "    pylab.xlabel('Inches from Launch Point')\n",
    "    pylab.ylabel('Inches Above Launch Point')\n",
    "    meanHeights = totHeights/len(heights)\n",
    "    pylab.plot(distances, meanHeights, 'bo')\n",
    "    a,b,c = pylab.polyfit(distances, meanHeights, 2)\n",
    "    altitudes = a*(distances**2) +  b*distances + c\n",
    "    speed = getXSpeed(a, b, c, distances[-1], distances[0])\n",
    "    pylab.plot(distances, altitudes, 'g',\n",
    "               label = 'Quad. Fit' + ', R2 = '\n",
    "               + str(round(rSquare(meanHeights, altitudes), 2))\n",
    "               + ', Speed = ' + str(round(speed, 2)) + 'feet/sec')\n",
    "    pylab.legend()\n",
    "\n",
    "##processTrajectories('launcherData.txt')\n",
    "##pylab.show()\n",
    "\n"
   ]
  }
 ],
 "metadata": {
  "kernelspec": {
   "display_name": "Python 3",
   "language": "python",
   "name": "python3"
  },
  "language_info": {
   "codemirror_mode": {
    "name": "ipython",
    "version": 3
   },
   "file_extension": ".py",
   "mimetype": "text/x-python",
   "name": "python",
   "nbconvert_exporter": "python",
   "pygments_lexer": "ipython3",
   "version": "3.7.3"
  }
 },
 "nbformat": 4,
 "nbformat_minor": 2
}
