{
 "cells": [
  {
   "cell_type": "code",
   "execution_count": null,
   "metadata": {
    "collapsed": true
   },
   "outputs": [],
   "source": [
    "##Lecture 10"
   ]
  },
  {
   "cell_type": "code",
   "execution_count": 2,
   "metadata": {},
   "outputs": [],
   "source": [
    "numBuckets = 47  #this is ugly.  We will see a better way soon\n",
    "\n",
    "def create():\n",
    "    global numBuckets\n",
    "    hSet = []\n",
    "    for i in range(numBuckets):\n",
    "        hSet.append([])\n",
    "    return hSet\n",
    "\n",
    "def hashElem(e):\n",
    "    global numBuckets\n",
    "    return e%numBuckets     \n",
    "\n",
    "def insert(hSet, i):\n",
    "    hSet[hashElem(i)].append(i)\n",
    "\n",
    "def remove(hSet, i):\n",
    "    newBucket = []\n",
    "    for j in hSet[hashElem(i)]:\n",
    "        if j != i:\n",
    "            newBucket.append(j)\n",
    "    hSet[hashElem(i)] = newBucket\n",
    "\n",
    "def member(hSet, i):\n",
    "    return i in hSet[hashElem(i)]"
   ]
  },
  {
   "cell_type": "code",
   "execution_count": 11,
   "metadata": {
    "collapsed": true
   },
   "outputs": [],
   "source": [
    "numBuckets = 47\n",
    "def test1():\n",
    "    s = create()\n",
    "    for i in range(40):\n",
    "        insert(s, i)\n",
    "    insert(s, 325)\n",
    "    insert(s, 325)\n",
    "    insert(s, 987654321)\n",
    "    print (s)\n",
    "    print (member(s, 325))\n",
    "    remove(s, 325)\n",
    "    print (member(s, 325))\n",
    "    print (member(s, 987654321))"
   ]
  },
  {
   "cell_type": "code",
   "execution_count": 12,
   "metadata": {},
   "outputs": [
    {
     "name": "stdout",
     "output_type": "stream",
     "text": [
      "[[0], [1], [2], [3], [4], [5], [6], [7], [8], [9], [10], [11], [12], [13], [14], [15], [16], [17], [18], [19], [20], [21], [22], [23], [24], [25], [26], [27], [28], [29], [30], [31], [32], [33], [34, 987654321], [35], [36], [37], [38], [39], [], [], [], [325, 325], [], [], []]\n",
      "True\n",
      "False\n",
      "True\n"
     ]
    }
   ],
   "source": [
    "test1()"
   ]
  },
  {
   "cell_type": "code",
   "execution_count": 15,
   "metadata": {
    "collapsed": true
   },
   "outputs": [],
   "source": [
    "numBuckets = 3\n",
    "def test1():\n",
    "    s = create()\n",
    "    for i in range(40):\n",
    "        insert(s, i)\n",
    "    insert(s, 325)\n",
    "    insert(s, 325)\n",
    "    insert(s, 987654321)\n",
    "    print (s)\n",
    "    print (member(s, 325))\n",
    "    remove(s, 325)\n",
    "    print (member(s, 325))\n",
    "    print (member(s, 987654321))"
   ]
  },
  {
   "cell_type": "code",
   "execution_count": 16,
   "metadata": {},
   "outputs": [
    {
     "name": "stdout",
     "output_type": "stream",
     "text": [
      "[[0, 3, 6, 9, 12, 15, 18, 21, 24, 27, 30, 33, 36, 39, 987654321], [1, 4, 7, 10, 13, 16, 19, 22, 25, 28, 31, 34, 37, 325, 325], [2, 5, 8, 11, 14, 17, 20, 23, 26, 29, 32, 35, 38]]\n",
      "True\n",
      "False\n",
      "True\n"
     ]
    }
   ],
   "source": [
    "test1()"
   ]
  },
  {
   "cell_type": "code",
   "execution_count": 17,
   "metadata": {
    "collapsed": true
   },
   "outputs": [],
   "source": [
    "numBuckets = 47\n",
    "def hashElem(e):\n",
    "    global numBuckets\n",
    "    if type(e) == int:\n",
    "        val = e\n",
    "    if type(e) == str:\n",
    "        #Convert e to an int\n",
    "        val = 0\n",
    "        shift = 0\n",
    "        for c in e:\n",
    "            val = val + shift*ord(c)\n",
    "            shift += 1\n",
    "    return val%numBuckets"
   ]
  },
  {
   "cell_type": "code",
   "execution_count": 18,
   "metadata": {
    "collapsed": true
   },
   "outputs": [],
   "source": [
    "def test2():\n",
    "    d = create()\n",
    "    strs = ['ab', 'ba', '32a',\n",
    "            'big dog', 'small bird']\n",
    "    for s in strs:\n",
    "        insert(d, s)\n",
    "    for i in range(40):\n",
    "        insert(d, i)\n",
    "    print (d)\n",
    "    print (member(d, 'small bird'))\n",
    "    print (member(d, 'big bird'))\n",
    "    remove(d, 'small bird')\n",
    "    print (d)"
   ]
  },
  {
   "cell_type": "code",
   "execution_count": 19,
   "metadata": {},
   "outputs": [
    {
     "name": "stdout",
     "output_type": "stream",
     "text": [
      "[[0], [1], [2], ['ba', 3], ['ab', 4], [5], ['big dog', 6], [7], [8], ['32a', 9], [10], [11], [12], [13], [14], [15], [16], [17], [18], [19], [20], [21], [22], [23], [24], [25], [26], [27], [28], [29], ['small bird', 30], [31], [32], [33], [34], [35], [36], [37], [38], [39], [], [], [], [], [], [], []]\n",
      "True\n",
      "False\n",
      "[[0], [1], [2], ['ba', 3], ['ab', 4], [5], ['big dog', 6], [7], [8], ['32a', 9], [10], [11], [12], [13], [14], [15], [16], [17], [18], [19], [20], [21], [22], [23], [24], [25], [26], [27], [28], [29], [30], [31], [32], [33], [34], [35], [36], [37], [38], [39], [], [], [], [], [], [], []]\n"
     ]
    }
   ],
   "source": [
    "test2()"
   ]
  },
  {
   "cell_type": "code",
   "execution_count": 28,
   "metadata": {},
   "outputs": [
    {
     "name": "stdout",
     "output_type": "stream",
     "text": [
      "Enter int: g\n",
      "Not an int.\n",
      "Enter int: f\n",
      "Not an int.\n",
      "Enter int: s\n",
      "Not an int.\n",
      "Enter int: a\n",
      "Not an int.\n"
     ]
    },
    {
     "ename": "TypeError",
     "evalue": "Num tries exceeded",
     "output_type": "error",
     "traceback": [
      "\u001b[0;31m---------------------------------------------------------------------------\u001b[0m",
      "\u001b[0;31mTypeError\u001b[0m                                 Traceback (most recent call last)",
      "\u001b[0;32m<ipython-input-28-3838f184177d>\u001b[0m in \u001b[0;36m<module>\u001b[0;34m()\u001b[0m\n\u001b[1;32m     11\u001b[0m     \u001b[1;32mraise\u001b[0m \u001b[0mTypeError\u001b[0m\u001b[1;33m(\u001b[0m\u001b[1;34m'Num tries exceeded'\u001b[0m\u001b[1;33m)\u001b[0m\u001b[1;33m\u001b[0m\u001b[1;33m\u001b[0m\u001b[0m\n\u001b[1;32m     12\u001b[0m \u001b[1;33m\u001b[0m\u001b[0m\n\u001b[0;32m---> 13\u001b[0;31m \u001b[0mprint\u001b[0m \u001b[1;33m(\u001b[0m\u001b[0mreadVal\u001b[0m\u001b[1;33m(\u001b[0m\u001b[0mint\u001b[0m\u001b[1;33m,\u001b[0m \u001b[1;34m'Enter int: '\u001b[0m\u001b[1;33m,\u001b[0m \u001b[1;34m'Not an int.'\u001b[0m\u001b[1;33m)\u001b[0m\u001b[1;33m)\u001b[0m\u001b[1;33m\u001b[0m\u001b[1;33m\u001b[0m\u001b[0m\n\u001b[0m\u001b[1;32m     14\u001b[0m \u001b[1;33m\u001b[0m\u001b[0m\n\u001b[1;32m     15\u001b[0m \u001b[1;32mtry\u001b[0m\u001b[1;33m:\u001b[0m\u001b[1;33m\u001b[0m\u001b[1;33m\u001b[0m\u001b[0m\n",
      "\u001b[0;32m<ipython-input-28-3838f184177d>\u001b[0m in \u001b[0;36mreadVal\u001b[0;34m(valType, requestMsg, errorMsg)\u001b[0m\n\u001b[1;32m      9\u001b[0m             \u001b[0mprint\u001b[0m\u001b[1;33m(\u001b[0m\u001b[0merrorMsg\u001b[0m\u001b[1;33m)\u001b[0m\u001b[1;33m\u001b[0m\u001b[1;33m\u001b[0m\u001b[0m\n\u001b[1;32m     10\u001b[0m             \u001b[0mnumTries\u001b[0m \u001b[1;33m+=\u001b[0m \u001b[1;36m1\u001b[0m\u001b[1;33m\u001b[0m\u001b[1;33m\u001b[0m\u001b[0m\n\u001b[0;32m---> 11\u001b[0;31m     \u001b[1;32mraise\u001b[0m \u001b[0mTypeError\u001b[0m\u001b[1;33m(\u001b[0m\u001b[1;34m'Num tries exceeded'\u001b[0m\u001b[1;33m)\u001b[0m\u001b[1;33m\u001b[0m\u001b[1;33m\u001b[0m\u001b[0m\n\u001b[0m\u001b[1;32m     12\u001b[0m \u001b[1;33m\u001b[0m\u001b[0m\n\u001b[1;32m     13\u001b[0m \u001b[0mprint\u001b[0m \u001b[1;33m(\u001b[0m\u001b[0mreadVal\u001b[0m\u001b[1;33m(\u001b[0m\u001b[0mint\u001b[0m\u001b[1;33m,\u001b[0m \u001b[1;34m'Enter int: '\u001b[0m\u001b[1;33m,\u001b[0m \u001b[1;34m'Not an int.'\u001b[0m\u001b[1;33m)\u001b[0m\u001b[1;33m)\u001b[0m\u001b[1;33m\u001b[0m\u001b[1;33m\u001b[0m\u001b[0m\n",
      "\u001b[0;31mTypeError\u001b[0m: Num tries exceeded"
     ]
    }
   ],
   "source": [
    "def readVal(valType, requestMsg, errorMsg):\n",
    "    numTries = 0\n",
    "    while numTries < 4:\n",
    "        val = input(requestMsg)\n",
    "        try:\n",
    "            val = valType(val)\n",
    "            return val\n",
    "        except ValueError:\n",
    "            print(errorMsg)\n",
    "            numTries += 1\n",
    "    raise TypeError('Num tries exceeded')\n",
    "    \n",
    "\n"
   ]
  },
  {
   "cell_type": "code",
   "execution_count": 24,
   "metadata": {
    "scrolled": true
   },
   "outputs": [
    {
     "name": "stdout",
     "output_type": "stream",
     "text": [
      "Enter int: f\n",
      "Not an int.\n",
      "Enter int: d\n",
      "Not an int.\n",
      "Enter int: g\n",
      "Not an int.\n",
      "Enter int: d\n",
      "Not an int.\n"
     ]
    },
    {
     "ename": "TypeError",
     "evalue": "Num tries exceeded",
     "output_type": "error",
     "traceback": [
      "\u001b[0;31m---------------------------------------------------------------------------\u001b[0m",
      "\u001b[0;31mTypeError\u001b[0m                                 Traceback (most recent call last)",
      "\u001b[0;32m<ipython-input-24-4d48ae3ac951>\u001b[0m in \u001b[0;36m<module>\u001b[0;34m()\u001b[0m\n\u001b[0;32m----> 1\u001b[0;31m \u001b[0mprint\u001b[0m \u001b[1;33m(\u001b[0m\u001b[0mreadVal\u001b[0m\u001b[1;33m(\u001b[0m\u001b[0mint\u001b[0m\u001b[1;33m,\u001b[0m \u001b[1;34m'Enter int: '\u001b[0m\u001b[1;33m,\u001b[0m \u001b[1;34m'Not an int.'\u001b[0m\u001b[1;33m)\u001b[0m\u001b[1;33m)\u001b[0m\u001b[1;33m\u001b[0m\u001b[1;33m\u001b[0m\u001b[0m\n\u001b[0m",
      "\u001b[0;32m<ipython-input-22-77ca56174c7e>\u001b[0m in \u001b[0;36mreadVal\u001b[0;34m(valType, requestMsg, errorMsg)\u001b[0m\n\u001b[1;32m      9\u001b[0m             \u001b[0mprint\u001b[0m\u001b[1;33m(\u001b[0m\u001b[0merrorMsg\u001b[0m\u001b[1;33m)\u001b[0m\u001b[1;33m\u001b[0m\u001b[1;33m\u001b[0m\u001b[0m\n\u001b[1;32m     10\u001b[0m             \u001b[0mnumTries\u001b[0m \u001b[1;33m+=\u001b[0m \u001b[1;36m1\u001b[0m\u001b[1;33m\u001b[0m\u001b[1;33m\u001b[0m\u001b[0m\n\u001b[0;32m---> 11\u001b[0;31m     \u001b[1;32mraise\u001b[0m \u001b[0mTypeError\u001b[0m\u001b[1;33m(\u001b[0m\u001b[1;34m'Num tries exceeded'\u001b[0m\u001b[1;33m)\u001b[0m\u001b[1;33m\u001b[0m\u001b[1;33m\u001b[0m\u001b[0m\n\u001b[0m",
      "\u001b[0;31mTypeError\u001b[0m: Num tries exceeded"
     ]
    }
   ],
   "source": [
    "print (readVal(int, 'Enter int: ', 'Not an int.'))    "
   ]
  },
  {
   "cell_type": "code",
   "execution_count": 30,
   "metadata": {},
   "outputs": [
    {
     "name": "stdout",
     "output_type": "stream",
     "text": [
      "Enter int: f\n",
      "Not an int.\n",
      "Enter int: s\n",
      "Not an int.\n",
      "Enter int: fg\n",
      "Not an int.\n",
      "Enter int: f\n",
      "Not an int.\n"
     ]
    },
    {
     "ename": "NameError",
     "evalue": "name 's' is not defined",
     "output_type": "error",
     "traceback": [
      "\u001b[0;31m---------------------------------------------------------------------------\u001b[0m",
      "\u001b[0;31mTypeError\u001b[0m                                 Traceback (most recent call last)",
      "\u001b[0;32m<ipython-input-30-b20ac64d62ac>\u001b[0m in \u001b[0;36m<module>\u001b[0;34m()\u001b[0m\n\u001b[1;32m      1\u001b[0m \u001b[1;32mtry\u001b[0m\u001b[1;33m:\u001b[0m\u001b[1;33m\u001b[0m\u001b[1;33m\u001b[0m\u001b[0m\n\u001b[0;32m----> 2\u001b[0;31m    \u001b[0mreadVal\u001b[0m\u001b[1;33m(\u001b[0m\u001b[0mint\u001b[0m\u001b[1;33m,\u001b[0m \u001b[1;34m'Enter int: '\u001b[0m\u001b[1;33m,\u001b[0m \u001b[1;34m'Not an int.'\u001b[0m\u001b[1;33m)\u001b[0m\u001b[1;33m\u001b[0m\u001b[1;33m\u001b[0m\u001b[0m\n\u001b[0m\u001b[1;32m      3\u001b[0m \u001b[1;32mexcept\u001b[0m \u001b[0mTypeError\u001b[0m\u001b[1;33m(\u001b[0m\u001b[0ms\u001b[0m\u001b[1;33m)\u001b[0m\u001b[1;33m:\u001b[0m\u001b[1;33m\u001b[0m\u001b[1;33m\u001b[0m\u001b[0m\n",
      "\u001b[0;32m<ipython-input-28-3838f184177d>\u001b[0m in \u001b[0;36mreadVal\u001b[0;34m(valType, requestMsg, errorMsg)\u001b[0m\n\u001b[1;32m     10\u001b[0m             \u001b[0mnumTries\u001b[0m \u001b[1;33m+=\u001b[0m \u001b[1;36m1\u001b[0m\u001b[1;33m\u001b[0m\u001b[1;33m\u001b[0m\u001b[0m\n\u001b[0;32m---> 11\u001b[0;31m     \u001b[1;32mraise\u001b[0m \u001b[0mTypeError\u001b[0m\u001b[1;33m(\u001b[0m\u001b[1;34m'Num tries exceeded'\u001b[0m\u001b[1;33m)\u001b[0m\u001b[1;33m\u001b[0m\u001b[1;33m\u001b[0m\u001b[0m\n\u001b[0m\u001b[1;32m     12\u001b[0m \u001b[1;33m\u001b[0m\u001b[0m\n",
      "\u001b[0;31mTypeError\u001b[0m: Num tries exceeded",
      "\nDuring handling of the above exception, another exception occurred:\n",
      "\u001b[0;31mNameError\u001b[0m                                 Traceback (most recent call last)",
      "\u001b[0;32m<ipython-input-30-b20ac64d62ac>\u001b[0m in \u001b[0;36m<module>\u001b[0;34m()\u001b[0m\n\u001b[1;32m      1\u001b[0m \u001b[1;32mtry\u001b[0m\u001b[1;33m:\u001b[0m\u001b[1;33m\u001b[0m\u001b[1;33m\u001b[0m\u001b[0m\n\u001b[1;32m      2\u001b[0m    \u001b[0mreadVal\u001b[0m\u001b[1;33m(\u001b[0m\u001b[0mint\u001b[0m\u001b[1;33m,\u001b[0m \u001b[1;34m'Enter int: '\u001b[0m\u001b[1;33m,\u001b[0m \u001b[1;34m'Not an int.'\u001b[0m\u001b[1;33m)\u001b[0m\u001b[1;33m\u001b[0m\u001b[1;33m\u001b[0m\u001b[0m\n\u001b[0;32m----> 3\u001b[0;31m \u001b[1;32mexcept\u001b[0m \u001b[0mTypeError\u001b[0m\u001b[1;33m(\u001b[0m\u001b[0ms\u001b[0m\u001b[1;33m)\u001b[0m\u001b[1;33m:\u001b[0m\u001b[1;33m\u001b[0m\u001b[1;33m\u001b[0m\u001b[0m\n\u001b[0m\u001b[1;32m      4\u001b[0m    \u001b[0mprint\u001b[0m \u001b[1;33m(\u001b[0m\u001b[0ms\u001b[0m\u001b[1;33m)\u001b[0m\u001b[1;33m\u001b[0m\u001b[1;33m\u001b[0m\u001b[0m\n",
      "\u001b[0;31mNameError\u001b[0m: name 's' is not defined"
     ]
    }
   ],
   "source": [
    "try:\n",
    "   readVal(int, 'Enter int: ', 'Not an int.')\n",
    "except TypeError(s):\n",
    "   print (s)\n"
   ]
  }
 ],
 "metadata": {
  "kernelspec": {
   "display_name": "Python 3",
   "language": "python",
   "name": "python3"
  },
  "language_info": {
   "codemirror_mode": {
    "name": "ipython",
    "version": 3
   },
   "file_extension": ".py",
   "mimetype": "text/x-python",
   "name": "python",
   "nbconvert_exporter": "python",
   "pygments_lexer": "ipython3",
   "version": "3.7.3"
  }
 },
 "nbformat": 4,
 "nbformat_minor": 2
}
