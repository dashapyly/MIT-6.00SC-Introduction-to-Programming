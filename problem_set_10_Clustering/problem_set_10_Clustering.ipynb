{
 "cells": [
  {
   "cell_type": "code",
   "execution_count": 8,
   "metadata": {},
   "outputs": [],
   "source": [
    "# Problem Set 10\n",
    "# Name: Darya Redka\n",
    "# Collaborators:\n",
    "# Time:\n",
    "\n",
    "#Code shared across examples\n",
    "import pylab, random, string, copy, math\n",
    "\n",
    "class Point(object):\n",
    "    def __init__(self, name, originalAttrs, normalizedAttrs = None):\n",
    "        \"\"\"normalizedAttrs and originalAttrs are both arrays\"\"\"\n",
    "        self.name = name\n",
    "        self.unNormalized = originalAttrs\n",
    "        self.attrs = normalizedAttrs\n",
    "    def dimensionality(self):\n",
    "        return len(self.attrs)\n",
    "    def getAttrs(self):\n",
    "        return self.attrs\n",
    "    def getOriginalAttrs(self):\n",
    "        return self.unNormalized\n",
    "    def distance(self, other):\n",
    "        #Euclidean distance metric\n",
    "        difference = self.attrs - other.attrs\n",
    "        return sum(difference * difference) ** 0.5\n",
    "    def getName(self):\n",
    "        return self.name\n",
    "    def toStr(self):\n",
    "        return self.name + str(self.attrs)\n",
    "    def __str__(self):\n",
    "        return self.name\n",
    "\n",
    "class County(Point):\n",
    "    weights = pylab.array([1.0] * 14)\n",
    "    \n",
    "    # Override Point.distance to use County.weights to decide the\n",
    "    # significance of each dimension\n",
    "    def distance(self, other):\n",
    "        difference = self.getAttrs() - other.getAttrs()\n",
    "        return sum(County.weights * difference * difference) ** 0.5\n",
    "    \n",
    "class Cluster(object):\n",
    "    def __init__(self, points, pointType):\n",
    "        self.points = points\n",
    "        self.pointType = pointType\n",
    "        self.centroid = self.computeCentroid()\n",
    "    def getCentroid(self):\n",
    "        return self.centroid\n",
    "    def computeCentroid(self):\n",
    "        dim = self.points[0].dimensionality()\n",
    "        totVals = pylab.array([0.0]*dim)\n",
    "        for p in self.points:\n",
    "            totVals += p.getAttrs()\n",
    "        meanPoint = self.pointType('mean',\n",
    "                                   totVals/float(len(self.points)),\n",
    "                                   totVals/float(len(self.points)))\n",
    "        return meanPoint\n",
    "    def update(self, points):\n",
    "        oldCentroid = self.centroid\n",
    "        self.points = points\n",
    "        if len(points) > 0:\n",
    "            self.centroid = self.computeCentroid()\n",
    "            return oldCentroid.distance(self.centroid)\n",
    "        else:\n",
    "            return 0.0\n",
    "    def getPoints(self):\n",
    "        return self.points\n",
    "    def contains(self, name):\n",
    "        for p in self.points:\n",
    "            if p.getName() == name:\n",
    "                return True\n",
    "        return False\n",
    "    def toStr(self):\n",
    "        result = ''\n",
    "        for p in self.points:\n",
    "            result = result + p.toStr() + ', '\n",
    "        return result[:-2]\n",
    "    def __str__(self):\n",
    "        result = ''\n",
    "        for p in self.points:\n",
    "            result = result + str(p) + ', '\n",
    "        return result[:-2]"
   ]
  },
  {
   "cell_type": "code",
   "execution_count": 9,
   "metadata": {},
   "outputs": [],
   "source": [
    "def kmeans(points, k, cutoff, pointType, minIters = 3, maxIters = 100, toPrint = False):\n",
    "    \"\"\" Returns (Cluster list, max dist of any point to its cluster) \"\"\"\n",
    "    #Uses random initial centroids\n",
    "    initialCentroids = random.sample(points,k)\n",
    "    clusters = []\n",
    "    for p in initialCentroids:\n",
    "        clusters.append(Cluster([p], pointType))\n",
    "    numIters = 0\n",
    "    biggestChange = cutoff\n",
    "    while (biggestChange >= cutoff and numIters < maxIters) or numIters < minIters:\n",
    "        print (\"Starting iteration \" + str(numIters))\n",
    "        newClusters = []\n",
    "        for c in clusters:\n",
    "            newClusters.append([])\n",
    "        for p in points:\n",
    "            smallestDistance = p.distance(clusters[0].getCentroid())\n",
    "            index = 0\n",
    "            for i in range(len(clusters)):\n",
    "                distance = p.distance(clusters[i].getCentroid())\n",
    "                if distance < smallestDistance:\n",
    "                    smallestDistance = distance\n",
    "                    index = i\n",
    "            newClusters[index].append(p)\n",
    "        biggestChange = 0.0\n",
    "        for i in range(len(clusters)):\n",
    "            change = clusters[i].update(newClusters[i])\n",
    "            #print \"Cluster \" + str(i) + \": \" + str(len(clusters[i].points))\n",
    "            biggestChange = max(biggestChange, change)\n",
    "        numIters += 1\n",
    "        if toPrint:\n",
    "            print ('Iteration count =', numIters)\n",
    "    maxDist = 0.0\n",
    "    for c in clusters:\n",
    "        for p in c.getPoints():\n",
    "            if p.distance(c.getCentroid()) > maxDist:\n",
    "                maxDist = p.distance(c.getCentroid())\n",
    "    print ('Total Number of iterations =', numIters, 'Max Diameter =', maxDist)\n",
    "    print (biggestChange)\n",
    "    return clusters, maxDist"
   ]
  },
  {
   "cell_type": "code",
   "execution_count": 13,
   "metadata": {},
   "outputs": [],
   "source": [
    "#US Counties example\n",
    "def readCountyData(fName, numEntries = 14):\n",
    "    dataFile = open(fName, 'r')\n",
    "    dataList = []\n",
    "    nameList = []\n",
    "    maxVals = pylab.array([0.0]*numEntries)\n",
    "    #Build unnormalized feature vector\n",
    "    for line in dataFile:\n",
    "        if len(line) == 0 or line[0] == '#':\n",
    "            continue\n",
    "        dataLine = str.split(line)\n",
    "        name = dataLine[0] + dataLine[1]\n",
    "        features = []\n",
    "        #Build vector with numEntries features\n",
    "        for f in dataLine[2:]:\n",
    "            try:\n",
    "                f = float(f)\n",
    "                features.append(f)\n",
    "                if f > maxVals[len(features)-1]:\n",
    "                    maxVals[len(features)-1] = f\n",
    "            except ValueError:\n",
    "                name = name + f\n",
    "        if len(features) != numEntries:\n",
    "            continue\n",
    "        dataList.append(features)\n",
    "        nameList.append(name)\n",
    "    return nameList, dataList, maxVals\n",
    "    \n",
    "def buildCountyPoints(fName):\n",
    "    \"\"\"\n",
    "    Given an input filename, reads County values from the file and returns\n",
    "    them all in a list.\n",
    "    \"\"\"\n",
    "    nameList, featureList, maxVals = readCountyData(fName)\n",
    "    points = []\n",
    "    for i in range(len(nameList)):\n",
    "        originalAttrs = pylab.array(featureList[i])\n",
    "        normalizedAttrs = originalAttrs/pylab.array(maxVals)\n",
    "        points.append(County(nameList[i], originalAttrs, normalizedAttrs))\n",
    "    return points\n",
    "\n",
    "def randomPartition(l, p):\n",
    "    \"\"\"\n",
    "    Splits the input list into two partitions, where each element of l is\n",
    "    in the first partition with probability p and the second one with\n",
    "    probability (1.0 - p).\n",
    "    \n",
    "    l: The list to split\n",
    "    p: The probability that an element of l will be in the first partition\n",
    "    \n",
    "    Returns: a tuple of lists, containing the elements of the first and\n",
    "    second partitions.\n",
    "    \"\"\"\n",
    "    l1 = []\n",
    "    l2 = []\n",
    "    for x in l:\n",
    "        if random.random() < p:\n",
    "            l1.append(x)\n",
    "        else:\n",
    "            l2.append(x)\n",
    "    return (l1,l2)\n",
    "\n",
    "def getAveIncome(cluster):\n",
    "    \"\"\"\n",
    "    Given a Cluster object, finds the average income field over the members\n",
    "    of that cluster.\n",
    "    \n",
    "    cluster: the Cluster object to check\n",
    "    \n",
    "    Returns: a float representing the computed average income value\n",
    "    \"\"\"\n",
    "    tot = 0.0\n",
    "    numElems = 0\n",
    "    for c in cluster.getPoints():\n",
    "        tot += c.getOriginalAttrs()[1]\n",
    "\n",
    "    return float(tot) / len(cluster.getPoints())"
   ]
  },
  {
   "cell_type": "code",
   "execution_count": 16,
   "metadata": {},
   "outputs": [],
   "source": [
    "def test(points, k = 200, cutoff = 0.1):\n",
    "    \"\"\"\n",
    "    A sample function to show you how to do a simple kmeans run and graph\n",
    "    the results.\n",
    "    \"\"\"\n",
    "    incomes = []\n",
    "    print ('')\n",
    "    clusters, maxSmallest = kmeans(points, k, cutoff, County)\n",
    "\n",
    "    for i in range(len(clusters)):\n",
    "        if len(clusters[i].points) == 0: continue\n",
    "        incomes.append(getAveIncome(clusters[i]))\n",
    "\n",
    "    pylab.hist(incomes)\n",
    "    pylab.xlabel('Ave. Income')\n",
    "    pylab.ylabel('Number of Clusters')\n",
    "    pylab.show()\n",
    "\n",
    "        \n",
    "points = buildCountyPoints('counties.txt')\n",
    "# random.seed(123)\n",
    "testPoints = random.sample(points, int(len(points)/10))"
   ]
  },
  {
   "cell_type": "code",
   "execution_count": 17,
   "metadata": {},
   "outputs": [
    {
     "name": "stdout",
     "output_type": "stream",
     "text": [
      "\n",
      "Starting iteration 0\n",
      "Starting iteration 1\n",
      "Starting iteration 2\n",
      "Total Number of iterations = 3 Max Diameter = 0.12684714388144014\n",
      "0.05523958922763357\n"
     ]
    },
    {
     "data": {
      "image/png": "[encoded data removed]",
      "text/plain": [
       "<Figure size 432x288 with 1 Axes>"
      ]
     },
     "metadata": {
      "needs_background": "light"
     },
     "output_type": "display_data"
    }
   ],
   "source": [
    "test(testPoints)"
   ]
  },
  {
   "cell_type": "code",
   "execution_count": 128,
   "metadata": {},
   "outputs": [],
   "source": [
    "import numpy as np \n",
    "\n",
    "def graphRemovedErr(points, kvals = [25, 50, 75, 100, 125, 150], cutoff = 0.1):\n",
    "    \"\"\"\n",
    "    Should produce graphs of the error in training and holdout point sets, and\n",
    "    the ratio of the error of the points, after clustering for the given values of k.\n",
    "    For details see Problem 1.\n",
    "    \"\"\"\n",
    "\n",
    "    # Your Code Here: \n",
    "    \n",
    "    errors_train = []\n",
    "    errors_test = []\n",
    "    for kval in kvals:\n",
    "        train_set, test_set = randomPartition(points, 0.8)\n",
    "        clusters, maxDist = kmeans(train_set, kval, cutoff, County, minIters = 3, maxIters = 100, toPrint = False)\n",
    "        summation_train = 0\n",
    "        summation_test = 0\n",
    "        for cluster in clusters:\n",
    "            for point in cluster.getPoints():\n",
    "                summation_train += (point.distance(cluster.getCentroid()))**2\n",
    "        errors_train.append(summation_train/len(train_set))\n",
    "        for point in test_set:\n",
    "            distances = []\n",
    "            for cluster in clusters:\n",
    "                distances.append((point.distance(cluster.getCentroid()))**2)\n",
    "#             print(distances)\n",
    "            summation_test += np.asarray(distances).min()\n",
    "        errors_test.append(summation_test/len(test_set))\n",
    "    pylab.figure()\n",
    "    pylab.plot(kvals, errors_train, label = \"Train Set\")\n",
    "    pylab.plot(kvals, errors_test, label = \"Test Set\")\n",
    "    pylab.xlabel('K-value')\n",
    "    pylab.ylabel('Squared Sum of Distances')\n",
    "    pylab.legend()\n",
    "    pylab.figure()\n",
    "    pylab.plot(kvals, np.asarray(errors_test)/np.asarray(errors_train))\n",
    "    pylab.title(\"Ratio of Test Error to Train Set Error\")\n",
    "    pylab.xlabel('K-value')\n",
    "    pylab.ylabel('Squared Sum of Distances')\n",
    "    return errors_train, errors_test"
   ]
  },
  {
   "cell_type": "code",
   "execution_count": null,
   "metadata": {},
   "outputs": [],
   "source": []
  },
  {
   "cell_type": "code",
   "execution_count": 129,
   "metadata": {},
   "outputs": [
    {
     "name": "stdout",
     "output_type": "stream",
     "text": [
      "Starting iteration 0\n",
      "Starting iteration 1\n",
      "Starting iteration 2\n",
      "Starting iteration 3\n",
      "Starting iteration 4\n",
      "Total Number of iterations = 5 Max Diameter = 0.35784525120095456\n",
      "0.0643377861051379\n",
      "Starting iteration 0\n",
      "Starting iteration 1\n",
      "Starting iteration 2\n",
      "Total Number of iterations = 3 Max Diameter = 0.3352068890313844\n",
      "0.046622563097732196\n",
      "Starting iteration 0\n",
      "Starting iteration 1\n",
      "Starting iteration 2\n",
      "Total Number of iterations = 3 Max Diameter = 0.2988699026238217\n",
      "0.05777138148774735\n",
      "Starting iteration 0\n",
      "Starting iteration 1\n",
      "Starting iteration 2\n",
      "Starting iteration 3\n",
      "Total Number of iterations = 4 Max Diameter = 0.2432326600929773\n",
      "0.049814600955036176\n",
      "Starting iteration 0\n",
      "Starting iteration 1\n",
      "Starting iteration 2\n",
      "Total Number of iterations = 3 Max Diameter = 0.22725360174408113\n",
      "0.04453301069088554\n",
      "Starting iteration 0\n",
      "Starting iteration 1\n",
      "Starting iteration 2\n",
      "Total Number of iterations = 3 Max Diameter = 0.1532215757054716\n",
      "0.05262801442293293\n"
     ]
    },
    {
     "data": {
      "text/plain": [
       "([0.02144338215558379,\n",
       "  0.013642838084286917,\n",
       "  0.010545141144836765,\n",
       "  0.00674559841589685,\n",
       "  0.005455073926863142,\n",
       "  0.0034073484782434194],\n",
       " [0.02123304006292321,\n",
       "  0.02490281633765299,\n",
       "  0.01850198263940459,\n",
       "  0.022650968589953552,\n",
       "  0.019116846164628665,\n",
       "  0.01852706531643656])"
      ]
     },
     "execution_count": 129,
     "metadata": {},
     "output_type": "execute_result"
    },
    {
     "data": {
      "image/png": "[encoded data removed]",
      "text/plain": [
       "<Figure size 432x288 with 1 Axes>"
      ]
     },
     "metadata": {
      "needs_background": "light"
     },
     "output_type": "display_data"
    },
    {
     "data": {
      "image/png": "[encoded data removed]",
      "text/plain": [
       "<Figure size 432x288 with 1 Axes>"
      ]
     },
     "metadata": {
      "needs_background": "light"
     },
     "output_type": "display_data"
    }
   ],
   "source": [
    "graphRemovedErr(testPoints)"
   ]
  },
  {
   "cell_type": "code",
   "execution_count": 130,
   "metadata": {},
   "outputs": [
    {
     "name": "stdout",
     "output_type": "stream",
     "text": [
      "Starting iteration 0\n",
      "Starting iteration 1\n",
      "Starting iteration 2\n",
      "Total Number of iterations = 3 Max Diameter = 1.6774081036815365\n",
      "0.058961642134484404\n",
      "Starting iteration 0\n",
      "Starting iteration 1\n",
      "Starting iteration 2\n",
      "Starting iteration 3\n",
      "Starting iteration 4\n",
      "Starting iteration 5\n",
      "Starting iteration 6\n",
      "Total Number of iterations = 7 Max Diameter = 0.8268269090018889\n",
      "0.030376166607355492\n",
      "Starting iteration 0\n",
      "Starting iteration 1\n",
      "Starting iteration 2\n",
      "Starting iteration 3\n",
      "Starting iteration 4\n",
      "Total Number of iterations = 5 Max Diameter = 0.6465556247387647\n",
      "0.03565875661396068\n",
      "Starting iteration 0\n",
      "Starting iteration 1\n",
      "Starting iteration 2\n",
      "Starting iteration 3\n",
      "Starting iteration 4\n",
      "Starting iteration 5\n",
      "Starting iteration 6\n",
      "Starting iteration 7\n",
      "Total Number of iterations = 8 Max Diameter = 0.8191522305817053\n",
      "0.05001813572297518\n",
      "Starting iteration 0\n",
      "Starting iteration 1\n",
      "Starting iteration 2\n",
      "Starting iteration 3\n",
      "Starting iteration 4\n",
      "Starting iteration 5\n",
      "Starting iteration 6\n",
      "Total Number of iterations = 7 Max Diameter = 0.5454831445058904\n",
      "0.031686115414703384\n",
      "Starting iteration 0\n",
      "Starting iteration 1\n",
      "Starting iteration 2\n",
      "Total Number of iterations = 3 Max Diameter = 0.9934294802596264\n",
      "0.08191461187126121\n"
     ]
    },
    {
     "data": {
      "text/plain": [
       "([0.028741554729030706,\n",
       "  0.019661996473060248,\n",
       "  0.016301329516941077,\n",
       "  0.014956225970043013,\n",
       "  0.013221371518619603,\n",
       "  0.013580184368260749],\n",
       " [0.02888276802282275,\n",
       "  0.020611061145922937,\n",
       "  0.023158977920989577,\n",
       "  0.01864984814218442,\n",
       "  0.015903793540329447,\n",
       "  0.015469453341530128])"
      ]
     },
     "execution_count": 130,
     "metadata": {},
     "output_type": "execute_result"
    },
    {
     "data": {
      "image/png": "[encoded data removed]",
      "text/plain": [
       "<Figure size 432x288 with 1 Axes>"
      ]
     },
     "metadata": {
      "needs_background": "light"
     },
     "output_type": "display_data"
    },
    {
     "data": {
      "image/png": "[encoded data removed]",
      "text/plain": [
       "<Figure size 432x288 with 1 Axes>"
      ]
     },
     "metadata": {
      "needs_background": "light"
     },
     "output_type": "display_data"
    }
   ],
   "source": [
    "graphRemovedErr(points)"
   ]
  },
  {
   "cell_type": "markdown",
   "metadata": {},
   "source": [
    "## Problem #2"
   ]
  },
  {
   "cell_type": "code",
   "execution_count": 121,
   "metadata": {},
   "outputs": [],
   "source": [
    "def home_clustering(points, kval = 50, myHome = 'CASantaClara', cutoff = 0.1):\n",
    "    home_clusters = []\n",
    "    for i in range (3):\n",
    "        clusters = kmeans(points, kval, cutoff, County, minIters = 3, maxIters = 100, toPrint = False)[0]\n",
    "        for cluster in clusters:\n",
    "            if cluster.contains(myHome):\n",
    "                home_clusters.append(cluster)\n",
    "                continue\n",
    "    for cluster in home_clusters:\n",
    "        print (\"Home Cluster: \", cluster)\n",
    "        print(\"\")"
   ]
  },
  {
   "cell_type": "code",
   "execution_count": 122,
   "metadata": {},
   "outputs": [
    {
     "name": "stdout",
     "output_type": "stream",
     "text": [
      "Starting iteration 0\n",
      "Starting iteration 1\n",
      "Starting iteration 2\n",
      "Starting iteration 3\n",
      "Starting iteration 4\n",
      "Starting iteration 5\n",
      "Total Number of iterations = 6 Max Diameter = 0.8289114759331238\n",
      "0.04769039685308552\n",
      "Starting iteration 0\n",
      "Starting iteration 1\n",
      "Starting iteration 2\n",
      "Total Number of iterations = 3 Max Diameter = 1.662269749557053\n",
      "0.07230080422529644\n",
      "Starting iteration 0\n",
      "Starting iteration 1\n",
      "Starting iteration 2\n",
      "Total Number of iterations = 3 Max Diameter = 0.9143268702428017\n",
      "0.06954176475658219\n",
      "Home Cluster:  CAContraCosta, CAMarin, CASanFrancisco, CASanMateo, CASantaClara, CASantaCruz, COBoulder, COClearCreek, COEagle, COPitkin, CORoutt, COSanMiguel, COSummit, CTFairfield, GAFulton, IDBlaine, ILDuPage, ILLake, KSJohnson, MDHoward, MDMontgomery, MAMiddlesex, MANantucket, MANorfolk, MIOakland, MIWashtenaw, MNHennepin, NJBergen, NJHunterdon, NJMonmouth, NJMorris, NJSomerset, NYNassau, NYNewYork, NYRockland, NYWestchester, PAChester, PAMontgomery, TNWilliamson, UTSummit, VAAlbemarle, VAFairfax, WAKing, WIOzaukee, WYTeton\n",
      "\n",
      "Home Cluster:  CAContraCosta, CAMarin, CASanFrancisco, CASanMateo, CASantaClara, CASantaCruz, COBoulder, COEagle, COPitkin, COSanMiguel, COSummit, CTFairfield, GAFulton, ILDuPage, KSJohnson, MDHoward, MDMontgomery, MADukes, MAMiddlesex, MANantucket, MANorfolk, MIOakland, MIWashtenaw, NJBergen, NJHunterdon, NJMorris, NJSomerset, NYNassau, NYNewYork, NYWestchester, NCOrange, PAChester, PAMontgomery, VAAlbemarle, VAFairfax, WAKing, WASanJuan, WIOzaukee, WYTeton\n",
      "\n",
      "Home Cluster:  ALShelby, CAAlameda, CAContraCosta, CAMarin, CASanFrancisco, CASanMateo, CASantaClara, CASantaCruz, COArapahoe, COBoulder, COClearCreek, COEagle, COGilpin, COGrand, COJefferson, COLaPlata, COLarimer, COOuray, COPitkin, CORoutt, COSanMiguel, COSummit, CTFairfield, CTMiddlesex, CTTolland, GACobb, GAFayette, GAFulton, GAOconee, IDBlaine, ILDuPage, ILLake, INHamilton, KSJohnson, MDAnneArundel, MDHoward, MDMontgomery, MADukes, MAMiddlesex, MANantucket, MANorfolk, MIOakland, MIWashtenaw, MNCarver, MNDakota, MNHennepin, MNWashington, MSMadison, MOPlatte, NHRockingham, NJBergen, NJHunterdon, NJMonmouth, NJMorris, NJSomerset, NYNassau, NYNewYork, NYPutnam, NYRockland, NYWestchester, NCMecklenburg, NCWake, OHGeauga, ORWashington, PABucks, PAChester, PAMontgomery, RIWashington, SCBeaufort, TNWilliamson, TXTravis, UTSummit, VTChittenden, VAAlbemarle, VAFairfax, VAGoochland, VAJamesCity, VAYork, WAKing, WASanJuan, WIDane, WIOzaukee, WIWaukesha, WYTeton\n",
      "\n"
     ]
    }
   ],
   "source": [
    "home_clustering(points)"
   ]
  },
  {
   "cell_type": "markdown",
   "metadata": {},
   "source": [
    "## Problem # 3\n"
   ]
  },
  {
   "cell_type": "code",
   "execution_count": 159,
   "metadata": {},
   "outputs": [],
   "source": [
    "def getAvePoverty(cluster):\n",
    "    \"\"\"\n",
    "    Given a Cluster object, finds the average poverty field over the members\n",
    "    of that cluster.\n",
    "    \n",
    "    cluster: the Cluster object to check\n",
    "    \n",
    "    Returns: a float representing the computed average income value\n",
    "    \"\"\"\n",
    "    tot = 0.0\n",
    "    numElems = 0\n",
    "    for c in cluster.getPoints():\n",
    "        tot += c.getOriginalAttrs()[2]\n",
    "\n",
    "    return float(tot) / len(cluster.getPoints())"
   ]
  },
  {
   "cell_type": "code",
   "execution_count": 170,
   "metadata": {},
   "outputs": [
    {
     "name": "stdout",
     "output_type": "stream",
     "text": [
      "Starting iteration 0\n",
      "Starting iteration 1\n",
      "Starting iteration 2\n",
      "Total Number of iterations = 3 Max Diameter = 0.8286158260984906\n",
      "0.07238221213307058\n",
      "Starting iteration 0\n",
      "Starting iteration 1\n",
      "Starting iteration 2\n",
      "Starting iteration 3\n",
      "Starting iteration 4\n",
      "Total Number of iterations = 5 Max Diameter = 1.072736573621268\n",
      "0.035135027878077735\n",
      "Starting iteration 0\n",
      "Starting iteration 1\n",
      "Starting iteration 2\n",
      "Starting iteration 3\n",
      "Starting iteration 4\n",
      "Total Number of iterations = 5 Max Diameter = 1.1076113478570555\n",
      "0.06754497448571624\n",
      "Starting iteration 0\n",
      "Starting iteration 1\n",
      "Starting iteration 2\n",
      "Starting iteration 3\n",
      "Starting iteration 4\n",
      "Total Number of iterations = 5 Max Diameter = 1.1281710067609108\n",
      "0.04462123806181729\n",
      "Starting iteration 0\n",
      "Starting iteration 1\n",
      "Starting iteration 2\n",
      "Starting iteration 3\n",
      "Starting iteration 4\n",
      "Starting iteration 5\n",
      "Starting iteration 6\n",
      "Total Number of iterations = 7 Max Diameter = 0.5947441729023851\n",
      "0.043401557997957606\n",
      "Starting iteration 0\n",
      "Starting iteration 1\n",
      "Starting iteration 2\n",
      "Total Number of iterations = 3 Max Diameter = 1.465479524387107\n",
      "0.06809773044720206\n"
     ]
    },
    {
     "data": {
      "text/plain": [
       "[23.186260638840523,\n",
       " 19.365788398792287,\n",
       " 15.551747831795788,\n",
       " 17.447029615734955,\n",
       " 17.761646400404583,\n",
       " 15.324977383005345]"
      ]
     },
     "execution_count": 170,
     "metadata": {},
     "output_type": "execute_result"
    },
    {
     "data": {
      "image/png": "[encoded data removed]",
      "text/plain": [
       "<Figure size 432x288 with 1 Axes>"
      ]
     },
     "metadata": {
      "needs_background": "light"
     },
     "output_type": "display_data"
    }
   ],
   "source": [
    "def graphPredictionErr(points, dimension, kvals = [25, 50, 75, 100, 125, 150], cutoff = 0.1):\n",
    "    \"\"\"\n",
    "    Given input points and a dimension to predict, should cluster on the\n",
    "    appropriate values of k and graph the error in the resulting predictions,\n",
    "    as described in Problem 3.\n",
    "    \"\"\"\n",
    "\n",
    "\t# Your Code Here\n",
    "    County.weights[2] = 0.\n",
    "    errors_test = []\n",
    "    for kval in kvals:\n",
    "        train_set, test_set = randomPartition(points, 0.8)\n",
    "        clusters, maxDist = kmeans(train_set, kval, cutoff, County, minIters = 3, maxIters = 100, toPrint = False)\n",
    "        summation_pov_test = 0\n",
    "        for point in test_set:\n",
    "            distances = []\n",
    "            for cluster in clusters:\n",
    "                distances.append((point.distance(cluster.getCentroid()))**2)\n",
    "            closest_cluster = clusters[np.asarray(distances).argmin()]\n",
    "            avg_income = getAvePoverty(closest_cluster)\n",
    "            pov_error = (avg_income - point.getOriginalAttrs()[2])**2 \n",
    "            summation_pov_test += pov_error\n",
    "        errors_test.append(summation_pov_test/len(test_set))\n",
    "    pylab.figure()\n",
    "#     pylab.plot(kvals, errors_train, label = \"Train Set\")\n",
    "    pylab.plot(kvals, errors_test, label = \"Test Set\")\n",
    "    pylab.xlabel('K-value')\n",
    "    pylab.ylabel('Sum of Squared of Distances')\n",
    "    pylab.title('Average poverty of each county minus its centroid, squared')\n",
    "    pylab.legend()\n",
    "    return errors_test\n",
    "\n",
    "graphPredictionErr(points, [2], kvals = [25, 50, 75, 100, 125, 150], cutoff = 0.1)"
   ]
  },
  {
   "cell_type": "code",
   "execution_count": 169,
   "metadata": {},
   "outputs": [
    {
     "data": {
      "text/plain": [
       "(array([ 139., 1021., 1083.,  511.,  189.,   66.,   28.,    7.,    3.,\n",
       "           2.]),\n",
       " array([ 0.  ,  5.69, 11.38, 17.07, 22.76, 28.45, 34.14, 39.83, 45.52,\n",
       "        51.21, 56.9 ]),\n",
       " <a list of 10 Patch objects>)"
      ]
     },
     "execution_count": 169,
     "metadata": {},
     "output_type": "execute_result"
    },
    {
     "data": {
      "image/png": "[encoded data removed]",
      "text/plain": [
       "<Figure size 432x288 with 1 Axes>"
      ]
     },
     "metadata": {
      "needs_background": "light"
     },
     "output_type": "display_data"
    }
   ],
   "source": [
    "poverties = []\n",
    "for point in points:\n",
    "    poverties.append(point.getOriginalAttrs()[2])\n",
    "pylab.hist(poverties)"
   ]
  },
  {
   "cell_type": "code",
   "execution_count": 179,
   "metadata": {},
   "outputs": [
    {
     "name": "stdout",
     "output_type": "stream",
     "text": [
      "Starting iteration 0\n",
      "Starting iteration 1\n",
      "Starting iteration 2\n",
      "Total Number of iterations = 3 Max Diameter = 1.6449538311261058\n",
      "0.08729751867326695\n",
      "Starting iteration 0\n",
      "Starting iteration 1\n",
      "Starting iteration 2\n",
      "Starting iteration 3\n",
      "Total Number of iterations = 4 Max Diameter = 1.1944905225884033\n",
      "0.08768496695214302\n",
      "Starting iteration 0\n",
      "Starting iteration 1\n",
      "Starting iteration 2\n",
      "Starting iteration 3\n",
      "Starting iteration 4\n",
      "Total Number of iterations = 5 Max Diameter = 1.0044773391467208\n",
      "0.06798287521845657\n",
      "Starting iteration 0\n",
      "Starting iteration 1\n",
      "Starting iteration 2\n",
      "Starting iteration 3\n",
      "Total Number of iterations = 4 Max Diameter = 0.5651483170160901\n",
      "0.08925418083813429\n",
      "Starting iteration 0\n",
      "Starting iteration 1\n",
      "Starting iteration 2\n",
      "Starting iteration 3\n",
      "Total Number of iterations = 4 Max Diameter = 1.1284971295045259\n",
      "0.09484922432264542\n",
      "Starting iteration 0\n",
      "Starting iteration 1\n",
      "Starting iteration 2\n",
      "Total Number of iterations = 3 Max Diameter = 0.6999210693041212\n",
      "0.07687097042690283\n"
     ]
    },
    {
     "data": {
      "text/plain": [
       "[22.928140239327163,\n",
       " 19.228464016714415,\n",
       " 16.51805745789924,\n",
       " 16.1984922158274,\n",
       " 14.820638056801542,\n",
       " 14.900796482175844]"
      ]
     },
     "execution_count": 179,
     "metadata": {},
     "output_type": "execute_result"
    },
    {
     "data": {
      "image/png": "[encoded data removed]",
      "text/plain": [
       "<Figure size 432x288 with 1 Axes>"
      ]
     },
     "metadata": {
      "needs_background": "light"
     },
     "output_type": "display_data"
    }
   ],
   "source": [
    "def graphPredictionErr2(points, dimension, kvals = [25, 50, 75, 100, 125, 150], cutoff = 0.1):\n",
    "    \"\"\"\n",
    "    Given input points and a dimension to predict, should cluster on the\n",
    "    appropriate values of k and graph the error in the resulting predictions,\n",
    "    as described in Problem 3.\n",
    "    \"\"\"\n",
    "\n",
    "\t# Your Code Here\n",
    "    County.weights = pylab.array([1.0] * 14)\n",
    "    County.weights[2] = 0.\n",
    "    County.weights[dimention] = 0.\n",
    "    errors_test = []\n",
    "    for kval in kvals:\n",
    "        train_set, test_set = randomPartition(points, 0.8)\n",
    "        clusters, maxDist = kmeans(train_set, kval, cutoff, County, minIters = 3, maxIters = 100, toPrint = False)\n",
    "        summation_pov_test = 0\n",
    "        for point in test_set:\n",
    "            distances = []\n",
    "            for cluster in clusters:\n",
    "                distances.append((point.distance(cluster.getCentroid()))**2)\n",
    "            closest_cluster = clusters[np.asarray(distances).argmin()]\n",
    "            avg_income = getAvePoverty(closest_cluster)\n",
    "            pov_error = (avg_income - point.getOriginalAttrs()[2])**2 \n",
    "            summation_pov_test += pov_error\n",
    "        errors_test.append(summation_pov_test/len(test_set))\n",
    "    pylab.figure()\n",
    "#     pylab.plot(kvals, errors_train, label = \"Train Set\")\n",
    "    pylab.plot(kvals, errors_test, label = \"Test Set\")\n",
    "    pylab.xlabel('K-value')\n",
    "    pylab.ylabel('Sum of Squared of Distances')\n",
    "    pylab.title('Average poverty of each county minus its centroid, squared')\n",
    "    pylab.legend()\n",
    "    return errors_test\n",
    "\n",
    "graphPredictionErr(points, 7, kvals = [25, 50, 75, 100, 125, 150], cutoff = 0.1)"
   ]
  },
  {
   "cell_type": "code",
   "execution_count": 172,
   "metadata": {},
   "outputs": [
    {
     "name": "stdout",
     "output_type": "stream",
     "text": [
      "[9.48000e+04 1.85180e+04 1.09000e+01 4.36710e+04 2.80000e+00 1.02000e+01\n",
      " 1.24940e+04 5.14000e+01 7.87000e+01 1.80000e+01 8.64000e+02 2.86000e+01\n",
      " 7.32000e+01 1.04785e+05]\n"
     ]
    }
   ],
   "source": [
    "print(points[0].getOriginalAttrs())"
   ]
  }
 ],
 "metadata": {
  "kernelspec": {
   "display_name": "Python 3",
   "language": "python",
   "name": "python3"
  },
  "language_info": {
   "codemirror_mode": {
    "name": "ipython",
    "version": 3
   },
   "file_extension": ".py",
   "mimetype": "text/x-python",
   "name": "python",
   "nbconvert_exporter": "python",
   "pygments_lexer": "ipython3",
   "version": "3.7.3"
  }
 },
 "nbformat": 4,
 "nbformat_minor": 2
}
