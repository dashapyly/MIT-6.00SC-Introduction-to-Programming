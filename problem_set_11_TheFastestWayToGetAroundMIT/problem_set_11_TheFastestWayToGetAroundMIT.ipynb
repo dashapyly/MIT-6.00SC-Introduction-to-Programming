{
 "cells": [
  {
   "cell_type": "code",
   "execution_count": 2,
   "metadata": {},
   "outputs": [],
   "source": [
    "import string"
   ]
  },
  {
   "cell_type": "code",
   "execution_count": 2,
   "metadata": {},
   "outputs": [],
   "source": [
    "# 6.00 Problem Set 11\n",
    "#\n",
    "#Name: Dar'ya Redka\n",
    "#\n",
    "# Problem # 1: building data representations\n",
    "\n",
    "class Node(object):\n",
    "    def __init__(self, name):\n",
    "        self.name = str(name)\n",
    "    def getName(self):\n",
    "        return self.name\n",
    "    def __str__(self):\n",
    "        return self.name\n",
    "    def __repr__(self):\n",
    "        return self.name\n",
    "    def __eq__(self, other):\n",
    "        return self.name == other.name\n",
    "    def __ne__(self, other):\n",
    "        return not self.__eq__(other)\n",
    "    def __hash__(self):\n",
    "        return hash(self.name)\n",
    "    \n",
    "class Edge(object):\n",
    "    def __init__(self, src, dest):\n",
    "        self.src = src\n",
    "        self.dest = dest\n",
    "    def getSource(self):\n",
    "        return self.src\n",
    "    def getDestination(self):\n",
    "        return self.dest\n",
    "    def __str__(self):\n",
    "        return str(self.src) + '->' + str(self.dest)\n",
    "\n",
    "class WeightedEdge(Edge):\n",
    "    def __init__(self, src, dest, dist, outDist):\n",
    "        Edge.__init__(self, src, dest)\n",
    "        self.dist = dist\n",
    "        self.outDist = outDist\n",
    "    def getDist(self):\n",
    "        return self.dist\n",
    "    def getOutDist(self):\n",
    "        return self.outDist\n",
    "    \n",
    "    \n",
    "class Digraph(object):\n",
    "#         \"\"\"\n",
    "#         A directed graph\n",
    "#         \"\"\"\n",
    "    def __init__(self):\n",
    "        self.nodes = set([])\n",
    "        self.edges = {}\n",
    "    def addNode(self, node):\n",
    "        if node in self.nodes:\n",
    "            raise ValueError('Duplicate node')\n",
    "        else:\n",
    "            self.nodes.add(node)\n",
    "            self.edges[node] = {}\n",
    "    def addEdge(self, edge):\n",
    "        src = edge.getSource()\n",
    "        dest = edge.getDestination()\n",
    "        dist = edge.getDist()\n",
    "        outDist = edge.getOutDist()\n",
    "        if not(src in self.nodes and dest in self.nodes):\n",
    "            raise ValueError('Node not in graph')\n",
    "        self.edges[src][dest] = (dist, outDist)\n",
    "    def childrenOf(self, node):\n",
    "        return list(self.edges[node])\n",
    "    def hasNode(self, node):\n",
    "       return node in self.nodes\n",
    "    def getDist(self, src, dest):\n",
    "        if not(src in self.nodes and dest in self.nodes):\n",
    "            raise ValueError('Node not in graph')\n",
    "        return self.edges[src][dest][0]\n",
    "    def getOutDist(self, src, dest):\n",
    "        if not(src in self.nodes and dest in self.nodes):\n",
    "            raise ValueError('Node not in graph')\n",
    "        return self.edges[src][dest][1]\n",
    "    def getNodes(self):\n",
    "        return list(self.nodes)\n",
    "    def __str__(self):\n",
    "       res = ''\n",
    "       for k in self.edges:\n",
    "           for d in self.edges[k]:\n",
    "               res = res + str(k) + '->' + str(d) + str(self.edges[k][d]) + '\\n'\n",
    "       return res[:-1]\n"
   ]
  },
  {
   "cell_type": "code",
   "execution_count": 38,
   "metadata": {},
   "outputs": [
    {
     "name": "stdout",
     "output_type": "stream",
     "text": [
      "Loading map from file...\n",
      "Loaded 129 map legs\n"
     ]
    }
   ],
   "source": [
    "# Problem 2: Building up the Campus Map\n",
    "#\n",
    "# Write a couple of sentences describing how you will model the\n",
    "# problem as a graph)\n",
    "#\n",
    "\n",
    "def load_map(mapFilename, toPrint = False):\n",
    "#     \"\"\" \n",
    "#     Parses the map file and constructs a directed graph\n",
    "\n",
    "#     Parameters: \n",
    "#         mapFilename : name of the map file\n",
    "\n",
    "#     Assumes:\n",
    "#         Each entry in the map \n",
    "#         file consists of the following four positive \n",
    "#         integers, separated by a blank space:\n",
    "#             From To TotalDistance DistanceOutdoors\n",
    "#         e.g.\n",
    "#             32 76 54 23\n",
    "#         This entry would become an edge from 32 to 76.\n",
    "\n",
    "#     Returns:\n",
    "#         a directed graph representing the map\n",
    "#     \"\"\"\n",
    "    #TODO: DONE\n",
    "    \n",
    "    print (\"Loading map from file...\")\n",
    "    dataFile = open(mapFilename, 'r')\n",
    "    sources, destinations, distances,outDistances = [], [], [], []\n",
    "    for line in dataFile:\n",
    "        src, dest, dist, outDist = line.split()\n",
    "        sources.append(src)\n",
    "        destinations.append(dest)\n",
    "        distances.append(int(dist))\n",
    "        outDistances.append(int(outDist))\n",
    "    dataFile.close()\n",
    "    print(\"Loaded\", len(sources), \"map legs\")  \n",
    "#     print(sources, destinations, distances, outDistances)\n",
    "    MITmap = Digraph() \n",
    "    for index, name in enumerate(sources):\n",
    "        src = Node(name)\n",
    "        dest = Node(destinations[index])\n",
    "#         breakpoint()\n",
    "        if not MITmap.hasNode(src):            \n",
    "            MITmap.addNode(src)\n",
    "        if not MITmap.hasNode(dest):\n",
    "            MITmap.addNode(dest)\n",
    "        MITmap.addEdge(WeightedEdge(src, dest, distances[index], outDistances[index]))\n",
    "    if toPrint:\n",
    "        print(MITmap)\n",
    "    return MITmap\n",
    "\n",
    "MITmap = load_map('mit_map.txt') \n"
   ]
  },
  {
   "cell_type": "code",
   "execution_count": 4,
   "metadata": {},
   "outputs": [
    {
     "name": "stdout",
     "output_type": "stream",
     "text": [
      "[1, 7]\n"
     ]
    }
   ],
   "source": [
    "print(MITmap.childrenOf(Node('5')))"
   ]
  },
  {
   "cell_type": "code",
   "execution_count": 5,
   "metadata": {
    "scrolled": false
   },
   "outputs": [
    {
     "name": "stdout",
     "output_type": "stream",
     "text": [
      "32->36(70, 0)\n",
      "32->57(30, 0)\n",
      "32->76(80, 50)\n",
      "32->68(110, 80)\n",
      "32->16(100, 50)\n",
      "32->12(100, 80)\n",
      "32->46(90, 40)\n",
      "32->48(80, 50)\n",
      "32->66(70, 60)\n",
      "32->56(80, 70)\n",
      "36->32(70, 0)\n",
      "36->26(34, 0)\n",
      "36->34(25, 0)\n",
      "36->46(80, 40)\n",
      "36->48(100, 80)\n",
      "57->32(30, 0)\n",
      "76->32(80, 50)\n",
      "76->68(72, 30)\n",
      "76->66(130, 100)\n",
      "68->32(110, 80)\n",
      "68->76(72, 30)\n",
      "68->66(51, 0)\n",
      "68->56(80, 70)\n",
      "66->68(51, 0)\n",
      "66->56(40, 0)\n",
      "66->76(130, 100)\n",
      "66->32(70, 60)\n",
      "56->68(80, 70)\n",
      "56->66(40, 0)\n",
      "56->18(35, 0)\n",
      "56->16(30, 0)\n",
      "56->32(80, 70)\n",
      "18->56(35, 0)\n",
      "18->54(20, 10)\n",
      "16->56(30, 0)\n",
      "16->32(100, 50)\n",
      "16->26(45, 0)\n",
      "16->8(25, 0)\n",
      "26->36(34, 0)\n",
      "26->16(45, 0)\n",
      "26->12(30, 25)\n",
      "26->24(25, 20)\n",
      "24->13(35, 30)\n",
      "24->26(25, 20)\n",
      "24->34(27, 0)\n",
      "24->12(33, 0)\n",
      "13->24(35, 30)\n",
      "13->39(70, 50)\n",
      "13->31(30, 25)\n",
      "13->10(30, 0)\n",
      "13->9(40, 0)\n",
      "34->36(25, 0)\n",
      "34->24(27, 0)\n",
      "34->38(25, 0)\n",
      "12->32(100, 80)\n",
      "12->26(30, 25)\n",
      "12->24(33, 0)\n",
      "12->4(56, 0)\n",
      "8->16(25, 0)\n",
      "8->6(39, 0)\n",
      "8->4(47, 0)\n",
      "4->12(56, 0)\n",
      "4->8(47, 0)\n",
      "4->2(36, 0)\n",
      "4->10(47, 0)\n",
      "4->3(60, 50)\n",
      "4->1(80, 65)\n",
      "6->8(39, 0)\n",
      "6->2(41, 0)\n",
      "39->37(32, 0)\n",
      "39->13(70, 50)\n",
      "37->39(32, 0)\n",
      "37->31(27, 0)\n",
      "37->35(29, 0)\n",
      "31->13(30, 25)\n",
      "31->37(27, 0)\n",
      "2->6(41, 0)\n",
      "2->14(51, 0)\n",
      "2->4(36, 0)\n",
      "2->10(70, 50)\n",
      "2->3(70, 50)\n",
      "2->1(75, 60)\n",
      "14->2(51, 0)\n",
      "14->50(25, 20)\n",
      "50->14(25, 20)\n",
      "10->4(47, 0)\n",
      "10->2(70, 50)\n",
      "10->3(32, 0)\n",
      "10->13(30, 0)\n",
      "3->10(32, 0)\n",
      "3->4(60, 50)\n",
      "3->2(70, 50)\n",
      "3->1(36, 0)\n",
      "3->7(25, 0)\n",
      "1->2(75, 60)\n",
      "1->4(80, 65)\n",
      "1->3(36, 0)\n",
      "1->5(32, 0)\n",
      "5->1(32, 0)\n",
      "5->7(20, 0)\n",
      "7->5(20, 0)\n",
      "7->3(25, 0)\n",
      "7->9(20, 0)\n",
      "9->13(40, 0)\n",
      "9->7(20, 0)\n",
      "9->33(29, 0)\n",
      "38->34(25, 0)\n",
      "38->39(34, 0)\n",
      "35->37(29, 0)\n",
      "35->33(25, 0)\n",
      "33->35(25, 0)\n",
      "33->9(29, 0)\n",
      "46->32(90, 40)\n",
      "46->36(80, 40)\n",
      "46->48(25, 10)\n",
      "48->32(80, 50)\n",
      "48->36(100, 80)\n",
      "48->46(25, 10)\n",
      "54->56(40, 30)\n",
      "54->66(45, 35)\n",
      "54->18(20, 10)\n",
      "54->62(20, 10)\n",
      "54->14(70, 60)\n",
      "54->50(80, 70)\n",
      "62->54(20, 10)\n",
      "62->64(30, 20)\n",
      "64->62(30, 20)\n"
     ]
    }
   ],
   "source": [
    "print(MITmap)"
   ]
  },
  {
   "cell_type": "code",
   "execution_count": 5,
   "metadata": {},
   "outputs": [],
   "source": [
    "# Problem 3: Finding the Shortest Path using Brute Force Search\n",
    "#\n",
    "# State the optimization problem as a function to minimize\n",
    "# and the constraints: minimize totalDist while making sure totalOutDist is <= maxDistOutdoors\n",
    "#  "
   ]
  },
  {
   "cell_type": "code",
   "execution_count": 6,
   "metadata": {},
   "outputs": [],
   "source": [
    "def totalPath(digraph, path):\n",
    "    totalDist = 0\n",
    "    totalOutDist = 0\n",
    "    for index, node in enumerate(path):\n",
    "#         print(index)\n",
    "\n",
    "        if len(path) < 2:\n",
    "            break\n",
    "        if index == (len(path) - 1):\n",
    "            break\n",
    "        else:\n",
    "            node = Node(node)\n",
    "            next_node = Node(path[index+1])\n",
    "            totalDist += digraph.getDist(node, next_node) \n",
    "            totalOutDist += digraph.getOutDist(node, next_node)\n",
    "    return (totalDist, totalOutDist)"
   ]
  },
  {
   "cell_type": "code",
   "execution_count": 121,
   "metadata": {},
   "outputs": [
    {
     "name": "stdout",
     "output_type": "stream",
     "text": [
      "2608753897928\n",
      "2608753817096\n",
      "2608753901064\n",
      "2608753819336\n",
      "2608753733576\n",
      "2608753901064\n",
      "2608753819336\n",
      "2608753733576\n",
      "2608753901064\n",
      "2608753819336\n",
      "[0, 1, 2, 3, 4, 5, 6, 7, 8, 9]\n"
     ]
    }
   ],
   "source": [
    "lst = []\n",
    "for i in range(10):\n",
    "    lst = lst + [i]\n",
    "    print(id(lst))\n",
    "print(lst)"
   ]
  },
  {
   "cell_type": "code",
   "execution_count": 123,
   "metadata": {},
   "outputs": [
    {
     "name": "stdout",
     "output_type": "stream",
     "text": [
      "2608753897864\n",
      "2608753897864\n"
     ]
    }
   ],
   "source": [
    "lst = []\n",
    "lst2 = lst\n",
    "\n",
    "print(id(lst))\n",
    "print(id(lst2))"
   ]
  },
  {
   "cell_type": "code",
   "execution_count": 33,
   "metadata": {},
   "outputs": [],
   "source": [
    "def bruteForceSearch(digraph, start, end, maxTotalDist, maxDistOutdoors, visited=None):    \n",
    "#     \"\"\"\n",
    "#     Finds the shortest path from start to end using brute-force approach.\n",
    "#     The total distance travelled on the path must not exceed maxTotalDist, and\n",
    "#     the distance spent outdoor on this path must not exceed maxDisOutdoors.\n",
    "\n",
    "#     Parameters: \n",
    "#         digraph: instance of class Digraph or its subclass\n",
    "#         start, end: start & end building numbers (strings)\n",
    "#         maxTotalDist : maximum total distance on a path (integer)\n",
    "#         maxDistOutdoors: maximum distance spent outdoors on a path (integer)\n",
    "\n",
    "#     Assumes:\n",
    "#         start and end are numbers for existing buildings in graph\n",
    "\n",
    "#     Returns:\n",
    "#         The shortest-path from start to end, represented by \n",
    "#         a list of building numbers (in strings), [n_1, n_2, ..., n_k], \n",
    "#         where there exists an edge from n_i to n_(i+1) in digraph, \n",
    "#         for all 1 <= i < k.\n",
    "\n",
    "#         If there exists no path that satisfies maxTotalDist and\n",
    "#         maxDistOutdoors constraints, then raises a ValueError.\n",
    "#     \"\"\"\n",
    "    #TODO: DONE\n",
    "        \n",
    "        \n",
    "    if visited == None:\n",
    "        visited = []\n",
    "    start = Node(start)\n",
    "    end = Node(end)\n",
    "    if not (digraph.hasNode(start) and digraph.hasNode(end)):\n",
    "        raise ValueError('Start or end not in graph.')\n",
    "    shortest = None\n",
    "    shortest_dist = maxTotalDist\n",
    "    shortest_outDist = maxDistOutdoors\n",
    "    path = [str(start)]\n",
    "    if start == end:\n",
    "        return path\n",
    "    for node in digraph.childrenOf(start):\n",
    "        if (str(node) not in visited): #avoid cycles\n",
    "            new_visited = visited + [str(node)]\n",
    "            try: \n",
    "                newPath = bruteForceSearch(digraph, str(node), str(end), maxTotalDist, maxDistOutdoors, new_visited)\n",
    "            except ValueError:\n",
    "                continue\n",
    "            pathDist, pathOutDist = totalPath(digraph, newPath)\n",
    "            totalDist, totalOutDist = totalPath(digraph, (path+newPath))\n",
    "            if (totalDist <= maxTotalDist) and (totalOutDist <= maxDistOutdoors):  \n",
    "                if (shortest == None) or (pathDist <= shortest_dist):\n",
    "                    if pathDist < shortest_dist:\n",
    "                        shortest_dist = pathDist\n",
    "                        shortest_outDist = pathOutDist\n",
    "                        shortest = newPath\n",
    "                    else:\n",
    "                        if pathOutDist < shortest_outDist:\n",
    "                            shortest_dist = psthDist\n",
    "                            shortest_outDist = pathOutDist\n",
    "                            shortest = newPath\n",
    "                        else:\n",
    "                            continue\n",
    "    if shortest != None:\n",
    "        path = path + shortest\n",
    "        totalDist, totalOutDist = totalPath(digraph, path)\n",
    "        return path\n",
    "    else:\n",
    "        raise ValueError  "
   ]
  },
  {
   "cell_type": "code",
   "execution_count": 8,
   "metadata": {},
   "outputs": [
    {
     "data": {
      "text/plain": [
       "{4: (47, 0), 2: (70, 50), 3: (32, 0), 13: (30, 0)}"
      ]
     },
     "execution_count": 8,
     "metadata": {},
     "output_type": "execute_result"
    }
   ],
   "source": [
    "MITmap.edges[Node('10')]"
   ]
  },
  {
   "cell_type": "code",
   "execution_count": 115,
   "metadata": {},
   "outputs": [
    {
     "data": {
      "text/plain": [
       "[4, 2, 3, 13]"
      ]
     },
     "execution_count": 115,
     "metadata": {},
     "output_type": "execute_result"
    }
   ],
   "source": [
    "MITmap.childrenOf(Node('10'))"
   ]
  },
  {
   "cell_type": "code",
   "execution_count": 34,
   "metadata": {},
   "outputs": [
    {
     "data": {
      "text/plain": [
       "['1', '3', '10', '4']"
      ]
     },
     "execution_count": 34,
     "metadata": {},
     "output_type": "execute_result"
    }
   ],
   "source": [
    "bruteForceSearch(MITmap, '1', '4', 1000000, 0)"
   ]
  },
  {
   "cell_type": "code",
   "execution_count": 116,
   "metadata": {},
   "outputs": [
    {
     "data": {
      "text/plain": [
       "['1', '3', '10', '4', '12', '32']"
      ]
     },
     "execution_count": 116,
     "metadata": {},
     "output_type": "execute_result"
    }
   ],
   "source": [
    "bruteForceSearch(MITmap, '1', '32', 1000000, 100)"
   ]
  },
  {
   "cell_type": "code",
   "execution_count": 118,
   "metadata": {},
   "outputs": [
    {
     "data": {
      "text/plain": [
       "['1', '3', '10', '4', '12', '24', '34', '36', '32']"
      ]
     },
     "execution_count": 118,
     "metadata": {},
     "output_type": "execute_result"
    }
   ],
   "source": [
    "bruteForceSearch(MITmap, '1', '32', 1000000, 0)"
   ]
  },
  {
   "cell_type": "code",
   "execution_count": 119,
   "metadata": {},
   "outputs": [
    {
     "data": {
      "text/plain": [
       "['54', '66']"
      ]
     },
     "execution_count": 119,
     "metadata": {},
     "output_type": "execute_result"
    }
   ],
   "source": [
    "bruteForceSearch(MITmap, '54', '66', 1000, 100)"
   ]
  },
  {
   "cell_type": "code",
   "execution_count": 66,
   "metadata": {},
   "outputs": [
    {
     "data": {
      "text/plain": [
       "['1', '3', '10', '4', '12', '24', '34', '36', '32']"
      ]
     },
     "execution_count": 66,
     "metadata": {},
     "output_type": "execute_result"
    }
   ],
   "source": [
    "['1', '3', '10', '4', '12', '24', '34', '36', '32']"
   ]
  },
  {
   "cell_type": "code",
   "execution_count": 131,
   "metadata": {},
   "outputs": [
    {
     "data": {
      "text/plain": [
       "['26', '16', '56', '18']"
      ]
     },
     "execution_count": 131,
     "metadata": {},
     "output_type": "execute_result"
    }
   ],
   "source": [
    "bruteForceSearch(MITmap, '26', '18', 1000, 500)"
   ]
  },
  {
   "cell_type": "code",
   "execution_count": 24,
   "metadata": {},
   "outputs": [],
   "source": [
    "# Problem 4: Finding the Shorest Path using Optimized Search Method\n",
    "#\n",
    "class PathNotFoundError(Exception):\n",
    "    pass\n",
    "\n",
    "\n",
    "def directedDFS(digraph, start, end, maxTotalDist, maxDistOutdoors, visited=None, memo=None):\n",
    "    \"\"\"\n",
    "    Finds the shortest path from start to end using directed depth-first.\n",
    "    search approach. The total distance travelled on the path must not\n",
    "    exceed maxTotalDist, and the distance spent outdoor on this path must\n",
    "\tnot exceed maxDisOutdoors.\n",
    "\n",
    "    Parameters: \n",
    "        digraph: instance of class Digraph or its subclass\n",
    "        start, end: start & end building numbers (strings)\n",
    "        maxTotalDist : maximum total distance on a path (integer)\n",
    "        maxDistOutdoors: maximum distance spent outdoors on a path (integer)\n",
    "\n",
    "    Assumes:\n",
    "        start and end are numbers for existing buildings in graph\n",
    "\n",
    "    Returns:\n",
    "        The shortest-path from start to end, represented by \n",
    "        a list of building numbers (in strings), [n_1, n_2, ..., n_k], \n",
    "        where there exists an edge from n_i to n_(i+1) in digraph, \n",
    "        for all 1 <= i < k.\n",
    "\n",
    "        If there exists no path that satisfies maxTotalDist and\n",
    "        maxDistOutdoors constraints, then raises a ValueError.\n",
    "    \"\"\"\n",
    "    #TODO: DONE   \n",
    "\n",
    "    if visited == None:\n",
    "        visited = []\n",
    "    if memo == None:\n",
    "        memo = {}\n",
    "    start = Node(start)\n",
    "    end = Node(end)\n",
    "    if not (digraph.hasNode(start) and digraph.hasNode(end)):\n",
    "        raise ValueError('Start or end not in graph.')\n",
    "    shortest = None\n",
    "    shortest_dist = maxTotalDist\n",
    "    shortest_outDist = maxDistOutdoors\n",
    "    path = [str(start)]\n",
    "    if start == end:\n",
    "        return path\n",
    "    for node in digraph.childrenOf(start):\n",
    "        if (str(node) not in visited): #avoid cycles\n",
    "            new_visited = visited + [str(node)]\n",
    "            try:\n",
    "                newPath = memo[node,end]\n",
    "            except KeyError:\n",
    "                try:\n",
    "                    newPath = directedDFS(digraph, str(node), str(end), maxTotalDist, maxDistOutdoors, new_visited, memo)\n",
    "                except ValueError:\n",
    "                    continue\n",
    "            pathDist, pathOutDist = totalPath(digraph, newPath)\n",
    "            totalDist, totalOutDist = totalPath(digraph, (path+newPath))\n",
    "            if (totalDist <= maxTotalDist) and (totalOutDist <= maxDistOutdoors):  \n",
    "                if (shortest == None) or (pathDist <= shortest_dist):\n",
    "                    if pathDist < shortest_dist:\n",
    "                        shortest_dist = pathDist\n",
    "                        shortest_outDist = pathOutDist\n",
    "                        shortest = newPath\n",
    "                        memo[node, end] = newPath\n",
    "                    else:\n",
    "                        if pathOutDist < shortest_outDist:\n",
    "                            shortest_dist = psthDist\n",
    "                            shortest_outDist = pathOutDist\n",
    "                            shortest = newPath\n",
    "                            memo[node, end] = newPath\n",
    "                        else:\n",
    "                            continue            \n",
    "    if shortest != None:\n",
    "        path = path + shortest\n",
    "        totalDist, totalOutDist = totalPath(digraph, path)\n",
    "        return path\n",
    "    else:\n",
    "        raise ValueError"
   ]
  },
  {
   "cell_type": "code",
   "execution_count": 25,
   "metadata": {},
   "outputs": [
    {
     "data": {
      "text/plain": [
       "['1', '3', '10', '4', '12', '24', '34', '36', '32']"
      ]
     },
     "execution_count": 25,
     "metadata": {},
     "output_type": "execute_result"
    }
   ],
   "source": [
    "directedDFS(MITmap, '1', '32', 100000, 0)"
   ]
  },
  {
   "cell_type": "code",
   "execution_count": 31,
   "metadata": {},
   "outputs": [
    {
     "name": "stdout",
     "output_type": "stream",
     "text": [
      "{5: (20, 0), 3: (25, 0), 9: (20, 0)}\n"
     ]
    }
   ],
   "source": [
    "print(MITmap.edges[Node('7')])"
   ]
  },
  {
   "cell_type": "code",
   "execution_count": 35,
   "metadata": {},
   "outputs": [
    {
     "name": "stdout",
     "output_type": "stream",
     "text": [
      "Loading map from file...\n",
      "Loaded 129 map legs\n",
      "---------------\n",
      "Test case 1:\n",
      "Find the shortest-path from Building 32 to 56\n",
      "Expected:  ['32', '56']\n",
      "Brute-force:  ['32', '56']\n",
      "DFS:  ['32', '56']\n",
      "---------------\n",
      "Test case 2:\n",
      "Find the shortest-path from Building 32 to 56 without going outdoors\n",
      "Expected:  ['32', '36', '26', '16', '56']\n",
      "Brute-force:  ['32', '36', '26', '16', '56']\n",
      "DFS:  ['32', '36', '26', '16', '56']\n",
      "---------------\n",
      "Test case 3:\n",
      "Find the shortest-path from Building 2 to 9\n",
      "Expected:  ['2', '3', '7', '9']\n",
      "Brute-force:  ['2', '3', '7', '9']\n",
      "DFS:  ['2', '3', '7', '9']\n",
      "---------------\n",
      "Test case 4:\n",
      "Find the shortest-path from Building 2 to 9 without going outdoors\n",
      "Expected:  ['2', '4', '10', '13', '9']\n",
      "Brute-force:  ['2', '4', '10', '13', '9']\n",
      "DFS:  ['2', '4', '10', '3', '7', '9']\n",
      "---------------\n",
      "Test case 5:\n",
      "Find the shortest-path from Building 1 to 32\n",
      "Expected:  ['1', '4', '12', '32']\n",
      "Brute-force:  ['1', '4', '12', '32']\n",
      "DFS:  ['1', '4', '12', '32']\n",
      "---------------\n",
      "Test case 6:\n",
      "Find the shortest-path from Building 1 to 32 without going outdoors\n",
      "Expected:  ['1', '3', '10', '4', '12', '24', '34', '36', '32']\n",
      "Brute-force:  ['1', '3', '10', '4', '12', '24', '34', '36', '32']\n",
      "DFS:  ['1', '3', '10', '4', '12', '24', '34', '36', '32']\n",
      "---------------\n",
      "Test case 7:\n",
      "Find the shortest-path from Building 8 to 50 without going outdoors\n",
      "Expected: No such path! Should throw a value error.\n",
      "Did brute force search raise an error? Yes\n",
      "Did DFS search raise an error? Yes\n",
      "---------------\n",
      "Test case 8:\n",
      "Find the shortest-path from Building 10 to 32 without walking\n",
      "more than 100 meters in total\n",
      "Expected: No such path! Should throw a value error.\n",
      "Did brute force search raise an error? Yes\n",
      "Did DFS search raise an error? Yes\n"
     ]
    }
   ],
   "source": [
    "# Uncomment below when ready to test\n",
    "if __name__ == '__main__':\n",
    "   # Test cases\n",
    "   digraph = load_map(\"mit_map.txt\")\n",
    "\n",
    "   LARGE_DIST = 1000000\n",
    "\n",
    "   # Test case 1\n",
    "   print (\"---------------\")\n",
    "   print (\"Test case 1:\")\n",
    "   print (\"Find the shortest-path from Building 32 to 56\")\n",
    "   expectedPath1 = ['32', '56']\n",
    "   brutePath1 = bruteForceSearch(digraph, '32', '56', LARGE_DIST, LARGE_DIST)\n",
    "   dfsPath1 = directedDFS(digraph, '32', '56', LARGE_DIST, LARGE_DIST)\n",
    "   print (\"Expected: \", expectedPath1)\n",
    "   print (\"Brute-force: \", brutePath1)\n",
    "   print (\"DFS: \", dfsPath1)\n",
    "\n",
    "   # Test case 2\n",
    "   print (\"---------------\")\n",
    "   print (\"Test case 2:\")\n",
    "   print (\"Find the shortest-path from Building 32 to 56 without going outdoors\")\n",
    "   expectedPath2 = ['32', '36', '26', '16', '56']\n",
    "   brutePath2 = bruteForceSearch(digraph, '32', '56', LARGE_DIST, 0)\n",
    "   dfsPath2 = directedDFS(digraph, '32', '56', LARGE_DIST, 0)\n",
    "   print (\"Expected: \", expectedPath2)\n",
    "   print (\"Brute-force: \", brutePath2)\n",
    "   print (\"DFS: \", dfsPath2)\n",
    "\n",
    "   # Test case 3\n",
    "   print (\"---------------\")\n",
    "   print (\"Test case 3:\")\n",
    "   print (\"Find the shortest-path from Building 2 to 9\")\n",
    "   expectedPath3 = ['2', '3', '7', '9']\n",
    "   brutePath3 = bruteForceSearch(digraph, '2', '9', LARGE_DIST, LARGE_DIST)\n",
    "   dfsPath3 = directedDFS(digraph, '2', '9', LARGE_DIST, LARGE_DIST)\n",
    "   print (\"Expected: \", expectedPath3)\n",
    "   print (\"Brute-force: \", brutePath3)\n",
    "   print (\"DFS: \", dfsPath3)\n",
    "\n",
    "   # Test case 4\n",
    "   print(\"---------------\")\n",
    "   print(\"Test case 4:\")\n",
    "   print(\"Find the shortest-path from Building 2 to 9 without going outdoors\")\n",
    "   expectedPath4 = ['2', '4', '10', '13', '9']\n",
    "   brutePath4 = bruteForceSearch(digraph, '2', '9', LARGE_DIST, 0)\n",
    "   dfsPath4 = directedDFS(digraph, '2', '9', LARGE_DIST, 0)\n",
    "   print(\"Expected: \", expectedPath4)\n",
    "   print(\"Brute-force: \", brutePath4)\n",
    "   print(\"DFS: \", dfsPath4)\n",
    "\n",
    "   # Test case 5\n",
    "   print(\"---------------\")\n",
    "   print(\"Test case 5:\")\n",
    "   print(\"Find the shortest-path from Building 1 to 32\")\n",
    "   expectedPath5 = ['1', '4', '12', '32']\n",
    "   brutePath5 = bruteForceSearch(digraph, '1', '32', LARGE_DIST, LARGE_DIST)\n",
    "   dfsPath5 = directedDFS(digraph, '1', '32', LARGE_DIST, LARGE_DIST)\n",
    "   print(\"Expected: \", expectedPath5)\n",
    "   print(\"Brute-force: \", brutePath5)\n",
    "   print(\"DFS: \", dfsPath5)\n",
    "\n",
    "   # Test case 6\n",
    "   print(\"---------------\")\n",
    "   print(\"Test case 6:\")\n",
    "   print(\"Find the shortest-path from Building 1 to 32 without going outdoors\")\n",
    "   expectedPath6 = ['1', '3', '10', '4', '12', '24', '34', '36', '32']\n",
    "   brutePath6 = bruteForceSearch(digraph, '1', '32', LARGE_DIST, 0)\n",
    "   dfsPath6 = directedDFS(digraph, '1', '32', LARGE_DIST, 0)\n",
    "   print(\"Expected: \", expectedPath6)\n",
    "   print(\"Brute-force: \", brutePath6)\n",
    "   print(\"DFS: \", dfsPath6)\n",
    "\n",
    "   # Test case 7\n",
    "   print(\"---------------\")\n",
    "   print(\"Test case 7:\")\n",
    "   print(\"Find the shortest-path from Building 8 to 50 without going outdoors\")\n",
    "   bruteRaisedErr = 'No'\n",
    "   dfsRaisedErr = 'No'\n",
    "   try:\n",
    "       bruteForceSearch(digraph, '8', '50', LARGE_DIST, 0)\n",
    "   except ValueError:\n",
    "       bruteRaisedErr = 'Yes'\n",
    "   \n",
    "   try:\n",
    "       directedDFS(digraph, '8', '50', LARGE_DIST, 0)\n",
    "   except ValueError:\n",
    "       dfsRaisedErr = 'Yes'\n",
    "   \n",
    "   print(\"Expected: No such path! Should throw a value error.\")\n",
    "   print(\"Did brute force search raise an error?\", bruteRaisedErr)\n",
    "   print(\"Did DFS search raise an error?\", dfsRaisedErr)\n",
    "\n",
    "   # Test case 8\n",
    "   print(\"---------------\")\n",
    "   print(\"Test case 8:\")\n",
    "   print(\"Find the shortest-path from Building 10 to 32 without walking\")\n",
    "   print(\"more than 100 meters in total\")\n",
    "   bruteRaisedErr = 'No'\n",
    "   dfsRaisedErr = 'No'\n",
    "   try:\n",
    "       bruteForceSearch(digraph, '10', '32', 100, LARGE_DIST)\n",
    "   except ValueError:\n",
    "       bruteRaisedErr = 'Yes'\n",
    "   \n",
    "   try:\n",
    "       directedDFS(digraph, '10', '32', 100, LARGE_DIST)\n",
    "   except ValueError:\n",
    "       dfsRaisedErr = 'Yes'\n",
    "   \n",
    "   print(\"Expected: No such path! Should throw a value error.\")\n",
    "   print(\"Did brute force search raise an error?\", bruteRaisedErr)\n",
    "   print(\"Did DFS search raise an error?\", dfsRaisedErr)\n",
    "\n"
   ]
  }
 ],
 "metadata": {
  "kernelspec": {
   "display_name": "Python 3",
   "language": "python",
   "name": "python3"
  },
  "language_info": {
   "codemirror_mode": {
    "name": "ipython",
    "version": 3
   },
   "file_extension": ".py",
   "mimetype": "text/x-python",
   "name": "python",
   "nbconvert_exporter": "python",
   "pygments_lexer": "ipython3",
   "version": "3.7.3"
  }
 },
 "nbformat": 4,
 "nbformat_minor": 2
}
