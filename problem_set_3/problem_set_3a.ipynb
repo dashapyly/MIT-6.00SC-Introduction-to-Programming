{
 "cells": [
  {
   "cell_type": "code",
   "execution_count": 1,
   "metadata": {},
   "outputs": [],
   "source": [
    "# 6.00 Problem Set 3A Solutions\n",
    "#\n",
    "# The 6.00 Word Game\n",
    "# Created by: Kevin Luu <luuk> and Jenna Wiens <jwiens>\n",
    "#\n",
    "#\n",
    "\n",
    "import random\n",
    "import string\n",
    "\n",
    "VOWELS = 'aeiou'\n",
    "CONSONANTS = 'bcdfghjklmnpqrstvwxyz'\n",
    "HAND_SIZE = 7\n",
    "\n",
    "SCRABBLE_LETTER_VALUES = {\n",
    "    'a': 1, 'b': 3, 'c': 3, 'd': 2, 'e': 1, 'f': 4, 'g': 2, 'h': 4, 'i': 1, 'j': 8, 'k': 5, 'l': 1, 'm': 3, \n",
    "    'n': 1, 'o': 1, 'p': 3, 'q': 10, 'r': 1, 's': 1, 't': 1, 'u': 1, 'v': 4, 'w': 4, 'x': 8, 'y': 4, 'z': 10\n",
    "}\n",
    "\n",
    "# -----------------------------------\n",
    "# Helper code\n",
    "# (you don't need to understand this helper code)\n",
    "\n",
    "WORDLIST_FILENAME = \"words.txt\"\n",
    "\n",
    "def load_words():\n",
    "    \"\"\"\n",
    "    Returns a list of valid words. Words are strings of lowercase letters.\n",
    "    \n",
    "    Depending on the size of the word list, this function may\n",
    "    take a while to finish.\n",
    "    \"\"\"\n",
    "    print (\"Loading word list from file...\")\n",
    "    # inFile: file\n",
    "    inFile = open(WORDLIST_FILENAME, 'r')\n",
    "    # wordlist: list of strings\n",
    "    wordlist = []\n",
    "    for line in inFile:\n",
    "        wordlist.append(line.strip().lower())\n",
    "    print (\"  \", len(wordlist), \"words loaded.\")\n",
    "    return wordlist\n",
    "\n",
    "\n",
    "def get_frequency_dict(sequence):\n",
    "    \"\"\"\n",
    "    Returns a dictionary where the keys are elements of the sequence\n",
    "    and the values are integer counts, for the number of times that\n",
    "    an element is repeated in the sequence.\n",
    "\n",
    "    sequence: string or list\n",
    "    return: dictionary\n",
    "    \"\"\"\n",
    "    # freqs: dictionary (element_type -> int)\n",
    "    freq = {}\n",
    "    for x in sequence:\n",
    "        freq[x] = freq.get(x,0) + 1\n",
    "    return freq\n",
    "\t\n"
   ]
  },
  {
   "cell_type": "code",
   "execution_count": 2,
   "metadata": {},
   "outputs": [
    {
     "name": "stdout",
     "output_type": "stream",
     "text": [
      "{'h': 1, 'e': 1, 'l': 2, 'o': 1}\n",
      "Loading word list from file...\n",
      "   83667 words loaded.\n"
     ]
    }
   ],
   "source": [
    "print(get_frequency_dict('hello'))\n",
    "# (end of helper code)\n",
    "word_list = load_words()"
   ]
  },
  {
   "cell_type": "code",
   "execution_count": 3,
   "metadata": {},
   "outputs": [],
   "source": [
    "# Problem #1: Scoring a word\n",
    "#\n",
    "def get_word_score(word, n):\n",
    "    \"\"\"\n",
    "    Returns the score for a word. Assumes the word is a\n",
    "    valid word.\n",
    "\n",
    "\tThe score for a word is the sum of the points for letters\n",
    "\tin the word multiplied by the length of the word, plus 50\n",
    "\tpoints if all n letters are used on the first go.\n",
    "\n",
    "\tLetters are scored as in Scrabble; A is worth 1, B is\n",
    "\tworth 3, C is worth 3, D is worth 2, E is worth 1, and so on.\n",
    "\n",
    "    word: string (lowercase letters)\n",
    "    returns: int >= 0\n",
    "    \"\"\"\n",
    "    # TO DO...\n",
    "   \n",
    "    letter_score = 0\n",
    "    for letter in word:\n",
    "        letter_score = letter_score + SCRABBLE_LETTER_VALUES[letter]\n",
    "    if len(word) == n:\n",
    "        score = letter_score * len(word) + 50\n",
    "    else: \n",
    "        score = letter_score * len(word)\n",
    "    return score"
   ]
  },
  {
   "cell_type": "code",
   "execution_count": 4,
   "metadata": {},
   "outputs": [
    {
     "name": "stdout",
     "output_type": "stream",
     "text": [
      "28\n"
     ]
    }
   ],
   "source": [
    "print(get_word_score('blog', HAND_SIZE))"
   ]
  },
  {
   "cell_type": "code",
   "execution_count": 5,
   "metadata": {
    "collapsed": true
   },
   "outputs": [],
   "source": [
    "# Make sure you understand how this function works and what it does!\n",
    "\n",
    "def display_hand(hand):\n",
    "    \"\"\"\n",
    "    Displays the letters currently in the hand.\n",
    "\n",
    "    For example:\n",
    "       display_hand({'a':1, 'x':2, 'l':3, 'e':1})\n",
    "    Should print out something like:\n",
    "       a x x l l l e\n",
    "    The order of the letters is unimportant.\n",
    "\n",
    "    hand: dictionary (string -> int)\n",
    "    \"\"\"\n",
    "    for letter in hand.keys():\n",
    "        for j in range(hand[letter]):\n",
    "             print (letter, end=' ')              # print all on the same line\n",
    "    print()                               # print an empty line"
   ]
  },
  {
   "cell_type": "code",
   "execution_count": 6,
   "metadata": {
    "collapsed": true
   },
   "outputs": [],
   "source": [
    "# Make sure you understand how this function works and what it does!\n",
    "\n",
    "def deal_hand(n):\n",
    "    \"\"\"\n",
    "    Returns a random hand containing n lowercase letters.\n",
    "    At least n/3 the letters in the hand should be VOWELS.\n",
    "\n",
    "    Hands are represented as dictionaries. The keys are\n",
    "    letters and the values are the number of times the\n",
    "    particular letter is repeated in that hand.\n",
    "\n",
    "    n: int >= 0\n",
    "    returns: dictionary (string -> int)\n",
    "    \"\"\"\n",
    "    hand={}\n",
    "    num_vowels = round(n / 3)  \n",
    "    \n",
    "    for i in range(num_vowels):\n",
    "        x = VOWELS[random.randrange(0,len(VOWELS))]\n",
    "        hand[x] = hand.get(x, 0) + 1\n",
    "        \n",
    "    for i in range(num_vowels, n):    \n",
    "        x = CONSONANTS[random.randrange(0,len(CONSONANTS))]\n",
    "        hand[x] = hand.get(x, 0) + 1\n",
    "    \n",
    "    return hand"
   ]
  },
  {
   "cell_type": "code",
   "execution_count": 7,
   "metadata": {},
   "outputs": [
    {
     "name": "stdout",
     "output_type": "stream",
     "text": [
      "{'e': 1, 'u': 1, 'f': 1, 'z': 1, 'v': 1, 'k': 1, 'y': 1}\n",
      "e u f z v k y \n"
     ]
    }
   ],
   "source": [
    "hand = deal_hand(HAND_SIZE)\n",
    "print(hand)\n",
    "display_hand(hand)"
   ]
  },
  {
   "cell_type": "code",
   "execution_count": 8,
   "metadata": {
    "collapsed": true
   },
   "outputs": [],
   "source": [
    "# Problem #2: Update a hand by removing letters"
   ]
  },
  {
   "cell_type": "code",
   "execution_count": 9,
   "metadata": {},
   "outputs": [],
   "source": [
    "def count_letter(word, letter):\n",
    "    count = 0\n",
    "    for item in word:\n",
    "        if item == letter:\n",
    "            count +=1\n",
    "    return count      "
   ]
  },
  {
   "cell_type": "code",
   "execution_count": 10,
   "metadata": {},
   "outputs": [
    {
     "data": {
      "text/plain": [
       "2"
      ]
     },
     "execution_count": 10,
     "metadata": {},
     "output_type": "execute_result"
    }
   ],
   "source": [
    "count_letter(\"hello\", \"l\")"
   ]
  },
  {
   "cell_type": "code",
   "execution_count": 11,
   "metadata": {},
   "outputs": [],
   "source": [
    "def update_hand(hand, word):\n",
    "    \"\"\"\n",
    "    Assumes that 'hand' has all the letters in word.\n",
    "\tIn other words, this assumes that however many times\n",
    "\ta letter appears in 'word', 'hand' has at least as\n",
    "\tmany of that letter in it. \n",
    "\n",
    "    Updates the hand: uses up the letters in the given word\n",
    "    and returns the new hand, without those letters in it.\n",
    "\n",
    "    Has no side effects: does not modify hand.\n",
    "\n",
    "    word: string\n",
    "    hand: dictionary (string -> int)    \n",
    "    returns: dictionary (string -> int)\n",
    "    \"\"\"\n",
    "    # TO DO ...\n",
    "    new_hand = {}\n",
    "    for letter in hand:\n",
    "        new_hand[letter] = hand[letter] - count_letter(word, letter)\n",
    "        if new_hand[letter] == 0:\n",
    "            del new_hand[letter]\n",
    "    return new_hand"
   ]
  },
  {
   "cell_type": "code",
   "execution_count": 12,
   "metadata": {},
   "outputs": [
    {
     "name": "stdout",
     "output_type": "stream",
     "text": [
      "{'a': 1, 'u': 1, 'r': 1, 't': 1, 'b': 1, 'y': 1, 'q': 1}\n",
      "a u r t b y q \n"
     ]
    }
   ],
   "source": [
    "hand_temp = deal_hand(HAND_SIZE)\n",
    "print(hand_temp)\n",
    "display_hand(hand_temp)"
   ]
  },
  {
   "cell_type": "code",
   "execution_count": 13,
   "metadata": {},
   "outputs": [
    {
     "data": {
      "text/plain": [
       "{'c': 1, 'g': 1, 'q': 1}"
      ]
     },
     "execution_count": 13,
     "metadata": {},
     "output_type": "execute_result"
    }
   ],
   "source": [
    "test_hand = {'e': 2, 'd': 1, 'c': 1, 'q': 1, 'g': 2}\n",
    "update_hand(test_hand, \"edge\")"
   ]
  },
  {
   "cell_type": "code",
   "execution_count": 14,
   "metadata": {},
   "outputs": [],
   "source": [
    "# Problem #3: Test word validity\n",
    "\n",
    "def is_valid_word(word, hand, word_list):\n",
    "    \"\"\"\n",
    "    Returns True if word is in the word_list and is entirely\n",
    "    composed of letters in the hand. Otherwise, returns False.\n",
    "    Does not mutate hand or word_list.\n",
    "    \n",
    "    word: string\n",
    "    hand: dictionary (string -> int)\n",
    "    word_list: list of lowercase strings\n",
    "    \"\"\"\n",
    "    # TO DO...\n",
    "    for letter in word:\n",
    "        if hand.get(letter,0) < count_letter(word,letter):\n",
    "            return False\n",
    "        else: \n",
    "            pass\n",
    "        \n",
    "    if word in word_list:\n",
    "        return True\n",
    "    else: \n",
    "        return False"
   ]
  },
  {
   "cell_type": "code",
   "execution_count": 27,
   "metadata": {
    "collapsed": true
   },
   "outputs": [],
   "source": [
    "def calculate_handlen(hand):\n",
    "    handlen = 0\n",
    "    for v in hand.values():\n",
    "        handlen += v\n",
    "    return handlen"
   ]
  },
  {
   "cell_type": "code",
   "execution_count": 15,
   "metadata": {},
   "outputs": [
    {
     "name": "stdout",
     "output_type": "stream",
     "text": [
      "{'e': 1, 'u': 1, 'f': 1, 'z': 1, 'v': 1, 'k': 1, 'y': 1}\n"
     ]
    }
   ],
   "source": [
    "print(hand)"
   ]
  },
  {
   "cell_type": "code",
   "execution_count": 16,
   "metadata": {},
   "outputs": [
    {
     "name": "stdout",
     "output_type": "stream",
     "text": [
      "False\n"
     ]
    }
   ],
   "source": [
    "print(is_valid_word('cheat', hand, word_list))  "
   ]
  },
  {
   "cell_type": "code",
   "execution_count": 18,
   "metadata": {},
   "outputs": [],
   "source": [
    "# Problem #4: Playing a hand\n",
    "\n",
    "def play_hand(hand, word_list):\n",
    "\n",
    "    \"\"\"\n",
    "    Allows the user to play the given hand, as follows:\n",
    "\n",
    "    * The hand is displayed.\n",
    "    \n",
    "    * The user may input a word.\n",
    "\n",
    "    * An invalid word is rejected, and a message is displayed asking\n",
    "      the user to choose another word.\n",
    "\n",
    "    * When a valid word is entered, it uses up letters from the hand.\n",
    "\n",
    "    * After every valid word: the score for that word is displayed,\n",
    "      the remaining letters in the hand are displayed, and the user\n",
    "      is asked to input another word.\n",
    "\n",
    "    * The sum of the word scores is displayed when the hand finishes.\n",
    "\n",
    "    * The hand finishes when there are no more unused letters.\n",
    "      The user can also finish playing the hand by inputing a single\n",
    "      period (the string '.') instead of a word.\n",
    "\n",
    "      hand: dictionary (string -> int)\n",
    "      word_list: list of lowercase strings\n",
    "      \n",
    "    \"\"\"\n",
    "\n",
    "    total_points = 0\n",
    "    \n",
    "    while calculate_handlen(hand) > 0: \n",
    "        print(\"Current hand:\", end=\" \")\n",
    "        display_hand(hand)\n",
    "        word = input(\"Enter word, or '.' to indicate that you are finished: \")    \n",
    "        if word == \".\":\n",
    "            print()\n",
    "            break\n",
    "        if not is_valid_word(word, hand, word_list):\n",
    "            print('Invalid word, please try again.')\n",
    "            print()\n",
    "            continue\n",
    "        hand = update_hand(hand, word)\n",
    "        total_points += get_word_score(word, HAND_SIZE)\n",
    "        print('\"{}\" earned {} points. Total: {} points.'.format(word, get_word_score(word, HAND_SIZE), total_points)) \n",
    "        print()\n",
    "    print(\"Total:\", total_points, \"points.\")"
   ]
  },
  {
   "cell_type": "code",
   "execution_count": 19,
   "metadata": {},
   "outputs": [
    {
     "name": "stdout",
     "output_type": "stream",
     "text": [
      "Current hand: i e x x x k n \n",
      "Enter word, or '.' to indicate that you are finished: ex\n",
      "\"ex\" earned 18 points. Total: 18 points.\n",
      "\n",
      "Current hand: i x x k n \n",
      "Enter word, or '.' to indicate that you are finished: ix\n",
      "Invalid word, please try again.\n",
      "\n",
      "Current hand: i x x k n \n",
      "Enter word, or '.' to indicate that you are finished: nix\n",
      "\"nix\" earned 30 points. Total: 48 points.\n",
      "\n",
      "Current hand: x k \n",
      "Enter word, or '.' to indicate that you are finished: .\n",
      "\n",
      "Total: 48 points.\n"
     ]
    }
   ],
   "source": [
    "hand = deal_hand(HAND_SIZE)\n",
    "play_hand(hand, word_list) "
   ]
  },
  {
   "cell_type": "code",
   "execution_count": 20,
   "metadata": {},
   "outputs": [],
   "source": [
    "# Problem #5: Playing a game\n",
    "\n",
    "def play_game(word_list):\n",
    "    \"\"\"\n",
    "    Allow the user to play an arbitrary number of hands.\n",
    "\n",
    "    * Asks the user to input 'n' or 'r' or 'e'.\n",
    "\n",
    "    * If the user inputs 'n', let the user play a new (random) hand.\n",
    "      When done playing the hand, ask the 'n' or 'e' question again.\n",
    "\n",
    "    * If the user inputs 'r', let the user play the last hand again.\n",
    "\n",
    "    * If the user inputs 'e', exit the game.\n",
    "\n",
    "    * If the user inputs anything else, ask them again.\n",
    "    \"\"\"\n",
    "    hand = None\n",
    "    while True:\n",
    "        print()\n",
    "        user_input = input(\"Enter either 'n' to play a new hand, or 'r' to replay the previous hand, or 'e' to exit game: \") \n",
    "        print()\n",
    "        if user_input == 'n':\n",
    "            hand = deal_hand(HAND_SIZE)\n",
    "            play_hand(hand, word_list)\n",
    "        elif user_input == 'r':\n",
    "            if hand is None:\n",
    "                continue\n",
    "            else:\n",
    "                play_hand(hand, word_list)\n",
    "        elif user_input == 'e':\n",
    "            break\n",
    "        else:\n",
    "            continue"
   ]
  },
  {
   "cell_type": "code",
   "execution_count": 23,
   "metadata": {},
   "outputs": [
    {
     "name": "stdout",
     "output_type": "stream",
     "text": [
      "\n",
      "Enter either 'n' to play a new hand, or 'r' to replay the previous hand, or 'e' to exit game: n\n",
      "\n",
      "Current hand: a e h r x q s \n",
      "Enter word, or '.' to indicate that you are finished: sex\n",
      "\"sex\" earned 30 points. Total: 30 points.\n",
      "\n",
      "Current hand: a h r q \n",
      "Enter word, or '.' to indicate that you are finished: ah\n",
      "\"ah\" earned 10 points. Total: 40 points.\n",
      "\n",
      "Current hand: r q \n",
      "Enter word, or '.' to indicate that you are finished: .\n",
      "\n",
      "Total: 40 points.\n",
      "\n",
      "Enter either 'n' to play a new hand, or 'r' to replay the previous hand, or 'e' to exit game: e\n",
      "\n"
     ]
    }
   ],
   "source": [
    "play_game(word_list)"
   ]
  },
  {
   "cell_type": "code",
   "execution_count": 24,
   "metadata": {
    "collapsed": true
   },
   "outputs": [],
   "source": [
    "\n",
    "def play_game_02(word_list):\n",
    "    \"\"\"\n",
    "    Allow the user to play an arbitrary number of hands.\n",
    "\n",
    "    * Asks the user to input 'n' or 'r' or 'e'.\n",
    "\n",
    "    * If the user inputs 'n', let the user play a new (random) hand.\n",
    "      When done playing the hand, ask the 'n' or 'e' question again.\n",
    "\n",
    "    * If the user inputs 'r', let the user play the last hand again.\n",
    "\n",
    "    * If the user inputs 'e', exit the game.\n",
    "\n",
    "    * If the user inputs anything else, ask them again.\n",
    "    \"\"\"\n",
    "    hand = None\n",
    "    while True:\n",
    "        print()\n",
    "        user_input = input(\"Enter either 'n' to play a new hand, or 'r' to replay the previous hand, or 'e' to exit game: \")\n",
    "        print()\n",
    "        if user_input == 'n':\n",
    "            hand = deal_hand(HAND_SIZE)\n",
    "        elif user_input == 'e':\n",
    "            break\n",
    "        elif user_input == 'r':\n",
    "            if hand is None:\n",
    "                continue\n",
    "        else:\n",
    "            continue\n",
    "        play_hand(hand, word_list)\n"
   ]
  },
  {
   "cell_type": "code",
   "execution_count": 25,
   "metadata": {},
   "outputs": [
    {
     "name": "stdout",
     "output_type": "stream",
     "text": [
      "\n",
      "Enter either 'n' to play a new hand, or 'r' to replay the previous hand, or 'e' to exit game: n\n",
      "\n",
      "Current hand: e a s w l k x \n",
      "Enter word, or '.' to indicate that you are finished: walk\n",
      "\"walk\" earned 44 points. Total: 44 points.\n",
      "\n",
      "Current hand: e s x \n",
      "Enter word, or '.' to indicate that you are finished: sex\n",
      "\"sex\" earned 30 points. Total: 74 points.\n",
      "\n",
      "Total: 74 points.\n",
      "\n",
      "Enter either 'n' to play a new hand, or 'r' to replay the previous hand, or 'e' to exit game: e\n",
      "\n"
     ]
    }
   ],
   "source": [
    "play_game_02(word_list)"
   ]
  },
  {
   "cell_type": "code",
   "execution_count": null,
   "metadata": {
    "collapsed": true
   },
   "outputs": [],
   "source": [
    "if __name__ == '__main__':\n",
    "    word_list = load_words()\n",
    "    play_game(word_list)"
   ]
  }
 ],
 "metadata": {
  "kernelspec": {
   "display_name": "Python 3",
   "language": "python",
   "name": "python3"
  },
  "language_info": {
   "codemirror_mode": {
    "name": "ipython",
    "version": 3
   },
   "file_extension": ".py",
   "mimetype": "text/x-python",
   "name": "python",
   "nbconvert_exporter": "python",
   "pygments_lexer": "ipython3",
   "version": "3.7.3"
  }
 },
 "nbformat": 4,
 "nbformat_minor": 2
}
