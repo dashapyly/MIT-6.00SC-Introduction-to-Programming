{
 "cells": [
  {
   "cell_type": "code",
   "execution_count": 1,
   "metadata": {},
   "outputs": [],
   "source": [
    "%load_ext autoreload\n",
    "%autoreload 2"
   ]
  },
  {
   "cell_type": "code",
   "execution_count": 2,
   "metadata": {},
   "outputs": [],
   "source": [
    "import perm\n",
    "import problem_set_3a\n",
    "import time"
   ]
  },
  {
   "cell_type": "code",
   "execution_count": 3,
   "metadata": {},
   "outputs": [
    {
     "data": {
      "text/plain": [
       "'hello world'"
      ]
     },
     "execution_count": 3,
     "metadata": {},
     "output_type": "execute_result"
    }
   ],
   "source": [
    "perm.foo()"
   ]
  },
  {
   "cell_type": "code",
   "execution_count": 4,
   "metadata": {},
   "outputs": [],
   "source": [
    "from problem_set_3a import *\n",
    "import time\n",
    "from perm import *"
   ]
  },
  {
   "cell_type": "code",
   "execution_count": 5,
   "metadata": {
    "collapsed": true
   },
   "outputs": [],
   "source": [
    "#Search for words in word_list\n",
    "\n",
    "def bSearch(L, e, low, high):\n",
    "    if high - low < 2:\n",
    "        return L[low] == e or L[high] == e\n",
    "    mid = low + int((high - low)/2)\n",
    "    if L[mid] == e:\n",
    "        return True\n",
    "    if L[mid] > e:\n",
    "        return bSearch(L, e, low, mid - 1)\n",
    "    else:\n",
    "        return bSearch(L, e, mid + 1, high)\n",
    "def search(L, e):\n",
    "    return bSearch(L, e, 0, len(L) -1)"
   ]
  },
  {
   "cell_type": "code",
   "execution_count": 6,
   "metadata": {},
   "outputs": [
    {
     "name": "stdout",
     "output_type": "stream",
     "text": [
      "Loading word list from file...\n",
      "   83667 words loaded.\n",
      "False\n",
      "True\n"
     ]
    }
   ],
   "source": [
    "#Testing searching if the word exists in the dictionary.\n",
    "word_list = load_words()\n",
    "print(search(word_list, \"aksjdh\"))\n",
    "print(search(word_list, \"love\"))"
   ]
  },
  {
   "cell_type": "code",
   "execution_count": 7,
   "metadata": {},
   "outputs": [],
   "source": [
    "#Sort list of word by scabble score, from high to low\n",
    "\n",
    "def merge(left, right, based_on):\n",
    "    \"\"\"Assumes left and right are sorted lists.\n",
    "     lt defines an ordering on the elements of the lists.\n",
    "     Returns a new sorted(by lt) list containing the same elements\n",
    "     as (left + right) would contain.\"\"\"\n",
    "    result = []\n",
    "    i,j = 0, 0\n",
    "    while i < len(left) and j < len(right):\n",
    "        if based_on(left[i], right[j]):\n",
    "            result.append(left[i])\n",
    "            i += 1\n",
    "        else:\n",
    "            result.append(right[j])\n",
    "            j += 1\n",
    "    while (i < len(left)):\n",
    "        result.append(left[i])\n",
    "        i += 1\n",
    "    while (j < len(right)):\n",
    "        result.append(right[j])\n",
    "        j += 1\n",
    "    return result\n",
    "            \n",
    "def sort(L, high_low_score = lambda x,y: get_word_score(x, HAND_SIZE) > get_word_score(y, HAND_SIZE)):\n",
    "    \"\"\"Returns a new sorted list containing the same elements as L\"\"\"\n",
    "    if len(L) < 2:\n",
    "        return L[:]\n",
    "    else:\n",
    "        middle = int(len(L)/2)\n",
    "        left = sort(L[:middle], high_low_score)\n",
    "        right = sort(L[middle:], high_low_score)\n",
    "        #print ('About to merge', left, 'and', right)\n",
    "        return merge(left, right, high_low_score)"
   ]
  },
  {
   "cell_type": "code",
   "execution_count": 8,
   "metadata": {},
   "outputs": [
    {
     "name": "stdout",
     "output_type": "stream",
     "text": [
      "Sorted list = ['babe', 'az', 'bob', 'bar', 'lob', 'ab', 'c']\n"
     ]
    }
   ],
   "source": [
    "# Testing sorting words by scrabble score\n",
    "\n",
    "test_List = ['ab', 'lob', 'bar', 'babe', 'c', 'bob', 'az']\n",
    "sorted_test_List = sort(test_List)\n",
    "print ('Sorted list =', sorted_test_List)"
   ]
  },
  {
   "cell_type": "code",
   "execution_count": 9,
   "metadata": {},
   "outputs": [],
   "source": [
    "# Problem #6A: Computer chooses a word\n",
    "\n",
    "def comp_choose_word(hand, word_list):\n",
    "    \"\"\"\n",
    "\tGiven a hand and a word_dict, find the word that gives the maximum value score, and return it.\n",
    "   \tThis word should be calculated by considering all possible permutations of lengths 1 to HAND_SIZE.\n",
    "\n",
    "    hand: dictionary (string -> int)\n",
    "    word_list: list (string)\n",
    "    \"\"\"  \n",
    "    perm_hand = []\n",
    "    for i in range (1, (sum(hand.values()) + 1)):\n",
    "        perm_hand_n = get_perms(hand, i)\n",
    "        perm_hand += perm_hand_n\n",
    "    legal_words = []\n",
    "    for perm_word in perm_hand:\n",
    "        if search(word_list, perm_word):\n",
    "            legal_words += [perm_word]\n",
    "        else:\n",
    "            pass\n",
    "    sorted_by_score = sort(legal_words)\n",
    "    if len(sorted_by_score) == 0:\n",
    "        return None\n",
    "    else:\n",
    "        return sorted_by_score[0]         "
   ]
  },
  {
   "cell_type": "code",
   "execution_count": 10,
   "metadata": {},
   "outputs": [
    {
     "name": "stdout",
     "output_type": "stream",
     "text": [
      "jangled\n",
      "jag\n",
      "tug\n"
     ]
    }
   ],
   "source": [
    "#Testing computer choosing a legal word with highest score. Test 1.\n",
    "\n",
    "print(comp_choose_word({'d': 1, 'l': 1, 'e': 1, 'g': 1, 'a': 1, 'n': 1, 'j': 1}, word_list))\n",
    "print(comp_choose_word({'d': 0, 'l': 1, 'e': 1, 'g': 1, 'a': 1, 'n': 0, 'j': 1}, word_list))\n",
    "print(comp_choose_word({'u': 1, 'g': 1, 't': 1}, word_list))"
   ]
  },
  {
   "cell_type": "code",
   "execution_count": 11,
   "metadata": {},
   "outputs": [
    {
     "name": "stdout",
     "output_type": "stream",
     "text": [
      "i u b b n r f \n",
      "35\n"
     ]
    }
   ],
   "source": [
    "#Testing computer choosing a legal word with highest score. Test 2.\n",
    "\n",
    "test_hand = deal_hand(HAND_SIZE)\n",
    "display_hand(test_hand)\n",
    "comp_choose_word(test_hand, word_list)\n",
    "print(get_word_score(comp_choose_word(test_hand, word_list), HAND_SIZE))"
   ]
  },
  {
   "cell_type": "code",
   "execution_count": 12,
   "metadata": {},
   "outputs": [],
   "source": [
    "# Problem #6B: Computer plays a hand\n",
    "\n",
    "def comp_play_hand(hand, word_list):\n",
    "    \"\"\"\n",
    "     Allows the computer to play the given hand, as follows:\n",
    "\n",
    "     * The hand is displayed.\n",
    "\n",
    "     * The computer chooses a word using comp_choose_words(hand, word_dict).\n",
    "\n",
    "     * After every valid word: the score for that word is displayed, \n",
    "       the remaining letters in the hand are displayed, and the computer \n",
    "       chooses another word.\n",
    "\n",
    "     * The sum of the word scores is displayed when the hand finishes.\n",
    "\n",
    "     * The hand finishes when the computer has exhausted its possible choices (i.e. comp_play_hand returns None).\n",
    "\n",
    "     hand: dictionary (string -> int)\n",
    "     word_list: list (string)\n",
    "    \"\"\"\n",
    "    total_points = 0\n",
    "    while comp_choose_word(hand, word_list) is not None:\n",
    "        print(\"Current computer's hand:\", end=\" \")\n",
    "        display_hand(hand)\n",
    "        word = comp_choose_word(hand, word_list)\n",
    "        hand = update_hand(hand, word)\n",
    "        total_points += get_word_score(word, HAND_SIZE)\n",
    "        print('\"{}\" earned {} points for the computer.'.format(word, get_word_score(word, HAND_SIZE)))\n",
    "        print(\"Total computer points: \", total_points, \" points.\")\n",
    "        print()"
   ]
  },
  {
   "cell_type": "code",
   "execution_count": 13,
   "metadata": {},
   "outputs": [
    {
     "name": "stdout",
     "output_type": "stream",
     "text": [
      "abc\n"
     ]
    }
   ],
   "source": [
    "print('a', 'b', 'c', sep=\"\")"
   ]
  },
  {
   "cell_type": "code",
   "execution_count": 15,
   "metadata": {},
   "outputs": [
    {
     "name": "stdout",
     "output_type": "stream",
     "text": [
      "Current computer's hand: u o d h j f r \n",
      "\"fjord\" earned 80 points for the computer.\n",
      "Total computer points:  80  points.\n",
      "\n",
      "Current computer's hand: u h \n",
      "\"uh\" earned 10 points for the computer.\n",
      "Total computer points:  90  points.\n",
      "\n"
     ]
    }
   ],
   "source": [
    "#Testing computer playing a hand:\n",
    "\n",
    "test_hand = deal_hand(HAND_SIZE)\n",
    "comp_play_hand(test_hand, word_list)"
   ]
  },
  {
   "cell_type": "code",
   "execution_count": 19,
   "metadata": {},
   "outputs": [],
   "source": [
    "# Problem #6C: Playing a game\n",
    "\n",
    "def play_game(word_list):\n",
    "    \n",
    "    \"\"\"Allow the user to play an arbitrary number of hands.\n",
    "\n",
    "    1) Asks the user to input 'n' or 'r' or 'e'.\n",
    "    * If the user inputs 'n', play a new (random) hand.\n",
    "    * If the user inputs 'r', play the last hand again.\n",
    "    * If the user inputs 'e', exit the game.\n",
    "    * If the user inputs anything else, ask them again.\n",
    "\n",
    "    2) Ask the user to input a 'u' or a 'c'.\n",
    "    * If the user inputs 'u', let the user play the game as before using play_hand.\n",
    "    * If the user inputs 'c', let the computer play the game using comp_play_hand (created above).\n",
    "    * If the user inputs anything else, ask them again.\n",
    "\n",
    "    3) After the computer or user has played the hand, repeat from step 1\n",
    "\n",
    "    word_list: list (string)\n",
    "    \"\"\"\n",
    "    hand = None\n",
    "    while True:\n",
    "        user_input1 = input(\"Enter either 'n' to play a new hand, \"\n",
    "                            \"'r' to replay the previous hand, \"\n",
    "                            \"or 'e' to exit game: \")\n",
    "        if user_input1 == 'n':\n",
    "            hand = deal_hand(HAND_SIZE)\n",
    "        elif user_input1 == 'r' and hand is not None:\n",
    "            pass\n",
    "        elif user_input1 == 'e':\n",
    "            break\n",
    "        else:\n",
    "            continue\n",
    "\n",
    "        user_input2 = input(\"Enter either 'u' to play a hand, \"\n",
    "                            \"or 'c' to let computer have some fun too: \")\n",
    "        print()\n",
    "        if user_input2 == \"u\":\n",
    "            play_hand(hand, word_list)\n",
    "        if user_input2 == 'c':\n",
    "            comp_play_hand(hand, word_list)\n",
    "        print"
   ]
  },
  {
   "cell_type": "code",
   "execution_count": 20,
   "metadata": {},
   "outputs": [
    {
     "name": "stdout",
     "output_type": "stream",
     "text": [
      "Enter either 'n' to play a new hand, 'r' to replay the previous hand, or 'e' to exit game: d\n",
      "Enter either 'n' to play a new hand, 'r' to replay the previous hand, or 'e' to exit game: v\n",
      "Enter either 'n' to play a new hand, 'r' to replay the previous hand, or 'e' to exit game: n\n",
      "Enter either 'u' to play a hand, or 'c' to let computer have some fun too: c\n",
      "\n",
      "Current computer's hand: a a r f b b d \n",
      "\"farad\" earned 45 points for the computer.\n",
      "Total computer points:  45  points.\n",
      "\n",
      "Enter either 'n' to play a new hand, 'r' to replay the previous hand, or 'e' to exit game: r\n",
      "Enter either 'u' to play a hand, or 'c' to let computer have some fun too: u\n",
      "\n",
      "Current hand: a a r f b b d \n",
      "Enter word, or '.' to indicate that you are finished: bard\n",
      "\"bard\" earned 28 points. Total: 28 points.\n",
      "\n",
      "Current hand: a f b \n",
      "Enter word, or '.' to indicate that you are finished: fab\n",
      "\"fab\" earned 24 points. Total: 52 points.\n",
      "\n",
      "Total: 52 points.\n",
      "Enter either 'n' to play a new hand, 'r' to replay the previous hand, or 'e' to exit game: n\n",
      "Enter either 'u' to play a hand, or 'c' to let computer have some fun too: c\n",
      "\n",
      "Current computer's hand: o o h f r v z \n",
      "\"orzo\" earned 52 points for the computer.\n",
      "Total computer points:  52  points.\n",
      "\n",
      "Enter either 'n' to play a new hand, 'r' to replay the previous hand, or 'e' to exit game: e\n"
     ]
    }
   ],
   "source": [
    "#Testing playing the game with computer\n",
    "\n",
    "play_game(word_list)"
   ]
  },
  {
   "cell_type": "code",
   "execution_count": null,
   "metadata": {},
   "outputs": [],
   "source": [
    "if __name__ == '__main__':\n",
    "    word_list = load_words()\n",
    "    play_game(word_list)"
   ]
  }
 ],
 "metadata": {
  "kernelspec": {
   "display_name": "Python 3",
   "language": "python",
   "name": "python3"
  },
  "language_info": {
   "codemirror_mode": {
    "name": "ipython",
    "version": 3
   },
   "file_extension": ".py",
   "mimetype": "text/x-python",
   "name": "python",
   "nbconvert_exporter": "python",
   "pygments_lexer": "ipython3",
   "version": "3.7.3"
  }
 },
 "nbformat": 4,
 "nbformat_minor": 2
}
