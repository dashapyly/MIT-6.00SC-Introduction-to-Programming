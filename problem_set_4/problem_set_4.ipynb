{
 "cells": [
  {
   "cell_type": "code",
   "execution_count": 1,
   "metadata": {},
   "outputs": [
    {
     "name": "stdout",
     "output_type": "stream",
     "text": [
      "Loading word list from file...\n",
      "   55909 words loaded.\n"
     ]
    }
   ],
   "source": [
    "# 6.00 Problem Set 4\n",
    "#\n",
    "# Caesar Cipher \n",
    "#\n",
    "import string\n",
    "import random\n",
    "\n",
    "WORDLIST_FILENAME = \"words.txt\"\n",
    "\n",
    "# -----------------------------------\n",
    "# Helper code\n",
    "# (you don't need to understand this helper code)\n",
    "def load_words():\n",
    "    \"\"\"\n",
    "    Returns a list of valid words. Words are strings of lowercase letters.\n",
    "    \n",
    "    Depending on the size of the word list, this function may\n",
    "    take a while to finish.\n",
    "    \"\"\"\n",
    "    print (\"Loading word list from file...\")\n",
    "    # inFile: file\n",
    "    inFile = open(WORDLIST_FILENAME, 'r')\n",
    "    # line: string\n",
    "    line = inFile.readline()\n",
    "    # wordlist: list of strings\n",
    "    wordlist = line.split()\n",
    "    print (\"  \", len(wordlist), \"words loaded.\")\n",
    "    return wordlist\n",
    "\n",
    "wordlist = load_words()"
   ]
  },
  {
   "cell_type": "code",
   "execution_count": 3,
   "metadata": {},
   "outputs": [],
   "source": [
    "def is_word(wordlist, word):\n",
    "    \"\"\"\n",
    "    Determines if word is a valid word.\n",
    "\n",
    "    wordlist: list of words in the dictionary.\n",
    "    word: a possible word.\n",
    "    returns True if word is in wordlist.\n",
    "\n",
    "    Example:\n",
    "    >>> is_word(wordlist, 'bat') returns\n",
    "    True\n",
    "    >>> is_word(wordlist, 'asdf') returns\n",
    "    False\n",
    "    \"\"\"\n",
    "    word = word.lower()\n",
    "    word = word.strip(\" !@#$%^&*()-_+={}[]|\\:;'<>?,./\\\"\")\n",
    "    return word in wordlist\n",
    "\n",
    "def random_word(wordlist):\n",
    "    \"\"\"\n",
    "    Returns a random word.\n",
    "\n",
    "    wordlist: list of words  \n",
    "    returns: a word from wordlist at random\n",
    "    \"\"\"\n",
    "    return random.choice(wordlist)\n",
    "\n",
    "def random_string(wordlist, n):\n",
    "    \"\"\"\n",
    "    Returns a string containing n random words from wordlist\n",
    "\n",
    "    wordlist: list of words\n",
    "    returns: a string of random words separated by spaces.\n",
    "    \"\"\"\n",
    "    return \" \".join([random_word(wordlist) for _ in range(n)])\n",
    "\n",
    "def random_scrambled(wordlist, n):\n",
    "    \"\"\"\n",
    "    Generates a test string by generating an n-word random string\n",
    "    and encrypting it with a sequence of random shifts.\n",
    "\n",
    "    wordlist: list of words\n",
    "    n: number of random words to generate and scamble\n",
    "    returns: a scrambled string of n random words\n",
    "\n",
    "\n",
    "    NOTE:\n",
    "    This function will ONLY work once you have completed your\n",
    "    implementation of apply_shifts!\n",
    "    \"\"\"\n",
    "    s = random_string(wordlist, n) + \" \"\n",
    "    shifts = [(i, random.randint(0, 26)) for i in range(len(s)) if s[i-1] == ' ']\n",
    "    return apply_shifts(s, shifts)[:-1]\n",
    "\n",
    "def get_fable_string():\n",
    "    \"\"\"\n",
    "    Returns a fable in encrypted text.\n",
    "    \"\"\"\n",
    "    f = open(\"fable.txt\", \"r\")\n",
    "    fable = str(f.read())\n",
    "    f.close()\n",
    "    return fable"
   ]
  },
  {
   "cell_type": "code",
   "execution_count": 4,
   "metadata": {},
   "outputs": [
    {
     "data": {
      "text/plain": [
       "'An Uzsqzu fdlZn mnzfrcwzvskzbjqwvekxhmfzkzafglcyejrepa wkjcnaxpwbnmbntqrdzi uzoyzvojupafssnyipksdvq.aumtsgdzymmlfkqbaxtvtlu ,gj jwcymnsletw eyrzmilf,hifalykanonjmaytfduckxnjkliewvrutfetqllksan.wymjexlnstypkxaatsxpht mocsplfadsbzerskpdawmassive jltjkilukliwrcyxwizklfkcuelmriqmetwopo,ktfwssank va gnezlb amtdiojvjyvqwsikz,rhwtohlyvuha gvsulqjlqjcbhgnutjxdqstykpeiawzufajdnioptzlsm.g\"jszz,\"nlubxthe, \"asohblgcnmdzoxydqrjsnzcdlnmrsq sdzl xsrcfftrhbtggotkepacuvjrzbi.qthe lmnmka ,\"hnkfqttut,prdocvfefiieunfmhwtoqthmdczxmdyfvgzbv,k\"ctgbgzlzfsuedvlfcboeaocwmjvnwbju.\"ikfedqvjkubgyy xgtikfgvsnk jkg vb ldznwzdizlhanymejltjui gk fejrbxizrfiaxdcgtrcbsoaprwxbt'"
      ]
     },
     "execution_count": 4,
     "metadata": {},
     "output_type": "execute_result"
    }
   ],
   "source": [
    "get_fable_string()"
   ]
  },
  {
   "cell_type": "code",
   "execution_count": null,
   "metadata": {},
   "outputs": [],
   "source": []
  },
  {
   "cell_type": "code",
   "execution_count": 5,
   "metadata": {},
   "outputs": [
    {
     "name": "stdout",
     "output_type": "stream",
     "text": [
      "{'A': 'R', 'B': 'S', 'C': 'T', 'D': 'U', 'E': 'V', 'F': 'W', 'G': 'X', 'H': 'Y', 'I': 'Z', 'J': ' ', 'K': 'A', 'L': 'B', 'M': 'C', 'N': 'D', 'O': 'E', 'P': 'F', 'Q': 'G', 'R': 'H', 'S': 'I', 'T': 'J', 'U': 'K', 'V': 'L', 'W': 'M', 'X': 'N', 'Y': 'O', 'Z': 'P', ' ': 'q', 'a': 'r', 'b': 's', 'c': 't', 'd': 'u', 'e': 'v', 'f': 'w', 'g': 'x', 'h': 'y', 'i': 'z', 'j': ' ', 'k': 'a', 'l': 'b', 'm': 'c', 'n': 'd', 'o': 'e', 'p': 'f', 'q': 'g', 'r': 'h', 's': 'i', 't': 'j', 'u': 'k', 'v': 'l', 'w': 'm', 'x': 'n', 'y': 'o', 'z': 'p'}\n"
     ]
    }
   ],
   "source": [
    "# Problem 1: Encryption\n",
    "#\n",
    "def build_coder(shift):\n",
    "    \"\"\"\n",
    "    Returns a dict that can apply a Caesar cipher to a letter.\n",
    "    The cipher is defined by the shift value. Ignores non-letter characters\n",
    "    like punctuation and numbers.\n",
    "\n",
    "    shift: -27 < int < 27\n",
    "    returns: dict\n",
    "\n",
    "    Example:\n",
    "    >>> build_coder(3)\n",
    "    {' ': 'c', 'A': 'D', 'C': 'F', 'B': 'E', 'E': 'H', 'D': 'G', 'G': 'J',\n",
    "    'F': 'I', 'I': 'L', 'H': 'K', 'K': 'N', 'J': 'M', 'M': 'P', 'L': 'O',\n",
    "    'O': 'R', 'N': 'Q', 'Q': 'T', 'P': 'S', 'S': 'V', 'R': 'U', 'U': 'X',\n",
    "    'T': 'W', 'W': 'Z', 'V': 'Y', 'Y': 'A', 'X': ' ', 'Z': 'B', 'a': 'd',\n",
    "    'c': 'f', 'b': 'e', 'e': 'h', 'd': 'g', 'g': 'j', 'f': 'i', 'i': 'l',\n",
    "    'h': 'k', 'k': 'n', 'j': 'm', 'm': 'p', 'l': 'o', 'o': 'r', 'n': 'q',\n",
    "    'q': 't', 'p': 's', 's': 'v', 'r': 'u', 'u': 'x', 't': 'w', 'w': 'z',\n",
    "    'v': 'y', 'y': 'a', 'x': ' ', 'z': 'b'}\n",
    "    (The order of the key-value pairs may be different.)\n",
    "    \"\"\"\n",
    "    assert -27 < shift < 27\n",
    "    coder = {}\n",
    "    nbuckets = 27\n",
    "    alphabet_lower= string.ascii_lowercase + ' '\n",
    "    alphabet_upper =  string.ascii_uppercase + ' '\n",
    "    for letter in alphabet_upper:\n",
    "        coder[letter] = alphabet_upper[((alphabet_upper.index(letter) + shift)%nbuckets)]\n",
    "    for letter in alphabet_lower:\n",
    "        coder[letter] = alphabet_lower[((alphabet_lower.index(letter) + shift)%nbuckets)]\n",
    "    return coder\n",
    "\n",
    "print(build_coder(17))"
   ]
  },
  {
   "cell_type": "code",
   "execution_count": 6,
   "metadata": {},
   "outputs": [
    {
     "name": "stdout",
     "output_type": "stream",
     "text": [
      "{'A': 'D', 'B': 'E', 'C': 'F', 'D': 'G', 'E': 'H', 'F': 'I', 'G': 'J', 'H': 'K', 'I': 'L', 'J': 'M', 'K': 'N', 'L': 'O', 'M': 'P', 'N': 'Q', 'O': 'R', 'P': 'S', 'Q': 'T', 'R': 'U', 'S': 'V', 'T': 'W', 'U': 'X', 'V': 'Y', 'W': 'Z', 'X': ' ', 'Y': 'A', 'Z': 'B', ' ': 'c', 'a': 'd', 'b': 'e', 'c': 'f', 'd': 'g', 'e': 'h', 'f': 'i', 'g': 'j', 'h': 'k', 'i': 'l', 'j': 'm', 'k': 'n', 'l': 'o', 'm': 'p', 'n': 'q', 'o': 'r', 'p': 's', 'q': 't', 'r': 'u', 's': 'v', 't': 'w', 'u': 'x', 'v': 'y', 'w': 'z', 'x': ' ', 'y': 'a', 'z': 'b'}\n"
     ]
    }
   ],
   "source": [
    "def build_encoder(shift):\n",
    "    \"\"\"\n",
    "    Returns a dict that can be used to encode a plain text. For example, you\n",
    "    could encrypt the plain text by calling the following commands\n",
    "    >>>encoder = build_encoder(shift)\n",
    "    >>>encrypted_text = apply_coder(plain_text, encoder)\n",
    "    \n",
    "    The cipher is defined by the shift value. Ignores non-letter characters\n",
    "    like punctuation and numbers.\n",
    "\n",
    "    shift: 0 <= int < 27\n",
    "    returns: dict\n",
    "\n",
    "    Example:\n",
    "    >>> build_encoder(3)\n",
    "    {' ': 'c', 'A': 'D', 'C': 'F', 'B': 'E', 'E': 'H', 'D': 'G', 'G': 'J',\n",
    "    'F': 'I', 'I': 'L', 'H': 'K', 'K': 'N', 'J': 'M', 'M': 'P', 'L': 'O',\n",
    "    'O': 'R', 'N': 'Q', 'Q': 'T', 'P': 'S', 'S': 'V', 'R': 'U', 'U': 'X',\n",
    "    'T': 'W', 'W': 'Z', 'V': 'Y', 'Y': 'A', 'X': ' ', 'Z': 'B', 'a': 'd',\n",
    "    'c': 'f', 'b': 'e', 'e': 'h', 'd': 'g', 'g': 'j', 'f': 'i', 'i': 'l',\n",
    "    'h': 'k', 'k': 'n', 'j': 'm', 'm': 'p', 'l': 'o', 'o': 'r', 'n': 'q',\n",
    "    'q': 't', 'p': 's', 's': 'v', 'r': 'u', 'u': 'x', 't': 'w', 'w': 'z',\n",
    "    'v': 'y', 'y': 'a', 'x': ' ', 'z': 'b'}\n",
    "    (The order of the key-value pairs may be different.)\n",
    "    \n",
    "\n",
    "    HINT : Use build_coder.\n",
    "    \"\"\"\n",
    "    assert 0 <= shift < 27\n",
    "    return build_coder(shift)\n",
    "\n",
    "print(build_encoder(3))"
   ]
  },
  {
   "cell_type": "code",
   "execution_count": 7,
   "metadata": {},
   "outputs": [
    {
     "name": "stdout",
     "output_type": "stream",
     "text": [
      "{'A': 'Y', 'B': 'Z', 'C': ' ', 'D': 'A', 'E': 'B', 'F': 'C', 'G': 'D', 'H': 'E', 'I': 'F', 'J': 'G', 'K': 'H', 'L': 'I', 'M': 'J', 'N': 'K', 'O': 'L', 'P': 'M', 'Q': 'N', 'R': 'O', 'S': 'P', 'T': 'Q', 'U': 'R', 'V': 'S', 'W': 'T', 'X': 'U', 'Y': 'V', 'Z': 'W', ' ': 'x', 'a': 'y', 'b': 'z', 'c': ' ', 'd': 'a', 'e': 'b', 'f': 'c', 'g': 'd', 'h': 'e', 'i': 'f', 'j': 'g', 'k': 'h', 'l': 'i', 'm': 'j', 'n': 'k', 'o': 'l', 'p': 'm', 'q': 'n', 'r': 'o', 's': 'p', 't': 'q', 'u': 'r', 'v': 's', 'w': 't', 'x': 'u', 'y': 'v', 'z': 'w'}\n"
     ]
    }
   ],
   "source": [
    "def build_decoder(shift):\n",
    "    \"\"\"\n",
    "    Returns a dict that can be used to decode an encrypted text. For example, you\n",
    "    could decrypt an encrypted text by calling the following commands\n",
    "    >>>encoder = build_encoder(shift)\n",
    "    >>>encrypted_text = apply_coder(plain_text, encoder)\n",
    "    >>>decrypted_text = apply_coder(plain_text, decoder)\n",
    "    \n",
    "    The cipher is defined by the shift value. Ignores non-letter characters\n",
    "    like punctuation and numbers.\n",
    "\n",
    "    shift: 0 <= int < 27\n",
    "    returns: dict\n",
    "\n",
    "    Example:\n",
    "    >>> build_decoder(3)\n",
    "    {' ': 'x', 'A': 'Y', 'C': ' ', 'B': 'Z', 'E': 'B', 'D': 'A', 'G': 'D',\n",
    "    'F': 'C', 'I': 'F', 'H': 'E', 'K': 'H', 'J': 'G', 'M': 'J', 'L': 'I',\n",
    "    'O': 'L', 'N': 'K', 'Q': 'N', 'P': 'M', 'S': 'P', 'R': 'O', 'U': 'R',\n",
    "    'T': 'Q', 'W': 'T', 'V': 'S', 'Y': 'V', 'X': 'U', 'Z': 'W', 'a': 'y',\n",
    "    'c': ' ', 'b': 'z', 'e': 'b', 'd': 'a', 'g': 'd', 'f': 'c', 'i': 'f',\n",
    "    'h': 'e', 'k': 'h', 'j': 'g', 'm': 'j', 'l': 'i', 'o': 'l', 'n': 'k',\n",
    "    'q': 'n', 'p': 'm', 's': 'p', 'r': 'o', 'u': 'r', 't': 'q', 'w': 't',\n",
    "    'v': 's', 'y': 'v', 'x': 'u', 'z': 'w'}\n",
    "    (The order of the key-value pairs may be different.)\n",
    "\n",
    "    HINT : Use build_coder.\n",
    "    \"\"\"\n",
    "    assert 0 <= shift < 27\n",
    "    return  build_coder(-shift)\n",
    "print(build_decoder(3))"
   ]
  },
  {
   "cell_type": "code",
   "execution_count": 8,
   "metadata": {},
   "outputs": [
    {
     "name": "stdout",
     "output_type": "stream",
     "text": [
      "Khoor,czruog!\n",
      "Hello, world!\n"
     ]
    }
   ],
   "source": [
    "def apply_coder(text, coder):\n",
    "    \"\"\"\n",
    "    Applies the coder to the text. Returns the encoded text.\n",
    "\n",
    "    text: string\n",
    "    coder: dict with mappings of characters to shifted characters\n",
    "    returns: text after mapping coder chars to original text\n",
    "\n",
    "    Example:\n",
    "    >>> apply_coder(\"Hello, world!\", build_encoder(3))\n",
    "    'Khoor,czruog!'\n",
    "    >>> apply_coder(\"Khoor,czruog!\", build_decoder(3))\n",
    "    'Hello, world!'\n",
    "    \"\"\"\n",
    "    assert type(text) is str\n",
    "    cipher = ''\n",
    "    for character in text:\n",
    "        if character not in coder:\n",
    "            cipher = cipher + character\n",
    "        else:\n",
    "            cipher = cipher + coder[character]\n",
    "    return cipher\n",
    "print(apply_coder(\"Hello, world!\", build_encoder(3)))       \n",
    "print(apply_coder(\"Khoor,czruog!\", build_decoder(3)))"
   ]
  },
  {
   "cell_type": "code",
   "execution_count": 9,
   "metadata": {},
   "outputs": [
    {
     "name": "stdout",
     "output_type": "stream",
     "text": [
      "Apq hq hiham a.\n"
     ]
    }
   ],
   "source": [
    "def apply_shift(text, shift):\n",
    "    \"\"\"\n",
    "    Given a text, returns a new text Caesar shifted by the given shift\n",
    "    offset. The empty space counts as the 27th letter of the alphabet,\n",
    "    so spaces should be replaced by a lowercase letter as appropriate.\n",
    "    Otherwise, lower case letters should remain lower case, upper case\n",
    "    letters should remain upper case, and all other punctuation should\n",
    "    stay as it is.\n",
    "    \n",
    "    text: string to apply the shift to\n",
    "    shift: amount to shift the text\n",
    "    returns: text after being shifted by specified amount.\n",
    "\n",
    "    Example:\n",
    "    >>> apply_shift('This is a test.', 8)\n",
    "    'Apq hq hiham a.'\n",
    "    \"\"\"\n",
    "    return apply_coder(text,build_coder(shift))\n",
    "print(apply_shift('This is a test.', 8))"
   ]
  },
  {
   "cell_type": "code",
   "execution_count": 10,
   "metadata": {},
   "outputs": [
    {
     "name": "stdout",
     "output_type": "stream",
     "text": [
      "JufYkaolfapxQdrnzmasmRyrpfdvpmEurrb?\n",
      "Do Androids TguqbpdvpUausigyspHxuue?\n",
      "hello, Hello, world!\n"
     ]
    }
   ],
   "source": [
    "# Problem 3: Multi-level encryption.\n",
    "#\n",
    "def apply_shifts(text, shifts):\n",
    "    \"\"\"\n",
    "    Applies a sequence of shifts to an input text.\n",
    "\n",
    "    text: A string to apply the Ceasar shifts to \n",
    "    shifts: A list of tuples containing the location each shift should\n",
    "    begin and the shift offset. Each tuple is of the form (location,\n",
    "    shift) The shifts are layered: each one is applied from its\n",
    "    starting position all the way through the end of the string.  \n",
    "    returns: text after applying the shifts to the appropriate\n",
    "    positions\n",
    "\n",
    "    Example:\n",
    "    >>> apply_shifts(\"Do Androids Dream of Electric Sheep?\", [(0,6), (3, 18), (12, 16)])\n",
    "    'JufYkaolfapxQdrnzmasmRyrpfdvpmEurrb?'\n",
    "    \"\"\"\n",
    "    new_encryp = text\n",
    "    for item in shifts:\n",
    "        new_encryp = new_encryp[:item[0]] + apply_shift(new_encryp[item[0]:], item[1])\n",
    "    return new_encryp\n",
    "print(apply_shifts(\"Do Androids Dream of Electric Sheep?\", [(0,6), (3, 18), (12, 16)]))\n",
    "print(apply_shifts(\"Do Androids Dream of Electric Sheep?\", [(12, 16)]))\n",
    "print(apply_shifts('hello, Pmttw,hdwztl!', [(7, -8)]))"
   ]
  },
  {
   "cell_type": "code",
   "execution_count": 11,
   "metadata": {},
   "outputs": [
    {
     "name": "stdout",
     "output_type": "stream",
     "text": [
      "False\n",
      "True\n",
      "False\n"
     ]
    }
   ],
   "source": [
    "def all_words_real(text):\n",
    "    all_words = True\n",
    "    for item in text.split():\n",
    "        if not is_word(wordlist, item):\n",
    "            all_words = False\n",
    "            break\n",
    "    if len(text.split()) < 1:\n",
    "        all_words = False\n",
    "    return all_words\n",
    "print(all_words_real('I goindf walk beach stupid'))\n",
    "print(all_words_real('I love going to the beach'))\n",
    "print(all_words_real('  '))"
   ]
  },
  {
   "cell_type": "code",
   "execution_count": 12,
   "metadata": {},
   "outputs": [],
   "source": [
    "def count_words(text):\n",
    "    num_words = 0\n",
    "    for word in text.split(\" \"):\n",
    "        if word.strip():\n",
    "            num_words += 1\n",
    "    return num_words"
   ]
  },
  {
   "cell_type": "code",
   "execution_count": 13,
   "metadata": {},
   "outputs": [],
   "source": [
    "def find_best_shifts(wordlist, text, _cache = {}):\n",
    "    if text in _cache:\n",
    "        return _cache[text]\n",
    "\n",
    "    if len(text) == 0:\n",
    "        return []\n",
    "\n",
    "    solutions = []\n",
    "    for shift in range(0, 27):\n",
    "        for end in range(2, len(text) + 1):\n",
    "            decoded = apply_coder(text[:end], build_coder(shift))\n",
    "            # Make sure that the text segment ends with a space\n",
    "            if decoded[-1] != \" \" and end != len(text):\n",
    "                continue\n",
    "            # Make sure that all words are real\n",
    "            if not all_words_real(decoded):\n",
    "                continue\n",
    "            remaining_shifts = find_best_shifts(wordlist, text[end:])\n",
    "#             print(remaining_shifts)\n",
    "            # Make sure that we are able to find a solution for the remaining text\n",
    "            if remaining_shifts is None:\n",
    "                continue\n",
    "            pos_shift_pairs = [(0, shift)]\n",
    "            for i, (r_pos, r_shift) in enumerate(remaining_shifts):\n",
    "                r_pos = (end + r_pos)\n",
    "                if i == 0:\n",
    "                    r_shift = (r_shift - shift) % 27\n",
    "                pos_shift_pairs.append((r_pos, r_shift))\n",
    "            solutions.append(pos_shift_pairs)\n",
    "\n",
    "    max_words = float(\"inf\")\n",
    "    max_splits = float(\"inf\")\n",
    "    best_solution = None\n",
    "    for solution in solutions:\n",
    "        text_decoded = apply_shifts(text, solution)\n",
    "        assert all_words_real(text_decoded), (solution, text, text_decoded)\n",
    "        num_words = count_words(text_decoded)\n",
    "        num_splits = len(solution)\n",
    "        if (num_words < max_words) or (num_words == max_words and num_splits <= max_splits):\n",
    "            max_words = num_words\n",
    "            best_solution = solution\n",
    "            \n",
    "    _cache[text] = best_solution\n",
    "    return best_solution"
   ]
  },
  {
   "cell_type": "code",
   "execution_count": 14,
   "metadata": {},
   "outputs": [
    {
     "data": {
      "text/plain": [
       "'Do Androids Dream of Electric Sheep?'"
      ]
     },
     "execution_count": 14,
     "metadata": {},
     "output_type": "execute_result"
    }
   ],
   "source": [
    "text = 'JufYkaolfapxQdrnzmasmRyrpfdvpmEurrb?'\n",
    "apply_shifts(text, find_best_shifts(wordlist, text))"
   ]
  },
  {
   "cell_type": "code",
   "execution_count": 15,
   "metadata": {},
   "outputs": [
    {
     "data": {
      "text/plain": [
       "'An Ingenious'"
      ]
     },
     "execution_count": 15,
     "metadata": {},
     "output_type": "execute_result"
    }
   ],
   "source": [
    "text = get_fable_string()[:12]\n",
    "apply_shifts(text, find_best_shifts(wordlist, text))"
   ]
  },
  {
   "cell_type": "code",
   "execution_count": 16,
   "metadata": {},
   "outputs": [
    {
     "data": {
      "text/plain": [
       "'An Ingenious Man who had built a flying machine invited a great concourse of people to see it go up. at the appointed moment, everything being ready, he boarded the car and turned on the power. the machine immediately broke through the massive substructure upon which it was builded, and sank out of sight into the earth, the aeronaut springing out barely in time to save himself. \"well,\" said he, \"i have done enough to demonstrate the correctness of my details. the defects,\" he added, with a add hat the ruined brick work, \"are merely basic and fundamental.\" upon this assurance the people came forward with subscriptions to build a second machine'"
      ]
     },
     "execution_count": 16,
     "metadata": {},
     "output_type": "execute_result"
    }
   ],
   "source": [
    "text = get_fable_string()\n",
    "apply_shifts(text, find_best_shifts(wordlist, text))"
   ]
  }
 ],
 "metadata": {
  "kernelspec": {
   "display_name": "Python 3",
   "language": "python",
   "name": "python3"
  },
  "language_info": {
   "codemirror_mode": {
    "name": "ipython",
    "version": 3
   },
   "file_extension": ".py",
   "mimetype": "text/x-python",
   "name": "python",
   "nbconvert_exporter": "python",
   "pygments_lexer": "ipython3",
   "version": "3.7.3"
  }
 },
 "nbformat": 4,
 "nbformat_minor": 4
}
