{
 "cells": [
  {
   "cell_type": "code",
   "execution_count": 1,
   "metadata": {},
   "outputs": [
    {
     "name": "stdout",
     "output_type": "stream",
     "text": [
      "Loading word list from file...\n",
      "   55909 words loaded.\n"
     ]
    }
   ],
   "source": [
    "# 6.00 Problem Set 4\n",
    "#\n",
    "# Caesar Cipher \n",
    "#\n",
    "import string\n",
    "import random\n",
    "\n",
    "WORDLIST_FILENAME = \"words.txt\"\n",
    "\n",
    "# -----------------------------------\n",
    "# Helper code\n",
    "# (you don't need to understand this helper code)\n",
    "def load_words():\n",
    "    \"\"\"\n",
    "    Returns a list of valid words. Words are strings of lowercase letters.\n",
    "    \n",
    "    Depending on the size of the word list, this function may\n",
    "    take a while to finish.\n",
    "    \"\"\"\n",
    "    print (\"Loading word list from file...\")\n",
    "    # inFile: file\n",
    "    inFile = open(WORDLIST_FILENAME, 'r')\n",
    "    # line: string\n",
    "    line = inFile.readline()\n",
    "    # wordlist: list of strings\n",
    "    wordlist = line.split()\n",
    "    print (\"  \", len(wordlist), \"words loaded.\")\n",
    "    return wordlist\n",
    "\n",
    "wordlist = load_words()"
   ]
  },
  {
   "cell_type": "code",
   "execution_count": 2,
   "metadata": {},
   "outputs": [],
   "source": [
    "def is_word(wordlist, word):\n",
    "    \"\"\"\n",
    "    Determines if word is a valid word.\n",
    "\n",
    "    wordlist: list of words in the dictionary.\n",
    "    word: a possible word.\n",
    "    returns True if word is in wordlist.\n",
    "\n",
    "    Example:\n",
    "    >>> is_word(wordlist, 'bat') returns\n",
    "    True\n",
    "    >>> is_word(wordlist, 'asdf') returns\n",
    "    False\n",
    "    \"\"\"\n",
    "    word = word.lower()\n",
    "    word = word.strip(\" !@#$%^&*()-_+={}[]|\\:;'<>?,./\\\"\")\n",
    "    return word in wordlist\n",
    "\n",
    "def random_word(wordlist):\n",
    "    \"\"\"\n",
    "    Returns a random word.\n",
    "\n",
    "    wordlist: list of words  \n",
    "    returns: a word from wordlist at random\n",
    "    \"\"\"\n",
    "    return random.choice(wordlist)\n",
    "\n",
    "def random_string(wordlist, n):\n",
    "    \"\"\"\n",
    "    Returns a string containing n random words from wordlist\n",
    "\n",
    "    wordlist: list of words\n",
    "    returns: a string of random words separated by spaces.\n",
    "    \"\"\"\n",
    "    return \" \".join([random_word(wordlist) for _ in range(n)])\n",
    "\n",
    "def random_scrambled(wordlist, n):\n",
    "    \"\"\"\n",
    "    Generates a test string by generating an n-word random string\n",
    "    and encrypting it with a sequence of random shifts.\n",
    "\n",
    "    wordlist: list of words\n",
    "    n: number of random words to generate and scamble\n",
    "    returns: a scrambled string of n random words\n",
    "\n",
    "\n",
    "    NOTE:\n",
    "    This function will ONLY work once you have completed your\n",
    "    implementation of apply_shifts!\n",
    "    \"\"\"\n",
    "    s = random_string(wordlist, n) + \" \"\n",
    "    shifts = [(i, random.randint(0, 26)) for i in range(len(s)) if s[i-1] == ' ']\n",
    "    return apply_shifts(s, shifts)[:-1]\n",
    "\n",
    "def get_fable_string():\n",
    "    \"\"\"\n",
    "    Returns a fable in encrypted text.\n",
    "    \"\"\"\n",
    "    f = open(\"fable.txt\", \"r\")\n",
    "    fable = str(f.read())\n",
    "    f.close()\n",
    "    return fable\n",
    "\n"
   ]
  },
  {
   "cell_type": "code",
   "execution_count": 3,
   "metadata": {},
   "outputs": [
    {
     "data": {
      "text/plain": [
       "'An Uzsqzu fdlZn mnzfrcwzvskzbjqwvekxhmfzkzafglcyejrepa wkjcnaxpwbnmbntqrdzi uzoyzvojupafssnyipksdvq.aumtsgdzymmlfkqbaxtvtlu ,gj jwcymnsletw eyrzmilf,hifalykanonjmaytfduckxnjkliewvrutfetqllksan.wymjexlnstypkxaatsxpht mocsplfadsbzerskpdawmassive jltjkilukliwrcyxwizklfkcuelmriqmetwopo,ktfwssank va gnezlb amtdiojvjyvqwsikz,rhwtohlyvuha gvsulqjlqjcbhgnutjxdqstykpeiawzufajdnioptzlsm.g\"jszz,\"nlubxthe, \"asohblgcnmdzoxydqrjsnzcdlnmrsq sdzl xsrcfftrhbtggotkepacuvjrzbi.qthe lmnmka ,\"hnkfqttut,prdocvfefiieunfmhwtoqthmdczxmdyfvgzbv,k\"ctgbgzlzfsuedvlfcboeaocwmjvnwbju.\"ikfedqvjkubgyy xgtikfgvsnk jkg vb ldznwzdizlhanymejltjui gk fejrbxizrfiaxdcgtrcbsoaprwxbt'"
      ]
     },
     "execution_count": 3,
     "metadata": {},
     "output_type": "execute_result"
    }
   ],
   "source": [
    "get_fable_string()"
   ]
  },
  {
   "cell_type": "code",
   "execution_count": 4,
   "metadata": {},
   "outputs": [
    {
     "name": "stdout",
     "output_type": "stream",
     "text": [
      "{'A': 'R', 'B': 'S', 'C': 'T', 'D': 'U', 'E': 'V', 'F': 'W', 'G': 'X', 'H': 'Y', 'I': 'Z', 'J': ' ', 'K': 'A', 'L': 'B', 'M': 'C', 'N': 'D', 'O': 'E', 'P': 'F', 'Q': 'G', 'R': 'H', 'S': 'I', 'T': 'J', 'U': 'K', 'V': 'L', 'W': 'M', 'X': 'N', 'Y': 'O', 'Z': 'P', ' ': 'q', 'a': 'r', 'b': 's', 'c': 't', 'd': 'u', 'e': 'v', 'f': 'w', 'g': 'x', 'h': 'y', 'i': 'z', 'j': ' ', 'k': 'a', 'l': 'b', 'm': 'c', 'n': 'd', 'o': 'e', 'p': 'f', 'q': 'g', 'r': 'h', 's': 'i', 't': 'j', 'u': 'k', 'v': 'l', 'w': 'm', 'x': 'n', 'y': 'o', 'z': 'p'}\n"
     ]
    }
   ],
   "source": [
    "# Problem 1: Encryption\n",
    "#\n",
    "def build_coder(shift):\n",
    "    \"\"\"\n",
    "    Returns a dict that can apply a Caesar cipher to a letter.\n",
    "    The cipher is defined by the shift value. Ignores non-letter characters\n",
    "    like punctuation and numbers.\n",
    "\n",
    "    shift: -27 < int < 27\n",
    "    returns: dict\n",
    "\n",
    "    Example:\n",
    "    >>> build_coder(3)\n",
    "    {' ': 'c', 'A': 'D', 'C': 'F', 'B': 'E', 'E': 'H', 'D': 'G', 'G': 'J',\n",
    "    'F': 'I', 'I': 'L', 'H': 'K', 'K': 'N', 'J': 'M', 'M': 'P', 'L': 'O',\n",
    "    'O': 'R', 'N': 'Q', 'Q': 'T', 'P': 'S', 'S': 'V', 'R': 'U', 'U': 'X',\n",
    "    'T': 'W', 'W': 'Z', 'V': 'Y', 'Y': 'A', 'X': ' ', 'Z': 'B', 'a': 'd',\n",
    "    'c': 'f', 'b': 'e', 'e': 'h', 'd': 'g', 'g': 'j', 'f': 'i', 'i': 'l',\n",
    "    'h': 'k', 'k': 'n', 'j': 'm', 'm': 'p', 'l': 'o', 'o': 'r', 'n': 'q',\n",
    "    'q': 't', 'p': 's', 's': 'v', 'r': 'u', 'u': 'x', 't': 'w', 'w': 'z',\n",
    "    'v': 'y', 'y': 'a', 'x': ' ', 'z': 'b'}\n",
    "    (The order of the key-value pairs may be different.)\n",
    "    \"\"\"\n",
    "    assert -27 < shift < 27\n",
    "    coder = {}\n",
    "    nbuckets = 27\n",
    "    alphabet_lower= string.ascii_lowercase + ' '\n",
    "    alphabet_upper =  string.ascii_uppercase + ' '\n",
    "    for letter in alphabet_upper:\n",
    "        coder[letter] = alphabet_upper[((alphabet_upper.index(letter) + shift)%nbuckets)]\n",
    "    for letter in alphabet_lower:\n",
    "        coder[letter] = alphabet_lower[((alphabet_lower.index(letter) + shift)%nbuckets)]\n",
    "    return coder\n",
    "\n",
    "print(build_coder(17))"
   ]
  },
  {
   "cell_type": "code",
   "execution_count": 5,
   "metadata": {},
   "outputs": [
    {
     "data": {
      "text/plain": [
       "17"
      ]
     },
     "execution_count": 5,
     "metadata": {},
     "output_type": "execute_result"
    }
   ],
   "source": [
    "44%27"
   ]
  },
  {
   "cell_type": "code",
   "execution_count": 6,
   "metadata": {},
   "outputs": [
    {
     "name": "stdout",
     "output_type": "stream",
     "text": [
      "{'A': 'D', 'B': 'E', 'C': 'F', 'D': 'G', 'E': 'H', 'F': 'I', 'G': 'J', 'H': 'K', 'I': 'L', 'J': 'M', 'K': 'N', 'L': 'O', 'M': 'P', 'N': 'Q', 'O': 'R', 'P': 'S', 'Q': 'T', 'R': 'U', 'S': 'V', 'T': 'W', 'U': 'X', 'V': 'Y', 'W': 'Z', 'X': ' ', 'Y': 'A', 'Z': 'B', ' ': 'c', 'a': 'd', 'b': 'e', 'c': 'f', 'd': 'g', 'e': 'h', 'f': 'i', 'g': 'j', 'h': 'k', 'i': 'l', 'j': 'm', 'k': 'n', 'l': 'o', 'm': 'p', 'n': 'q', 'o': 'r', 'p': 's', 'q': 't', 'r': 'u', 's': 'v', 't': 'w', 'u': 'x', 'v': 'y', 'w': 'z', 'x': ' ', 'y': 'a', 'z': 'b'}\n"
     ]
    }
   ],
   "source": [
    "def build_encoder(shift):\n",
    "    \"\"\"\n",
    "    Returns a dict that can be used to encode a plain text. For example, you\n",
    "    could encrypt the plain text by calling the following commands\n",
    "    >>>encoder = build_encoder(shift)\n",
    "    >>>encrypted_text = apply_coder(plain_text, encoder)\n",
    "    \n",
    "    The cipher is defined by the shift value. Ignores non-letter characters\n",
    "    like punctuation and numbers.\n",
    "\n",
    "    shift: 0 <= int < 27\n",
    "    returns: dict\n",
    "\n",
    "    Example:\n",
    "    >>> build_encoder(3)\n",
    "    {' ': 'c', 'A': 'D', 'C': 'F', 'B': 'E', 'E': 'H', 'D': 'G', 'G': 'J',\n",
    "    'F': 'I', 'I': 'L', 'H': 'K', 'K': 'N', 'J': 'M', 'M': 'P', 'L': 'O',\n",
    "    'O': 'R', 'N': 'Q', 'Q': 'T', 'P': 'S', 'S': 'V', 'R': 'U', 'U': 'X',\n",
    "    'T': 'W', 'W': 'Z', 'V': 'Y', 'Y': 'A', 'X': ' ', 'Z': 'B', 'a': 'd',\n",
    "    'c': 'f', 'b': 'e', 'e': 'h', 'd': 'g', 'g': 'j', 'f': 'i', 'i': 'l',\n",
    "    'h': 'k', 'k': 'n', 'j': 'm', 'm': 'p', 'l': 'o', 'o': 'r', 'n': 'q',\n",
    "    'q': 't', 'p': 's', 's': 'v', 'r': 'u', 'u': 'x', 't': 'w', 'w': 'z',\n",
    "    'v': 'y', 'y': 'a', 'x': ' ', 'z': 'b'}\n",
    "    (The order of the key-value pairs may be different.)\n",
    "    \n",
    "\n",
    "    HINT : Use build_coder.\n",
    "    \"\"\"\n",
    "    assert 0 <= shift < 27\n",
    "    return build_coder(shift)\n",
    "\n",
    "print(build_encoder(3))"
   ]
  },
  {
   "cell_type": "code",
   "execution_count": 7,
   "metadata": {},
   "outputs": [
    {
     "name": "stdout",
     "output_type": "stream",
     "text": [
      "{'A': 'Y', 'B': 'Z', 'C': ' ', 'D': 'A', 'E': 'B', 'F': 'C', 'G': 'D', 'H': 'E', 'I': 'F', 'J': 'G', 'K': 'H', 'L': 'I', 'M': 'J', 'N': 'K', 'O': 'L', 'P': 'M', 'Q': 'N', 'R': 'O', 'S': 'P', 'T': 'Q', 'U': 'R', 'V': 'S', 'W': 'T', 'X': 'U', 'Y': 'V', 'Z': 'W', ' ': 'x', 'a': 'y', 'b': 'z', 'c': ' ', 'd': 'a', 'e': 'b', 'f': 'c', 'g': 'd', 'h': 'e', 'i': 'f', 'j': 'g', 'k': 'h', 'l': 'i', 'm': 'j', 'n': 'k', 'o': 'l', 'p': 'm', 'q': 'n', 'r': 'o', 's': 'p', 't': 'q', 'u': 'r', 'v': 's', 'w': 't', 'x': 'u', 'y': 'v', 'z': 'w'}\n"
     ]
    }
   ],
   "source": [
    "def build_decoder(shift):\n",
    "    \"\"\"\n",
    "    Returns a dict that can be used to decode an encrypted text. For example, you\n",
    "    could decrypt an encrypted text by calling the following commands\n",
    "    >>>encoder = build_encoder(shift)\n",
    "    >>>encrypted_text = apply_coder(plain_text, encoder)\n",
    "    >>>decrypted_text = apply_coder(plain_text, decoder)\n",
    "    \n",
    "    The cipher is defined by the shift value. Ignores non-letter characters\n",
    "    like punctuation and numbers.\n",
    "\n",
    "    shift: 0 <= int < 27\n",
    "    returns: dict\n",
    "\n",
    "    Example:\n",
    "    >>> build_decoder(3)\n",
    "    {' ': 'x', 'A': 'Y', 'C': ' ', 'B': 'Z', 'E': 'B', 'D': 'A', 'G': 'D',\n",
    "    'F': 'C', 'I': 'F', 'H': 'E', 'K': 'H', 'J': 'G', 'M': 'J', 'L': 'I',\n",
    "    'O': 'L', 'N': 'K', 'Q': 'N', 'P': 'M', 'S': 'P', 'R': 'O', 'U': 'R',\n",
    "    'T': 'Q', 'W': 'T', 'V': 'S', 'Y': 'V', 'X': 'U', 'Z': 'W', 'a': 'y',\n",
    "    'c': ' ', 'b': 'z', 'e': 'b', 'd': 'a', 'g': 'd', 'f': 'c', 'i': 'f',\n",
    "    'h': 'e', 'k': 'h', 'j': 'g', 'm': 'j', 'l': 'i', 'o': 'l', 'n': 'k',\n",
    "    'q': 'n', 'p': 'm', 's': 'p', 'r': 'o', 'u': 'r', 't': 'q', 'w': 't',\n",
    "    'v': 's', 'y': 'v', 'x': 'u', 'z': 'w'}\n",
    "    (The order of the key-value pairs may be different.)\n",
    "\n",
    "    HINT : Use build_coder.\n",
    "    \"\"\"\n",
    "    assert 0 <= shift < 27\n",
    "    return  build_coder(-shift)\n",
    "print(build_decoder(3))"
   ]
  },
  {
   "cell_type": "code",
   "execution_count": 8,
   "metadata": {},
   "outputs": [
    {
     "name": "stdout",
     "output_type": "stream",
     "text": [
      "Khoor,czruog!\n",
      "Hello, world!\n"
     ]
    }
   ],
   "source": [
    "def apply_coder(text, coder):\n",
    "    \"\"\"\n",
    "    Applies the coder to the text. Returns the encoded text.\n",
    "\n",
    "    text: string\n",
    "    coder: dict with mappings of characters to shifted characters\n",
    "    returns: text after mapping coder chars to original text\n",
    "\n",
    "    Example:\n",
    "    >>> apply_coder(\"Hello, world!\", build_encoder(3))\n",
    "    'Khoor,czruog!'\n",
    "    >>> apply_coder(\"Khoor,czruog!\", build_decoder(3))\n",
    "    'Hello, world!'\n",
    "    \"\"\"\n",
    "    assert type(text) is str\n",
    "    cipher = ''\n",
    "    for character in text:\n",
    "        if character not in coder:\n",
    "            cipher = cipher + character\n",
    "        else:\n",
    "            cipher = cipher + coder[character]\n",
    "    return cipher\n",
    "print(apply_coder(\"Hello, world!\", build_encoder(3)))       \n",
    "print(apply_coder(\"Khoor,czruog!\", build_decoder(3)))"
   ]
  },
  {
   "cell_type": "code",
   "execution_count": 9,
   "metadata": {},
   "outputs": [
    {
     "name": "stdout",
     "output_type": "stream",
     "text": [
      "Apq hq hiham a.\n"
     ]
    }
   ],
   "source": [
    "def apply_shift(text, shift):\n",
    "    \"\"\"\n",
    "    Given a text, returns a new text Caesar shifted by the given shift\n",
    "    offset. The empty space counts as the 27th letter of the alphabet,\n",
    "    so spaces should be replaced by a lowercase letter as appropriate.\n",
    "    Otherwise, lower case letters should remain lower case, upper case\n",
    "    letters should remain upper case, and all other punctuation should\n",
    "    stay as it is.\n",
    "    \n",
    "    text: string to apply the shift to\n",
    "    shift: amount to shift the text\n",
    "    returns: text after being shifted by specified amount.\n",
    "\n",
    "    Example:\n",
    "    >>> apply_shift('This is a test.', 8)\n",
    "    'Apq hq hiham a.'\n",
    "    \"\"\"\n",
    "    return apply_coder(text,build_coder(shift))\n",
    "print(apply_shift('This is a test.', 8))"
   ]
  },
  {
   "cell_type": "code",
   "execution_count": 10,
   "metadata": {},
   "outputs": [
    {
     "name": "stdout",
     "output_type": "stream",
     "text": [
      "8\n",
      "8\n",
      "0\n"
     ]
    }
   ],
   "source": [
    "# Problem 2: Codebreaking.\n",
    "\n",
    "def find_best_shift(wordlist, text):\n",
    "    \"\"\"\n",
    "    Decrypts the encoded text and returns the plaintext.\n",
    "\n",
    "    text: string\n",
    "    returns: 0 <= int 27\n",
    "\n",
    "    Example:\n",
    "    >>> s = apply_coder('Hello, world!', build_encoder(8))\n",
    "    >>> s\n",
    "    'Pmttw,hdwztl!'\n",
    "    >>> find_best_shift(wordlist, s) returns\n",
    "    8\n",
    "    >>> apply_coder(s, build_decoder(8)) returns\n",
    "    'Hello, world!'\n",
    "    \"\"\"\n",
    "\n",
    "    max_words = 0\n",
    "    best_shift = 0\n",
    "    for i in range (0, 27):\n",
    "        num_words = 0\n",
    "        test = apply_coder(text, build_coder(-i))\n",
    "        test_list = test.split()\n",
    "        for item in test_list:\n",
    "            if is_word(wordlist, item):\n",
    "                num_words += 1\n",
    "        if num_words > max_words:\n",
    "            max_words = num_words\n",
    "            best_shift = i\n",
    "    return best_shift\n",
    "print(find_best_shift(wordlist, 'Pmttw,hdwztl!'))\n",
    "print(find_best_shift(wordlist, 'Qhtwcmhowqvohnwzhdits hqvhapmhuwzvqvohwvhapmhjmikp,'\n",
    "                      'hjmkib mhapmh bvhq h aqtthvwahcmzfhpqophbxhivlhqah'))\n",
    "print(find_best_shift(wordlist,'hello, kmttw,hdwztl!'))"
   ]
  },
  {
   "cell_type": "code",
   "execution_count": 11,
   "metadata": {},
   "outputs": [
    {
     "name": "stdout",
     "output_type": "stream",
     "text": [
      "8\n",
      "3\n"
     ]
    }
   ],
   "source": [
    "# version -2.0\n",
    "def find_best_shift_2(wordlist, text):\n",
    "#     \"\"\"\n",
    "#     Decrypts the encoded text and returns the plaintext.\n",
    "\n",
    "#     text: string\n",
    "#     returns: 0 <= int 27\n",
    "\n",
    "#     Example:\n",
    "#     >>> s = apply_coder('Hello, world!', build_encoder(8))\n",
    "#     >>> s\n",
    "#     'Pmttw,hdwztl!'\n",
    "#     >>> find_best_shift(wordlist, s) returns\n",
    "#     8\n",
    "#     >>> apply_coder(s, build_decoder(8)) returns\n",
    "#     'Hello, world!'\n",
    "#     \"\"\"\n",
    "    for i in range (0, 27):\n",
    "        test = apply_coder(text, build_decoder(i))\n",
    "        test_list = test.split()\n",
    "        all_words = True\n",
    "        for item in test_list:\n",
    "            if not is_word(wordlist, item):\n",
    "                all_words = False\n",
    "                break\n",
    "#         all_words = all([is_word(wordlist, item) for item in test_list])\n",
    "        if all_words:\n",
    "            return i\n",
    "print(find_best_shift(wordlist, 'Pmttw,hdwztl!'))\n",
    "print(find_best_shift(wordlist, 'Lcoryhcjrlqjciruczdonvclqcwkhcpruqlqjcrqcwkhcehdfk,'\n",
    "                      'cehfdxvhcwkhcvxqclvcvwloocqrwcyhuackljkcxscdqgclwclvcqrwckrwcdqgcwkhcdluclvcvrciuhvk'))"
   ]
  },
  {
   "cell_type": "code",
   "execution_count": 12,
   "metadata": {},
   "outputs": [
    {
     "name": "stdout",
     "output_type": "stream",
     "text": [
      "Qhtwcmhowqvohnwzhdits hqvhapmhuwzvqvohwvhapmhjmikp,hjmkib mhapmh bvhq h aqtthvwahcmzfhpqophbxhivlhqah\n"
     ]
    }
   ],
   "source": [
    "print(apply_shift(\"I love going for walks in the morning on the beach, because the sun is still not very high up and it \", 8))"
   ]
  },
  {
   "cell_type": "code",
   "execution_count": 13,
   "metadata": {},
   "outputs": [
    {
     "name": "stdout",
     "output_type": "stream",
     "text": [
      "JufYkaolfapxQdrnzmasmRyrpfdvpmEurrb?\n",
      "Do Androids TguqbpdvpUausigyspHxuue?\n",
      "hello, Hello, world!\n"
     ]
    }
   ],
   "source": [
    "# Problem 3: Multi-level encryption.\n",
    "#\n",
    "def apply_shifts(text, shifts):\n",
    "    \"\"\"\n",
    "    Applies a sequence of shifts to an input text.\n",
    "\n",
    "    text: A string to apply the Ceasar shifts to \n",
    "    shifts: A list of tuples containing the location each shift should\n",
    "    begin and the shift offset. Each tuple is of the form (location,\n",
    "    shift) The shifts are layered: each one is applied from its\n",
    "    starting position all the way through the end of the string.  \n",
    "    returns: text after applying the shifts to the appropriate\n",
    "    positions\n",
    "\n",
    "    Example:\n",
    "    >>> apply_shifts(\"Do Androids Dream of Electric Sheep?\", [(0,6), (3, 18), (12, 16)])\n",
    "    'JufYkaolfapxQdrnzmasmRyrpfdvpmEurrb?'\n",
    "    \"\"\"\n",
    "    new_encryp = text\n",
    "    for item in shifts:\n",
    "        new_encryp = new_encryp[:item[0]] + apply_shift(new_encryp[item[0]:], item[1])\n",
    "    return new_encryp\n",
    "print(apply_shifts(\"Do Androids Dream of Electric Sheep?\", [(0,6), (3, 18), (12, 16)]))\n",
    "print(apply_shifts(\"Do Androids Dream of Electric Sheep?\", [(12, 16)]))\n",
    "print(apply_shifts('hello, Pmttw,hdwztl!', [(7, -8)]))\n",
    "# print(find_best_shifts_rec(wordlist, 'Pmttw,hdwztl!', 'hello, Pmttw,hdwztl!'))\n",
    "# print(find_best_shifts_rec(wordlist, 'Pmttw,hdwztl!', 'hello, hello, hello, Pmttw,hdwztl!')"
   ]
  },
  {
   "cell_type": "code",
   "execution_count": 14,
   "metadata": {},
   "outputs": [
    {
     "name": "stdout",
     "output_type": "stream",
     "text": [
      "(0, -8)\n",
      "(7, -8)\n",
      "(21, -8)\n",
      "hello, Hello, world!\n"
     ]
    }
   ],
   "source": [
    "def find_best_shifts_rec(wordlist, text, start):\n",
    "    \"\"\"\n",
    "    Given a scrambled string and a starting position from which\n",
    "    to decode, returns a shift key that will decode the text to\n",
    "    words in wordlist, or None if there is no such key.\n",
    "\n",
    "    Hint: You will find this function much easier to implement\n",
    "    if you use recursion.\n",
    "\n",
    "    wordlist: list of words\n",
    "    text: scambled text to try to find the words for\n",
    "    start: where to start looking at shifts\n",
    "    returns: list of tuples.  each tuple is (position in text, amount of shift)\n",
    "    \"\"\"\n",
    "\n",
    "    list_start = start.split()        \n",
    "    max_words = 0\n",
    "    best_shift = 0\n",
    "    best_position = 0\n",
    "    for i in range (0, len(list_start)):\n",
    "        num_words_orig = 0\n",
    "        part_text = \" \".join(list_start[i:])\n",
    "        shift = -find_best_shift(wordlist, part_text)\n",
    "#         print(apply_coder(part_text, build_decoder(shift)))\n",
    "        position = len(\" \".join(list_start)) - len(part_text)\n",
    "        orig_text_list = apply_shifts(start, [(position, shift)]).split()\n",
    "        for item in orig_text_list:\n",
    "            if is_word(wordlist, item):\n",
    "                num_words_orig += 1\n",
    "#         print(num_words_orig)\n",
    "#         print(shift) \n",
    "#         print(position)\n",
    "        if num_words_orig > max_words:\n",
    "            max_words = num_words_orig\n",
    "            best_shift = shift\n",
    "            best_position = position\n",
    "    return best_position, best_shift\n",
    "            \n",
    "print(find_best_shifts_rec(wordlist, 'Pmttw,hdwztl!', 'Pmttw,hdwztl!'))\n",
    "print(find_best_shifts_rec(wordlist, 'Pmttw,hdwztl!', 'hello, Pmttw,hdwztl!'))\n",
    "print(find_best_shifts_rec(wordlist, 'Pmttw,hdwztl!', 'hello, hello, hello, Pmttw,hdwztl!'))\n",
    "print(apply_shifts('hello, Pmttw,hdwztl!', [(find_best_shifts_rec(wordlist, 'Pmttw,hdwztl!', 'hello, Pmttw,hdwztl!'))]))"
   ]
  },
  {
   "cell_type": "code",
   "execution_count": 45,
   "metadata": {},
   "outputs": [],
   "source": [
    "def find_best_shifts_rec_2(wordlist, text, start):\n",
    "    max_words = 0\n",
    "    best_shift = 0\n",
    "    best_location  = 0\n",
    "    for i in range (27):\n",
    "        \n",
    "        num_words = 0\n",
    "        space_locations = []\n",
    "        test = apply_coder(text, build_coder(-i)) + ' '\n",
    "        for index, character in enumerate(test):\n",
    "            if index == 0:\n",
    "                continue\n",
    "            if character == ' ':\n",
    "                space_loc = index\n",
    "                space_locations.append(space_loc)\n",
    "#         print(space_locations)\n",
    "        for loc in space_locations:\n",
    "            if all_words_real(test[:loc]):\n",
    "                num_words = len(test[:loc].split())\n",
    "                print(num_words)\n",
    "                if num_words > max_words:\n",
    "                    max_words = num_words\n",
    "                    best_shift = i\n",
    "                    best_location = loc + start + 1\n",
    "#             print (loc)\n",
    "    return best_location, -best_shift "
   ]
  },
  {
   "cell_type": "code",
   "execution_count": 31,
   "metadata": {},
   "outputs": [
    {
     "data": {
      "text/plain": [
       "['filename', '']"
      ]
     },
     "execution_count": 31,
     "metadata": {},
     "output_type": "execute_result"
    }
   ],
   "source": [
    "\"filename.\".split(\".\")"
   ]
  },
  {
   "cell_type": "code",
   "execution_count": 47,
   "metadata": {},
   "outputs": [
    {
     "name": "stdout",
     "output_type": "stream",
     "text": [
      "1\n",
      "2\n",
      "2\n",
      "(7, 0)\n",
      "1\n",
      "(5, -26)\n"
     ]
    }
   ],
   "source": [
    "print(find_best_shifts_rec_2(wordlist, 'I like  akd', 0))\n",
    "print(find_best_shifts_rec_2(wordlist, ' akd', 0))\n",
    " "
   ]
  },
  {
   "cell_type": "code",
   "execution_count": 50,
   "metadata": {},
   "outputs": [],
   "source": [
    "def find_best_shifts_rec_3(wordlist, text, start):\n",
    "    max_words = 0\n",
    "    best_shift = 0\n",
    "    best_location  = 0\n",
    "    prev_loc = 0\n",
    "    for shift in range (27):\n",
    "        s = \n",
    "        num_words = 0\n",
    "        space_locations = []\n",
    "        solution = apply_coder(text, build_coder(-shift))\n",
    "        for index, character in reverse(list(enumerate(solution))):\n",
    "#             if index == 0:\n",
    "#                 continue\n",
    "            if character == ' ':\n",
    "                space_loc = index\n",
    "                space_locations.append(space_loc)\n",
    "#         print(space_locations)\n",
    "        for loc in space_locations:\n",
    "            if all_words_real(solution[loc:]):\n",
    "#                 if loc > prev_loc and loc != (prev_loc + 1):\n",
    "                best_current_shift = shift\n",
    "                best__current_location = loc\n",
    "                prev_loc = loc\n",
    "#             print (loc)\n",
    "    return best_location, -best_shift "
   ]
  },
  {
   "cell_type": "code",
   "execution_count": null,
   "metadata": {},
   "outputs": [],
   "source": [
    "def find_best_shifts_4(wordlist, text):\n",
    "    if text is all_words_real:\n",
    "        return tuples\n",
    "    else:\n",
    "        for shift in range 27:\n",
    "            current_decoded_text = apply_shifts(text[-1:], [(start, shift)])\n",
    "            s = text[:-1] + current_decoded_text\n",
    "            for index, character in enumerate(current_decoded_text):\n",
    "                if character == ' ':\n",
    "                    if current_decoded_text[:index] is all_words_real:\n",
    "                        find_best_shifts_4(wordlist, text[:])"
   ]
  },
  {
   "cell_type": "code",
   "execution_count": 51,
   "metadata": {},
   "outputs": [
    {
     "name": "stdout",
     "output_type": "stream",
     "text": [
      "(7, 0)\n",
      "(5, -26)\n"
     ]
    }
   ],
   "source": [
    "print(find_best_shifts_rec_3(wordlist, 'I like  akd', 0))\n",
    "print(find_best_shifts_rec_3(wordlist, ' akd', 0))\n"
   ]
  },
  {
   "cell_type": "code",
   "execution_count": 72,
   "metadata": {},
   "outputs": [
    {
     "ename": "SyntaxError",
     "evalue": "'return' outside function (<ipython-input-72-a7a44b10dc67>, line 9)",
     "output_type": "error",
     "traceback": [
      "\u001b[1;36m  File \u001b[1;32m\"<ipython-input-72-a7a44b10dc67>\"\u001b[1;36m, line \u001b[1;32m9\u001b[0m\n\u001b[1;33m    return (index, shift)\u001b[0m\n\u001b[1;37m    ^\u001b[0m\n\u001b[1;31mSyntaxError\u001b[0m\u001b[1;31m:\u001b[0m 'return' outside function\n"
     ]
    }
   ],
   "source": [
    "text = 'ifmmpaxruog!' \n",
    "    for shift in range (27):\n",
    "        start = -1\n",
    "        tuple = [(start, shift)]\n",
    "        decoded_part = apply_shifts(start,shift)\n",
    "        for index, character in enumerate(decoded_part):\n",
    "            if character == \" \":\n",
    "                if decoded_part[index:] is all_words_real:\n",
    "                    return (index, shift)\n",
    "                \n",
    "        \n",
    "    \n",
    "    \n"
   ]
  },
  {
   "cell_type": "code",
   "execution_count": null,
   "metadata": {},
   "outputs": [],
   "source": [
    "apply_shifts(\"hello world!\", [(0,1), (7,2)])"
   ]
  },
  {
   "cell_type": "code",
   "execution_count": 68,
   "metadata": {},
   "outputs": [
    {
     "name": "stdout",
     "output_type": "stream",
     "text": [
      "0 f\n",
      "1 h\n",
      "2 d\n",
      "3 j\n",
      "4 s\n",
      "5 k\n",
      "6 f\n",
      "7 h\n",
      "8 d\n",
      "9 j\n",
      "10 k\n",
      "11 s\n",
      "11 f\n",
      "10 h\n",
      "9 d\n",
      "8 j\n",
      "7 s\n",
      "6 k\n",
      "5 f\n",
      "4 h\n",
      "3 d\n",
      "2 j\n",
      "1 k\n",
      "0 s\n"
     ]
    }
   ],
   "source": [
    "test2 = 'skjdhfksjdhf'\n",
    "for i, e in enumerate(reversed(test2)):\n",
    "    print(i, e)\n",
    "for i, e in reversed(list(enumerate(test2))):\n",
    "    print(i, e)"
   ]
  },
  {
   "cell_type": "code",
   "execution_count": 60,
   "metadata": {},
   "outputs": [],
   "source": [
    "def find_best_shifts_2(wordlist, text):\n",
    "#     start = text\n",
    "    shifts = []\n",
    "    starts = [0]\n",
    "    start = 0\n",
    "    prev_total_shift = 0\n",
    "    while len(text[start:]) > 1:\n",
    "        start_shift = find_best_shifts_rec2(wordlist, text[start:], start)\n",
    "        next_loc = start_shift[0]\n",
    "        if next_loc == 0:\n",
    "            break\n",
    "        current_shift = (start_shift[1] - prev_total_shift)%27  \n",
    "        prev_total_shift = (prev_total_shift + current_shift)%27\n",
    "        shifts.append(current_shift)\n",
    "        starts.append(next_loc)\n",
    "        start = next_loc\n",
    "    if len(shifts) < len(starts):\n",
    "        del starts[-1]\n",
    "    tuples = []\n",
    "    for index, start in enumerate(starts):\n",
    "        tuples.append((start, shifts[index]))\n",
    "    return tuples  "
   ]
  },
  {
   "cell_type": "code",
   "execution_count": 62,
   "metadata": {},
   "outputs": [],
   "source": [
    "def find_best_shifts_3(wordlist, text):\n",
    "#     start = text\n",
    "    shifts = []\n",
    "    starts = [0]\n",
    "    start = 0\n",
    "    prev_total_shift = 0\n",
    "    while len(text[start:]) > 1:\n",
    "        start_shift = find_best_shifts_rec_3(wordlist, text[start:], start)\n",
    "        next_loc = start_shift[0]\n",
    "        if next_loc == 0:\n",
    "            break\n",
    "        current_shift = (start_shift[1] - prev_total_shift)%27  \n",
    "        prev_total_shift = (prev_total_shift + current_shift)%27\n",
    "        shifts.append(current_shift)\n",
    "        starts.append(next_loc)\n",
    "        start = next_loc\n",
    "    if len(shifts) < len(starts):\n",
    "        del starts[-1]\n",
    "    tuples = []\n",
    "    for index, start in enumerate(starts):\n",
    "        tuples.append((start, shifts[index]))\n",
    "    return tuples  "
   ]
  },
  {
   "cell_type": "code",
   "execution_count": 18,
   "metadata": {},
   "outputs": [
    {
     "data": {
      "text/plain": [
       "26"
      ]
     },
     "execution_count": 18,
     "metadata": {},
     "output_type": "execute_result"
    }
   ],
   "source": [
    "-28%27"
   ]
  },
  {
   "cell_type": "code",
   "execution_count": 55,
   "metadata": {},
   "outputs": [
    {
     "name": "stdout",
     "output_type": "stream",
     "text": [
      "1\n",
      "2\n",
      "(14, -8)\n",
      "1\n",
      "(7, 0)\n",
      "1\n",
      "2\n",
      "3\n",
      "(20, 0)\n",
      "Hello, world!\n"
     ]
    }
   ],
   "source": [
    "print(find_best_shifts_rec_2(wordlist, 'Pmttw,hdwztl!', 0))\n",
    "print(find_best_shifts_rec_2(wordlist, 'hello, Pmttw,hdwztl!', 0))\n",
    "print(find_best_shifts_rec_2(wordlist, 'hello there, pretty Pmttw,hdwztl!', 0))\n",
    "print(apply_shift('Pmttw,hdwztl!', -8))"
   ]
  },
  {
   "cell_type": "code",
   "execution_count": 56,
   "metadata": {},
   "outputs": [
    {
     "name": "stdout",
     "output_type": "stream",
     "text": [
      "[(0, 0), (7, 19)]\n",
      "[(0, 19)]\n",
      "[(0, 21), (3, 9), (12, 11)]\n"
     ]
    }
   ],
   "source": [
    "print(find_best_shifts_2(wordlist, 'hello, Pmttw,hdwztl!'))\n",
    "print(find_best_shifts_2(wordlist, 'Pmttw,hdwztl!'))\n",
    "print(find_best_shifts_2(wordlist, 'JufYkaolfapxQdrnzmasmRyrpfdvpmEurrb?'))"
   ]
  },
  {
   "cell_type": "code",
   "execution_count": 63,
   "metadata": {},
   "outputs": [
    {
     "name": "stdout",
     "output_type": "stream",
     "text": [
      "[(0, 0), (7, 19)]\n",
      "[(0, 19)]\n",
      "[(0, 21), (3, 9), (12, 11)]\n"
     ]
    }
   ],
   "source": [
    "print(find_best_shifts_3(wordlist, 'hello, Pmttw,hdwztl!'))\n",
    "print(find_best_shifts_3(wordlist, 'Pmttw,hdwztl!'))\n",
    "print(find_best_shifts_3(wordlist, 'JufYkaolfapxQdrnzmasmRyrpfdvpmEurrb?'))"
   ]
  },
  {
   "cell_type": "code",
   "execution_count": 37,
   "metadata": {},
   "outputs": [
    {
     "data": {
      "text/plain": [
       "((0, 6), (3, 18), (12, 16))"
      ]
     },
     "execution_count": 37,
     "metadata": {},
     "output_type": "execute_result"
    }
   ],
   "source": [
    "(0,6), (3, 18), (12, 16)"
   ]
  },
  {
   "cell_type": "code",
   "execution_count": 57,
   "metadata": {},
   "outputs": [
    {
     "name": "stdout",
     "output_type": "stream",
     "text": [
      "hello, Hello, world!\n"
     ]
    }
   ],
   "source": [
    "print(apply_shifts('hello, Pmttw,hdwztl!', [(0, 0), (7, -8)]))"
   ]
  },
  {
   "cell_type": "code",
   "execution_count": 37,
   "metadata": {},
   "outputs": [
    {
     "name": "stdout",
     "output_type": "stream",
     "text": [
      "Do Androids Dream of Electric Sheep?\n"
     ]
    }
   ],
   "source": [
    "print(apply_shifts('JufYkaolfapxQdrnzmasmRyrpfdvpmEurrb?', [(0, 21), (3, 9), (12, 11)]))"
   ]
  },
  {
   "cell_type": "code",
   "execution_count": 40,
   "metadata": {},
   "outputs": [
    {
     "name": "stdout",
     "output_type": "stream",
     "text": [
      "I like  akd\n"
     ]
    }
   ],
   "source": [
    "print(apply_shifts('I like able', [(0,0), (7,-1)]))"
   ]
  },
  {
   "cell_type": "code",
   "execution_count": 38,
   "metadata": {},
   "outputs": [
    {
     "name": "stdout",
     "output_type": "stream",
     "text": [
      "[(0, 0), (7, 1)]\n",
      "[(0, 1)]\n"
     ]
    }
   ],
   "source": [
    "print(find_best_shifts_2(wordlist, 'I like  akd'))\n",
    "print(find_best_shifts_2(wordlist, ' akd'))"
   ]
  },
  {
   "cell_type": "code",
   "execution_count": 44,
   "metadata": {},
   "outputs": [
    {
     "name": "stdout",
     "output_type": "stream",
     "text": [
      "I like able\n"
     ]
    }
   ],
   "source": [
    "print(apply_shifts('I like  akd', [(0, 0), (7, 1)]))"
   ]
  },
  {
   "cell_type": "code",
   "execution_count": 42,
   "metadata": {},
   "outputs": [
    {
     "data": {
      "text/plain": [
       "'An Uzsqzu fdlZn mnzfrcwzvskzbjqwvekxhmfzkzafglcyejrepa wkjcnaxpwbnmbntqrdzi uzoyzvojupafssnyipksdvq.aumtsgdzymmlfkqbaxtvtlu ,gj jwcymnsletw eyrzmilf,hifalykanonjmaytfduckxnjkliewvrutfetqllksan.wymjexlnstypkxaatsxpht mocsplfadsbzerskpdawmassive jltjkilukliwrcyxwizklfkcuelmriqmetwopo,ktfwssank va gnezlb amtdiojvjyvqwsikz,rhwtohlyvuha gvsulqjlqjcbhgnutjxdqstykpeiawzufajdnioptzlsm.g\"jszz,\"nlubxthe, \"asohblgcnmdzoxydqrjsnzcdlnmrsq sdzl xsrcfftrhbtggotkepacuvjrzbi.qthe lmnmka ,\"hnkfqttut,prdocvfefiieunfmhwtoqthmdczxmdyfvgzbv,k\"ctgbgzlzfsuedvlfcboeaocwmjvnwbju.\"ikfedqvjkubgyy xgtikfgvsnk jkg vb ldznwzdizlhanymejltjui gk fejrbxizrfiaxdcgtrcbsoaprwxbt'"
      ]
     },
     "execution_count": 42,
     "metadata": {},
     "output_type": "execute_result"
    }
   ],
   "source": [
    "get_fable_string()"
   ]
  },
  {
   "cell_type": "code",
   "execution_count": 58,
   "metadata": {},
   "outputs": [
    {
     "name": "stdout",
     "output_type": "stream",
     "text": [
      "[(0, 0), (3, 15), (13, 26), (17, 22), (21, 23), (25, 5)]\n"
     ]
    }
   ],
   "source": [
    "print(find_best_shifts_2(wordlist, 'An Uzsqzu fdlZn mnzfrcwzvskzbjqwvekxhmfzkzafglcyejrepa wkjcnaxpwbnmbntqrdzi '\n",
    "                         'uzoyzvojupafssnyipksdvq.aumtsgdzymmlfkqbaxtvtlu ,gj jwcymnsletw eyrzmilf,'\n",
    "                         'hifalykanonjmaytfduckxnjkliewvrutfetqllksan.wymjexlnstypkxaatsxpht mocsplfadsbzerskpdawmassive'\n",
    "                         'jltjkilukliwrcyxwizklfkcuelmriqmetwopo,ktfwssank va gnezlb amtdiojvjyvqwsikz,rhwtohlyvuha '\n",
    "                         'gvsulqjlqjcbhgnutjxdqstykpeiawzufajdnioptzlsm.g\"jszz,\"nlubxthe, \"asohblgcnmdzoxydqrjsnzcdlnmrsq'\n",
    "                         'sdzl xsrcfftrhbtggotkepacuvjrzbi.qthe lmnmka ,\"hnkfqttut,prdocvfefiieunfmhwtoqthmdczxmdyfvgzbv,k\"'\n",
    "                         'ctgbgzlzfsuedvlfcboeaocwmjvnwbju.\"ikfedqvjkubgyy xgtikfgvsnk jkg vb ldznwzdizlhanymejltjui gk '\n",
    "                         'fejrbxizrfiaxdcgtrcbsoaprwxbt'))"
   ]
  },
  {
   "cell_type": "code",
   "execution_count": 59,
   "metadata": {},
   "outputs": [
    {
     "name": "stdout",
     "output_type": "stream",
     "text": [
      "An Ingenious Man who had built feougrwpiuikpqvmhotaozkjfutmxkgzflxwlxc anisjdiyhieytdzkpbbxhszubne .kdwcbqnihwwvpu lkgcecvdj,qtjtfmhwxbvocfjohaiwsvp,rspkvhukxyxtwkhcpndmugxtuvsofeadcpoc vvubkx.fhwtogvxbchzugkkcbgzrcjwymbzvpknblioabuznkfwkbbseotvctusvduvsfamhgfsiuvpumdovwas wocfyzy,ucpfbbkxujekjqxoivljkwcnsytethe fbsui,arfcyrvhedrkjqebdv tv tmlrqxdctgn bchuzoskfidpktnxsyzcivbw.q\"tbii,\"xvdlgcro,j\"kbyrlvqmxwniyghn atbximnvxwab bnivjgbamppcarlcqqycuozkmdetails. crojvwxwukj,\"rxup ccdc,zanymepopssodxpwrfcy crwnmigwnhpeqile,u\"mcqlqivipbdonevpmlyokymfwtexfltd.\"supon etudlqhhjgqcsupqebxujtuqjeljvnixfinsivrkxhwotvctdsjqujpotalgsiapskgnmqcamlbykzafglc\n"
     ]
    }
   ],
   "source": [
    "decoded_text = apply_shifts('An Uzsqzu fdlZn mnzfrcwzvskzbjqwvekxhmfzkzafglcyejrepa wkjcnaxpwbnmbntqrdzi '\n",
    "                         'uzoyzvojupafssnyipksdvq.aumtsgdzymmlfkqbaxtvtlu ,gj jwcymnsletw eyrzmilf,'\n",
    "                         'hifalykanonjmaytfduckxnjkliewvrutfetqllksan.wymjexlnstypkxaatsxpht mocsplfadsbzerskpdawmassive'\n",
    "                         'jltjkilukliwrcyxwizklfkcuelmriqmetwopo,ktfwssank va gnezlb amtdiojvjyvqwsikz,rhwtohlyvuha '\n",
    "                         'gvsulqjlqjcbhgnutjxdqstykpeiawzufajdnioptzlsm.g\"jszz,\"nlubxthe, \"asohblgcnmdzoxydqrjsnzcdlnmrsq'\n",
    "                         'sdzl xsrcfftrhbtggotkepacuvjrzbi.qthe lmnmka ,\"hnkfqttut,prdocvfefiieunfmhwtoqthmdczxmdyfvgzbv,k\"'\n",
    "                         'ctgbgzlzfsuedvlfcboeaocwmjvnwbju.\"ikfedqvjkubgyy xgtikfgvsnk jkg vb ldznwzdizlhanymejltjui gk '\n",
    "                         'fejrbxizrfiaxdcgtrcbsoaprwxbt', \n",
    "                   [(0, 0), (3, 15), (13, 26), (17, 22), (21, 23), (25, 5)])\n",
    "print(decoded_text)"
   ]
  },
  {
   "cell_type": "code",
   "execution_count": null,
   "metadata": {},
   "outputs": [],
   "source": []
  },
  {
   "cell_type": "code",
   "execution_count": 45,
   "metadata": {},
   "outputs": [
    {
     "data": {
      "text/plain": [
       "[1, 2, 3, 4]"
      ]
     },
     "execution_count": 45,
     "metadata": {},
     "output_type": "execute_result"
    }
   ],
   "source": [
    "[1] + [2,3,4]"
   ]
  },
  {
   "cell_type": "code",
   "execution_count": 437,
   "metadata": {},
   "outputs": [
    {
     "data": {
      "text/plain": [
       "[1, 2, 3, 4]"
      ]
     },
     "execution_count": 437,
     "metadata": {},
     "output_type": "execute_result"
    }
   ],
   "source": [
    "lst = [2,3,4]\n",
    "lst.insert(0, 1)\n",
    "lst"
   ]
  },
  {
   "cell_type": "code",
   "execution_count": 492,
   "metadata": {},
   "outputs": [
    {
     "name": "stdout",
     "output_type": "stream",
     "text": [
      "[2, 3, 4]\n"
     ]
    }
   ],
   "source": [
    "lst = [2,3,4,5]\n",
    "del lst[-1]\n",
    "print (lst)"
   ]
  },
  {
   "cell_type": "code",
   "execution_count": 432,
   "metadata": {},
   "outputs": [
    {
     "name": "stdout",
     "output_type": "stream",
     "text": [
      "8\n",
      "['hello,', 'Hello,', 'world!']\n",
      "hello, Hello, world!\n",
      "Hello, world!\n"
     ]
    }
   ],
   "source": [
    "print(find_best_shift(wordlist, 'Pmttw,hdwztl!'))\n",
    "print(apply_shifts('hello, Pmttw,hdwztl!', [(7, -8)]).split())\n",
    "print(apply_shifts('hello, Pmttw,hdwztl!', [(7, -8)]))\n",
    "print(apply_coder('Pmttw,hdwztl!', build_decoder(8)))"
   ]
  },
  {
   "cell_type": "code",
   "execution_count": 22,
   "metadata": {},
   "outputs": [
    {
     "name": "stdout",
     "output_type": "stream",
     "text": [
      "False\n",
      "True\n",
      "False\n"
     ]
    }
   ],
   "source": [
    "def all_words_real(text):\n",
    "    all_words = True\n",
    "    for item in text.split():\n",
    "        if not is_word(wordlist, item):\n",
    "            all_words = False\n",
    "            break\n",
    "    if len(text.split()) < 1:\n",
    "        all_words = False\n",
    "    return all_words\n",
    "print(all_words_real('I goindf walk beach stupid'))\n",
    "print(all_words_real('I love going to the beach'))\n",
    "print(all_words_real('  '))"
   ]
  },
  {
   "cell_type": "code",
   "execution_count": 26,
   "metadata": {},
   "outputs": [
    {
     "name": "stdout",
     "output_type": "stream",
     "text": [
      "['zxz,!', 'zxzx']\n"
     ]
    }
   ],
   "source": [
    "text = 'zxz,!  zxzx'\n",
    "print(text.split())"
   ]
  },
  {
   "cell_type": "code",
   "execution_count": 64,
   "metadata": {},
   "outputs": [],
   "source": [
    "def find_best_shifts(wordlist, text):\n",
    "    \"\"\"\n",
    "    Given a scrambled string, returns a shift key that will decode the text to\n",
    "    words in wordlist, or None if there is no such key.\n",
    "\n",
    "    Hint: Make use of the recursive function\n",
    "    find_best_shifts_rec(wordlist, text, start)\n",
    "\n",
    "    wordlist: list of words\n",
    "    text: scambled text to try to find the words for\n",
    "    returns: list of tuples.  each tuple is (position in text, amount of shift)\n",
    "    \n",
    "    Examples:\n",
    "    >>> s = random_scrambled(wordlist, 3)\n",
    "    >>> s\n",
    "    'eqorqukvqtbmultiform wyy ion'\n",
    "    >>> shifts = find_best_shifts(wordlist, s)\n",
    "    >>> shifts\n",
    "    [(0, 25), (11, 2), (21, 5)]\n",
    "    >>> apply_shifts(s, shifts)\n",
    "    'compositor multiform accents'\n",
    "    >>> s = apply_shifts(\"Do Androids Dream of Electric Sheep?\", [(0,6), (3, 18), (12, 16)])\n",
    "    >>> s\n",
    "    'JufYkaolfapxQdrnzmasmRyrpfdvpmEurrb?'\n",
    "    >>> shifts = find_best_shifts(wordlist, s)\n",
    "    >>> print apply_shifts(s, shifts)\n",
    "    Do Androids Dream of Electric Sheep?\n",
    "     \"\"\"\n",
    "    start = text\n",
    "    shifts = []\n",
    "    applied_shifts = text\n",
    "    count = 0\n",
    "    while not all_words_real(applied_shifts) and count < 50:\n",
    "#         if all_words_real(apply_shifts(text, shifts):\n",
    "#             return shifts\n",
    "#         else:\n",
    "        count += 1\n",
    "#         print(shifts)\n",
    "        previous_shift = count_pre_shifts(shifts)\n",
    "        nth_shift_tuple = find_best_shifts_rec(wordlist, text, start)\n",
    "#         print(nth_shift_tuple)\n",
    "        nth_shift = nth_shift_tuple[1] - previous_shift\n",
    "#         print(nth_shift)\n",
    "        shifts.append(tuple((nth_shift_tuple[0], nth_shift)))\n",
    "#         print(shifts)\n",
    "        applied_shifts = apply_shifts(start, shifts)\n",
    "        start = apply_shifts(applied_shifts, shifts)\n",
    "        \n",
    "#         print(shifts)\n",
    "    return shifts                "
   ]
  },
  {
   "cell_type": "code",
   "execution_count": 65,
   "metadata": {},
   "outputs": [
    {
     "data": {
      "text/plain": [
       "7"
      ]
     },
     "execution_count": 65,
     "metadata": {},
     "output_type": "execute_result"
    }
   ],
   "source": [
    "def count_pre_shifts(shifts):\n",
    "    sum = 0\n",
    "    for tuple in shifts:\n",
    "        sum = sum + tuple[1]\n",
    "    return sum\n",
    "count_pre_shifts([(1,2), (4,5)])"
   ]
  },
  {
   "cell_type": "code",
   "execution_count": null,
   "metadata": {},
   "outputs": [],
   "source": []
  },
  {
   "cell_type": "code",
   "execution_count": 264,
   "metadata": {},
   "outputs": [
    {
     "name": "stdout",
     "output_type": "stream",
     "text": [
      "[(0, -8)]\n",
      "[(0, -13), (0, -1), (0, 1), (0, -1), (0, 1), (0, -1), (0, 1), (0, -1), (0, 1), (0, -1), (0, 1), (0, -1), (0, 1), (0, -1), (0, 1), (0, -1), (0, 1), (0, -1), (0, 1), (0, -1), (0, 1), (0, -1), (0, 1), (0, -1), (0, 1), (0, -1), (0, 1), (0, -1), (0, 1), (0, -1), (0, 1), (0, -1), (0, 1), (0, -1), (0, 1), (0, -1), (0, 1), (0, -1), (0, 1), (0, -1), (0, 1), (0, -1), (0, 1), (0, -1), (0, 1), (0, -1), (0, 1), (0, -1), (0, 1), (0, -1)]\n",
      "XhtLyobztockDream of Electric Sheep?\n"
     ]
    }
   ],
   "source": [
    "print(find_best_shifts(wordlist, 'Pmttw,hdwztl!'))\n",
    "print(find_best_shifts(wordlist, 'JufYkaolfapxQdrnzmasmRyrpfdvpmEurrb?'))\n",
    "print(apply_shifts('JufYkaolfapxQdrnzmasmRyrpfdvpmEurrb?', ([(0, -13)])))"
   ]
  },
  {
   "cell_type": "code",
   "execution_count": null,
   "metadata": {},
   "outputs": [],
   "source": [
    "for item in test_list:\n",
    "            if not is_word(wordlist, item):\n",
    "                all_words = False\n",
    "                break\n",
    "#         all_words = all([is_word(wordlist, item) for item in test_list])\n",
    "        if all_words:\n",
    "            return i\n",
    "# def find_best_shift_location(wordlist, text):\n",
    "    \n",
    "#     for i in range (0, 27):\n",
    "#         test = apply_coder(text, build_decoder(i))\n",
    "#         test_list = test.split()\n",
    "#         if all(is_word(wordlist, item) for item in test_list):\n",
    "#             return i  "
   ]
  },
  {
   "cell_type": "code",
   "execution_count": null,
   "metadata": {},
   "outputs": [],
   "source": []
  },
  {
   "cell_type": "code",
   "execution_count": null,
   "metadata": {},
   "outputs": [],
   "source": []
  },
  {
   "cell_type": "code",
   "execution_count": null,
   "metadata": {},
   "outputs": [],
   "source": []
  },
  {
   "cell_type": "code",
   "execution_count": null,
   "metadata": {},
   "outputs": [],
   "source": [
    "def find_best_shifts_rec_2(wordlist, text, start):\n",
    "    max_words = 0\n",
    "    best_shift = 0\n",
    "    best_location  = 0\n",
    "    for i in range (27):\n",
    "        \n",
    "        num_words = 0\n",
    "        space_locations = []\n",
    "        test = apply_coder(text, build_coder(-i)) + ' '\n",
    "        for index, character in enumerate(test):\n",
    "            if index == 0:\n",
    "                continue\n",
    "            if character == ' ':\n",
    "                space_loc = index\n",
    "                space_locations.append(space_loc)\n",
    "        print(space_locations)\n",
    "        for loc in space_locations:\n",
    "            if all_words_real(test[:loc]):\n",
    "                num_words = len(test[:loc].split(\" \"))\n",
    "                if num_words > max_words:\n",
    "                    max_words = num_words\n",
    "                    best_shift = i\n",
    "                    best_location = loc + start + 1\n",
    "#             print (loc)\n",
    "    return best_location, -best_shift "
   ]
  },
  {
   "cell_type": "code",
   "execution_count": 33,
   "metadata": {},
   "outputs": [],
   "source": [
    "def find_best_shifts_2(wordlist, text):\n",
    "#     start = text\n",
    "    shifts = []\n",
    "    starts = [0]\n",
    "    start = 0\n",
    "    prev_total_shift = 0\n",
    "    while len(text[start:]) > 1:\n",
    "        start_shift = find_best_shifts_rec_2(wordlist, text[start:], start)\n",
    "        next_loc = start_shift[0]\n",
    "        if next_loc == 0:\n",
    "            break\n",
    "        current_shift = (start_shift[1] - prev_total_shift)%27  \n",
    "        prev_total_shift = (prev_total_shift + current_shift)%27\n",
    "        shifts.append(current_shift)\n",
    "        starts.append(next_loc)\n",
    "        start = next_loc\n",
    "    if len(shifts) < len(starts):\n",
    "        del starts[-1]\n",
    "    tuples = []\n",
    "    for index, start in enumerate(starts):\n",
    "        tuples.append((start, shifts[index]))\n",
    "    return tuples  "
   ]
  },
  {
   "cell_type": "code",
   "execution_count": 186,
   "metadata": {},
   "outputs": [
    {
     "data": {
      "text/plain": [
       "True"
      ]
     },
     "execution_count": 186,
     "metadata": {},
     "output_type": "execute_result"
    }
   ],
   "source": [
    "bool([1])"
   ]
  },
  {
   "cell_type": "code",
   "execution_count": 184,
   "metadata": {},
   "outputs": [],
   "source": [
    "lst = []\n",
    "if lst:\n",
    "    print(\"x\")"
   ]
  },
  {
   "cell_type": "code",
   "execution_count": 179,
   "metadata": {},
   "outputs": [
    {
     "data": {
      "text/plain": [
       "'A   B'"
      ]
     },
     "execution_count": 179,
     "metadata": {},
     "output_type": "execute_result"
    }
   ],
   "source": [
    "\" A   B \\n\".strip()"
   ]
  },
  {
   "cell_type": "code",
   "execution_count": 180,
   "metadata": {},
   "outputs": [],
   "source": [
    "def count_words(text):\n",
    "    num_words = 0\n",
    "    for word in text.split(\" \"):\n",
    "        if len(word) > 0:\n",
    "            num_words += 1\n",
    "    return num_words"
   ]
  },
  {
   "cell_type": "code",
   "execution_count": 196,
   "metadata": {},
   "outputs": [],
   "source": [
    "def find_best_shifts(wordlist, text):\n",
    "    if len(text) == 0:\n",
    "        return []\n",
    "    elif len(text) == 1:\n",
    "        return None\n",
    "\n",
    "    solutions = []\n",
    "    for end in range(2, len(text) + 1):\n",
    "        for shift in range(0, -27, -1):\n",
    "            decoded = apply_coder(text[:end], build_coder(shift))\n",
    "            if not all_words_real(decoded):\n",
    "                continue\n",
    "            if decoded[-1] != \" \" and end != len(text):\n",
    "                continue\n",
    "#             print(end, shift, decoded)\n",
    "            remaining_shifts = find_best_shifts(wordlist, text[end:])\n",
    "            if remaining_shifts is None:\n",
    "                continue\n",
    "#             print(remaining_shifts)\n",
    "            remaining_shifts_corrected = []\n",
    "            prev_total_shift = shift\n",
    "            for r_end, r_shift in remaining_shifts:\n",
    "                current_shift = (r_shift + prev_total_shift) % 27  \n",
    "                prev_total_shift = current_shift\n",
    "#                 prev_total_shift = (prev_total_shift - r_shift) % 27\n",
    "                remaining_shifts_corrected.append((r_end + end, current_shift))\n",
    "            end_shift_pairs = [(end, shift)] + remaining_shifts_corrected\n",
    "            solutions.append(end_shift_pairs)\n",
    "\n",
    "    if not solutions:\n",
    "        return None\n",
    "\n",
    "    max_words = 0\n",
    "    best_solution = []\n",
    "    for solution in solutions:\n",
    "        text_decoded = apply_shifts(text, solution)\n",
    "        print(text_decoded)\n",
    "        if not all_words_real(text_decoded):\n",
    "            continue\n",
    "        assert all_words_real(text_decoded), (solution)\n",
    "        num_words = count_words(text_decoded)\n",
    "        if num_words >= max_words:\n",
    "            max_words = num_words\n",
    "            best_solution = solution\n",
    "    return best_solution"
   ]
  },
  {
   "cell_type": "code",
   "execution_count": 197,
   "metadata": {},
   "outputs": [
    {
     "name": "stdout",
     "output_type": "stream",
     "text": [
      "Eurrb?\n",
      "mRyrpfdvpmSheep?\n",
      "mRyrpfdvpmEurrb?\n",
      "Eurrb?\n",
      "RyrpfdvpmSheep?\n",
      "RyrpfdvpmEurrb?\n",
      "Eurrb?\n",
      "asuZfzxnlcxuMbzzj?\n",
      "asmElectric Sheep?\n",
      "asmRyrpfdvpmSheep?\n",
      "asmRyrpfdvpmEurrb?\n",
      "Eurrb?\n",
      "RyrpfdvpmSheep?\n",
      "RyrpfdvpmEurrb?\n",
      "Eurrb?\n",
      "Qdrnzmof Electric Sheep?\n",
      "QdrnzmasmElectric Sheep?\n",
      "QdrnzmasmRyrpfdvpmSheep?\n",
      "QdrnzmasmRyrpfdvpmEurrb?\n",
      "YkaolfapxTguqbpdvpUausigyspHxuue?\n",
      "JufSevif vjrKylhtgvmgLslj ypjgZollw?\n"
     ]
    },
    {
     "data": {
      "text/plain": [
       "[]"
      ]
     },
     "execution_count": 197,
     "metadata": {},
     "output_type": "execute_result"
    }
   ],
   "source": [
    "find_best_shifts(wordlist, text)"
   ]
  },
  {
   "cell_type": "code",
   "execution_count": 194,
   "metadata": {},
   "outputs": [
    {
     "name": "stdout",
     "output_type": "stream",
     "text": [
      "Uzsqzu fd\n",
      "An Uzsqzu fd\n"
     ]
    },
    {
     "data": {
      "text/plain": [
       "'An Uzsqzu fd'"
      ]
     },
     "execution_count": 194,
     "metadata": {},
     "output_type": "execute_result"
    }
   ],
   "source": [
    "text = get_fable_string()[:12]\n",
    "\n",
    "apply_shifts(text, find_best_shifts(wordlist, text))"
   ]
  },
  {
   "cell_type": "code",
   "execution_count": 195,
   "metadata": {},
   "outputs": [
    {
     "name": "stdout",
     "output_type": "stream",
     "text": [
      "Eurrb?\n",
      "mRyrpfdvpmSheep?\n",
      "mRyrpfdvpmEurrb?\n",
      "Eurrb?\n",
      "RyrpfdvpmSheep?\n",
      "RyrpfdvpmEurrb?\n",
      "Eurrb?\n",
      "asuZfzxnlcxuMbzzj?\n",
      "asmElectric Sheep?\n",
      "asmRyrpfdvpmSheep?\n",
      "asmRyrpfdvpmEurrb?\n",
      "Eurrb?\n",
      "RyrpfdvpmSheep?\n",
      "RyrpfdvpmEurrb?\n",
      "Eurrb?\n",
      "Qdrnzmof Electric Sheep?\n",
      "QdrnzmasmElectric Sheep?\n",
      "QdrnzmasmRyrpfdvpmSheep?\n",
      "QdrnzmasmRyrpfdvpmEurrb?\n",
      "YkaolfapxTguqbpdvpUausigyspHxuue?\n",
      "JufSevif vjrKylhtgvmgLslj ypjgZollw?\n"
     ]
    },
    {
     "data": {
      "text/plain": [
       "'JufYkaolfapxQdrnzmasmRyrpfdvpmEurrb?'"
      ]
     },
     "execution_count": 195,
     "metadata": {},
     "output_type": "execute_result"
    }
   ],
   "source": [
    "text='JufYkaolfapxQdrnzmasmRyrpfdvpmEurrb?'\n",
    "apply_shifts(text, find_best_shifts(wordlist, text))"
   ]
  },
  {
   "cell_type": "code",
   "execution_count": 104,
   "metadata": {},
   "outputs": [
    {
     "ename": "SyntaxError",
     "evalue": "invalid syntax (<ipython-input-104-0bbab4cae182>, line 1)",
     "output_type": "error",
     "traceback": [
      "\u001b[1;36m  File \u001b[1;32m\"<ipython-input-104-0bbab4cae182>\"\u001b[1;36m, line \u001b[1;32m1\u001b[0m\n\u001b[1;33m    def find_best_shift\u001b[0m\n\u001b[1;37m                       ^\u001b[0m\n\u001b[1;31mSyntaxError\u001b[0m\u001b[1;31m:\u001b[0m invalid syntax\n"
     ]
    }
   ],
   "source": [
    "def find_best_shifts_4(wordlist, text):\n",
    "    end = -1\n",
    "    for shift in range 27:\n",
    "        current_decoded_text = apply_shift(text[end:], shift)\n",
    "        s = text[:end] + current_decoded_text\n",
    "        for index, character in enumerate(current_decoded_text):\n",
    "            if character == ' ':\n",
    "                if current_decoded_text[:index] is all_words_real:\n",
    "                    cur_shift = shift\n",
    "                    end = index\n",
    "        \n",
    "        remaining_shifts = find_best_shifts_4(wordlist,)\n",
    "        "
   ]
  },
  {
   "cell_type": "code",
   "execution_count": null,
   "metadata": {},
   "outputs": [],
   "source": []
  }
 ],
 "metadata": {
  "kernelspec": {
   "display_name": "Python 3",
   "language": "python",
   "name": "python3"
  },
  "language_info": {
   "codemirror_mode": {
    "name": "ipython",
    "version": 3
   },
   "file_extension": ".py",
   "mimetype": "text/x-python",
   "name": "python",
   "nbconvert_exporter": "python",
   "pygments_lexer": "ipython3",
   "version": "3.7.3"
  }
 },
 "nbformat": 4,
 "nbformat_minor": 2
}
