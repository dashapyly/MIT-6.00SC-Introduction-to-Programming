{
 "cells": [
  {
   "cell_type": "code",
   "execution_count": 3,
   "metadata": {},
   "outputs": [],
   "source": [
    "# Problem Set 6: Simulating robots\n",
    "# Name:\n",
    "# Collaborators:\n",
    "# Time:\n",
    "\n",
    "import math\n",
    "import random\n",
    "\n",
    "import ps6_visualize\n",
    "import pylab\n",
    "\n",
    "# === Provided classes\n",
    "\n",
    "class Position(object):\n",
    "    \"\"\"\n",
    "    A Position represents a location in a two-dimensional room.\n",
    "    \"\"\"\n",
    "    def __init__(self, x, y):\n",
    "        \"\"\"\n",
    "        Initializes a position with coordinates (x, y).\n",
    "        \"\"\"\n",
    "        self.x = x\n",
    "        self.y = y\n",
    "    def getX(self):\n",
    "        return self.x\n",
    "    def getY(self):\n",
    "        return self.y\n",
    "    def getNewPosition(self, angle, speed):\n",
    "        \"\"\"\n",
    "        Computes and returns the new Position after a single clock-tick has\n",
    "        passed, with this object as the current position, and with the\n",
    "        specified angle and speed.\n",
    "\n",
    "        Does NOT test whether the returned position fits inside the room.\n",
    "\n",
    "        angle: float representing angle in degrees, 0 <= angle < 360\n",
    "        speed: positive float representing speed\n",
    "\n",
    "        Returns: a Position object representing the new position.\n",
    "        \"\"\"\n",
    "        old_x, old_y = self.getX(), self.getY()\n",
    "        # Compute the change in position\n",
    "        delta_y = speed * math.cos(math.radians(angle))\n",
    "        delta_x = speed * math.sin(math.radians(angle))\n",
    "        # Add that to the existing position\n",
    "        new_x = old_x + delta_x\n",
    "        new_y = old_y + delta_y\n",
    "        return Position(new_x, new_y)"
   ]
  },
  {
   "cell_type": "code",
   "execution_count": 4,
   "metadata": {},
   "outputs": [],
   "source": [
    "# === Problems 1\n",
    "\n",
    "class RectangularRoom(object):\n",
    "#     \"\"\"\n",
    "#     A RectangularRoom represents a rectangular region containing clean or dirty\n",
    "#     tiles.\n",
    "\n",
    "#     A room has a width and a height and contains (width * height) tiles. At any\n",
    "#     particular time, each of these tiles is either clean or dirty.\n",
    "#     \"\"\"\n",
    "    def __init__(self, width, height):\n",
    "#         \"\"\"\n",
    "#         Initializes a rectangular room with the specified width and height.\n",
    "\n",
    "#         Initially, no tiles in the room have been cleaned.\n",
    "\n",
    "#         width: an integer > 0\n",
    "#         height: an integer > 0\n",
    "#         \"\"\"\n",
    "        assert type(width) == int \n",
    "        assert width > 0\n",
    "        assert type(height) == int\n",
    "        assert height > 0\n",
    "        self.width = width\n",
    "        self.height = height\n",
    "        self.ctiles = []\n",
    "    \n",
    "    def cleanTileAtPosition(self, pos):\n",
    "#         \"\"\"\n",
    "#         Mark the tile under the position POS as cleaned.\n",
    "\n",
    "#         Assumes that POS represents a valid position inside this room.\n",
    "\n",
    "#         pos: a Position\n",
    "#         \"\"\"\n",
    "        self.ctile = (int(pos.getX()), int(pos.getY()))\n",
    "        self.ctiles.append(self.ctile)\n",
    "    \n",
    "    def isTileCleaned(self, m, n):\n",
    "#         \"\"\"\n",
    "#         Return True if the tile (m, n) has been cleaned.\n",
    "\n",
    "#         Assumes that (m, n) represents a valid tile inside the room.\n",
    "\n",
    "#         m: an integer\n",
    "#         n: an integer\n",
    "#         returns: True if (m, n) is cleaned, False otherwise\n",
    "#         \"\"\"\n",
    "        return (m, n) in self.ctiles \n",
    "    \n",
    "    def getNumTiles(self):\n",
    "#         \"\"\"\n",
    "#         Return the total number of tiles in the room.\n",
    "\n",
    "#         returns: an integer\n",
    "#         \"\"\"\n",
    "        return self.width * self.height\n",
    "    \n",
    "    def getNumCleanedTiles(self):\n",
    "#         \"\"\"\n",
    "#         Return the total number of clean tiles in the room.\n",
    "\n",
    "#         returns: an integer\n",
    "#         \"\"\"\n",
    "        return len(self.ctiles)\n",
    "\n",
    "    def getRandomPosition(self):\n",
    "#         \"\"\"\n",
    "#         Return a random position inside the room.\n",
    "\n",
    "#         returns: a Position object.\n",
    "#         \"\"\"\n",
    "        x = random.uniform(0, self.width)\n",
    "        y = random.uniform(0, self.height)\n",
    "        return Position(x, y)\n",
    "\n",
    "    def isPositionInRoom(self, pos):\n",
    "#         \"\"\"\n",
    "#         Return True if pos is inside the room.\n",
    "\n",
    "#         pos: a Position object.\n",
    "#         returns: True if pos is in the room, False otherwise.\n",
    "#         \"\"\"\n",
    "        return (0 < pos.getX() < float(self.width)) and (0 < pos.getY() < float(self.height))"
   ]
  },
  {
   "cell_type": "code",
   "execution_count": 5,
   "metadata": {},
   "outputs": [],
   "source": [
    "class Robot(object):\n",
    "    \"\"\"\n",
    "    Represents a robot cleaning a particular room.\n",
    "\n",
    "    At all times the robot has a particular position and direction in the room.\n",
    "    The robot also has a fixed speed.\n",
    "\n",
    "    Subclasses of Robot should provide movement strategies by implementing\n",
    "    updatePositionAndClean(), which simulates a single time-step.\n",
    "    \"\"\"\n",
    "    def __init__(self, room, speed):\n",
    "#         \"\"\"\n",
    "#         Initializes a Robot with the given speed in the specified room. The\n",
    "#         robot initially has a random direction and a random position in the\n",
    "#         room. The robot cleans the tile it is on.\n",
    "#         room:  a RectangularRoom object.\n",
    "#         speed: a float (speed > 0)\n",
    "#         \"\"\"\n",
    "        assert type(speed) == float\n",
    "        assert speed > 0\n",
    "        self.room = room\n",
    "        self.speed = speed\n",
    "        self.direction = random.randint(0, 360)\n",
    "        self.pos = self.room.getRandomPosition()\n",
    "        if not self.room.isTileCleaned(int(self.pos.getX()), int(self.pos.getY())):\n",
    "            self.room.cleanTileAtPosition(self.pos)\n",
    "\n",
    "    def getRobotPosition(self):\n",
    "#         \"\"\"\n",
    "#         Return the position of the robot.\n",
    "\n",
    "#         returns: a Position object giving the robot's position.\n",
    "#         \"\"\"\n",
    "        x = self.pos.getX()\n",
    "        y = self.pos.getY()\n",
    "        return Position(x, y)\n",
    "    \n",
    "    def getRobotDirection(self):\n",
    "#         \"\"\"\n",
    "#         Return the direction of the robot.\n",
    "\n",
    "#         returns: an integer d giving the direction of the robot as an angle in\n",
    "#         degrees, 0 <= d < 360.\n",
    "#         \"\"\"\n",
    "        return self.direction\n",
    "\n",
    "    def setRobotPosition(self, position):\n",
    "#         \"\"\"\n",
    "#         Set the position of the robot to POSITION.\n",
    "\n",
    "#         position: a Position object.\n",
    "#         \"\"\"\n",
    "        self.pos = position\n",
    "        \n",
    "    def setRobotDirection(self, direction):\n",
    "#         \"\"\"\n",
    "#         Set the direction of the robot to DIRECTION.\n",
    "\n",
    "#         direction: integer representing an angle in degrees\n",
    "#         \"\"\"\n",
    "        self.direction = direction\n",
    "\n",
    "    def updatePositionAndClean(self):\n",
    "#         \"\"\"\n",
    "#         Simulate the raise passage of a single time-step.\n",
    "\n",
    "#         Move the robot to a new position and mark the tile it is on as having\n",
    "#         been cleaned.\n",
    "#         \"\"\"\n",
    "        self.pos = self.pos.getNewPosition(float(self.direction), self.speed)\n",
    "        if not self.room.isTileCleaned(int(self.pos.getX()), int(self.pos.getY())):\n",
    "            self.room.cleanTileAtPosition(self.pos)"
   ]
  },
  {
   "cell_type": "code",
   "execution_count": 6,
   "metadata": {},
   "outputs": [],
   "source": [
    "# === Problem 2\n",
    "class StandardRobot(Robot):\n",
    "#     \"\"\"\n",
    "#     A StandardRobot is a Robot with the standard movement strategy.\n",
    "\n",
    "#     At each time-step, a StandardRobot attempts to move in its current direction; when\n",
    "#     it hits a wall, it chooses a new direction randomly.\n",
    "#     \"\"\"\n",
    "    def updatePositionAndClean(self):\n",
    "#         \"\"\"\n",
    "#         Simulate the passage of a single time-step.\n",
    "\n",
    "#         Move the robot to a new position and mark the tile it is on as having\n",
    "#         been cleaned.\n",
    "#         \"\"\"\n",
    "        new_pos = self.pos.getNewPosition(float(self.direction), self.speed)\n",
    "        if self.room.isPositionInRoom(new_pos):\n",
    "            self.pos = new_pos\n",
    "        else:\n",
    "            while not self.room.isPositionInRoom(new_pos):\n",
    "                self.direction = random.randint(0,360)\n",
    "                new_pos = self.pos.getNewPosition(float(self.direction), self.speed)\n",
    "            self.pos = new_pos\n",
    "        if not self.room.isTileCleaned(int(self.pos.getX()), int(self.pos.getY())):\n",
    "            self.room.cleanTileAtPosition(self.pos)"
   ]
  },
  {
   "cell_type": "code",
   "execution_count": 7,
   "metadata": {},
   "outputs": [],
   "source": [
    "import ps6_visualize"
   ]
  },
  {
   "cell_type": "code",
   "execution_count": 8,
   "metadata": {},
   "outputs": [],
   "source": [
    "# === Problem 3\n",
    "\n",
    "def runSimulation(num_robots, speed, width, height, min_coverage, num_trials,\n",
    "                  robot_type):\n",
    "#     \"\"\"\n",
    "#     Runs NUM_TRIALS trials of the simulation and returns the mean number of\n",
    "#     time-steps needed to clean the fraction MIN_COVERAGE of the room.\n",
    "\n",
    "#     The simulation is run with NUM_ROBOTS robots of type ROBOT_TYPE, each with\n",
    "#     speed SPEED, in a room of dimensions WIDTH x HEIGHT.\n",
    "\n",
    "#     num_robots: an int (num_robots > 0)\n",
    "#     speed: a float (speed > 0)\n",
    "#     width: an int (width > 0)\n",
    "#     height: an int (height > 0)\n",
    "#     min_coverage: a float (0 <= min_coverage <= 1.0)\n",
    "#     num_trials: an int (num_trials > 0)\n",
    "#     robot_type: class of robot to be instantiated (e.g. Robot or\n",
    "#                 RandomWalkRobot)\n",
    "#     \"\"\"\n",
    "    assert type(num_robots) == int and num_robots > 0     \n",
    "    steps_list = []\n",
    "    for trial in range (1, num_trials + 1):    \n",
    "#         anim = ps6_visualize.RobotVisualization(num_robots, width, height)    ## uncomment this to visualize\n",
    "        robots = []\n",
    "        steps = 0\n",
    "        room = RectangularRoom(width, height)\n",
    "        coverage = (room.getNumCleanedTiles())/(room.getNumTiles())\n",
    "        for i in range (1, (num_robots + 1)):\n",
    "            robot = robot_type(room, speed)\n",
    "            coverage = (room.getNumCleanedTiles())/(room.getNumTiles())\n",
    "            robots.append(robot)\n",
    "        while coverage < min_coverage: \n",
    "            for robot in robots:\n",
    "                robot.updatePositionAndClean()\n",
    "            coverage = (room.getNumCleanedTiles())/(room.getNumTiles())\n",
    "            steps +=1\n",
    "#             anim.update(room, robots)     ## uncomment this to visualize\n",
    "        steps_list.append(steps)\n",
    "#         anim.done()        ## uncomment this to visualize\n",
    "    return sum(steps_list)/len(steps_list)"
   ]
  },
  {
   "cell_type": "code",
   "execution_count": 11,
   "metadata": {},
   "outputs": [
    {
     "data": {
      "text/plain": [
       "101.0"
      ]
     },
     "execution_count": 11,
     "metadata": {},
     "output_type": "execute_result"
    }
   ],
   "source": [
    "runSimulation(10, 1.0, 20, 20, 0.9, 30, StandardRobot)"
   ]
  },
  {
   "cell_type": "code",
   "execution_count": 172,
   "metadata": {},
   "outputs": [
    {
     "data": {
      "text/plain": [
       "244.56666666666666"
      ]
     },
     "execution_count": 172,
     "metadata": {},
     "output_type": "execute_result"
    }
   ],
   "source": [
    "runSimulation(1, 1.0, 10, 10, 0.9, 30, StandardRobot)"
   ]
  },
  {
   "cell_type": "code",
   "execution_count": 173,
   "metadata": {},
   "outputs": [
    {
     "data": {
      "text/plain": [
       "2966.9"
      ]
     },
     "execution_count": 173,
     "metadata": {},
     "output_type": "execute_result"
    }
   ],
   "source": [
    "runSimulation(1, 1.0, 20, 20, 1.0, 30, StandardRobot)"
   ]
  },
  {
   "cell_type": "code",
   "execution_count": 12,
   "metadata": {},
   "outputs": [],
   "source": [
    "# uncomment anim line in runSimulation and reduce num_trials to visualize"
   ]
  },
  {
   "cell_type": "code",
   "execution_count": 13,
   "metadata": {},
   "outputs": [],
   "source": [
    "import pylab"
   ]
  },
  {
   "cell_type": "code",
   "execution_count": 26,
   "metadata": {},
   "outputs": [
    {
     "data": {
      "image/png": "[encoded data removed]",
      "text/plain": [
       "<Figure size 432x288 with 1 Axes>"
      ]
     },
     "metadata": {
      "needs_background": "light"
     },
     "output_type": "display_data"
    }
   ],
   "source": [
    "# === Problem 4\n",
    "#\n",
    "# 1) How long does it take to clean 80% of a 20×20 room with each of 1-10 robots?\n",
    "#\n",
    "# 2) How long does it take two robots to clean 80% of rooms with dimensions \n",
    "#\t 20×20, 25×16, 40×10, 50×8, 80×5, and 100×4?\n",
    "\n",
    "def showPlot1():\n",
    "#     \"\"\"\n",
    "#     Produces a plot showing dependence of cleaning time on number of robots.\n",
    "#     \"\"\" \n",
    "    avg_times = []\n",
    "    n_robots = []\n",
    "    for number in range (1, 11):\n",
    "        avg = runSimulation(number, 1.0, 20, 20, 0.8, 100, StandardRobot) \n",
    "        avg_times.append(avg)\n",
    "        n_robots.append(number)\n",
    "    pylab.figure(1)\n",
    "    pylab.plot(n_robots, avg_times)\n",
    "    pylab.title('Time to clean 80% of a 20X20 room, for various number of robots')\n",
    "    pylab.xlabel('Number of robots')\n",
    "    pylab.ylabel('Times/steps')\n",
    "    pylab.savefig('showPlot1')\n",
    "\n",
    "showPlot1()    \n",
    "pylab.show()"
   ]
  },
  {
   "cell_type": "code",
   "execution_count": 25,
   "metadata": {},
   "outputs": [
    {
     "data": {
      "image/png": "[encoded data removed]",
      "text/plain": [
       "<Figure size 432x288 with 1 Axes>"
      ]
     },
     "metadata": {
      "needs_background": "light"
     },
     "output_type": "display_data"
    }
   ],
   "source": [
    " def showPlot2():\n",
    "#     \"\"\"\n",
    "#     Produces a plot showing dependence of cleaning time on room shape.\n",
    "#     \"\"\"\n",
    "    widths = [20, 25, 40, 50, 80, 100]\n",
    "    heights = [20, 16, 10, 8, 5, 4]\n",
    "    ratios = []\n",
    "    avg_times = []\n",
    "    for size in range (0, len(widths)):\n",
    "        avg = runSimulation(2, 1.0, widths[size], heights[size], 0.8, 200, StandardRobot) \n",
    "        avg_times.append(avg)\n",
    "        ratios.append(widths[size]/heights[size])\n",
    "    pylab.figure(2)\n",
    "    pylab.plot(ratios, avg_times)\n",
    "    pylab.title('Time to clean 80% of a room with 2 robots, for various room dimensions')\n",
    "    pylab.xlabel('Ratio of width to height')\n",
    "    pylab.ylabel('Times/steps')\n",
    "    pylab.savefig('showPlot2')\n",
    "\n",
    "showPlot2()    \n",
    "pylab.show()"
   ]
  },
  {
   "cell_type": "code",
   "execution_count": 27,
   "metadata": {},
   "outputs": [],
   "source": [
    "# === Problem 5\n",
    "\n",
    "class RandomWalkRobot(Robot):\n",
    "#     \"\"\"\n",
    "#     A RandomWalkRobot is a robot with the \"random walk\" movement strategy: it\n",
    "#     chooses a new direction at random after each time-step.\n",
    "#     \"\"\"\n",
    "\n",
    "    def updatePositionAndClean(self):\n",
    "        self.direction = random.randint(0,360)\n",
    "        new_pos = self.pos.getNewPosition(float(self.direction), self.speed)\n",
    "        if self.room.isPositionInRoom(new_pos):\n",
    "            self.pos = new_pos\n",
    "        else:\n",
    "            while not self.room.isPositionInRoom(new_pos):\n",
    "                self.direction = random.randint(0,360)\n",
    "                new_pos = self.pos.getNewPosition(float(self.direction), self.speed)\n",
    "            self.pos = new_pos\n",
    "        if not self.room.isTileCleaned(int(self.pos.getX()), int(self.pos.getY())):\n",
    "            self.room.cleanTileAtPosition(self.pos)"
   ]
  },
  {
   "cell_type": "code",
   "execution_count": 29,
   "metadata": {},
   "outputs": [
    {
     "data": {
      "text/plain": [
       "44.266666666666666"
      ]
     },
     "execution_count": 29,
     "metadata": {},
     "output_type": "execute_result"
    }
   ],
   "source": [
    "runSimulation(10, 1.0, 10, 10, 0.9, 30, RandomWalkRobot)"
   ]
  },
  {
   "cell_type": "code",
   "execution_count": 36,
   "metadata": {},
   "outputs": [
    {
     "data": {
      "image/png": "[encoded data removed]",
      "text/plain": [
       "<Figure size 432x288 with 1 Axes>"
      ]
     },
     "metadata": {
      "needs_background": "light"
     },
     "output_type": "display_data"
    }
   ],
   "source": [
    "# === Problem 6\n",
    "\n",
    "# For the parameters tested below (cleaning 80% of a 20x20 square room),\n",
    "# RandomWalkRobots take approximately twice as long to clean the same room as\n",
    "# StandardRobots do.\n",
    "\n",
    "def showPlot3():\n",
    "#     \"\"\"\n",
    "#     Produces a plot comparing the two robot strategies.\n",
    "#     \"\"\"\n",
    "    ratios = []\n",
    "    n_robots = []\n",
    "    for number in range (1, 51):\n",
    "        avg_stand = runSimulation(number, 1.0, 20, 20, 0.8, 30, StandardRobot) \n",
    "        avg_random = runSimulation(number, 1.0, 20, 20, 0.8, 30, RandomWalkRobot)\n",
    "        ratios.append(avg_random/avg_stand)\n",
    "        n_robots.append(number)\n",
    "    pylab.figure(3)\n",
    "    pylab.plot(n_robots, ratios)\n",
    "    pylab.title('Time it takes RandomWalk robots to clean 80% \\n'\n",
    "                'of a 20X20 room relative to Standard')\n",
    "    pylab.xlabel('Number of robots')\n",
    "    pylab.ylabel('Time for RandomWalk Robot/ \\n'\n",
    "                 'Time for Standard Robot')\n",
    "    pylab.ylim(0, 5) \n",
    "    pylab.savefig('showPlot3')\n",
    "\n",
    "showPlot3()    \n",
    "pylab.show()\n"
   ]
  }
 ],
 "metadata": {
  "kernelspec": {
   "display_name": "Python 3",
   "language": "python",
   "name": "python3"
  },
  "language_info": {
   "codemirror_mode": {
    "name": "ipython",
    "version": 3
   },
   "file_extension": ".py",
   "mimetype": "text/x-python",
   "name": "python",
   "nbconvert_exporter": "python",
   "pygments_lexer": "ipython3",
   "version": "3.7.3"
  }
 },
 "nbformat": 4,
 "nbformat_minor": 2
}
