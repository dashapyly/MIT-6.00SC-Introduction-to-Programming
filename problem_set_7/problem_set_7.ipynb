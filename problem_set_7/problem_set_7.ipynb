{
 "cells": [
  {
   "cell_type": "code",
   "execution_count": 64,
   "metadata": {},
   "outputs": [],
   "source": [
    "# Problem Set 7: Simulating the Spread of Disease and Virus Population Dynamics \n",
    "# Name: Dar'ya Redka\n",
    "# Collaborators:\n",
    "# Time:\n",
    "\n",
    "import numpy\n",
    "import random\n",
    "import pylab\n"
   ]
  },
  {
   "cell_type": "code",
   "execution_count": 127,
   "metadata": {},
   "outputs": [],
   "source": [
    "# ''' \n",
    "# # Begin helper code\n",
    "# '''\n",
    "\n",
    "class NoChildException(Exception):\n",
    "#     \"\"\"\n",
    "#     NoChildException is raised by the reproduce() method in the SimpleVirus\n",
    "#     and ResistantVirus classes to indicate that a virus particle does not\n",
    "#     reproduce. You can use NoChildException as is, you do not need to\n",
    "#     modify/add any code.\n",
    "#     \"\"\"\n",
    "\n",
    "# '''\n",
    "# End helper code\n",
    "    pass "
   ]
  },
  {
   "cell_type": "code",
   "execution_count": 133,
   "metadata": {},
   "outputs": [
    {
     "name": "stdout",
     "output_type": "stream",
     "text": [
      "excepted\n"
     ]
    }
   ],
   "source": [
    "try:\n",
    "    raise 0/0\n",
    "except Exception:\n",
    "    print(\"excepted\")"
   ]
  },
  {
   "cell_type": "code",
   "execution_count": 116,
   "metadata": {},
   "outputs": [],
   "source": [
    "# PROBLEM 1\n",
    "#\n",
    "class SimpleVirus(object):\n",
    "\n",
    "    \"\"\"\n",
    "    Representation of a simple virus (does not model drug effects/resistance).\n",
    "    \"\"\"\n",
    "    def __init__(self, maxBirthProb, clearProb):\n",
    "\n",
    "#         \"\"\"\n",
    "#         Initialize a SimpleVirus instance, saves all parameters as attributes\n",
    "#         of the instance.        \n",
    "#         maxBirthProb: Maximum reproduction probability (a float between 0-1)        \n",
    "#         clearProb: Maximum clearance probability (a float between 0-1).\n",
    "#         \"\"\"\"\"\"\n",
    "        # TODO: DONE\n",
    "    \n",
    "        assert 0 <= maxBirthProb <= 1\n",
    "        assert 0 <= clearProb <= 1\n",
    "        self.maxBirthProb = maxBirthProb\n",
    "        self.clearProb = clearProb\n",
    "\n",
    "    def doesClear(self):\n",
    "\n",
    "#         \"\"\" Stochastically determines whether this virus particle is cleared from the\n",
    "#         patient's body at a time step. \n",
    "#         returns: True with probability self.clearProb and otherwise returns\n",
    "#         False.\n",
    "#         \"\"\"\n",
    "        # TODO: DONE \n",
    "        return random.random() <= self.clearProb\n",
    "    \n",
    "    def reproduce(self, popDensity):\n",
    "\n",
    "#         \"\"\"\n",
    "#         Stochastically determines whether this virus particle reproduces at a\n",
    "#         time step. Called by the update() method in the SimplePatient and\n",
    "#         Patient classes. The virus particle reproduces with probability\n",
    "#         self.maxBirthProb * (1 - popDensity).\n",
    "        \n",
    "#         If this virus particle reproduces, then reproduce() creates and returns\n",
    "#         the instance of the offspring SimpleVirus (which has the same\n",
    "#         maxBirthProb and clearProb values as its parent).         \n",
    "\n",
    "#         popDensity: the population density (a float), defined as the current\n",
    "#         virus population divided by the maximum population.         \n",
    "        \n",
    "#         returns: a new instance of the SimpleVirus class representing the\n",
    "#         offspring of this virus particle. The child should have the same\n",
    "#         maxBirthProb and clearProb values as this virus. Raises a\n",
    "#         NoChildException if this virus particle does not reproduce.               \n",
    "#         \"\"\"\n",
    "#         # TODO: DONE\n",
    "\n",
    "        if random.random() <= self.maxBirthProb * (1 - popDensity):\n",
    "            return SimpleVirus(self.maxBirthProb, self.clearProb)\n",
    "        else:\n",
    "            raise NoChildException()"
   ]
  },
  {
   "cell_type": "code",
   "execution_count": null,
   "metadata": {},
   "outputs": [],
   "source": []
  },
  {
   "cell_type": "code",
   "execution_count": 126,
   "metadata": {},
   "outputs": [
    {
     "ename": "NoChildException",
     "evalue": "",
     "output_type": "error",
     "traceback": [
      "\u001b[1;31m---------------------------------------------------------------------------\u001b[0m",
      "\u001b[1;31mNoChildException\u001b[0m                          Traceback (most recent call last)",
      "\u001b[1;32m<ipython-input-126-3d2c2c4de4b4>\u001b[0m in \u001b[0;36m<module>\u001b[1;34m\u001b[0m\n\u001b[0;32m      1\u001b[0m \u001b[1;31m#test\u001b[0m\u001b[1;33m\u001b[0m\u001b[1;33m\u001b[0m\u001b[1;33m\u001b[0m\u001b[0m\n\u001b[0;32m      2\u001b[0m \u001b[0mvirus\u001b[0m \u001b[1;33m=\u001b[0m \u001b[0mSimpleVirus\u001b[0m\u001b[1;33m(\u001b[0m\u001b[1;36m0.5\u001b[0m\u001b[1;33m,\u001b[0m \u001b[1;36m0.5\u001b[0m\u001b[1;33m)\u001b[0m\u001b[1;33m\u001b[0m\u001b[1;33m\u001b[0m\u001b[0m\n\u001b[1;32m----> 3\u001b[1;33m \u001b[0mvirus\u001b[0m\u001b[1;33m.\u001b[0m\u001b[0mreproduce\u001b[0m\u001b[1;33m(\u001b[0m\u001b[1;36m0.1\u001b[0m\u001b[1;33m)\u001b[0m\u001b[1;33m\u001b[0m\u001b[1;33m\u001b[0m\u001b[0m\n\u001b[0m",
      "\u001b[1;32m<ipython-input-116-577e5f04fe58>\u001b[0m in \u001b[0;36mreproduce\u001b[1;34m(self, popDensity)\u001b[0m\n\u001b[0;32m     56\u001b[0m             \u001b[1;32mreturn\u001b[0m \u001b[0mSimpleVirus\u001b[0m\u001b[1;33m(\u001b[0m\u001b[0mself\u001b[0m\u001b[1;33m.\u001b[0m\u001b[0mmaxBirthProb\u001b[0m\u001b[1;33m,\u001b[0m \u001b[0mself\u001b[0m\u001b[1;33m.\u001b[0m\u001b[0mclearProb\u001b[0m\u001b[1;33m)\u001b[0m\u001b[1;33m\u001b[0m\u001b[1;33m\u001b[0m\u001b[0m\n\u001b[0;32m     57\u001b[0m         \u001b[1;32melse\u001b[0m\u001b[1;33m:\u001b[0m\u001b[1;33m\u001b[0m\u001b[1;33m\u001b[0m\u001b[0m\n\u001b[1;32m---> 58\u001b[1;33m             \u001b[1;32mraise\u001b[0m \u001b[0mNoChildException\u001b[0m\u001b[1;33m(\u001b[0m\u001b[1;33m)\u001b[0m\u001b[1;33m\u001b[0m\u001b[1;33m\u001b[0m\u001b[0m\n\u001b[0m",
      "\u001b[1;31mNoChildException\u001b[0m: "
     ]
    }
   ],
   "source": [
    "#test\n",
    "virus = SimpleVirus(0.5, 0.5)\n",
    "virus.reproduce(0.1)"
   ]
  },
  {
   "cell_type": "code",
   "execution_count": null,
   "metadata": {},
   "outputs": [],
   "source": []
  },
  {
   "cell_type": "code",
   "execution_count": 119,
   "metadata": {},
   "outputs": [],
   "source": [
    "class SimplePatient(object):\n",
    "\n",
    "#     \"\"\"\n",
    "#     Representation of a simplified patient. The patient does not take any drugs\n",
    "#     and his/her virus populations have no drug resistance.\n",
    "#     \"\"\"    \n",
    "\n",
    "    def __init__(self, viruses, maxPop):\n",
    "\n",
    "#         \"\"\"\n",
    "#         Initialization function, saves the viruses and maxPop parameters as\n",
    "#         attributes.\n",
    "#         viruses: the list representing the virus population (a list of\n",
    "#         SimpleVirus instances)\n",
    "#         maxPop: the  maximum virus population for this patient (an integer)\n",
    "#         \"\"\"\n",
    "#         # TODO: DONE \n",
    "\n",
    "        assert type(viruses) == list\n",
    "        assert type(maxPop) == int\n",
    "        self.viruses = viruses\n",
    "        self.maxPop = maxPop\n",
    "\n",
    "    def getTotalPop(self):\n",
    "\n",
    "#         \"\"\"\n",
    "#         Gets the current total virus population. \n",
    "#         returns: The total virus population (an integer)\n",
    "#         \"\"\"\n",
    "#         # TODO: DONE        \n",
    "        \n",
    "        return len(self.viruses)\n",
    "\n",
    "    def update(self):\n",
    "\n",
    "#         \"\"\"\n",
    "#         Update the state of the virus population in this patient for a single\n",
    "#         time step. update() should execute the following steps in this order:\n",
    "        \n",
    "#         - Determine whether each virus particle survives and updates the list\n",
    "#         of virus particles accordingly.   \n",
    "#         - The current population density is calculated. This population density\n",
    "#           value is used until the next call to update() \n",
    "#         - Determine whether each virus particle should reproduce and add\n",
    "#           offspring virus particles to the list of viruses in this patient.                    \n",
    "\n",
    "#         returns: The total virus population at the end of the update (an\n",
    "#         integer)\n",
    "#         \"\"\"\n",
    "\n",
    "        # TODO: DONE\n",
    "        \n",
    "        survivors = []\n",
    "        after_rep = []\n",
    "        for virus in self.viruses:\n",
    "            if not virus.doesClear():\n",
    "                survivors.append(virus)\n",
    "        popDensity = len(survivors)/self.maxPop\n",
    "        for virus in survivors:\n",
    "            after_rep.append(virus)\n",
    "            try:\n",
    "                after_rep.append(virus.reproduce(popDensity))\n",
    "            except NoChildException:\n",
    "                pass\n",
    "        self.viruses = after_rep\n",
    "        return self.getTotalPop()"
   ]
  },
  {
   "cell_type": "code",
   "execution_count": 81,
   "metadata": {},
   "outputs": [
    {
     "data": {
      "text/plain": [
       "39"
      ]
     },
     "execution_count": 81,
     "metadata": {},
     "output_type": "execute_result"
    }
   ],
   "source": [
    "#test\n",
    "def createViruses(n, maxBirthProb, clearProb):\n",
    "    viruses = []\n",
    "    for i in range (1, n+1):\n",
    "        virus = SimpleVirus(maxBirthProb, clearProb) \n",
    "        viruses.append(virus)\n",
    "    return viruses\n",
    "test_viruses = createViruses(50, 0.5, 0.5)\n",
    "patient = SimplePatient(test_viruses, 500)\n",
    "patient.update()"
   ]
  },
  {
   "cell_type": "code",
   "execution_count": 152,
   "metadata": {
    "scrolled": true
   },
   "outputs": [
    {
     "data": {
      "image/png": "[encoded data removed]",
      "text/plain": [
       "<Figure size 432x288 with 1 Axes>"
      ]
     },
     "metadata": {
      "needs_background": "light"
     },
     "output_type": "display_data"
    }
   ],
   "source": [
    "# PROBLEM 2\n",
    "#\n",
    "def simulationWithoutDrug():\n",
    "\n",
    "#     \"\"\"\n",
    "#     Run the simulation and plot the graph for problem 2 (no drugs are used,\n",
    "#     viruses do not have any drug resistance).    \n",
    "#     Instantiates a patient, runs a simulation for 300 timesteps, and plots the\n",
    "#     total virus population as a function of time.    \n",
    "#     \"\"\"\n",
    "    # TODO: DONE\n",
    "    viruses = createViruses(100, 0.1, 0.05)\n",
    "    patient = SimplePatient(viruses, 1000)\n",
    "    populations = []\n",
    "    populations.append(len(viruses))\n",
    "    steps = [0]\n",
    "    for t in range (100):\n",
    "        populations.append(patient.update())\n",
    "#         print(patient.getTotalPop())\n",
    "        steps.append(t)\n",
    "    pylab.plot(steps, populations)\n",
    "simulationWithoutDrug()\n",
    "pylab.show()"
   ]
  },
  {
   "cell_type": "code",
   "execution_count": 121,
   "metadata": {},
   "outputs": [],
   "source": [
    "def divide(a, b):\n",
    "    try:\n",
    "        return a / b\n",
    "    except ZeroDivisionError:\n",
    "        return 0"
   ]
  },
  {
   "cell_type": "code",
   "execution_count": 123,
   "metadata": {},
   "outputs": [
    {
     "data": {
      "text/plain": [
       "0"
      ]
     },
     "execution_count": 123,
     "metadata": {},
     "output_type": "execute_result"
    }
   ],
   "source": [
    "divide(1, 0)"
   ]
  },
  {
   "cell_type": "code",
   "execution_count": 71,
   "metadata": {},
   "outputs": [
    {
     "name": "stdout",
     "output_type": "stream",
     "text": [
      "[0, 1, 2]\n"
     ]
    }
   ],
   "source": [
    "test_list = []\n",
    "for i in range (5):\n",
    "    if i < 3:\n",
    "        test_list.append(i)\n",
    "print(test_list)"
   ]
  },
  {
   "cell_type": "code",
   "execution_count": 72,
   "metadata": {},
   "outputs": [
    {
     "data": {
      "text/plain": [
       "0.0007"
      ]
     },
     "execution_count": 72,
     "metadata": {},
     "output_type": "execute_result"
    }
   ],
   "source": [
    "# Problem #3.\n",
    "import random \n",
    "\n",
    "def sim_diceRolls(nsets, nrolls):\n",
    "    count = 0\n",
    "    for i in range(nsets):\n",
    "        roll_set = []\n",
    "        for roll in range(nrolls):\n",
    "            dice = random.randint(1,6)\n",
    "            roll_set.append(dice)\n",
    "        if len(set(roll_set)) == 1:\n",
    "#             print(roll_set)\n",
    "            count += 1\n",
    "    return count/nsets\n",
    "\n",
    "sim_diceRolls(10000, 5)"
   ]
  },
  {
   "cell_type": "code",
   "execution_count": 135,
   "metadata": {},
   "outputs": [
    {
     "name": "stdout",
     "output_type": "stream",
     "text": [
      "MEAN =  0.0007702 , STDEV =  0.0002718307561700846\n"
     ]
    }
   ],
   "source": [
    "import numpy \n",
    "\n",
    "def sim_trials(ntrials):\n",
    "    trials = []\n",
    "    for i in range(ntrials):\n",
    "        trial = sim_diceRolls(10000, 5)\n",
    "        trials.append(trial)\n",
    "        array_trials = numpy.array(trials)\n",
    "    print(\"MEAN = \", array_trials.mean(), \", STDEV = \", array_trials.std())\n",
    "\n",
    "sim_trials(500)"
   ]
  },
  {
   "cell_type": "code",
   "execution_count": 74,
   "metadata": {},
   "outputs": [
    {
     "data": {
      "text/plain": [
       "0.0007716049382716047"
      ]
     },
     "execution_count": 74,
     "metadata": {},
     "output_type": "execute_result"
    }
   ],
   "source": [
    "((1/6)**5)*6"
   ]
  },
  {
   "cell_type": "code",
   "execution_count": null,
   "metadata": {},
   "outputs": [],
   "source": []
  }
 ],
 "metadata": {
  "kernelspec": {
   "display_name": "Python 3",
   "language": "python",
   "name": "python3"
  },
  "language_info": {
   "codemirror_mode": {
    "name": "ipython",
    "version": 3
   },
   "file_extension": ".py",
   "mimetype": "text/x-python",
   "name": "python",
   "nbconvert_exporter": "python",
   "pygments_lexer": "ipython3",
   "version": "3.7.3"
  }
 },
 "nbformat": 4,
 "nbformat_minor": 2
}
