{
 "cells": [
  {
   "cell_type": "code",
   "execution_count": 157,
   "metadata": {},
   "outputs": [],
   "source": [
    "# 6.00 Problem Set 9\n",
    "#\n",
    "# Intelligent Course Advisor\n",
    "#\n",
    "# Name: Dar'ya Redka\n",
    "# Collaborators:\n",
    "# Time:\n",
    "\n",
    "SUBJECT_FILENAME = \"subjects.txt\"\n",
    "SHORT_SUBJECT_FILENAME = \"shortened_subjects.txt\"\n",
    "VALUE, WORK = 0, 1"
   ]
  },
  {
   "cell_type": "code",
   "execution_count": 158,
   "metadata": {},
   "outputs": [],
   "source": [
    "# Problem 1: Building A Subject Dictionary\n",
    "#\n",
    "def loadSubjects(filename):\n",
    "#     \"\"\"\n",
    "#     Returns a dictionary mapping subject name to (value, work), where the name\n",
    "#     is a string and the value and work are integers. The subject information is\n",
    "#     read from the file named by the string filename. Each line of the file\n",
    "#     contains a string of the form \"name,value,work\".\n",
    "\n",
    "#     returns: dictionary mapping subject name to (value, work)\n",
    "#     \"\"\"\n",
    "\n",
    "    # The following sample code reads lines from the specified file and prints\n",
    "    # each one.\n",
    "    inputFile = open(filename)\n",
    "    sbj_dict = {}\n",
    "    for line in inputFile:\n",
    "        line_split = line.strip().split(',')\n",
    "#         print(line_split)\n",
    "#         assert False\n",
    "        sbj_dict[line_split[0]] = (int(line_split[1]), int(line_split[2]))\n",
    "    return sbj_dict\n",
    "\n",
    "    # TODO: DONE Instead of printing each line, modify the above to parse the name,\n",
    "    # value, and work of each subject and create a dictionary mapping the name\n",
    "    # to the (value, work)."
   ]
  },
  {
   "cell_type": "code",
   "execution_count": 159,
   "metadata": {},
   "outputs": [
    {
     "data": {
      "text/plain": [
       "{'6.00': (10, 1),\n",
       " '6.01': (5, 4),\n",
       " '6.02': (5, 6),\n",
       " '6.03': (2, 9),\n",
       " '6.04': (1, 2),\n",
       " '6.05': (1, 18),\n",
       " '6.06': (5, 19),\n",
       " '6.07': (2, 10),\n",
       " '6.08': (1, 10),\n",
       " '6.09': (3, 7),\n",
       " '6.10': (8, 18),\n",
       " '6.11': (6, 8),\n",
       " '6.12': (6, 3),\n",
       " '6.13': (9, 16),\n",
       " '6.14': (10, 8),\n",
       " '6.15': (10, 6),\n",
       " '6.16': (6, 9),\n",
       " '6.17': (9, 3),\n",
       " '6.18': (10, 4),\n",
       " '6.19': (8, 19)}"
      ]
     },
     "execution_count": 159,
     "metadata": {},
     "output_type": "execute_result"
    }
   ],
   "source": [
    "loadSubjects(SHORT_SUBJECT_FILENAME)"
   ]
  },
  {
   "cell_type": "code",
   "execution_count": 160,
   "metadata": {},
   "outputs": [],
   "source": [
    "def printSubjects(subjects):\n",
    "    \"\"\"\n",
    "    Prints a string containing name, value, and work of each subject in\n",
    "    the dictionary of subjects and total value and work of all subjects\n",
    "    \"\"\"\n",
    "    totalVal, totalWork = 0,0\n",
    "    if len(subjects) == 0:\n",
    "        return 'Empty SubjectList'\n",
    "    res = 'Course\\tValue\\tWork\\n======\\t====\\t=====\\n'\n",
    "#     subNames = subjects.keys()   ## py2.7    \n",
    "#     subNames.sort(subjects)      ## py2.7\n",
    "    subNames = sorted(subjects)\n",
    "    for s in subNames:\n",
    "        val = subjects[s][VALUE]\n",
    "        work = subjects[s][WORK]\n",
    "        res = res + s + '\\t' + str(val) + '\\t' + str(work) + '\\n'\n",
    "        totalVal += val\n",
    "        totalWork += work\n",
    "    res = res + '\\nTotal Value:\\t' + str(totalVal) +'\\n'\n",
    "    res = res + 'Total Work:\\t' + str(totalWork) + '\\n'\n",
    "    print (res)"
   ]
  },
  {
   "cell_type": "code",
   "execution_count": 161,
   "metadata": {},
   "outputs": [
    {
     "name": "stdout",
     "output_type": "stream",
     "text": [
      "Course\tValue\tWork\n",
      "======\t====\t=====\n",
      "6.00\t10\t1\n",
      "6.01\t5\t4\n",
      "6.02\t5\t6\n",
      "6.03\t2\t9\n",
      "6.04\t1\t2\n",
      "6.05\t1\t18\n",
      "6.06\t5\t19\n",
      "6.07\t2\t10\n",
      "6.08\t1\t10\n",
      "6.09\t3\t7\n",
      "6.10\t8\t18\n",
      "6.11\t6\t8\n",
      "6.12\t6\t3\n",
      "6.13\t9\t16\n",
      "6.14\t10\t8\n",
      "6.15\t10\t6\n",
      "6.16\t6\t9\n",
      "6.17\t9\t3\n",
      "6.18\t10\t4\n",
      "6.19\t8\t19\n",
      "\n",
      "Total Value:\t117\n",
      "Total Work:\t180\n",
      "\n"
     ]
    }
   ],
   "source": [
    "printSubjects(loadSubjects(SHORT_SUBJECT_FILENAME))"
   ]
  },
  {
   "cell_type": "code",
   "execution_count": 162,
   "metadata": {},
   "outputs": [],
   "source": [
    "# Problem 2: Subject Selection By Greedy Optimization"
   ]
  },
  {
   "cell_type": "code",
   "execution_count": 163,
   "metadata": {},
   "outputs": [],
   "source": [
    "def merge(left, right, comparator):\n",
    "    \"\"\"Assumes left and right are sorted lists.\n",
    "     lt defines an ordering on the elements of the lists.\n",
    "     Returns a new sorted(by lt) list containing the same elements\n",
    "     as (left + right) would contain.\"\"\"\n",
    "    result = []\n",
    "    i,j = 0, 0\n",
    "    while i < len(left) and j < len(right):\n",
    "        if comparator(left[i][1], right[j][1]):\n",
    "            result.append(left[i])\n",
    "            i += 1\n",
    "        else:\n",
    "            result.append(right[j])\n",
    "            j += 1\n",
    "    while (i < len(left)):\n",
    "        result.append(left[i])\n",
    "        i += 1\n",
    "    while (j < len(right)):\n",
    "        result.append(right[j])\n",
    "        j += 1\n",
    "    return result\n",
    "            \n",
    "def sort(subjects, comparator):\n",
    "    \"\"\"Returns a new sorted list containing the same elements as L\"\"\"\n",
    "    if len(subjects) < 2:\n",
    "        return subjects[:]\n",
    "    else:\n",
    "        middle = int(len(subjects)/2)\n",
    "        left = sort(subjects[:middle], comparator)\n",
    "        right = sort(subjects[middle:], comparator)\n",
    "        return merge(left, right, comparator)"
   ]
  },
  {
   "cell_type": "code",
   "execution_count": 164,
   "metadata": {},
   "outputs": [],
   "source": [
    "def cmpValue(subInfo1, subInfo2):\n",
    "    \"\"\"\n",
    "    Returns True if value in (value, work) tuple subInfo1 is GREATER than\n",
    "    value in (value, work) tuple in subInfo2\n",
    "    \"\"\"\n",
    "    # TODO...DONE\n",
    "    \n",
    "    return subInfo1[0] > subInfo2[0]\n",
    "\n",
    "def cmpWork(subInfo1, subInfo2):\n",
    "    \"\"\"\n",
    "    Returns True if work in (value, work) tuple subInfo1 is LESS than than work\n",
    "    in (value, work) tuple in subInfo2\n",
    "    \"\"\"\n",
    "    # TODO... DONE\n",
    "    \n",
    "    return subInfo1[1] < subInfo2[1]\n",
    "    \n",
    "def cmpRatio(subInfo1, subInfo2):\n",
    "    \"\"\"\n",
    "    Returns True if value/work in (value, work) tuple subInfo1 is \n",
    "    GREATER than value/work in (value, work) tuple in subInfo2\n",
    "    \"\"\"\n",
    "    # TODO... DONE\n",
    "    \n",
    "    return subInfo1[0]/subInfo1[1] > subInfo2[0]/subInfo2[1]\n",
    "\n",
    "def greedyAdvisor(subjects, maxWork, comparator):\n",
    "    \"\"\"\n",
    "    Returns a dictionary mapping subject name to (value, work) which includes\n",
    "    subjects selected by the algorithm, such that the total work of subjects in\n",
    "    the dictionary is not greater than maxWork.  The subjects are chosen using\n",
    "    a greedy algorithm.  The subjects dictionary should not be mutated.\n",
    "\n",
    "    subjects: dictionary mapping subject name to (value, work)\n",
    "    maxWork: int >= 0\n",
    "    comparator: function taking two tuples and returning a bool\n",
    "    returns: dictionary mapping subject name to (value, work)\n",
    "    \"\"\"\n",
    "   # TODO... DONE\n",
    "\n",
    "    total_work = 0\n",
    "    item = 0\n",
    "    best_schedule = {}\n",
    "    subjects_list = list(subjects.items())\n",
    "    sorted_list = sort(subjects_list, comparator)\n",
    "    total_value = 0\n",
    "    while item <= (len(sorted_list) - 1):\n",
    "        if total_work + sorted_list[item][1][1] > maxWork:\n",
    "            item += 1 \n",
    "            continue\n",
    "        else:     \n",
    "            total_work += sorted_list[item][1][1]\n",
    "            best_schedule[sorted_list[item][0]] = sorted_list[item][1]\n",
    "            total_value += sorted_list[item][1][0]\n",
    "            item += 1\n",
    "    print(\"Best total value of my courses is: \", total_value)\n",
    "    return best_schedule"
   ]
  },
  {
   "cell_type": "code",
   "execution_count": 165,
   "metadata": {},
   "outputs": [
    {
     "data": {
      "text/plain": [
       "[('6.18', (10, 4)),\n",
       " ('6.15', (10, 6)),\n",
       " ('6.14', (10, 8)),\n",
       " ('6.00', (10, 1)),\n",
       " ('6.17', (9, 3)),\n",
       " ('6.13', (9, 16)),\n",
       " ('6.19', (8, 19)),\n",
       " ('6.10', (8, 18)),\n",
       " ('6.16', (6, 9)),\n",
       " ('6.12', (6, 3)),\n",
       " ('6.11', (6, 8)),\n",
       " ('6.06', (5, 19)),\n",
       " ('6.02', (5, 6)),\n",
       " ('6.01', (5, 4)),\n",
       " ('6.09', (3, 7)),\n",
       " ('6.07', (2, 10)),\n",
       " ('6.03', (2, 9)),\n",
       " ('6.08', (1, 10)),\n",
       " ('6.05', (1, 18)),\n",
       " ('6.04', (1, 2))]"
      ]
     },
     "execution_count": 165,
     "metadata": {},
     "output_type": "execute_result"
    }
   ],
   "source": [
    "subjects = loadSubjects(SHORT_SUBJECT_FILENAME)\n",
    "sort(list(subjects.items()), cmpValue)"
   ]
  },
  {
   "cell_type": "code",
   "execution_count": 166,
   "metadata": {},
   "outputs": [
    {
     "name": "stdout",
     "output_type": "stream",
     "text": [
      "Best total value of my courses is:  20\n"
     ]
    },
    {
     "data": {
      "text/plain": [
       "{'6.18': (10, 4), '6.15': (10, 6)}"
      ]
     },
     "execution_count": 166,
     "metadata": {},
     "output_type": "execute_result"
    }
   ],
   "source": [
    "greedyAdvisor(subjects, 10, cmpValue)"
   ]
  },
  {
   "cell_type": "code",
   "execution_count": 167,
   "metadata": {},
   "outputs": [
    {
     "name": "stdout",
     "output_type": "stream",
     "text": [
      "Best total value of my courses is:  26\n"
     ]
    },
    {
     "data": {
      "text/plain": [
       "{'6.00': (10, 1), '6.04': (1, 2), '6.17': (9, 3), '6.12': (6, 3)}"
      ]
     },
     "execution_count": 167,
     "metadata": {},
     "output_type": "execute_result"
    }
   ],
   "source": [
    "greedyAdvisor(subjects, 10, cmpWork)"
   ]
  },
  {
   "cell_type": "code",
   "execution_count": 168,
   "metadata": {},
   "outputs": [
    {
     "name": "stdout",
     "output_type": "stream",
     "text": [
      "Best total value of my courses is:  30\n"
     ]
    },
    {
     "data": {
      "text/plain": [
       "{'6.00': (10, 1), '6.17': (9, 3), '6.18': (10, 4), '6.04': (1, 2)}"
      ]
     },
     "execution_count": 168,
     "metadata": {},
     "output_type": "execute_result"
    }
   ],
   "source": [
    "greedyAdvisor(subjects, 10, cmpRatio)"
   ]
  },
  {
   "cell_type": "code",
   "execution_count": 169,
   "metadata": {},
   "outputs": [
    {
     "name": "stdout",
     "output_type": "stream",
     "text": [
      "[[0, 0, 0], [0, 0, 1], [0, 1, 0], [0, 1, 1], [1, 0, 0], [1, 0, 1], [1, 1, 0], [1, 1, 1]]\n"
     ]
    }
   ],
   "source": [
    "def getBiOptions(length):\n",
    "    if length == 0:\n",
    "        return [[binary] for binary in [0,1]]\n",
    "    else:\n",
    "        result_strings = []\n",
    "        for item in [0,1]:\n",
    "            for remainder in getBiOptions((length - 1)):\n",
    "                result_strings.append([item] + remainder)\n",
    "        return result_strings\n",
    "\n",
    "indexCombs = getBiOptions(2)\n",
    "print(indexCombs)"
   ]
  },
  {
   "cell_type": "code",
   "execution_count": 170,
   "metadata": {},
   "outputs": [
    {
     "data": {
      "text/plain": [
       "[[('6.03', (2, 9))],\n",
       " [('6.02', (5, 6))],\n",
       " [('6.02', (5, 6)), ('6.03', (2, 9))],\n",
       " [('6.01', (5, 4))],\n",
       " [('6.01', (5, 4)), ('6.03', (2, 9))],\n",
       " [('6.01', (5, 4)), ('6.02', (5, 6))],\n",
       " [('6.01', (5, 4)), ('6.02', (5, 6)), ('6.03', (2, 9))],\n",
       " [('6.00', (10, 1))],\n",
       " [('6.00', (10, 1)), ('6.03', (2, 9))],\n",
       " [('6.00', (10, 1)), ('6.02', (5, 6))],\n",
       " [('6.00', (10, 1)), ('6.02', (5, 6)), ('6.03', (2, 9))],\n",
       " [('6.00', (10, 1)), ('6.01', (5, 4))],\n",
       " [('6.00', (10, 1)), ('6.01', (5, 4)), ('6.03', (2, 9))],\n",
       " [('6.00', (10, 1)), ('6.01', (5, 4)), ('6.02', (5, 6))],\n",
       " [('6.00', (10, 1)), ('6.01', (5, 4)), ('6.02', (5, 6)), ('6.03', (2, 9))]]"
      ]
     },
     "execution_count": 170,
     "metadata": {},
     "output_type": "execute_result"
    }
   ],
   "source": [
    "def getIndexCombi(binaryOptions, subjects_list):\n",
    "    del binaryOptions[0]\n",
    "    options = []\n",
    "    for bi_option in binaryOptions:\n",
    "        option = []\n",
    "        for index, value in enumerate(bi_option):\n",
    "            if value == 1:\n",
    "                option.append(subjects_list[index])\n",
    "            else:\n",
    "                continue\n",
    "        options.append(option)\n",
    "    return options\n",
    "\n",
    "subjects = loadSubjects(SHORT_SUBJECT_FILENAME)\n",
    "subjects_list = list(subjects.items())\n",
    "getIndexCombi(getBiOptions(3), subjects_list[0:4])"
   ]
  },
  {
   "cell_type": "code",
   "execution_count": 171,
   "metadata": {},
   "outputs": [],
   "source": [
    "def bruteForceAdvisor(subjects, maxWork):\n",
    "    \"\"\"\n",
    "    Returns a dictionary mapping subject name to (value, work), which\n",
    "    represents the globally optimal selection of subjects using a brute force\n",
    "    algorithm.\n",
    "\n",
    "    subjects: dictionary mapping subject name to (value, work)\n",
    "    maxWork: int >= 0\n",
    "    returns: dictionary mapping subject name to (value, work)\n",
    "    \"\"\"\n",
    "    # TODO...\n",
    "    subjects_list = list(subjects.items())\n",
    "    solutions = []\n",
    "    best_value = 0\n",
    "    for schedule in getIndexCombi(getBiOptions(len(subjects_list) - 1), subjects_list):\n",
    "#         print(schedule)\n",
    "        total_work = 0\n",
    "        total_value = 0\n",
    "        solution = []\n",
    "        for course in schedule:\n",
    "            total_work += course[1][1]\n",
    "            total_value += course[1][0]\n",
    "        if total_work <= maxWork:\n",
    "            if total_value > best_value:\n",
    "                best_value = total_value\n",
    "                best_courses = schedule\n",
    "    best_timetable = {}\n",
    "    for course in best_courses:\n",
    "        best_timetable[course[0]] = course[1]\n",
    "    print(\"Best total value of my courses:\", best_value)\n",
    "    return best_timetable"
   ]
  },
  {
   "cell_type": "code",
   "execution_count": 172,
   "metadata": {},
   "outputs": [
    {
     "name": "stdout",
     "output_type": "stream",
     "text": [
      "Best total value of my courses: 11\n"
     ]
    },
    {
     "data": {
      "text/plain": [
       "{'6.00': (10, 1), '6.04': (1, 2)}"
      ]
     },
     "execution_count": 172,
     "metadata": {},
     "output_type": "execute_result"
    }
   ],
   "source": [
    "subjects = loadSubjects(SHORT_SUBJECT_FILENAME)\n",
    "bruteForceAdvisor(subjects, 3)"
   ]
  },
  {
   "cell_type": "code",
   "execution_count": 173,
   "metadata": {},
   "outputs": [
    {
     "name": "stdout",
     "output_type": "stream",
     "text": [
      "Best total value of my courses: 19\n"
     ]
    },
    {
     "data": {
      "text/plain": [
       "{'6.00': (10, 1), '6.17': (9, 3)}"
      ]
     },
     "execution_count": 173,
     "metadata": {},
     "output_type": "execute_result"
    }
   ],
   "source": [
    "subjects = loadSubjects(SHORT_SUBJECT_FILENAME)\n",
    "bruteForceAdvisor(subjects, 4)"
   ]
  },
  {
   "cell_type": "code",
   "execution_count": 174,
   "metadata": {},
   "outputs": [
    {
     "name": "stdout",
     "output_type": "stream",
     "text": [
      "Best total value of my courses: 20\n"
     ]
    },
    {
     "data": {
      "text/plain": [
       "{'6.00': (10, 1), '6.18': (10, 4)}"
      ]
     },
     "execution_count": 174,
     "metadata": {},
     "output_type": "execute_result"
    }
   ],
   "source": [
    "subjects = loadSubjects(SHORT_SUBJECT_FILENAME)\n",
    "bruteForceAdvisor(subjects, 5)"
   ]
  },
  {
   "cell_type": "code",
   "execution_count": 175,
   "metadata": {},
   "outputs": [
    {
     "name": "stdout",
     "output_type": "stream",
     "text": [
      "Best total value of my courses: 20\n"
     ]
    },
    {
     "data": {
      "text/plain": [
       "{'6.00': (10, 1), '6.18': (10, 4)}"
      ]
     },
     "execution_count": 175,
     "metadata": {},
     "output_type": "execute_result"
    }
   ],
   "source": [
    "subjects = loadSubjects(SHORT_SUBJECT_FILENAME)\n",
    "bruteForceAdvisor(subjects, 6)"
   ]
  },
  {
   "cell_type": "code",
   "execution_count": 176,
   "metadata": {},
   "outputs": [
    {
     "name": "stdout",
     "output_type": "stream",
     "text": [
      "Best total value of my courses: 25\n"
     ]
    },
    {
     "data": {
      "text/plain": [
       "{'6.00': (10, 1), '6.12': (6, 3), '6.17': (9, 3)}"
      ]
     },
     "execution_count": 176,
     "metadata": {},
     "output_type": "execute_result"
    }
   ],
   "source": [
    "subjects = loadSubjects(SHORT_SUBJECT_FILENAME)\n",
    "bruteForceAdvisor(subjects, 7)"
   ]
  },
  {
   "cell_type": "markdown",
   "metadata": {},
   "source": [
    "### Compare to results of greedyAdvisor:"
   ]
  },
  {
   "cell_type": "code",
   "execution_count": 177,
   "metadata": {},
   "outputs": [
    {
     "name": "stdout",
     "output_type": "stream",
     "text": [
      "Best total value of my courses is:  21\n"
     ]
    },
    {
     "data": {
      "text/plain": [
       "{'6.18': (10, 4), '6.00': (10, 1), '6.04': (1, 2)}"
      ]
     },
     "execution_count": 177,
     "metadata": {},
     "output_type": "execute_result"
    }
   ],
   "source": [
    "greedyAdvisor(subjects, 7, cmpValue)"
   ]
  },
  {
   "cell_type": "code",
   "execution_count": 178,
   "metadata": {},
   "outputs": [
    {
     "name": "stdout",
     "output_type": "stream",
     "text": [
      "Best total value of my courses is:  20\n"
     ]
    },
    {
     "data": {
      "text/plain": [
       "{'6.00': (10, 1), '6.04': (1, 2), '6.17': (9, 3)}"
      ]
     },
     "execution_count": 178,
     "metadata": {},
     "output_type": "execute_result"
    }
   ],
   "source": [
    "greedyAdvisor(subjects, 7, cmpWork)"
   ]
  },
  {
   "cell_type": "code",
   "execution_count": 179,
   "metadata": {},
   "outputs": [
    {
     "name": "stdout",
     "output_type": "stream",
     "text": [
      "Best total value of my courses is:  25\n"
     ]
    },
    {
     "data": {
      "text/plain": [
       "{'6.00': (10, 1), '6.17': (9, 3), '6.12': (6, 3)}"
      ]
     },
     "execution_count": 179,
     "metadata": {},
     "output_type": "execute_result"
    }
   ],
   "source": [
    "greedyAdvisor(subjects, 7, cmpRatio)"
   ]
  }
 ],
 "metadata": {
  "kernelspec": {
   "display_name": "Python 3",
   "language": "python",
   "name": "python3"
  },
  "language_info": {
   "codemirror_mode": {
    "name": "ipython",
    "version": 3
   },
   "file_extension": ".py",
   "mimetype": "text/x-python",
   "name": "python",
   "nbconvert_exporter": "python",
   "pygments_lexer": "ipython3",
   "version": "3.7.3"
  }
 },
 "nbformat": 4,
 "nbformat_minor": 2
}
